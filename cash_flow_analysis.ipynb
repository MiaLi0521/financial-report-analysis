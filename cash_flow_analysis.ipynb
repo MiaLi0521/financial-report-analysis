{
 "cells": [
  {
   "cell_type": "markdown",
   "metadata": {},
   "source": [
    "### 企业造血能力分析 - 收入含金量"
   ]
  },
  {
   "cell_type": "code",
   "execution_count": 1,
   "metadata": {},
   "outputs": [],
   "source": [
    "from analysis import ANALYSIS_CONFIGS\n",
    "from analysis.analysis import FinancialAnalysis\n",
    "from analysis.doc_utils import ReportDocument"
   ]
  },
  {
   "cell_type": "code",
   "execution_count": 2,
   "metadata": {},
   "outputs": [
    {
     "data": {
      "text/plain": [
       "['all_analysis.json',\n",
       " 'asset_quality_analysis.json',\n",
       " 'asset_indepth_analysis.json',\n",
       " 'asset_fraud_analysis.json',\n",
       " 'profit_analysis.json',\n",
       " 'cash_flow_analysis.json']"
      ]
     },
     "execution_count": 2,
     "metadata": {},
     "output_type": "execute_result"
    }
   ],
   "source": [
    "ANALYSIS_CONFIGS"
   ]
  },
  {
   "cell_type": "code",
   "execution_count": 3,
   "metadata": {},
   "outputs": [],
   "source": [
    "analysis = FinancialAnalysis(ANALYSIS_CONFIGS[5])\n",
    "images, titles, fields = analysis.images, analysis.titles, analysis.fields"
   ]
  },
  {
   "cell_type": "code",
   "execution_count": 4,
   "metadata": {},
   "outputs": [
    {
     "data": {
      "text/html": [
       "<div>\n",
       "<style scoped>\n",
       "    .dataframe tbody tr th:only-of-type {\n",
       "        vertical-align: middle;\n",
       "    }\n",
       "\n",
       "    .dataframe tbody tr th {\n",
       "        vertical-align: top;\n",
       "    }\n",
       "\n",
       "    .dataframe thead th {\n",
       "        text-align: right;\n",
       "    }\n",
       "</style>\n",
       "<table border=\"1\" class=\"dataframe\">\n",
       "  <thead>\n",
       "    <tr style=\"text-align: right;\">\n",
       "      <th></th>\n",
       "      <th>2015</th>\n",
       "      <th>2016</th>\n",
       "      <th>2017</th>\n",
       "      <th>2018</th>\n",
       "      <th>2019</th>\n",
       "      <th>2020</th>\n",
       "    </tr>\n",
       "  </thead>\n",
       "  <tbody>\n",
       "    <tr>\n",
       "      <th>销售商品、提供劳务收到的现金(元)</th>\n",
       "      <td>609,941,300</td>\n",
       "      <td>797,095,500</td>\n",
       "      <td>1,246,263,600</td>\n",
       "      <td>1,603,687,000</td>\n",
       "      <td>2,000,028,900</td>\n",
       "      <td>2,146,885,100</td>\n",
       "    </tr>\n",
       "    <tr>\n",
       "      <th>其中：营业收入(元)</th>\n",
       "      <td>517,877,289</td>\n",
       "      <td>665,683,622</td>\n",
       "      <td>1,026,358,727</td>\n",
       "      <td>1,400,899,590</td>\n",
       "      <td>1,684,475,727</td>\n",
       "      <td>1,770,817,768</td>\n",
       "    </tr>\n",
       "    <tr>\n",
       "      <th>现金占营业收入的比率</th>\n",
       "      <td>117.78%</td>\n",
       "      <td>119.74%</td>\n",
       "      <td>121.43%</td>\n",
       "      <td>114.48%</td>\n",
       "      <td>118.73%</td>\n",
       "      <td>121.24%</td>\n",
       "    </tr>\n",
       "  </tbody>\n",
       "</table>\n",
       "</div>"
      ],
      "text/plain": [
       "                          2015         2016           2017           2018  \\\n",
       "销售商品、提供劳务收到的现金(元)  609,941,300  797,095,500  1,246,263,600  1,603,687,000   \n",
       "其中：营业收入(元)         517,877,289  665,683,622  1,026,358,727  1,400,899,590   \n",
       "现金占营业收入的比率             117.78%      119.74%        121.43%        114.48%   \n",
       "\n",
       "                            2019           2020  \n",
       "销售商品、提供劳务收到的现金(元)  2,000,028,900  2,146,885,100  \n",
       "其中：营业收入(元)         1,684,475,727  1,770,817,768  \n",
       "现金占营业收入的比率               118.73%        121.24%  "
      ]
     },
     "execution_count": 4,
     "metadata": {},
     "output_type": "execute_result"
    }
   ],
   "source": [
    "t1 = analysis.init_table('t1')\n",
    "t1['现金占营业收入的比率'] = t1['销售商品、提供劳务收到的现金(元)'] / t1['其中：营业收入(元)']\n",
    "\n",
    "analysis.format_show_table('t1')"
   ]
  },
  {
   "cell_type": "code",
   "execution_count": 5,
   "metadata": {},
   "outputs": [
    {
     "data": {
      "image/png": "[encoded data removed]",
      "text/plain": [
       "<matplotlib.figure.Figure at 0x1ad8591beb8>"
      ]
     },
     "metadata": {
      "needs_background": "light"
     },
     "output_type": "display_data"
    }
   ],
   "source": [
    "analysis.show_plot('t1')"
   ]
  },
  {
   "cell_type": "code",
   "execution_count": 6,
   "metadata": {},
   "outputs": [
    {
     "data": {
      "text/html": [
       "<div>\n",
       "<style scoped>\n",
       "    .dataframe tbody tr th:only-of-type {\n",
       "        vertical-align: middle;\n",
       "    }\n",
       "\n",
       "    .dataframe tbody tr th {\n",
       "        vertical-align: top;\n",
       "    }\n",
       "\n",
       "    .dataframe thead th {\n",
       "        text-align: right;\n",
       "    }\n",
       "</style>\n",
       "<table border=\"1\" class=\"dataframe\">\n",
       "  <thead>\n",
       "    <tr style=\"text-align: right;\">\n",
       "      <th></th>\n",
       "      <th>2015</th>\n",
       "      <th>2016</th>\n",
       "      <th>2017</th>\n",
       "      <th>2018</th>\n",
       "      <th>2019</th>\n",
       "      <th>2020</th>\n",
       "    </tr>\n",
       "  </thead>\n",
       "  <tbody>\n",
       "    <tr>\n",
       "      <th>经营活动产生的现金流量净额(元)</th>\n",
       "      <td>155,476,300</td>\n",
       "      <td>266,508,400</td>\n",
       "      <td>448,664,200</td>\n",
       "      <td>441,885,700</td>\n",
       "      <td>543,387,300</td>\n",
       "      <td>633,842,700</td>\n",
       "    </tr>\n",
       "    <tr>\n",
       "      <th>五、净利润(元)</th>\n",
       "      <td>155,641,200</td>\n",
       "      <td>202,656,100</td>\n",
       "      <td>305,192,100</td>\n",
       "      <td>377,525,100</td>\n",
       "      <td>460,012,900</td>\n",
       "      <td>543,562,800</td>\n",
       "    </tr>\n",
       "    <tr>\n",
       "      <th>净利润现金比率</th>\n",
       "      <td>99.89%</td>\n",
       "      <td>131.51%</td>\n",
       "      <td>147.01%</td>\n",
       "      <td>117.05%</td>\n",
       "      <td>118.12%</td>\n",
       "      <td>116.61%</td>\n",
       "    </tr>\n",
       "  </tbody>\n",
       "</table>\n",
       "</div>"
      ],
      "text/plain": [
       "                         2015         2016         2017         2018  \\\n",
       "经营活动产生的现金流量净额(元)  155,476,300  266,508,400  448,664,200  441,885,700   \n",
       "五、净利润(元)          155,641,200  202,656,100  305,192,100  377,525,100   \n",
       "净利润现金比率                99.89%      131.51%      147.01%      117.05%   \n",
       "\n",
       "                         2019         2020  \n",
       "经营活动产生的现金流量净额(元)  543,387,300  633,842,700  \n",
       "五、净利润(元)          460,012,900  543,562,800  \n",
       "净利润现金比率               118.12%      116.61%  "
      ]
     },
     "execution_count": 6,
     "metadata": {},
     "output_type": "execute_result"
    }
   ],
   "source": [
    "t2 = analysis.init_table('t2')\n",
    "t2['净利润现金比率'] = t2['经营活动产生的现金流量净额(元)'] / t2['五、净利润(元)']\n",
    "\n",
    "analysis.format_show_table('t2')"
   ]
  },
  {
   "cell_type": "code",
   "execution_count": 7,
   "metadata": {},
   "outputs": [
    {
     "name": "stdout",
     "output_type": "stream",
     "text": [
      "连续 5 年的平均净利润现金含量：121.70%\n"
     ]
    }
   ],
   "source": [
    "print(f\"连续 5 年的平均净利润现金含量：{t2['净利润现金比率'].mean():.2%}\")"
   ]
  },
  {
   "cell_type": "markdown",
   "metadata": {},
   "source": [
    "### 企业增长潜能：投资活动现金流分析"
   ]
  },
  {
   "cell_type": "code",
   "execution_count": 8,
   "metadata": {},
   "outputs": [
    {
     "data": {
      "text/html": [
       "<div>\n",
       "<style scoped>\n",
       "    .dataframe tbody tr th:only-of-type {\n",
       "        vertical-align: middle;\n",
       "    }\n",
       "\n",
       "    .dataframe tbody tr th {\n",
       "        vertical-align: top;\n",
       "    }\n",
       "\n",
       "    .dataframe thead th {\n",
       "        text-align: right;\n",
       "    }\n",
       "</style>\n",
       "<table border=\"1\" class=\"dataframe\">\n",
       "  <thead>\n",
       "    <tr style=\"text-align: right;\">\n",
       "      <th></th>\n",
       "      <th>2015</th>\n",
       "      <th>2016</th>\n",
       "      <th>2017</th>\n",
       "      <th>2018</th>\n",
       "      <th>2019</th>\n",
       "      <th>2020</th>\n",
       "    </tr>\n",
       "  </thead>\n",
       "  <tbody>\n",
       "    <tr>\n",
       "      <th>购建固定资产、无形资产和其他长期资产支付的现金(元)</th>\n",
       "      <td>39,159,400</td>\n",
       "      <td>46,062,000</td>\n",
       "      <td>102,501,400</td>\n",
       "      <td>291,719,600</td>\n",
       "      <td>279,600,900</td>\n",
       "      <td>70,295,000</td>\n",
       "    </tr>\n",
       "    <tr>\n",
       "      <th>经营活动产生的现金流量净额(元)</th>\n",
       "      <td>155,476,300</td>\n",
       "      <td>266,508,400</td>\n",
       "      <td>448,664,200</td>\n",
       "      <td>441,885,700</td>\n",
       "      <td>543,387,300</td>\n",
       "      <td>633,842,700</td>\n",
       "    </tr>\n",
       "    <tr>\n",
       "      <th>投资占经营净现金流的比例</th>\n",
       "      <td>25.19%</td>\n",
       "      <td>17.28%</td>\n",
       "      <td>22.85%</td>\n",
       "      <td>66.02%</td>\n",
       "      <td>51.46%</td>\n",
       "      <td>11.09%</td>\n",
       "    </tr>\n",
       "    <tr>\n",
       "      <th>销售商品、提供劳务收到的现金(元)</th>\n",
       "      <td>609,941,300</td>\n",
       "      <td>797,095,500</td>\n",
       "      <td>1,246,263,600</td>\n",
       "      <td>1,603,687,000</td>\n",
       "      <td>2,000,028,900</td>\n",
       "      <td>2,146,885,100</td>\n",
       "    </tr>\n",
       "  </tbody>\n",
       "</table>\n",
       "</div>"
      ],
      "text/plain": [
       "                                   2015         2016           2017  \\\n",
       "购建固定资产、无形资产和其他长期资产支付的现金(元)   39,159,400   46,062,000    102,501,400   \n",
       "经营活动产生的现金流量净额(元)            155,476,300  266,508,400    448,664,200   \n",
       "投资占经营净现金流的比例                     25.19%       17.28%         22.85%   \n",
       "销售商品、提供劳务收到的现金(元)           609,941,300  797,095,500  1,246,263,600   \n",
       "\n",
       "                                     2018           2019           2020  \n",
       "购建固定资产、无形资产和其他长期资产支付的现金(元)    291,719,600    279,600,900     70,295,000  \n",
       "经营活动产生的现金流量净额(元)              441,885,700    543,387,300    633,842,700  \n",
       "投资占经营净现金流的比例                       66.02%         51.46%         11.09%  \n",
       "销售商品、提供劳务收到的现金(元)           1,603,687,000  2,000,028,900  2,146,885,100  "
      ]
     },
     "execution_count": 8,
     "metadata": {},
     "output_type": "execute_result"
    }
   ],
   "source": [
    "t3 = analysis.init_table('t3')\n",
    "t3['投资占经营净现金流的比例'] = \\\n",
    "t3['购建固定资产、无形资产和其他长期资产支付的现金(元)'] / t3['经营活动产生的现金流量净额(元)']\n",
    "\n",
    "analysis.format_show_table('t3')"
   ]
  },
  {
   "cell_type": "code",
   "execution_count": 9,
   "metadata": {},
   "outputs": [
    {
     "data": {
      "image/png": "[encoded data removed]",
      "text/plain": [
       "<matplotlib.figure.Figure at 0x1ad8591bd68>"
      ]
     },
     "metadata": {
      "needs_background": "light"
     },
     "output_type": "display_data"
    }
   ],
   "source": [
    "analysis.show_plot('t3')"
   ]
  },
  {
   "cell_type": "code",
   "execution_count": 10,
   "metadata": {},
   "outputs": [
    {
     "data": {
      "image/png": "[encoded data removed]",
      "text/plain": [
       "<matplotlib.figure.Figure at 0x1ad89dbffd0>"
      ]
     },
     "metadata": {
      "needs_background": "light"
     },
     "output_type": "display_data"
    }
   ],
   "source": [
    "analysis.show_plot('t3', image_index=1)"
   ]
  },
  {
   "cell_type": "markdown",
   "metadata": {},
   "source": [
    "### 分红情况：筹资活动产生的现金流"
   ]
  },
  {
   "cell_type": "code",
   "execution_count": 11,
   "metadata": {},
   "outputs": [
    {
     "data": {
      "text/html": [
       "<div>\n",
       "<style scoped>\n",
       "    .dataframe tbody tr th:only-of-type {\n",
       "        vertical-align: middle;\n",
       "    }\n",
       "\n",
       "    .dataframe tbody tr th {\n",
       "        vertical-align: top;\n",
       "    }\n",
       "\n",
       "    .dataframe thead th {\n",
       "        text-align: right;\n",
       "    }\n",
       "</style>\n",
       "<table border=\"1\" class=\"dataframe\">\n",
       "  <thead>\n",
       "    <tr style=\"text-align: right;\">\n",
       "      <th></th>\n",
       "      <th>2015</th>\n",
       "      <th>2016</th>\n",
       "      <th>2017</th>\n",
       "      <th>2018</th>\n",
       "      <th>2019</th>\n",
       "      <th>2020</th>\n",
       "    </tr>\n",
       "  </thead>\n",
       "  <tbody>\n",
       "    <tr>\n",
       "      <th>分红金额</th>\n",
       "      <td>100,000,000</td>\n",
       "      <td>200,000,000</td>\n",
       "      <td>300,000,000</td>\n",
       "      <td>300,000,000</td>\n",
       "      <td>350,000,000</td>\n",
       "      <td>388,000,000</td>\n",
       "    </tr>\n",
       "    <tr>\n",
       "      <th>经营活动产生的现金流量净额(元)</th>\n",
       "      <td>155,476,300</td>\n",
       "      <td>266,508,400</td>\n",
       "      <td>448,664,200</td>\n",
       "      <td>441,885,700</td>\n",
       "      <td>543,387,300</td>\n",
       "      <td>633,842,700</td>\n",
       "    </tr>\n",
       "    <tr>\n",
       "      <th>分红占经营现金净额的比例</th>\n",
       "      <td>64.32%</td>\n",
       "      <td>75.04%</td>\n",
       "      <td>66.87%</td>\n",
       "      <td>67.89%</td>\n",
       "      <td>64.41%</td>\n",
       "      <td>61.21%</td>\n",
       "    </tr>\n",
       "  </tbody>\n",
       "</table>\n",
       "</div>"
      ],
      "text/plain": [
       "                         2015         2016         2017         2018  \\\n",
       "分红金额              100,000,000  200,000,000  300,000,000  300,000,000   \n",
       "经营活动产生的现金流量净额(元)  155,476,300  266,508,400  448,664,200  441,885,700   \n",
       "分红占经营现金净额的比例           64.32%       75.04%       66.87%       67.89%   \n",
       "\n",
       "                         2019         2020  \n",
       "分红金额              350,000,000  388,000,000  \n",
       "经营活动产生的现金流量净额(元)  543,387,300  633,842,700  \n",
       "分红占经营现金净额的比例           64.41%       61.21%  "
      ]
     },
     "execution_count": 11,
     "metadata": {},
     "output_type": "execute_result"
    }
   ],
   "source": [
    "t4 = analysis.init_table('t4')\n",
    "t4['分红金额'] = [100000000, 200000000, 300000000, 300000000, 350000000, 388000000]\n",
    "t4['分红占经营现金净额的比例'] = t4['分红金额'] / t4['经营活动产生的现金流量净额(元)']\n",
    "\n",
    "analysis.format_show_table('t4')"
   ]
  },
  {
   "cell_type": "code",
   "execution_count": 12,
   "metadata": {},
   "outputs": [
    {
     "data": {
      "image/png": "[encoded data removed]",
      "text/plain": [
       "<matplotlib.figure.Figure at 0x1ad88b3b7f0>"
      ]
     },
     "metadata": {
      "needs_background": "light"
     },
     "output_type": "display_data"
    }
   ],
   "source": [
    "analysis.show_plot('t4')"
   ]
  },
  {
   "cell_type": "markdown",
   "metadata": {},
   "source": [
    "### 公司类型：经营、投资、筹资活动净额的正负"
   ]
  },
  {
   "cell_type": "code",
   "execution_count": 13,
   "metadata": {},
   "outputs": [
    {
     "data": {
      "text/html": [
       "<div>\n",
       "<style scoped>\n",
       "    .dataframe tbody tr th:only-of-type {\n",
       "        vertical-align: middle;\n",
       "    }\n",
       "\n",
       "    .dataframe tbody tr th {\n",
       "        vertical-align: top;\n",
       "    }\n",
       "\n",
       "    .dataframe thead th {\n",
       "        text-align: right;\n",
       "    }\n",
       "</style>\n",
       "<table border=\"1\" class=\"dataframe\">\n",
       "  <thead>\n",
       "    <tr style=\"text-align: right;\">\n",
       "      <th></th>\n",
       "      <th>2015</th>\n",
       "      <th>2016</th>\n",
       "      <th>2017</th>\n",
       "      <th>2018</th>\n",
       "      <th>2019</th>\n",
       "      <th>2020</th>\n",
       "    </tr>\n",
       "  </thead>\n",
       "  <tbody>\n",
       "    <tr>\n",
       "      <th>经营活动产生的现金流量净额(元)</th>\n",
       "      <td>155,476,300</td>\n",
       "      <td>266,508,400</td>\n",
       "      <td>448,664,200</td>\n",
       "      <td>441,885,700</td>\n",
       "      <td>543,387,300</td>\n",
       "      <td>633,842,700</td>\n",
       "    </tr>\n",
       "    <tr>\n",
       "      <th>投资活动产生的现金流量净额(元)</th>\n",
       "      <td>-46,594,012</td>\n",
       "      <td>-207,333,726</td>\n",
       "      <td>240,241,214</td>\n",
       "      <td>-171,272,049</td>\n",
       "      <td>-274,100,160</td>\n",
       "      <td>-570,044,987</td>\n",
       "    </tr>\n",
       "    <tr>\n",
       "      <th>筹资活动产生的现金流量净额(元)</th>\n",
       "      <td>-111,000,000</td>\n",
       "      <td>-53,649,946</td>\n",
       "      <td>-196,749,992</td>\n",
       "      <td>-299,122,986</td>\n",
       "      <td>-303,667,671</td>\n",
       "      <td>-350,159,993</td>\n",
       "    </tr>\n",
       "    <tr>\n",
       "      <th>三大活动现金流量净额类型</th>\n",
       "      <td>正负负</td>\n",
       "      <td>正负负</td>\n",
       "      <td>正正负</td>\n",
       "      <td>正负负</td>\n",
       "      <td>正负负</td>\n",
       "      <td>正负负</td>\n",
       "    </tr>\n",
       "  </tbody>\n",
       "</table>\n",
       "</div>"
      ],
      "text/plain": [
       "                          2015          2016          2017          2018  \\\n",
       "经营活动产生的现金流量净额(元)   155,476,300   266,508,400   448,664,200   441,885,700   \n",
       "投资活动产生的现金流量净额(元)   -46,594,012  -207,333,726   240,241,214  -171,272,049   \n",
       "筹资活动产生的现金流量净额(元)  -111,000,000   -53,649,946  -196,749,992  -299,122,986   \n",
       "三大活动现金流量净额类型               正负负           正负负           正正负           正负负   \n",
       "\n",
       "                          2019          2020  \n",
       "经营活动产生的现金流量净额(元)   543,387,300   633,842,700  \n",
       "投资活动产生的现金流量净额(元)  -274,100,160  -570,044,987  \n",
       "筹资活动产生的现金流量净额(元)  -303,667,671  -350,159,993  \n",
       "三大活动现金流量净额类型               正负负           正负负  "
      ]
     },
     "execution_count": 13,
     "metadata": {},
     "output_type": "execute_result"
    }
   ],
   "source": [
    "t5 = analysis.init_table('t5')\n",
    "t5_tmp = t5.copy()\n",
    "\n",
    "t5_tmp.loc[t5['经营活动产生的现金流量净额(元)']>0, '经营活动产生的现金流量净额(元)'] = \"正\"\n",
    "t5_tmp.loc[t5['经营活动产生的现金流量净额(元)']<0, '经营活动产生的现金流量净额(元)'] = \"负\"\n",
    "\n",
    "t5_tmp.loc[t5['投资活动产生的现金流量净额(元)']>0, '投资活动产生的现金流量净额(元)'] = \"正\"\n",
    "t5_tmp.loc[t5['投资活动产生的现金流量净额(元)']<0, '投资活动产生的现金流量净额(元)'] = \"负\"\n",
    "\n",
    "t5_tmp.loc[t5['筹资活动产生的现金流量净额(元)']>0, '筹资活动产生的现金流量净额(元)'] = \"正\"\n",
    "t5_tmp.loc[t5['筹资活动产生的现金流量净额(元)']<0, '筹资活动产生的现金流量净额(元)'] = \"负\"\n",
    "\n",
    "t5_tmp['三大活动现金流量净额类型'] = t5_tmp['经营活动产生的现金流量净额(元)'] + \\\n",
    "t5_tmp['投资活动产生的现金流量净额(元)'] + t5_tmp['筹资活动产生的现金流量净额(元)']\n",
    "t5['三大活动现金流量净额类型'] = t5_tmp['三大活动现金流量净额类型']\n",
    "\n",
    "analysis.format_show_table('t5', ignore=['三大活动现金流量净额类型'])"
   ]
  },
  {
   "cell_type": "code",
   "execution_count": 14,
   "metadata": {},
   "outputs": [
    {
     "data": {
      "image/png": "[encoded data removed]",
      "text/plain": [
       "<matplotlib.figure.Figure at 0x1ad88d15240>"
      ]
     },
     "metadata": {
      "needs_background": "light"
     },
     "output_type": "display_data"
    }
   ],
   "source": [
    "analysis.show_plot('t5')"
   ]
  },
  {
   "cell_type": "markdown",
   "metadata": {},
   "source": [
    "### 现金增长情况：现金及现金等价物净增加额"
   ]
  },
  {
   "cell_type": "code",
   "execution_count": 15,
   "metadata": {},
   "outputs": [
    {
     "data": {
      "text/html": [
       "<div>\n",
       "<style scoped>\n",
       "    .dataframe tbody tr th:only-of-type {\n",
       "        vertical-align: middle;\n",
       "    }\n",
       "\n",
       "    .dataframe tbody tr th {\n",
       "        vertical-align: top;\n",
       "    }\n",
       "\n",
       "    .dataframe thead th {\n",
       "        text-align: right;\n",
       "    }\n",
       "</style>\n",
       "<table border=\"1\" class=\"dataframe\">\n",
       "  <thead>\n",
       "    <tr style=\"text-align: right;\">\n",
       "      <th></th>\n",
       "      <th>2015</th>\n",
       "      <th>2016</th>\n",
       "      <th>2017</th>\n",
       "      <th>2018</th>\n",
       "      <th>2019</th>\n",
       "      <th>2020</th>\n",
       "    </tr>\n",
       "  </thead>\n",
       "  <tbody>\n",
       "    <tr>\n",
       "      <th>五、现金及现金等价物净增加额(元)</th>\n",
       "      <td>-2,115,300</td>\n",
       "      <td>5,524,700</td>\n",
       "      <td>492,133,000</td>\n",
       "      <td>-28,509,300</td>\n",
       "      <td>-34,380,600</td>\n",
       "      <td>-286,362,300</td>\n",
       "    </tr>\n",
       "    <tr>\n",
       "      <th>分红金额</th>\n",
       "      <td>100,000,000</td>\n",
       "      <td>100,000,000</td>\n",
       "      <td>200,000,000</td>\n",
       "      <td>300,000,000</td>\n",
       "      <td>300,000,000</td>\n",
       "      <td>350,000,000</td>\n",
       "    </tr>\n",
       "    <tr>\n",
       "      <th>分红+现金净增加额</th>\n",
       "      <td>97,884,700</td>\n",
       "      <td>105,524,700</td>\n",
       "      <td>692,133,000</td>\n",
       "      <td>271,490,700</td>\n",
       "      <td>265,619,400</td>\n",
       "      <td>63,637,700</td>\n",
       "    </tr>\n",
       "  </tbody>\n",
       "</table>\n",
       "</div>"
      ],
      "text/plain": [
       "                          2015         2016         2017         2018  \\\n",
       "五、现金及现金等价物净增加额(元)   -2,115,300    5,524,700  492,133,000  -28,509,300   \n",
       "分红金额               100,000,000  100,000,000  200,000,000  300,000,000   \n",
       "分红+现金净增加额           97,884,700  105,524,700  692,133,000  271,490,700   \n",
       "\n",
       "                          2019          2020  \n",
       "五、现金及现金等价物净增加额(元)  -34,380,600  -286,362,300  \n",
       "分红金额               300,000,000   350,000,000  \n",
       "分红+现金净增加额          265,619,400    63,637,700  "
      ]
     },
     "execution_count": 15,
     "metadata": {},
     "output_type": "execute_result"
    }
   ],
   "source": [
    "t6 = analysis.init_table('t6')\n",
    "# 当年的分红其实是上一年年报中计划的分红，而实际分红可能会和年报中披露的不一致，需要查同花顺个股获取当年的分红\n",
    "t6['分红金额'] = [100000000, 100000000, 200000000, 300000000, 300000000, 350000000]\n",
    "t6['分红+现金净增加额'] = t6.T[:2].sum()\n",
    "\n",
    "analysis.format_show_table('t6')"
   ]
  },
  {
   "cell_type": "code",
   "execution_count": 16,
   "metadata": {},
   "outputs": [
    {
     "data": {
      "image/png": "[encoded data removed]",
      "text/plain": [
       "<matplotlib.figure.Figure at 0x1ad88bdccc0>"
      ]
     },
     "metadata": {
      "needs_background": "light"
     },
     "output_type": "display_data"
    }
   ],
   "source": [
    "analysis.show_plot('t6')"
   ]
  },
  {
   "cell_type": "markdown",
   "metadata": {},
   "source": [
    "### 可用现金情况：期末现金及现金等价物余额"
   ]
  },
  {
   "cell_type": "code",
   "execution_count": 17,
   "metadata": {},
   "outputs": [
    {
     "data": {
      "text/html": [
       "<div>\n",
       "<style scoped>\n",
       "    .dataframe tbody tr th:only-of-type {\n",
       "        vertical-align: middle;\n",
       "    }\n",
       "\n",
       "    .dataframe tbody tr th {\n",
       "        vertical-align: top;\n",
       "    }\n",
       "\n",
       "    .dataframe thead th {\n",
       "        text-align: right;\n",
       "    }\n",
       "</style>\n",
       "<table border=\"1\" class=\"dataframe\">\n",
       "  <thead>\n",
       "    <tr style=\"text-align: right;\">\n",
       "      <th></th>\n",
       "      <th>2015</th>\n",
       "      <th>2016</th>\n",
       "      <th>2017</th>\n",
       "      <th>2018</th>\n",
       "      <th>2019</th>\n",
       "      <th>2020</th>\n",
       "    </tr>\n",
       "  </thead>\n",
       "  <tbody>\n",
       "    <tr>\n",
       "      <th>六、期末现金及现金等价物余额(元)</th>\n",
       "      <td>358,809,300</td>\n",
       "      <td>364,334,000</td>\n",
       "      <td>856,467,000</td>\n",
       "      <td>827,957,700</td>\n",
       "      <td>793,577,100</td>\n",
       "      <td>507,214,800</td>\n",
       "    </tr>\n",
       "    <tr>\n",
       "      <th>短期借款(元)</th>\n",
       "      <td>0</td>\n",
       "      <td>0</td>\n",
       "      <td>0</td>\n",
       "      <td>0</td>\n",
       "      <td>0</td>\n",
       "      <td>0</td>\n",
       "    </tr>\n",
       "    <tr>\n",
       "      <th>一年内到期的非流动负债(元)</th>\n",
       "      <td>0</td>\n",
       "      <td>0</td>\n",
       "      <td>0</td>\n",
       "      <td>0</td>\n",
       "      <td>0</td>\n",
       "      <td>0</td>\n",
       "    </tr>\n",
       "    <tr>\n",
       "      <th>长期借款(元)</th>\n",
       "      <td>0</td>\n",
       "      <td>0</td>\n",
       "      <td>0</td>\n",
       "      <td>0</td>\n",
       "      <td>0</td>\n",
       "      <td>0</td>\n",
       "    </tr>\n",
       "    <tr>\n",
       "      <th>应付债券(元)</th>\n",
       "      <td>0</td>\n",
       "      <td>0</td>\n",
       "      <td>0</td>\n",
       "      <td>0</td>\n",
       "      <td>0</td>\n",
       "      <td>0</td>\n",
       "    </tr>\n",
       "    <tr>\n",
       "      <th>长期应付款</th>\n",
       "      <td>0</td>\n",
       "      <td>0</td>\n",
       "      <td>0</td>\n",
       "      <td>0</td>\n",
       "      <td>0</td>\n",
       "      <td>0</td>\n",
       "    </tr>\n",
       "    <tr>\n",
       "      <th>有息负债总额</th>\n",
       "      <td>0</td>\n",
       "      <td>0</td>\n",
       "      <td>0</td>\n",
       "      <td>0</td>\n",
       "      <td>0</td>\n",
       "      <td>0</td>\n",
       "    </tr>\n",
       "    <tr>\n",
       "      <th>期末现金余额-有息负债</th>\n",
       "      <td>358,809,300</td>\n",
       "      <td>364,334,000</td>\n",
       "      <td>856,467,000</td>\n",
       "      <td>827,957,700</td>\n",
       "      <td>793,577,100</td>\n",
       "      <td>507,214,800</td>\n",
       "    </tr>\n",
       "  </tbody>\n",
       "</table>\n",
       "</div>"
      ],
      "text/plain": [
       "                          2015         2016         2017         2018  \\\n",
       "六、期末现金及现金等价物余额(元)  358,809,300  364,334,000  856,467,000  827,957,700   \n",
       "短期借款(元)                      0            0            0            0   \n",
       "一年内到期的非流动负债(元)               0            0            0            0   \n",
       "长期借款(元)                      0            0            0            0   \n",
       "应付债券(元)                      0            0            0            0   \n",
       "长期应付款                        0            0            0            0   \n",
       "有息负债总额                       0            0            0            0   \n",
       "期末现金余额-有息负债        358,809,300  364,334,000  856,467,000  827,957,700   \n",
       "\n",
       "                          2019         2020  \n",
       "六、期末现金及现金等价物余额(元)  793,577,100  507,214,800  \n",
       "短期借款(元)                      0            0  \n",
       "一年内到期的非流动负债(元)               0            0  \n",
       "长期借款(元)                      0            0  \n",
       "应付债券(元)                      0            0  \n",
       "长期应付款                        0            0  \n",
       "有息负债总额                       0            0  \n",
       "期末现金余额-有息负债        793,577,100  507,214,800  "
      ]
     },
     "execution_count": 17,
     "metadata": {},
     "output_type": "execute_result"
    }
   ],
   "source": [
    "t7 = analysis.init_table('t7')\n",
    "t7['有息负债总额'] = t7.T[1:6].sum()\n",
    "t7['期末现金余额-有息负债'] = t7['六、期末现金及现金等价物余额(元)'] - t7['有息负债总额']\n",
    "\n",
    "analysis.format_show_table('t7')"
   ]
  },
  {
   "cell_type": "code",
   "execution_count": 18,
   "metadata": {},
   "outputs": [
    {
     "data": {
      "image/png": "[encoded data removed]",
      "text/plain": [
       "<matplotlib.figure.Figure at 0x1ad88d85630>"
      ]
     },
     "metadata": {
      "needs_background": "light"
     },
     "output_type": "display_data"
    }
   ],
   "source": [
    "analysis.show_plot('t7')"
   ]
  },
  {
   "cell_type": "markdown",
   "metadata": {},
   "source": [
    "### 考虑用理财产品还债：准货币资金减有息负债"
   ]
  },
  {
   "cell_type": "code",
   "execution_count": 19,
   "metadata": {},
   "outputs": [
    {
     "data": {
      "text/html": [
       "<div>\n",
       "<style scoped>\n",
       "    .dataframe tbody tr th:only-of-type {\n",
       "        vertical-align: middle;\n",
       "    }\n",
       "\n",
       "    .dataframe tbody tr th {\n",
       "        vertical-align: top;\n",
       "    }\n",
       "\n",
       "    .dataframe thead th {\n",
       "        text-align: right;\n",
       "    }\n",
       "</style>\n",
       "<table border=\"1\" class=\"dataframe\">\n",
       "  <thead>\n",
       "    <tr style=\"text-align: right;\">\n",
       "      <th></th>\n",
       "      <th>2015</th>\n",
       "      <th>2016</th>\n",
       "      <th>2017</th>\n",
       "      <th>2018</th>\n",
       "      <th>2019</th>\n",
       "      <th>2020</th>\n",
       "    </tr>\n",
       "  </thead>\n",
       "  <tbody>\n",
       "    <tr>\n",
       "      <th>货币资金(元)</th>\n",
       "      <td>371,817,300</td>\n",
       "      <td>370,078,000</td>\n",
       "      <td>865,129,000</td>\n",
       "      <td>839,378,600</td>\n",
       "      <td>799,127,100</td>\n",
       "      <td>509,970,800</td>\n",
       "    </tr>\n",
       "    <tr>\n",
       "      <th>交易性金融资产(元)</th>\n",
       "      <td>0</td>\n",
       "      <td>0</td>\n",
       "      <td>0</td>\n",
       "      <td>0</td>\n",
       "      <td>0</td>\n",
       "      <td>500,000,000</td>\n",
       "    </tr>\n",
       "    <tr>\n",
       "      <th>其他流动资产里的理财产品</th>\n",
       "      <td>370,000,000</td>\n",
       "      <td>550,000,000</td>\n",
       "      <td>0</td>\n",
       "      <td>0</td>\n",
       "      <td>0</td>\n",
       "      <td>0</td>\n",
       "    </tr>\n",
       "    <tr>\n",
       "      <th>其他流动资产里的结构性存款</th>\n",
       "      <td>0</td>\n",
       "      <td>0</td>\n",
       "      <td>0</td>\n",
       "      <td>0</td>\n",
       "      <td>0</td>\n",
       "      <td>0</td>\n",
       "    </tr>\n",
       "    <tr>\n",
       "      <th>准货币资金</th>\n",
       "      <td>741,817,300</td>\n",
       "      <td>920,078,000</td>\n",
       "      <td>865,129,000</td>\n",
       "      <td>839,378,600</td>\n",
       "      <td>799,127,100</td>\n",
       "      <td>1,009,970,800</td>\n",
       "    </tr>\n",
       "    <tr>\n",
       "      <th>短期借款(元)</th>\n",
       "      <td>0</td>\n",
       "      <td>0</td>\n",
       "      <td>0</td>\n",
       "      <td>0</td>\n",
       "      <td>0</td>\n",
       "      <td>0</td>\n",
       "    </tr>\n",
       "    <tr>\n",
       "      <th>一年内到期的非流动负债(元)</th>\n",
       "      <td>0</td>\n",
       "      <td>0</td>\n",
       "      <td>0</td>\n",
       "      <td>0</td>\n",
       "      <td>0</td>\n",
       "      <td>0</td>\n",
       "    </tr>\n",
       "    <tr>\n",
       "      <th>长期借款(元)</th>\n",
       "      <td>0</td>\n",
       "      <td>0</td>\n",
       "      <td>0</td>\n",
       "      <td>0</td>\n",
       "      <td>0</td>\n",
       "      <td>0</td>\n",
       "    </tr>\n",
       "    <tr>\n",
       "      <th>应付债券(元)</th>\n",
       "      <td>0</td>\n",
       "      <td>0</td>\n",
       "      <td>0</td>\n",
       "      <td>0</td>\n",
       "      <td>0</td>\n",
       "      <td>0</td>\n",
       "    </tr>\n",
       "    <tr>\n",
       "      <th>长期应付款</th>\n",
       "      <td>0</td>\n",
       "      <td>0</td>\n",
       "      <td>0</td>\n",
       "      <td>0</td>\n",
       "      <td>0</td>\n",
       "      <td>0</td>\n",
       "    </tr>\n",
       "    <tr>\n",
       "      <th>有息负债总额</th>\n",
       "      <td>0</td>\n",
       "      <td>0</td>\n",
       "      <td>0</td>\n",
       "      <td>0</td>\n",
       "      <td>0</td>\n",
       "      <td>0</td>\n",
       "    </tr>\n",
       "    <tr>\n",
       "      <th>总货币资金与有息负债之差</th>\n",
       "      <td>741,817,300</td>\n",
       "      <td>920,078,000</td>\n",
       "      <td>865,129,000</td>\n",
       "      <td>839,378,600</td>\n",
       "      <td>799,127,100</td>\n",
       "      <td>1,009,970,800</td>\n",
       "    </tr>\n",
       "  </tbody>\n",
       "</table>\n",
       "</div>"
      ],
      "text/plain": [
       "                       2015         2016         2017         2018  \\\n",
       "货币资金(元)         371,817,300  370,078,000  865,129,000  839,378,600   \n",
       "交易性金融资产(元)                0            0            0            0   \n",
       "其他流动资产里的理财产品    370,000,000  550,000,000            0            0   \n",
       "其他流动资产里的结构性存款             0            0            0            0   \n",
       "准货币资金           741,817,300  920,078,000  865,129,000  839,378,600   \n",
       "短期借款(元)                   0            0            0            0   \n",
       "一年内到期的非流动负债(元)            0            0            0            0   \n",
       "长期借款(元)                   0            0            0            0   \n",
       "应付债券(元)                   0            0            0            0   \n",
       "长期应付款                     0            0            0            0   \n",
       "有息负债总额                    0            0            0            0   \n",
       "总货币资金与有息负债之差    741,817,300  920,078,000  865,129,000  839,378,600   \n",
       "\n",
       "                       2019           2020  \n",
       "货币资金(元)         799,127,100    509,970,800  \n",
       "交易性金融资产(元)                0    500,000,000  \n",
       "其他流动资产里的理财产品              0              0  \n",
       "其他流动资产里的结构性存款             0              0  \n",
       "准货币资金           799,127,100  1,009,970,800  \n",
       "短期借款(元)                   0              0  \n",
       "一年内到期的非流动负债(元)            0              0  \n",
       "长期借款(元)                   0              0  \n",
       "应付债券(元)                   0              0  \n",
       "长期应付款                     0              0  \n",
       "有息负债总额                    0              0  \n",
       "总货币资金与有息负债之差    799,127,100  1,009,970,800  "
      ]
     },
     "execution_count": 19,
     "metadata": {},
     "output_type": "execute_result"
    }
   ],
   "source": [
    "t8 = analysis.init_table('t8')\n",
    "t8['准货币资金'] = t8.T[:4].sum()\n",
    "t8['有息负债总额'] = t8.T[5:10].sum()\n",
    "t8['总货币资金与有息负债之差'] = t8['准货币资金'] - t8['有息负债总额']\n",
    "\n",
    "analysis.format_show_table('t8')"
   ]
  },
  {
   "cell_type": "code",
   "execution_count": 20,
   "metadata": {},
   "outputs": [
    {
     "data": {
      "image/png": "[encoded data removed]",
      "text/plain": [
       "<matplotlib.figure.Figure at 0x1ad88d9fd30>"
      ]
     },
     "metadata": {
      "needs_background": "light"
     },
     "output_type": "display_data"
    }
   ],
   "source": [
    "analysis.show_plot('t8')"
   ]
  },
  {
   "cell_type": "code",
   "execution_count": 21,
   "metadata": {},
   "outputs": [
    {
     "data": {
      "image/png": "[encoded data removed]",
      "text/plain": [
       "<matplotlib.figure.Figure at 0x1ad88e30da0>"
      ]
     },
     "metadata": {
      "needs_background": "light"
     },
     "output_type": "display_data"
    }
   ],
   "source": [
    "analysis.show_plot('t8', image_index=1)"
   ]
  },
  {
   "cell_type": "markdown",
   "metadata": {},
   "source": [
    "### 输出分析报告"
   ]
  },
  {
   "cell_type": "code",
   "execution_count": 22,
   "metadata": {},
   "outputs": [],
   "source": [
    "ReportDocument(analysis).save()"
   ]
  },
  {
   "cell_type": "code",
   "execution_count": null,
   "metadata": {},
   "outputs": [],
   "source": []
  }
 ],
 "metadata": {
  "kernelspec": {
   "display_name": "Python 3",
   "language": "python",
   "name": "python3"
  },
  "language_info": {
   "codemirror_mode": {
    "name": "ipython",
    "version": 3
   },
   "file_extension": ".py",
   "mimetype": "text/x-python",
   "name": "python",
   "nbconvert_exporter": "python",
   "pygments_lexer": "ipython3",
   "version": "3.6.4"
  }
 },
 "nbformat": 4,
 "nbformat_minor": 2
}
