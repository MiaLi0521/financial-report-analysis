{
 "cells": [
  {
   "cell_type": "markdown",
   "metadata": {},
   "source": [
    "### 企业造血能力分析 - 收入含金量"
   ]
  },
  {
   "cell_type": "code",
   "execution_count": 1,
   "metadata": {},
   "outputs": [],
   "source": [
    "from analysis import ANALYSIS_CONFIGS\n",
    "from analysis.analysis import FinancialAnalysis\n",
    "from analysis.doc_utils import ReportDocument"
   ]
  },
  {
   "cell_type": "code",
   "execution_count": 2,
   "metadata": {},
   "outputs": [
    {
     "data": {
      "text/plain": [
       "['all_analysis.json',\n",
       " 'asset_quality_analysis.json',\n",
       " 'asset_indepth_analysis.json',\n",
       " 'asset_fraud_analysis.json',\n",
       " 'profit_analysis.json',\n",
       " 'cash_flow_analysis.json']"
      ]
     },
     "execution_count": 2,
     "metadata": {},
     "output_type": "execute_result"
    }
   ],
   "source": [
    "ANALYSIS_CONFIGS"
   ]
  },
  {
   "cell_type": "code",
   "execution_count": 3,
   "metadata": {},
   "outputs": [],
   "source": [
    "analysis = FinancialAnalysis(ANALYSIS_CONFIGS[5])\n",
    "images, titles, fields = analysis.images, analysis.titles, analysis.fields"
   ]
  },
  {
   "cell_type": "code",
   "execution_count": 4,
   "metadata": {},
   "outputs": [
    {
     "data": {
      "text/html": [
       "<div>\n",
       "<style scoped>\n",
       "    .dataframe tbody tr th:only-of-type {\n",
       "        vertical-align: middle;\n",
       "    }\n",
       "\n",
       "    .dataframe tbody tr th {\n",
       "        vertical-align: top;\n",
       "    }\n",
       "\n",
       "    .dataframe thead th {\n",
       "        text-align: right;\n",
       "    }\n",
       "</style>\n",
       "<table border=\"1\" class=\"dataframe\">\n",
       "  <thead>\n",
       "    <tr style=\"text-align: right;\">\n",
       "      <th></th>\n",
       "      <th>2015</th>\n",
       "      <th>2016</th>\n",
       "      <th>2017</th>\n",
       "      <th>2018</th>\n",
       "      <th>2019</th>\n",
       "      <th>2020</th>\n",
       "    </tr>\n",
       "  </thead>\n",
       "  <tbody>\n",
       "    <tr>\n",
       "      <th>销售商品、提供劳务收到的现金(元)</th>\n",
       "      <td>4,772,789,000</td>\n",
       "      <td>6,376,116,600</td>\n",
       "      <td>7,197,061,800</td>\n",
       "      <td>8,453,586,900</td>\n",
       "      <td>7,864,881,700</td>\n",
       "      <td>8,100,485,200</td>\n",
       "    </tr>\n",
       "    <tr>\n",
       "      <th>其中：营业收入(元)</th>\n",
       "      <td>4,542,718,028</td>\n",
       "      <td>5,794,897,867</td>\n",
       "      <td>7,017,397,058</td>\n",
       "      <td>7,424,885,274</td>\n",
       "      <td>7,760,581,856</td>\n",
       "      <td>8,128,620,799</td>\n",
       "    </tr>\n",
       "    <tr>\n",
       "      <th>现金占营业收入的比率</th>\n",
       "      <td>105.06%</td>\n",
       "      <td>110.03%</td>\n",
       "      <td>102.56%</td>\n",
       "      <td>113.85%</td>\n",
       "      <td>101.34%</td>\n",
       "      <td>99.65%</td>\n",
       "    </tr>\n",
       "  </tbody>\n",
       "</table>\n",
       "</div>"
      ],
      "text/plain": [
       "                            2015           2016           2017           2018  \\\n",
       "销售商品、提供劳务收到的现金(元)  4,772,789,000  6,376,116,600  7,197,061,800  8,453,586,900   \n",
       "其中：营业收入(元)         4,542,718,028  5,794,897,867  7,017,397,058  7,424,885,274   \n",
       "现金占营业收入的比率               105.06%        110.03%        102.56%        113.85%   \n",
       "\n",
       "                            2019           2020  \n",
       "销售商品、提供劳务收到的现金(元)  7,864,881,700  8,100,485,200  \n",
       "其中：营业收入(元)         7,760,581,856  8,128,620,799  \n",
       "现金占营业收入的比率               101.34%         99.65%  "
      ]
     },
     "execution_count": 4,
     "metadata": {},
     "output_type": "execute_result"
    }
   ],
   "source": [
    "t1 = analysis.init_table('t1')\n",
    "t1['现金占营业收入的比率'] = t1['销售商品、提供劳务收到的现金(元)'] / t1['其中：营业收入(元)']\n",
    "\n",
    "analysis.format_show_table('t1')"
   ]
  },
  {
   "cell_type": "code",
   "execution_count": 5,
   "metadata": {},
   "outputs": [
    {
     "data": {
      "image/png": "[encoded data removed]",
      "text/plain": [
       "<matplotlib.figure.Figure at 0x152b417dd30>"
      ]
     },
     "metadata": {
      "needs_background": "light"
     },
     "output_type": "display_data"
    }
   ],
   "source": [
    "analysis.show_plot('t1')"
   ]
  },
  {
   "cell_type": "code",
   "execution_count": 6,
   "metadata": {},
   "outputs": [
    {
     "data": {
      "text/html": [
       "<div>\n",
       "<style scoped>\n",
       "    .dataframe tbody tr th:only-of-type {\n",
       "        vertical-align: middle;\n",
       "    }\n",
       "\n",
       "    .dataframe tbody tr th {\n",
       "        vertical-align: top;\n",
       "    }\n",
       "\n",
       "    .dataframe thead th {\n",
       "        text-align: right;\n",
       "    }\n",
       "</style>\n",
       "<table border=\"1\" class=\"dataframe\">\n",
       "  <thead>\n",
       "    <tr style=\"text-align: right;\">\n",
       "      <th></th>\n",
       "      <th>2015</th>\n",
       "      <th>2016</th>\n",
       "      <th>2017</th>\n",
       "      <th>2018</th>\n",
       "      <th>2019</th>\n",
       "      <th>2020</th>\n",
       "    </tr>\n",
       "  </thead>\n",
       "  <tbody>\n",
       "    <tr>\n",
       "      <th>经营活动产生的现金流量净额(元)</th>\n",
       "      <td>1,123,649,800</td>\n",
       "      <td>1,545,448,500</td>\n",
       "      <td>1,272,482,600</td>\n",
       "      <td>1,508,960,300</td>\n",
       "      <td>1,555,220,900</td>\n",
       "      <td>1,537,300,000</td>\n",
       "    </tr>\n",
       "    <tr>\n",
       "      <th>五、净利润(元)</th>\n",
       "      <td>827,950,300</td>\n",
       "      <td>1,206,814,400</td>\n",
       "      <td>1,461,194,100</td>\n",
       "      <td>1,483,847,900</td>\n",
       "      <td>1,614,245,400</td>\n",
       "      <td>1,687,357,900</td>\n",
       "    </tr>\n",
       "    <tr>\n",
       "      <th>净利润现金比率</th>\n",
       "      <td>135.71%</td>\n",
       "      <td>128.06%</td>\n",
       "      <td>87.09%</td>\n",
       "      <td>101.69%</td>\n",
       "      <td>96.34%</td>\n",
       "      <td>91.11%</td>\n",
       "    </tr>\n",
       "  </tbody>\n",
       "</table>\n",
       "</div>"
      ],
      "text/plain": [
       "                           2015           2016           2017           2018  \\\n",
       "经营活动产生的现金流量净额(元)  1,123,649,800  1,545,448,500  1,272,482,600  1,508,960,300   \n",
       "五、净利润(元)            827,950,300  1,206,814,400  1,461,194,100  1,483,847,900   \n",
       "净利润现金比率                 135.71%        128.06%         87.09%        101.69%   \n",
       "\n",
       "                           2019           2020  \n",
       "经营活动产生的现金流量净额(元)  1,555,220,900  1,537,300,000  \n",
       "五、净利润(元)          1,614,245,400  1,687,357,900  \n",
       "净利润现金比率                  96.34%         91.11%  "
      ]
     },
     "execution_count": 6,
     "metadata": {},
     "output_type": "execute_result"
    }
   ],
   "source": [
    "t2 = analysis.init_table('t2')\n",
    "t2['净利润现金比率'] = t2['经营活动产生的现金流量净额(元)'] / t2['五、净利润(元)']\n",
    "\n",
    "analysis.format_show_table('t2')"
   ]
  },
  {
   "cell_type": "code",
   "execution_count": 7,
   "metadata": {},
   "outputs": [
    {
     "name": "stdout",
     "output_type": "stream",
     "text": [
      "连续 5 年的平均净利润现金含量：106.67%\n"
     ]
    }
   ],
   "source": [
    "print(f\"连续 5 年的平均净利润现金含量：{t2['净利润现金比率'].mean():.2%}\")"
   ]
  },
  {
   "cell_type": "markdown",
   "metadata": {},
   "source": [
    "### 企业增长潜能：投资活动现金流分析"
   ]
  },
  {
   "cell_type": "code",
   "execution_count": 8,
   "metadata": {},
   "outputs": [
    {
     "data": {
      "text/html": [
       "<div>\n",
       "<style scoped>\n",
       "    .dataframe tbody tr th:only-of-type {\n",
       "        vertical-align: middle;\n",
       "    }\n",
       "\n",
       "    .dataframe tbody tr th {\n",
       "        vertical-align: top;\n",
       "    }\n",
       "\n",
       "    .dataframe thead th {\n",
       "        text-align: right;\n",
       "    }\n",
       "</style>\n",
       "<table border=\"1\" class=\"dataframe\">\n",
       "  <thead>\n",
       "    <tr style=\"text-align: right;\">\n",
       "      <th></th>\n",
       "      <th>2015</th>\n",
       "      <th>2016</th>\n",
       "      <th>2017</th>\n",
       "      <th>2018</th>\n",
       "      <th>2019</th>\n",
       "      <th>2020</th>\n",
       "    </tr>\n",
       "  </thead>\n",
       "  <tbody>\n",
       "    <tr>\n",
       "      <th>购建固定资产、无形资产和其他长期资产支付的现金(元)</th>\n",
       "      <td>278,075,100</td>\n",
       "      <td>199,329,700</td>\n",
       "      <td>146,347,300</td>\n",
       "      <td>180,703,200</td>\n",
       "      <td>272,163,300</td>\n",
       "      <td>282,289,900</td>\n",
       "    </tr>\n",
       "    <tr>\n",
       "      <th>经营活动产生的现金流量净额(元)</th>\n",
       "      <td>1,123,649,800</td>\n",
       "      <td>1,545,448,500</td>\n",
       "      <td>1,272,482,600</td>\n",
       "      <td>1,508,960,300</td>\n",
       "      <td>1,555,220,900</td>\n",
       "      <td>1,537,300,000</td>\n",
       "    </tr>\n",
       "    <tr>\n",
       "      <th>投资占经营净现金流的比例</th>\n",
       "      <td>24.75%</td>\n",
       "      <td>12.90%</td>\n",
       "      <td>11.50%</td>\n",
       "      <td>11.98%</td>\n",
       "      <td>17.50%</td>\n",
       "      <td>18.36%</td>\n",
       "    </tr>\n",
       "    <tr>\n",
       "      <th>销售商品、提供劳务收到的现金(元)</th>\n",
       "      <td>4,772,789,000</td>\n",
       "      <td>6,376,116,600</td>\n",
       "      <td>7,197,061,800</td>\n",
       "      <td>8,453,586,900</td>\n",
       "      <td>7,864,881,700</td>\n",
       "      <td>8,100,485,200</td>\n",
       "    </tr>\n",
       "  </tbody>\n",
       "</table>\n",
       "</div>"
      ],
      "text/plain": [
       "                                     2015           2016           2017  \\\n",
       "购建固定资产、无形资产和其他长期资产支付的现金(元)    278,075,100    199,329,700    146,347,300   \n",
       "经营活动产生的现金流量净额(元)            1,123,649,800  1,545,448,500  1,272,482,600   \n",
       "投资占经营净现金流的比例                       24.75%         12.90%         11.50%   \n",
       "销售商品、提供劳务收到的现金(元)           4,772,789,000  6,376,116,600  7,197,061,800   \n",
       "\n",
       "                                     2018           2019           2020  \n",
       "购建固定资产、无形资产和其他长期资产支付的现金(元)    180,703,200    272,163,300    282,289,900  \n",
       "经营活动产生的现金流量净额(元)            1,508,960,300  1,555,220,900  1,537,300,000  \n",
       "投资占经营净现金流的比例                       11.98%         17.50%         18.36%  \n",
       "销售商品、提供劳务收到的现金(元)           8,453,586,900  7,864,881,700  8,100,485,200  "
      ]
     },
     "execution_count": 8,
     "metadata": {},
     "output_type": "execute_result"
    }
   ],
   "source": [
    "t3 = analysis.init_table('t3')\n",
    "t3['投资占经营净现金流的比例'] = \\\n",
    "t3['购建固定资产、无形资产和其他长期资产支付的现金(元)'] / t3['经营活动产生的现金流量净额(元)']\n",
    "\n",
    "analysis.format_show_table('t3')"
   ]
  },
  {
   "cell_type": "code",
   "execution_count": 9,
   "metadata": {},
   "outputs": [
    {
     "data": {
      "image/png": "[encoded data removed]",
      "text/plain": [
       "<matplotlib.figure.Figure at 0x152b417db00>"
      ]
     },
     "metadata": {
      "needs_background": "light"
     },
     "output_type": "display_data"
    }
   ],
   "source": [
    "analysis.show_plot('t3')"
   ]
  },
  {
   "cell_type": "code",
   "execution_count": 10,
   "metadata": {},
   "outputs": [
    {
     "data": {
      "image/png": "[encoded data removed]",
      "text/plain": [
       "<matplotlib.figure.Figure at 0x152b86298d0>"
      ]
     },
     "metadata": {
      "needs_background": "light"
     },
     "output_type": "display_data"
    }
   ],
   "source": [
    "analysis.show_plot('t3', image_index=1)"
   ]
  },
  {
   "cell_type": "markdown",
   "metadata": {},
   "source": [
    "### 分红情况：筹资活动产生的现金流"
   ]
  },
  {
   "cell_type": "code",
   "execution_count": 11,
   "metadata": {},
   "outputs": [
    {
     "data": {
      "text/html": [
       "<div>\n",
       "<style scoped>\n",
       "    .dataframe tbody tr th:only-of-type {\n",
       "        vertical-align: middle;\n",
       "    }\n",
       "\n",
       "    .dataframe tbody tr th {\n",
       "        vertical-align: top;\n",
       "    }\n",
       "\n",
       "    .dataframe thead th {\n",
       "        text-align: right;\n",
       "    }\n",
       "</style>\n",
       "<table border=\"1\" class=\"dataframe\">\n",
       "  <thead>\n",
       "    <tr style=\"text-align: right;\">\n",
       "      <th></th>\n",
       "      <th>2015</th>\n",
       "      <th>2016</th>\n",
       "      <th>2017</th>\n",
       "      <th>2018</th>\n",
       "      <th>2019</th>\n",
       "      <th>2020</th>\n",
       "    </tr>\n",
       "  </thead>\n",
       "  <tbody>\n",
       "    <tr>\n",
       "      <th>分红金额</th>\n",
       "      <td>292,000,000</td>\n",
       "      <td>365,000,000</td>\n",
       "      <td>712,000,000</td>\n",
       "      <td>759,000,000</td>\n",
       "      <td>475,000,000</td>\n",
       "      <td>475,000,000</td>\n",
       "    </tr>\n",
       "    <tr>\n",
       "      <th>经营活动产生的现金流量净额(元)</th>\n",
       "      <td>1,123,649,800</td>\n",
       "      <td>1,545,448,500</td>\n",
       "      <td>1,272,482,600</td>\n",
       "      <td>1,508,960,300</td>\n",
       "      <td>1,555,220,900</td>\n",
       "      <td>1,537,300,000</td>\n",
       "    </tr>\n",
       "    <tr>\n",
       "      <th>分红占经营现金净额的比例</th>\n",
       "      <td>25.99%</td>\n",
       "      <td>23.62%</td>\n",
       "      <td>55.95%</td>\n",
       "      <td>50.30%</td>\n",
       "      <td>30.54%</td>\n",
       "      <td>30.90%</td>\n",
       "    </tr>\n",
       "  </tbody>\n",
       "</table>\n",
       "</div>"
      ],
      "text/plain": [
       "                           2015           2016           2017           2018  \\\n",
       "分红金额                292,000,000    365,000,000    712,000,000    759,000,000   \n",
       "经营活动产生的现金流量净额(元)  1,123,649,800  1,545,448,500  1,272,482,600  1,508,960,300   \n",
       "分红占经营现金净额的比例             25.99%         23.62%         55.95%         50.30%   \n",
       "\n",
       "                           2019           2020  \n",
       "分红金额                475,000,000    475,000,000  \n",
       "经营活动产生的现金流量净额(元)  1,555,220,900  1,537,300,000  \n",
       "分红占经营现金净额的比例             30.54%         30.90%  "
      ]
     },
     "execution_count": 11,
     "metadata": {},
     "output_type": "execute_result"
    }
   ],
   "source": [
    "t4 = analysis.init_table('t4')\n",
    "t4['分红金额'] = [292000000, 365000000, 712000000, 759000000, 475000000, 475000000]\n",
    "t4['分红占经营现金净额的比例'] = t4['分红金额'] / t4['经营活动产生的现金流量净额(元)']\n",
    "\n",
    "analysis.format_show_table('t4')"
   ]
  },
  {
   "cell_type": "code",
   "execution_count": 12,
   "metadata": {},
   "outputs": [
    {
     "data": {
      "image/png": "[encoded data removed]",
      "text/plain": [
       "<matplotlib.figure.Figure at 0x152b86292e8>"
      ]
     },
     "metadata": {
      "needs_background": "light"
     },
     "output_type": "display_data"
    }
   ],
   "source": [
    "analysis.show_plot('t4')"
   ]
  },
  {
   "cell_type": "markdown",
   "metadata": {},
   "source": [
    "### 公司类型：经营、投资、筹资活动净额的正负"
   ]
  },
  {
   "cell_type": "code",
   "execution_count": 13,
   "metadata": {},
   "outputs": [
    {
     "data": {
      "text/html": [
       "<div>\n",
       "<style scoped>\n",
       "    .dataframe tbody tr th:only-of-type {\n",
       "        vertical-align: middle;\n",
       "    }\n",
       "\n",
       "    .dataframe tbody tr th {\n",
       "        vertical-align: top;\n",
       "    }\n",
       "\n",
       "    .dataframe thead th {\n",
       "        text-align: right;\n",
       "    }\n",
       "</style>\n",
       "<table border=\"1\" class=\"dataframe\">\n",
       "  <thead>\n",
       "    <tr style=\"text-align: right;\">\n",
       "      <th></th>\n",
       "      <th>2015</th>\n",
       "      <th>2016</th>\n",
       "      <th>2017</th>\n",
       "      <th>2018</th>\n",
       "      <th>2019</th>\n",
       "      <th>2020</th>\n",
       "    </tr>\n",
       "  </thead>\n",
       "  <tbody>\n",
       "    <tr>\n",
       "      <th>经营活动产生的现金流量净额(元)</th>\n",
       "      <td>1,123,649,800</td>\n",
       "      <td>1,545,448,500</td>\n",
       "      <td>1,272,482,600</td>\n",
       "      <td>1,508,960,300</td>\n",
       "      <td>1,555,220,900</td>\n",
       "      <td>1,537,300,000</td>\n",
       "    </tr>\n",
       "    <tr>\n",
       "      <th>投资活动产生的现金流量净额(元)</th>\n",
       "      <td>-305,773,451</td>\n",
       "      <td>-198,322,518</td>\n",
       "      <td>-1,782,469,713</td>\n",
       "      <td>-1,183,503,791</td>\n",
       "      <td>1,055,539,452</td>\n",
       "      <td>-1,217,671,577</td>\n",
       "    </tr>\n",
       "    <tr>\n",
       "      <th>筹资活动产生的现金流量净额(元)</th>\n",
       "      <td>-100,627,000</td>\n",
       "      <td>-226,383,520</td>\n",
       "      <td>-365,205,405</td>\n",
       "      <td>-711,857,630</td>\n",
       "      <td>-759,219,240</td>\n",
       "      <td>-461,785,848</td>\n",
       "    </tr>\n",
       "    <tr>\n",
       "      <th>三大活动现金流量净额类型</th>\n",
       "      <td>正负负</td>\n",
       "      <td>正负负</td>\n",
       "      <td>正负负</td>\n",
       "      <td>正负负</td>\n",
       "      <td>正正负</td>\n",
       "      <td>正负负</td>\n",
       "    </tr>\n",
       "  </tbody>\n",
       "</table>\n",
       "</div>"
      ],
      "text/plain": [
       "                           2015           2016            2017  \\\n",
       "经营活动产生的现金流量净额(元)  1,123,649,800  1,545,448,500   1,272,482,600   \n",
       "投资活动产生的现金流量净额(元)   -305,773,451   -198,322,518  -1,782,469,713   \n",
       "筹资活动产生的现金流量净额(元)   -100,627,000   -226,383,520    -365,205,405   \n",
       "三大活动现金流量净额类型                正负负            正负负             正负负   \n",
       "\n",
       "                            2018           2019            2020  \n",
       "经营活动产生的现金流量净额(元)   1,508,960,300  1,555,220,900   1,537,300,000  \n",
       "投资活动产生的现金流量净额(元)  -1,183,503,791  1,055,539,452  -1,217,671,577  \n",
       "筹资活动产生的现金流量净额(元)    -711,857,630   -759,219,240    -461,785,848  \n",
       "三大活动现金流量净额类型                 正负负            正正负             正负负  "
      ]
     },
     "execution_count": 13,
     "metadata": {},
     "output_type": "execute_result"
    }
   ],
   "source": [
    "t5 = analysis.init_table('t5')\n",
    "t5_tmp = t5.copy()\n",
    "\n",
    "t5_tmp.loc[t5['经营活动产生的现金流量净额(元)']>0, '经营活动产生的现金流量净额(元)'] = \"正\"\n",
    "t5_tmp.loc[t5['经营活动产生的现金流量净额(元)']<0, '经营活动产生的现金流量净额(元)'] = \"负\"\n",
    "\n",
    "t5_tmp.loc[t5['投资活动产生的现金流量净额(元)']>0, '投资活动产生的现金流量净额(元)'] = \"正\"\n",
    "t5_tmp.loc[t5['投资活动产生的现金流量净额(元)']<0, '投资活动产生的现金流量净额(元)'] = \"负\"\n",
    "\n",
    "t5_tmp.loc[t5['筹资活动产生的现金流量净额(元)']>0, '筹资活动产生的现金流量净额(元)'] = \"正\"\n",
    "t5_tmp.loc[t5['筹资活动产生的现金流量净额(元)']<0, '筹资活动产生的现金流量净额(元)'] = \"负\"\n",
    "\n",
    "t5_tmp['三大活动现金流量净额类型'] = t5_tmp['经营活动产生的现金流量净额(元)'] + \\\n",
    "t5_tmp['投资活动产生的现金流量净额(元)'] + t5_tmp['筹资活动产生的现金流量净额(元)']\n",
    "t5['三大活动现金流量净额类型'] = t5_tmp['三大活动现金流量净额类型']\n",
    "\n",
    "analysis.format_show_table('t5', ignore=['三大活动现金流量净额类型'])"
   ]
  },
  {
   "cell_type": "code",
   "execution_count": 14,
   "metadata": {},
   "outputs": [
    {
     "data": {
      "image/png": "[encoded data removed]",
      "text/plain": [
       "<matplotlib.figure.Figure at 0x152b7584240>"
      ]
     },
     "metadata": {
      "needs_background": "light"
     },
     "output_type": "display_data"
    }
   ],
   "source": [
    "analysis.show_plot('t5')"
   ]
  },
  {
   "cell_type": "markdown",
   "metadata": {},
   "source": [
    "### 现金增长情况：现金及现金等价物净增加额"
   ]
  },
  {
   "cell_type": "code",
   "execution_count": 15,
   "metadata": {},
   "outputs": [
    {
     "data": {
      "text/html": [
       "<div>\n",
       "<style scoped>\n",
       "    .dataframe tbody tr th:only-of-type {\n",
       "        vertical-align: middle;\n",
       "    }\n",
       "\n",
       "    .dataframe tbody tr th {\n",
       "        vertical-align: top;\n",
       "    }\n",
       "\n",
       "    .dataframe thead th {\n",
       "        text-align: right;\n",
       "    }\n",
       "</style>\n",
       "<table border=\"1\" class=\"dataframe\">\n",
       "  <thead>\n",
       "    <tr style=\"text-align: right;\">\n",
       "      <th></th>\n",
       "      <th>2015</th>\n",
       "      <th>2016</th>\n",
       "      <th>2017</th>\n",
       "      <th>2018</th>\n",
       "      <th>2019</th>\n",
       "      <th>2020</th>\n",
       "    </tr>\n",
       "  </thead>\n",
       "  <tbody>\n",
       "    <tr>\n",
       "      <th>五、现金及现金等价物净增加额(元)</th>\n",
       "      <td>717,602,200</td>\n",
       "      <td>1,121,281,600</td>\n",
       "      <td>-876,051,800</td>\n",
       "      <td>-385,568,200</td>\n",
       "      <td>1,852,076,400</td>\n",
       "      <td>-143,199,800</td>\n",
       "    </tr>\n",
       "    <tr>\n",
       "      <th>分红金额</th>\n",
       "      <td>162,000,000</td>\n",
       "      <td>292,000,000</td>\n",
       "      <td>365,000,000</td>\n",
       "      <td>712,000,000</td>\n",
       "      <td>759,000,000</td>\n",
       "      <td>475,000,000</td>\n",
       "    </tr>\n",
       "    <tr>\n",
       "      <th>分红+现金净增加额</th>\n",
       "      <td>879,602,200</td>\n",
       "      <td>1,413,281,600</td>\n",
       "      <td>-511,051,800</td>\n",
       "      <td>326,431,800</td>\n",
       "      <td>2,611,076,400</td>\n",
       "      <td>331,800,200</td>\n",
       "    </tr>\n",
       "  </tbody>\n",
       "</table>\n",
       "</div>"
      ],
      "text/plain": [
       "                          2015           2016          2017          2018  \\\n",
       "五、现金及现金等价物净增加额(元)  717,602,200  1,121,281,600  -876,051,800  -385,568,200   \n",
       "分红金额               162,000,000    292,000,000   365,000,000   712,000,000   \n",
       "分红+现金净增加额          879,602,200  1,413,281,600  -511,051,800   326,431,800   \n",
       "\n",
       "                            2019          2020  \n",
       "五、现金及现金等价物净增加额(元)  1,852,076,400  -143,199,800  \n",
       "分红金额                 759,000,000   475,000,000  \n",
       "分红+现金净增加额          2,611,076,400   331,800,200  "
      ]
     },
     "execution_count": 15,
     "metadata": {},
     "output_type": "execute_result"
    }
   ],
   "source": [
    "t6 = analysis.init_table('t6')\n",
    "# 当年的分红其实是上一年年报中计划的分红，而实际分红可能会和年报中披露的不一致，需要查同花顺个股获取当年的分红\n",
    "t6['分红金额'] = [162000000, 292000000, 365000000, 712000000, 759000000, 475000000]\n",
    "t6['分红+现金净增加额'] = t6.T[:2].sum()\n",
    "\n",
    "analysis.format_show_table('t6')"
   ]
  },
  {
   "cell_type": "code",
   "execution_count": 16,
   "metadata": {},
   "outputs": [
    {
     "data": {
      "image/png": "[encoded data removed]",
      "text/plain": [
       "<matplotlib.figure.Figure at 0x152b7414358>"
      ]
     },
     "metadata": {
      "needs_background": "light"
     },
     "output_type": "display_data"
    }
   ],
   "source": [
    "analysis.show_plot('t6')"
   ]
  },
  {
   "cell_type": "markdown",
   "metadata": {},
   "source": [
    "### 可用现金情况：期末现金及现金等价物余额"
   ]
  },
  {
   "cell_type": "code",
   "execution_count": 17,
   "metadata": {},
   "outputs": [
    {
     "data": {
      "text/html": [
       "<div>\n",
       "<style scoped>\n",
       "    .dataframe tbody tr th:only-of-type {\n",
       "        vertical-align: middle;\n",
       "    }\n",
       "\n",
       "    .dataframe tbody tr th {\n",
       "        vertical-align: top;\n",
       "    }\n",
       "\n",
       "    .dataframe thead th {\n",
       "        text-align: right;\n",
       "    }\n",
       "</style>\n",
       "<table border=\"1\" class=\"dataframe\">\n",
       "  <thead>\n",
       "    <tr style=\"text-align: right;\">\n",
       "      <th></th>\n",
       "      <th>2015</th>\n",
       "      <th>2016</th>\n",
       "      <th>2017</th>\n",
       "      <th>2018</th>\n",
       "      <th>2019</th>\n",
       "      <th>2020</th>\n",
       "    </tr>\n",
       "  </thead>\n",
       "  <tbody>\n",
       "    <tr>\n",
       "      <th>六、期末现金及现金等价物余额(元)</th>\n",
       "      <td>2,317,558,200</td>\n",
       "      <td>3,438,839,800</td>\n",
       "      <td>2,562,788,000</td>\n",
       "      <td>2,177,219,900</td>\n",
       "      <td>4,029,296,300</td>\n",
       "      <td>3,886,096,500</td>\n",
       "    </tr>\n",
       "    <tr>\n",
       "      <th>短期借款(元)</th>\n",
       "      <td>0</td>\n",
       "      <td>0</td>\n",
       "      <td>0</td>\n",
       "      <td>0</td>\n",
       "      <td>0</td>\n",
       "      <td>6,076,200</td>\n",
       "    </tr>\n",
       "    <tr>\n",
       "      <th>一年内到期的非流动负债(元)</th>\n",
       "      <td>0</td>\n",
       "      <td>0</td>\n",
       "      <td>0</td>\n",
       "      <td>0</td>\n",
       "      <td>0</td>\n",
       "      <td>0</td>\n",
       "    </tr>\n",
       "    <tr>\n",
       "      <th>长期借款(元)</th>\n",
       "      <td>0</td>\n",
       "      <td>0</td>\n",
       "      <td>0</td>\n",
       "      <td>0</td>\n",
       "      <td>0</td>\n",
       "      <td>0</td>\n",
       "    </tr>\n",
       "    <tr>\n",
       "      <th>应付债券(元)</th>\n",
       "      <td>0</td>\n",
       "      <td>0</td>\n",
       "      <td>0</td>\n",
       "      <td>0</td>\n",
       "      <td>0</td>\n",
       "      <td>0</td>\n",
       "    </tr>\n",
       "    <tr>\n",
       "      <th>长期应付款</th>\n",
       "      <td>0</td>\n",
       "      <td>0</td>\n",
       "      <td>0</td>\n",
       "      <td>0</td>\n",
       "      <td>0</td>\n",
       "      <td>0</td>\n",
       "    </tr>\n",
       "    <tr>\n",
       "      <th>有息负债总额</th>\n",
       "      <td>0</td>\n",
       "      <td>0</td>\n",
       "      <td>0</td>\n",
       "      <td>0</td>\n",
       "      <td>0</td>\n",
       "      <td>6,076,200</td>\n",
       "    </tr>\n",
       "    <tr>\n",
       "      <th>期末现金余额-有息负债</th>\n",
       "      <td>2,317,558,200</td>\n",
       "      <td>3,438,839,800</td>\n",
       "      <td>2,562,788,000</td>\n",
       "      <td>2,177,219,900</td>\n",
       "      <td>4,029,296,300</td>\n",
       "      <td>3,880,020,300</td>\n",
       "    </tr>\n",
       "  </tbody>\n",
       "</table>\n",
       "</div>"
      ],
      "text/plain": [
       "                            2015           2016           2017           2018  \\\n",
       "六、期末现金及现金等价物余额(元)  2,317,558,200  3,438,839,800  2,562,788,000  2,177,219,900   \n",
       "短期借款(元)                        0              0              0              0   \n",
       "一年内到期的非流动负债(元)                 0              0              0              0   \n",
       "长期借款(元)                        0              0              0              0   \n",
       "应付债券(元)                        0              0              0              0   \n",
       "长期应付款                          0              0              0              0   \n",
       "有息负债总额                         0              0              0              0   \n",
       "期末现金余额-有息负债        2,317,558,200  3,438,839,800  2,562,788,000  2,177,219,900   \n",
       "\n",
       "                            2019           2020  \n",
       "六、期末现金及现金等价物余额(元)  4,029,296,300  3,886,096,500  \n",
       "短期借款(元)                        0      6,076,200  \n",
       "一年内到期的非流动负债(元)                 0              0  \n",
       "长期借款(元)                        0              0  \n",
       "应付债券(元)                        0              0  \n",
       "长期应付款                          0              0  \n",
       "有息负债总额                         0      6,076,200  \n",
       "期末现金余额-有息负债        4,029,296,300  3,880,020,300  "
      ]
     },
     "execution_count": 17,
     "metadata": {},
     "output_type": "execute_result"
    }
   ],
   "source": [
    "t7 = analysis.init_table('t7')\n",
    "t7['有息负债总额'] = t7.T[1:6].sum()\n",
    "t7['期末现金余额-有息负债'] = t7['六、期末现金及现金等价物余额(元)'] - t7['有息负债总额']\n",
    "\n",
    "analysis.format_show_table('t7')"
   ]
  },
  {
   "cell_type": "code",
   "execution_count": 18,
   "metadata": {},
   "outputs": [
    {
     "data": {
      "image/png": "[encoded data removed]",
      "text/plain": [
       "<matplotlib.figure.Figure at 0x152b742ba90>"
      ]
     },
     "metadata": {
      "needs_background": "light"
     },
     "output_type": "display_data"
    }
   ],
   "source": [
    "analysis.show_plot('t7')"
   ]
  },
  {
   "cell_type": "markdown",
   "metadata": {},
   "source": [
    "### 考虑用理财产品还债：准货币资金减有息负债"
   ]
  },
  {
   "cell_type": "code",
   "execution_count": 19,
   "metadata": {},
   "outputs": [
    {
     "data": {
      "text/html": [
       "<div>\n",
       "<style scoped>\n",
       "    .dataframe tbody tr th:only-of-type {\n",
       "        vertical-align: middle;\n",
       "    }\n",
       "\n",
       "    .dataframe tbody tr th {\n",
       "        vertical-align: top;\n",
       "    }\n",
       "\n",
       "    .dataframe thead th {\n",
       "        text-align: right;\n",
       "    }\n",
       "</style>\n",
       "<table border=\"1\" class=\"dataframe\">\n",
       "  <thead>\n",
       "    <tr style=\"text-align: right;\">\n",
       "      <th></th>\n",
       "      <th>2015</th>\n",
       "      <th>2016</th>\n",
       "      <th>2017</th>\n",
       "      <th>2018</th>\n",
       "      <th>2019</th>\n",
       "      <th>2020</th>\n",
       "    </tr>\n",
       "  </thead>\n",
       "  <tbody>\n",
       "    <tr>\n",
       "      <th>货币资金(元)</th>\n",
       "      <td>2,323,218,500</td>\n",
       "      <td>3,448,409,300</td>\n",
       "      <td>2,581,883,300</td>\n",
       "      <td>2,196,706,800</td>\n",
       "      <td>4,054,121,700</td>\n",
       "      <td>3,921,052,700</td>\n",
       "    </tr>\n",
       "    <tr>\n",
       "      <th>交易性金融资产(元)</th>\n",
       "      <td>0</td>\n",
       "      <td>0</td>\n",
       "      <td>0</td>\n",
       "      <td>0</td>\n",
       "      <td>1,360,000,000</td>\n",
       "      <td>2,352,000,000</td>\n",
       "    </tr>\n",
       "    <tr>\n",
       "      <th>其他流动资产里的理财产品</th>\n",
       "      <td>0</td>\n",
       "      <td>0</td>\n",
       "      <td>1,500,000,000</td>\n",
       "      <td>2,570,000,000</td>\n",
       "      <td>0</td>\n",
       "      <td>0</td>\n",
       "    </tr>\n",
       "    <tr>\n",
       "      <th>其他流动资产里的结构性存款</th>\n",
       "      <td>0</td>\n",
       "      <td>0</td>\n",
       "      <td>0</td>\n",
       "      <td>0</td>\n",
       "      <td>0</td>\n",
       "      <td>0</td>\n",
       "    </tr>\n",
       "    <tr>\n",
       "      <th>准货币资金</th>\n",
       "      <td>2,323,218,500</td>\n",
       "      <td>3,448,409,300</td>\n",
       "      <td>4,081,883,300</td>\n",
       "      <td>4,766,706,800</td>\n",
       "      <td>5,414,121,700</td>\n",
       "      <td>6,273,052,700</td>\n",
       "    </tr>\n",
       "    <tr>\n",
       "      <th>短期借款(元)</th>\n",
       "      <td>0</td>\n",
       "      <td>0</td>\n",
       "      <td>0</td>\n",
       "      <td>0</td>\n",
       "      <td>0</td>\n",
       "      <td>6,076,200</td>\n",
       "    </tr>\n",
       "    <tr>\n",
       "      <th>一年内到期的非流动负债(元)</th>\n",
       "      <td>0</td>\n",
       "      <td>0</td>\n",
       "      <td>0</td>\n",
       "      <td>0</td>\n",
       "      <td>0</td>\n",
       "      <td>0</td>\n",
       "    </tr>\n",
       "    <tr>\n",
       "      <th>长期借款(元)</th>\n",
       "      <td>0</td>\n",
       "      <td>0</td>\n",
       "      <td>0</td>\n",
       "      <td>0</td>\n",
       "      <td>0</td>\n",
       "      <td>0</td>\n",
       "    </tr>\n",
       "    <tr>\n",
       "      <th>应付债券(元)</th>\n",
       "      <td>0</td>\n",
       "      <td>0</td>\n",
       "      <td>0</td>\n",
       "      <td>0</td>\n",
       "      <td>0</td>\n",
       "      <td>0</td>\n",
       "    </tr>\n",
       "    <tr>\n",
       "      <th>长期应付款</th>\n",
       "      <td>0</td>\n",
       "      <td>0</td>\n",
       "      <td>0</td>\n",
       "      <td>0</td>\n",
       "      <td>0</td>\n",
       "      <td>0</td>\n",
       "    </tr>\n",
       "    <tr>\n",
       "      <th>有息负债总额</th>\n",
       "      <td>0</td>\n",
       "      <td>0</td>\n",
       "      <td>0</td>\n",
       "      <td>0</td>\n",
       "      <td>0</td>\n",
       "      <td>6,076,200</td>\n",
       "    </tr>\n",
       "    <tr>\n",
       "      <th>总货币资金与有息负债之差</th>\n",
       "      <td>2,323,218,500</td>\n",
       "      <td>3,448,409,300</td>\n",
       "      <td>4,081,883,300</td>\n",
       "      <td>4,766,706,800</td>\n",
       "      <td>5,414,121,700</td>\n",
       "      <td>6,266,976,500</td>\n",
       "    </tr>\n",
       "  </tbody>\n",
       "</table>\n",
       "</div>"
      ],
      "text/plain": [
       "                         2015           2016           2017           2018  \\\n",
       "货币资金(元)         2,323,218,500  3,448,409,300  2,581,883,300  2,196,706,800   \n",
       "交易性金融资产(元)                  0              0              0              0   \n",
       "其他流动资产里的理财产品                0              0  1,500,000,000  2,570,000,000   \n",
       "其他流动资产里的结构性存款               0              0              0              0   \n",
       "准货币资金           2,323,218,500  3,448,409,300  4,081,883,300  4,766,706,800   \n",
       "短期借款(元)                     0              0              0              0   \n",
       "一年内到期的非流动负债(元)              0              0              0              0   \n",
       "长期借款(元)                     0              0              0              0   \n",
       "应付债券(元)                     0              0              0              0   \n",
       "长期应付款                       0              0              0              0   \n",
       "有息负债总额                      0              0              0              0   \n",
       "总货币资金与有息负债之差    2,323,218,500  3,448,409,300  4,081,883,300  4,766,706,800   \n",
       "\n",
       "                         2019           2020  \n",
       "货币资金(元)         4,054,121,700  3,921,052,700  \n",
       "交易性金融资产(元)      1,360,000,000  2,352,000,000  \n",
       "其他流动资产里的理财产品                0              0  \n",
       "其他流动资产里的结构性存款               0              0  \n",
       "准货币资金           5,414,121,700  6,273,052,700  \n",
       "短期借款(元)                     0      6,076,200  \n",
       "一年内到期的非流动负债(元)              0              0  \n",
       "长期借款(元)                     0              0  \n",
       "应付债券(元)                     0              0  \n",
       "长期应付款                       0              0  \n",
       "有息负债总额                      0      6,076,200  \n",
       "总货币资金与有息负债之差    5,414,121,700  6,266,976,500  "
      ]
     },
     "execution_count": 19,
     "metadata": {},
     "output_type": "execute_result"
    }
   ],
   "source": [
    "t8 = analysis.init_table('t8')\n",
    "t8['准货币资金'] = t8.T[:4].sum()\n",
    "t8['有息负债总额'] = t8.T[5:10].sum()\n",
    "t8['总货币资金与有息负债之差'] = t8['准货币资金'] - t8['有息负债总额']\n",
    "\n",
    "analysis.format_show_table('t8')"
   ]
  },
  {
   "cell_type": "code",
   "execution_count": 20,
   "metadata": {},
   "outputs": [
    {
     "data": {
      "image/png": "[encoded data removed]",
      "text/plain": [
       "<matplotlib.figure.Figure at 0x152b762bb38>"
      ]
     },
     "metadata": {
      "needs_background": "light"
     },
     "output_type": "display_data"
    }
   ],
   "source": [
    "analysis.show_plot('t8')"
   ]
  },
  {
   "cell_type": "code",
   "execution_count": 21,
   "metadata": {},
   "outputs": [
    {
     "data": {
      "image/png": "[encoded data removed]",
      "text/plain": [
       "<matplotlib.figure.Figure at 0x152b769f8d0>"
      ]
     },
     "metadata": {
      "needs_background": "light"
     },
     "output_type": "display_data"
    }
   ],
   "source": [
    "analysis.show_plot('t8', image_index=1)"
   ]
  },
  {
   "cell_type": "markdown",
   "metadata": {},
   "source": [
    "### 输出分析报告"
   ]
  },
  {
   "cell_type": "code",
   "execution_count": 22,
   "metadata": {},
   "outputs": [],
   "source": [
    "ReportDocument(analysis).save()"
   ]
  },
  {
   "cell_type": "code",
   "execution_count": null,
   "metadata": {},
   "outputs": [],
   "source": []
  }
 ],
 "metadata": {
  "kernelspec": {
   "display_name": "Python 3",
   "language": "python",
   "name": "python3"
  },
  "language_info": {
   "codemirror_mode": {
    "name": "ipython",
    "version": 3
   },
   "file_extension": ".py",
   "mimetype": "text/x-python",
   "name": "python",
   "nbconvert_exporter": "python",
   "pygments_lexer": "ipython3",
   "version": "3.6.4"
  }
 },
 "nbformat": 4,
 "nbformat_minor": 2
}
