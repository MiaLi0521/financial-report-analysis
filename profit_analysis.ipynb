{
 "cells": [
  {
   "cell_type": "code",
   "execution_count": 1,
   "metadata": {},
   "outputs": [],
   "source": [
    "from analysis import ANALYSIS_CONFIGS\n",
    "from analysis.analysis import FinancialAnalysis\n",
    "from analysis.doc_utils import ReportDocument"
   ]
  },
  {
   "cell_type": "code",
   "execution_count": 2,
   "metadata": {},
   "outputs": [
    {
     "data": {
      "text/plain": [
       "['all_analysis.json',\n",
       " 'asset_quality_analysis.json',\n",
       " 'asset_indepth_analysis.json',\n",
       " 'asset_fraud_analysis.json',\n",
       " 'profit_analysis.json',\n",
       " 'cash_flow_analysis.json']"
      ]
     },
     "execution_count": 2,
     "metadata": {},
     "output_type": "execute_result"
    }
   ],
   "source": [
    "ANALYSIS_CONFIGS"
   ]
  },
  {
   "cell_type": "code",
   "execution_count": 3,
   "metadata": {},
   "outputs": [],
   "source": [
    "analysis = FinancialAnalysis(ANALYSIS_CONFIGS[4])\n",
    "images, titles, fields = analysis.images, analysis.titles, analysis.fields"
   ]
  },
  {
   "cell_type": "markdown",
   "metadata": {},
   "source": [
    "### 营业收入及增长率"
   ]
  },
  {
   "cell_type": "code",
   "execution_count": 4,
   "metadata": {},
   "outputs": [
    {
     "data": {
      "text/html": [
       "<div>\n",
       "<style scoped>\n",
       "    .dataframe tbody tr th:only-of-type {\n",
       "        vertical-align: middle;\n",
       "    }\n",
       "\n",
       "    .dataframe tbody tr th {\n",
       "        vertical-align: top;\n",
       "    }\n",
       "\n",
       "    .dataframe thead th {\n",
       "        text-align: right;\n",
       "    }\n",
       "</style>\n",
       "<table border=\"1\" class=\"dataframe\">\n",
       "  <thead>\n",
       "    <tr style=\"text-align: right;\">\n",
       "      <th></th>\n",
       "      <th>2015</th>\n",
       "      <th>2016</th>\n",
       "      <th>2017</th>\n",
       "      <th>2018</th>\n",
       "      <th>2019</th>\n",
       "      <th>2020</th>\n",
       "    </tr>\n",
       "  </thead>\n",
       "  <tbody>\n",
       "    <tr>\n",
       "      <th>其中：营业收入(元)</th>\n",
       "      <td>517,877,289</td>\n",
       "      <td>665,683,622</td>\n",
       "      <td>1,026,358,727</td>\n",
       "      <td>1,400,899,590</td>\n",
       "      <td>1,684,475,727</td>\n",
       "      <td>1,770,817,768</td>\n",
       "    </tr>\n",
       "    <tr>\n",
       "      <th>营业收入增长率</th>\n",
       "      <td>nan%</td>\n",
       "      <td>28.54%</td>\n",
       "      <td>54.18%</td>\n",
       "      <td>36.49%</td>\n",
       "      <td>20.24%</td>\n",
       "      <td>5.13%</td>\n",
       "    </tr>\n",
       "  </tbody>\n",
       "</table>\n",
       "</div>"
      ],
      "text/plain": [
       "                   2015         2016           2017           2018  \\\n",
       "其中：营业收入(元)  517,877,289  665,683,622  1,026,358,727  1,400,899,590   \n",
       "营业收入增长率            nan%       28.54%         54.18%         36.49%   \n",
       "\n",
       "                     2019           2020  \n",
       "其中：营业收入(元)  1,684,475,727  1,770,817,768  \n",
       "营业收入增长率            20.24%          5.13%  "
      ]
     },
     "execution_count": 4,
     "metadata": {},
     "output_type": "execute_result"
    }
   ],
   "source": [
    "t1 = analysis.init_table('t1')\n",
    "t1['营业收入增长率'] = t1['其中：营业收入(元)'].pct_change()\n",
    "\n",
    "analysis.format_show_table('t1')"
   ]
  },
  {
   "cell_type": "code",
   "execution_count": 5,
   "metadata": {},
   "outputs": [
    {
     "data": {
      "image/png": "[encoded data removed]",
      "text/plain": [
       "<matplotlib.figure.Figure at 0x14302d19cc0>"
      ]
     },
     "metadata": {
      "needs_background": "light"
     },
     "output_type": "display_data"
    }
   ],
   "source": [
    "analysis.show_plot('t1')"
   ]
  },
  {
   "cell_type": "markdown",
   "metadata": {},
   "source": [
    "### 毛利率及毛利率波动"
   ]
  },
  {
   "cell_type": "code",
   "execution_count": 6,
   "metadata": {},
   "outputs": [
    {
     "data": {
      "text/html": [
       "<div>\n",
       "<style scoped>\n",
       "    .dataframe tbody tr th:only-of-type {\n",
       "        vertical-align: middle;\n",
       "    }\n",
       "\n",
       "    .dataframe tbody tr th {\n",
       "        vertical-align: top;\n",
       "    }\n",
       "\n",
       "    .dataframe thead th {\n",
       "        text-align: right;\n",
       "    }\n",
       "</style>\n",
       "<table border=\"1\" class=\"dataframe\">\n",
       "  <thead>\n",
       "    <tr style=\"text-align: right;\">\n",
       "      <th></th>\n",
       "      <th>2015</th>\n",
       "      <th>2016</th>\n",
       "      <th>2017</th>\n",
       "      <th>2018</th>\n",
       "      <th>2019</th>\n",
       "      <th>2020</th>\n",
       "    </tr>\n",
       "  </thead>\n",
       "  <tbody>\n",
       "    <tr>\n",
       "      <th>其中：营业收入(元)</th>\n",
       "      <td>517,877,289</td>\n",
       "      <td>665,683,622</td>\n",
       "      <td>1,026,358,727</td>\n",
       "      <td>1,400,899,590</td>\n",
       "      <td>1,684,475,727</td>\n",
       "      <td>1,770,817,768</td>\n",
       "    </tr>\n",
       "    <tr>\n",
       "      <th>其中：营业成本(元)</th>\n",
       "      <td>244,253,900</td>\n",
       "      <td>300,724,100</td>\n",
       "      <td>472,741,100</td>\n",
       "      <td>678,856,000</td>\n",
       "      <td>782,854,800</td>\n",
       "      <td>836,451,700</td>\n",
       "    </tr>\n",
       "    <tr>\n",
       "      <th>毛利率</th>\n",
       "      <td>52.84%</td>\n",
       "      <td>54.82%</td>\n",
       "      <td>53.94%</td>\n",
       "      <td>51.54%</td>\n",
       "      <td>53.53%</td>\n",
       "      <td>52.76%</td>\n",
       "    </tr>\n",
       "    <tr>\n",
       "      <th>毛利率波动率</th>\n",
       "      <td>nan%</td>\n",
       "      <td>3.76%</td>\n",
       "      <td>-1.61%</td>\n",
       "      <td>-4.45%</td>\n",
       "      <td>3.85%</td>\n",
       "      <td>-1.42%</td>\n",
       "    </tr>\n",
       "  </tbody>\n",
       "</table>\n",
       "</div>"
      ],
      "text/plain": [
       "                   2015         2016           2017           2018  \\\n",
       "其中：营业收入(元)  517,877,289  665,683,622  1,026,358,727  1,400,899,590   \n",
       "其中：营业成本(元)  244,253,900  300,724,100    472,741,100    678,856,000   \n",
       "毛利率              52.84%       54.82%         53.94%         51.54%   \n",
       "毛利率波动率             nan%        3.76%         -1.61%         -4.45%   \n",
       "\n",
       "                     2019           2020  \n",
       "其中：营业收入(元)  1,684,475,727  1,770,817,768  \n",
       "其中：营业成本(元)    782,854,800    836,451,700  \n",
       "毛利率                53.53%         52.76%  \n",
       "毛利率波动率              3.85%         -1.42%  "
      ]
     },
     "execution_count": 6,
     "metadata": {},
     "output_type": "execute_result"
    }
   ],
   "source": [
    "t2 = analysis.init_table('t2')\n",
    "t2['毛利率'] = (t2['其中：营业收入(元)'] - t2['其中：营业成本(元)']) / t2['其中：营业收入(元)']\n",
    "t2['毛利率波动率'] = t2['毛利率'].pct_change()\n",
    "\n",
    "analysis.format_show_table('t2')"
   ]
  },
  {
   "cell_type": "code",
   "execution_count": 7,
   "metadata": {},
   "outputs": [
    {
     "data": {
      "image/png": "[encoded data removed]",
      "text/plain": [
       "<matplotlib.figure.Figure at 0x1430dead438>"
      ]
     },
     "metadata": {
      "needs_background": "light"
     },
     "output_type": "display_data"
    }
   ],
   "source": [
    "analysis.show_plot('t2')"
   ]
  },
  {
   "cell_type": "markdown",
   "metadata": {},
   "source": [
    "### 期间费用率"
   ]
  },
  {
   "cell_type": "code",
   "execution_count": 8,
   "metadata": {},
   "outputs": [
    {
     "data": {
      "text/html": [
       "<div>\n",
       "<style scoped>\n",
       "    .dataframe tbody tr th:only-of-type {\n",
       "        vertical-align: middle;\n",
       "    }\n",
       "\n",
       "    .dataframe tbody tr th {\n",
       "        vertical-align: top;\n",
       "    }\n",
       "\n",
       "    .dataframe thead th {\n",
       "        text-align: right;\n",
       "    }\n",
       "</style>\n",
       "<table border=\"1\" class=\"dataframe\">\n",
       "  <thead>\n",
       "    <tr style=\"text-align: right;\">\n",
       "      <th></th>\n",
       "      <th>2015</th>\n",
       "      <th>2016</th>\n",
       "      <th>2017</th>\n",
       "      <th>2018</th>\n",
       "      <th>2019</th>\n",
       "      <th>2020</th>\n",
       "    </tr>\n",
       "  </thead>\n",
       "  <tbody>\n",
       "    <tr>\n",
       "      <th>销售费用(元)</th>\n",
       "      <td>62,629,900</td>\n",
       "      <td>55,483,900</td>\n",
       "      <td>100,732,100</td>\n",
       "      <td>154,464,100</td>\n",
       "      <td>256,658,500</td>\n",
       "      <td>198,692,600</td>\n",
       "    </tr>\n",
       "    <tr>\n",
       "      <th>管理费用(元)</th>\n",
       "      <td>62,775,000</td>\n",
       "      <td>79,550,900</td>\n",
       "      <td>82,973,600</td>\n",
       "      <td>80,703,600</td>\n",
       "      <td>65,784,400</td>\n",
       "      <td>61,820,000</td>\n",
       "    </tr>\n",
       "    <tr>\n",
       "      <th>研发费用(元)</th>\n",
       "      <td>0</td>\n",
       "      <td>0</td>\n",
       "      <td>33,437,800</td>\n",
       "      <td>40,767,800</td>\n",
       "      <td>50,926,200</td>\n",
       "      <td>54,276,900</td>\n",
       "    </tr>\n",
       "    <tr>\n",
       "      <th>财务费用(元)</th>\n",
       "      <td>0</td>\n",
       "      <td>0</td>\n",
       "      <td>0</td>\n",
       "      <td>0</td>\n",
       "      <td>0</td>\n",
       "      <td>0</td>\n",
       "    </tr>\n",
       "    <tr>\n",
       "      <th>四费合计</th>\n",
       "      <td>125,404,900</td>\n",
       "      <td>135,034,800</td>\n",
       "      <td>217,143,500</td>\n",
       "      <td>275,935,500</td>\n",
       "      <td>373,369,100</td>\n",
       "      <td>314,789,500</td>\n",
       "    </tr>\n",
       "    <tr>\n",
       "      <th>其中：营业收入(元)</th>\n",
       "      <td>517,877,289</td>\n",
       "      <td>665,683,622</td>\n",
       "      <td>1,026,358,727</td>\n",
       "      <td>1,400,899,590</td>\n",
       "      <td>1,684,475,727</td>\n",
       "      <td>1,770,817,768</td>\n",
       "    </tr>\n",
       "    <tr>\n",
       "      <th>期间费用率</th>\n",
       "      <td>24.22%</td>\n",
       "      <td>20.29%</td>\n",
       "      <td>21.16%</td>\n",
       "      <td>19.70%</td>\n",
       "      <td>22.17%</td>\n",
       "      <td>17.78%</td>\n",
       "    </tr>\n",
       "    <tr>\n",
       "      <th>毛利率</th>\n",
       "      <td>52.84%</td>\n",
       "      <td>54.82%</td>\n",
       "      <td>53.94%</td>\n",
       "      <td>51.54%</td>\n",
       "      <td>53.53%</td>\n",
       "      <td>52.76%</td>\n",
       "    </tr>\n",
       "    <tr>\n",
       "      <th>期间费用率占毛利率的比率</th>\n",
       "      <td>45.83%</td>\n",
       "      <td>37.00%</td>\n",
       "      <td>39.22%</td>\n",
       "      <td>38.22%</td>\n",
       "      <td>41.41%</td>\n",
       "      <td>33.69%</td>\n",
       "    </tr>\n",
       "  </tbody>\n",
       "</table>\n",
       "</div>"
      ],
      "text/plain": [
       "                     2015         2016           2017           2018  \\\n",
       "销售费用(元)        62,629,900   55,483,900    100,732,100    154,464,100   \n",
       "管理费用(元)        62,775,000   79,550,900     82,973,600     80,703,600   \n",
       "研发费用(元)                 0            0     33,437,800     40,767,800   \n",
       "财务费用(元)                 0            0              0              0   \n",
       "四费合计          125,404,900  135,034,800    217,143,500    275,935,500   \n",
       "其中：营业收入(元)    517,877,289  665,683,622  1,026,358,727  1,400,899,590   \n",
       "期间费用率              24.22%       20.29%         21.16%         19.70%   \n",
       "毛利率                52.84%       54.82%         53.94%         51.54%   \n",
       "期间费用率占毛利率的比率       45.83%       37.00%         39.22%         38.22%   \n",
       "\n",
       "                       2019           2020  \n",
       "销售费用(元)         256,658,500    198,692,600  \n",
       "管理费用(元)          65,784,400     61,820,000  \n",
       "研发费用(元)          50,926,200     54,276,900  \n",
       "财务费用(元)                   0              0  \n",
       "四费合计            373,369,100    314,789,500  \n",
       "其中：营业收入(元)    1,684,475,727  1,770,817,768  \n",
       "期间费用率                22.17%         17.78%  \n",
       "毛利率                  53.53%         52.76%  \n",
       "期间费用率占毛利率的比率         41.41%         33.69%  "
      ]
     },
     "execution_count": 8,
     "metadata": {},
     "output_type": "execute_result"
    }
   ],
   "source": [
    "t3 = analysis.init_table('t3')\n",
    "t3.loc[t3['财务费用(元)']<0, '财务费用(元)'] = 0\n",
    "t3['四费合计'] = t3.T[:4].sum()\n",
    "t3['期间费用率'] = t3['四费合计'] / t3['其中：营业收入(元)']\n",
    "t3['毛利率'] = t2['毛利率']\n",
    "t3['期间费用率占毛利率的比率'] = t3['期间费用率'] / t3['毛利率']\n",
    "\n",
    "analysis.format_show_table('t3')"
   ]
  },
  {
   "cell_type": "code",
   "execution_count": 9,
   "metadata": {},
   "outputs": [
    {
     "data": {
      "image/png": "[encoded data removed]",
      "text/plain": [
       "<matplotlib.figure.Figure at 0x1430eef6438>"
      ]
     },
     "metadata": {
      "needs_background": "light"
     },
     "output_type": "display_data"
    }
   ],
   "source": [
    "analysis.show_plot('t3')"
   ]
  },
  {
   "cell_type": "code",
   "execution_count": 10,
   "metadata": {},
   "outputs": [
    {
     "data": {
      "image/png": "[encoded data removed]",
      "text/plain": [
       "<matplotlib.figure.Figure at 0x1430ef74c50>"
      ]
     },
     "metadata": {
      "needs_background": "light"
     },
     "output_type": "display_data"
    }
   ],
   "source": [
    "analysis.show_plot('t3', image_index=1)"
   ]
  },
  {
   "cell_type": "markdown",
   "metadata": {},
   "source": [
    "### 销售费用率"
   ]
  },
  {
   "cell_type": "code",
   "execution_count": 11,
   "metadata": {},
   "outputs": [
    {
     "data": {
      "text/html": [
       "<div>\n",
       "<style scoped>\n",
       "    .dataframe tbody tr th:only-of-type {\n",
       "        vertical-align: middle;\n",
       "    }\n",
       "\n",
       "    .dataframe tbody tr th {\n",
       "        vertical-align: top;\n",
       "    }\n",
       "\n",
       "    .dataframe thead th {\n",
       "        text-align: right;\n",
       "    }\n",
       "</style>\n",
       "<table border=\"1\" class=\"dataframe\">\n",
       "  <thead>\n",
       "    <tr style=\"text-align: right;\">\n",
       "      <th></th>\n",
       "      <th>2015</th>\n",
       "      <th>2016</th>\n",
       "      <th>2017</th>\n",
       "      <th>2018</th>\n",
       "      <th>2019</th>\n",
       "      <th>2020</th>\n",
       "    </tr>\n",
       "  </thead>\n",
       "  <tbody>\n",
       "    <tr>\n",
       "      <th>销售费用(元)</th>\n",
       "      <td>62,629,900</td>\n",
       "      <td>55,483,900</td>\n",
       "      <td>100,732,100</td>\n",
       "      <td>154,464,100</td>\n",
       "      <td>256,658,500</td>\n",
       "      <td>198,692,600</td>\n",
       "    </tr>\n",
       "    <tr>\n",
       "      <th>其中：营业收入(元)</th>\n",
       "      <td>517,877,289</td>\n",
       "      <td>665,683,622</td>\n",
       "      <td>1,026,358,727</td>\n",
       "      <td>1,400,899,590</td>\n",
       "      <td>1,684,475,727</td>\n",
       "      <td>1,770,817,768</td>\n",
       "    </tr>\n",
       "    <tr>\n",
       "      <th>销售费用率</th>\n",
       "      <td>12.09%</td>\n",
       "      <td>8.33%</td>\n",
       "      <td>9.81%</td>\n",
       "      <td>11.03%</td>\n",
       "      <td>15.24%</td>\n",
       "      <td>11.22%</td>\n",
       "    </tr>\n",
       "  </tbody>\n",
       "</table>\n",
       "</div>"
      ],
      "text/plain": [
       "                   2015         2016           2017           2018  \\\n",
       "销售费用(元)      62,629,900   55,483,900    100,732,100    154,464,100   \n",
       "其中：营业收入(元)  517,877,289  665,683,622  1,026,358,727  1,400,899,590   \n",
       "销售费用率            12.09%        8.33%          9.81%         11.03%   \n",
       "\n",
       "                     2019           2020  \n",
       "销售费用(元)       256,658,500    198,692,600  \n",
       "其中：营业收入(元)  1,684,475,727  1,770,817,768  \n",
       "销售费用率              15.24%         11.22%  "
      ]
     },
     "execution_count": 11,
     "metadata": {},
     "output_type": "execute_result"
    }
   ],
   "source": [
    "t4 = analysis.init_table('t4')\n",
    "t4['销售费用率'] = t4['销售费用(元)'] / t4['其中：营业收入(元)']\n",
    "\n",
    "analysis.format_show_table('t4')"
   ]
  },
  {
   "cell_type": "code",
   "execution_count": 12,
   "metadata": {},
   "outputs": [
    {
     "data": {
      "image/png": "[encoded data removed]",
      "text/plain": [
       "<matplotlib.figure.Figure at 0x1430efcd1d0>"
      ]
     },
     "metadata": {
      "needs_background": "light"
     },
     "output_type": "display_data"
    }
   ],
   "source": [
    "analysis.show_plot('t4')"
   ]
  },
  {
   "cell_type": "markdown",
   "metadata": {},
   "source": [
    "### 主营利润率"
   ]
  },
  {
   "cell_type": "code",
   "execution_count": 13,
   "metadata": {},
   "outputs": [
    {
     "data": {
      "text/html": [
       "<div>\n",
       "<style scoped>\n",
       "    .dataframe tbody tr th:only-of-type {\n",
       "        vertical-align: middle;\n",
       "    }\n",
       "\n",
       "    .dataframe tbody tr th {\n",
       "        vertical-align: top;\n",
       "    }\n",
       "\n",
       "    .dataframe thead th {\n",
       "        text-align: right;\n",
       "    }\n",
       "</style>\n",
       "<table border=\"1\" class=\"dataframe\">\n",
       "  <thead>\n",
       "    <tr style=\"text-align: right;\">\n",
       "      <th></th>\n",
       "      <th>2015</th>\n",
       "      <th>2016</th>\n",
       "      <th>2017</th>\n",
       "      <th>2018</th>\n",
       "      <th>2019</th>\n",
       "      <th>2020</th>\n",
       "    </tr>\n",
       "  </thead>\n",
       "  <tbody>\n",
       "    <tr>\n",
       "      <th>其中：营业收入(元)</th>\n",
       "      <td>517,877,289</td>\n",
       "      <td>665,683,622</td>\n",
       "      <td>1,026,358,727</td>\n",
       "      <td>1,400,899,590</td>\n",
       "      <td>1,684,475,727</td>\n",
       "      <td>1,770,817,768</td>\n",
       "    </tr>\n",
       "    <tr>\n",
       "      <th>其中：营业成本(元)</th>\n",
       "      <td>244,253,900</td>\n",
       "      <td>300,724,100</td>\n",
       "      <td>472,741,100</td>\n",
       "      <td>678,856,000</td>\n",
       "      <td>782,854,800</td>\n",
       "      <td>836,451,700</td>\n",
       "    </tr>\n",
       "    <tr>\n",
       "      <th>营业税金及附加(元)</th>\n",
       "      <td>4,576,200</td>\n",
       "      <td>8,659,100</td>\n",
       "      <td>12,590,100</td>\n",
       "      <td>15,388,000</td>\n",
       "      <td>12,378,700</td>\n",
       "      <td>17,545,500</td>\n",
       "    </tr>\n",
       "    <tr>\n",
       "      <th>四费合计</th>\n",
       "      <td>125,404,900</td>\n",
       "      <td>135,034,800</td>\n",
       "      <td>217,143,500</td>\n",
       "      <td>275,935,500</td>\n",
       "      <td>373,369,100</td>\n",
       "      <td>314,789,500</td>\n",
       "    </tr>\n",
       "    <tr>\n",
       "      <th>主营利润</th>\n",
       "      <td>143,642,289</td>\n",
       "      <td>221,265,622</td>\n",
       "      <td>323,884,027</td>\n",
       "      <td>430,720,090</td>\n",
       "      <td>515,873,127</td>\n",
       "      <td>602,031,068</td>\n",
       "    </tr>\n",
       "    <tr>\n",
       "      <th>主营利润率</th>\n",
       "      <td>27.74%</td>\n",
       "      <td>33.24%</td>\n",
       "      <td>31.56%</td>\n",
       "      <td>30.75%</td>\n",
       "      <td>30.63%</td>\n",
       "      <td>34.00%</td>\n",
       "    </tr>\n",
       "    <tr>\n",
       "      <th>三、营业利润(元)</th>\n",
       "      <td>172,276,538</td>\n",
       "      <td>240,639,873</td>\n",
       "      <td>358,999,257</td>\n",
       "      <td>445,604,542</td>\n",
       "      <td>534,758,624</td>\n",
       "      <td>635,352,096</td>\n",
       "    </tr>\n",
       "    <tr>\n",
       "      <th>主营利润占营业利润的比率</th>\n",
       "      <td>83.38%</td>\n",
       "      <td>91.95%</td>\n",
       "      <td>90.22%</td>\n",
       "      <td>96.66%</td>\n",
       "      <td>96.47%</td>\n",
       "      <td>94.76%</td>\n",
       "    </tr>\n",
       "  </tbody>\n",
       "</table>\n",
       "</div>"
      ],
      "text/plain": [
       "                     2015         2016           2017           2018  \\\n",
       "其中：营业收入(元)    517,877,289  665,683,622  1,026,358,727  1,400,899,590   \n",
       "其中：营业成本(元)    244,253,900  300,724,100    472,741,100    678,856,000   \n",
       "营业税金及附加(元)      4,576,200    8,659,100     12,590,100     15,388,000   \n",
       "四费合计          125,404,900  135,034,800    217,143,500    275,935,500   \n",
       "主营利润          143,642,289  221,265,622    323,884,027    430,720,090   \n",
       "主营利润率              27.74%       33.24%         31.56%         30.75%   \n",
       "三、营业利润(元)     172,276,538  240,639,873    358,999,257    445,604,542   \n",
       "主营利润占营业利润的比率       83.38%       91.95%         90.22%         96.66%   \n",
       "\n",
       "                       2019           2020  \n",
       "其中：营业收入(元)    1,684,475,727  1,770,817,768  \n",
       "其中：营业成本(元)      782,854,800    836,451,700  \n",
       "营业税金及附加(元)       12,378,700     17,545,500  \n",
       "四费合计            373,369,100    314,789,500  \n",
       "主营利润            515,873,127    602,031,068  \n",
       "主营利润率                30.63%         34.00%  \n",
       "三、营业利润(元)       534,758,624    635,352,096  \n",
       "主营利润占营业利润的比率         96.47%         94.76%  "
      ]
     },
     "execution_count": 13,
     "metadata": {},
     "output_type": "execute_result"
    }
   ],
   "source": [
    "t5 = analysis.init_table('t5')\n",
    "t5['四费合计'] = t3['四费合计']\n",
    "t5['主营利润'] = t5['其中：营业收入(元)'] - t5.T[1:4].sum()\n",
    "t5['主营利润率'] = t5['主营利润'] / t5['其中：营业收入(元)']\n",
    "t5['主营利润占营业利润的比率'] = t5['主营利润'] / t5['三、营业利润(元)']\n",
    "\n",
    "analysis.format_show_table('t5')"
   ]
  },
  {
   "cell_type": "code",
   "execution_count": 14,
   "metadata": {},
   "outputs": [
    {
     "data": {
      "image/png": "[encoded data removed]",
      "text/plain": [
       "<matplotlib.figure.Figure at 0x1430f05c668>"
      ]
     },
     "metadata": {
      "needs_background": "light"
     },
     "output_type": "display_data"
    }
   ],
   "source": [
    "analysis.show_plot('t5')"
   ]
  },
  {
   "cell_type": "code",
   "execution_count": 15,
   "metadata": {},
   "outputs": [
    {
     "data": {
      "image/png": "[encoded data removed]",
      "text/plain": [
       "<matplotlib.figure.Figure at 0x1430f0df748>"
      ]
     },
     "metadata": {
      "needs_background": "light"
     },
     "output_type": "display_data"
    }
   ],
   "source": [
    "analysis.show_plot('t5', image_index=1)"
   ]
  },
  {
   "cell_type": "markdown",
   "metadata": {},
   "source": [
    "### 营业外收入净额"
   ]
  },
  {
   "cell_type": "code",
   "execution_count": 16,
   "metadata": {},
   "outputs": [
    {
     "data": {
      "text/html": [
       "<div>\n",
       "<style scoped>\n",
       "    .dataframe tbody tr th:only-of-type {\n",
       "        vertical-align: middle;\n",
       "    }\n",
       "\n",
       "    .dataframe tbody tr th {\n",
       "        vertical-align: top;\n",
       "    }\n",
       "\n",
       "    .dataframe thead th {\n",
       "        text-align: right;\n",
       "    }\n",
       "</style>\n",
       "<table border=\"1\" class=\"dataframe\">\n",
       "  <thead>\n",
       "    <tr style=\"text-align: right;\">\n",
       "      <th></th>\n",
       "      <th>2015</th>\n",
       "      <th>2016</th>\n",
       "      <th>2017</th>\n",
       "      <th>2018</th>\n",
       "      <th>2019</th>\n",
       "      <th>2020</th>\n",
       "    </tr>\n",
       "  </thead>\n",
       "  <tbody>\n",
       "    <tr>\n",
       "      <th>加：营业外收入(元)</th>\n",
       "      <td>10,943,100</td>\n",
       "      <td>2,070,600</td>\n",
       "      <td>229,900</td>\n",
       "      <td>121,000</td>\n",
       "      <td>117,700</td>\n",
       "      <td>515,900</td>\n",
       "    </tr>\n",
       "    <tr>\n",
       "      <th>减：营业外支出(元)</th>\n",
       "      <td>2,047,500</td>\n",
       "      <td>5,599,500</td>\n",
       "      <td>294,700</td>\n",
       "      <td>1,638,300</td>\n",
       "      <td>580,800</td>\n",
       "      <td>1,805,700</td>\n",
       "    </tr>\n",
       "    <tr>\n",
       "      <th>营业外收入净额</th>\n",
       "      <td>8,895,600</td>\n",
       "      <td>-3,528,900</td>\n",
       "      <td>-64,800</td>\n",
       "      <td>-1,517,300</td>\n",
       "      <td>-463,100</td>\n",
       "      <td>-1,289,800</td>\n",
       "    </tr>\n",
       "    <tr>\n",
       "      <th>四、利润总额(元)</th>\n",
       "      <td>181,172,200</td>\n",
       "      <td>237,110,900</td>\n",
       "      <td>358,934,400</td>\n",
       "      <td>444,087,300</td>\n",
       "      <td>534,295,600</td>\n",
       "      <td>634,062,300</td>\n",
       "    </tr>\n",
       "    <tr>\n",
       "      <th>营业外收入净额占利润总额的比率</th>\n",
       "      <td>4.91%</td>\n",
       "      <td>-1.49%</td>\n",
       "      <td>-0.02%</td>\n",
       "      <td>-0.34%</td>\n",
       "      <td>-0.09%</td>\n",
       "      <td>-0.20%</td>\n",
       "    </tr>\n",
       "  </tbody>\n",
       "</table>\n",
       "</div>"
      ],
      "text/plain": [
       "                        2015         2016         2017         2018  \\\n",
       "加：营业外收入(元)        10,943,100    2,070,600      229,900      121,000   \n",
       "减：营业外支出(元)         2,047,500    5,599,500      294,700    1,638,300   \n",
       "营业外收入净额            8,895,600   -3,528,900      -64,800   -1,517,300   \n",
       "四、利润总额(元)        181,172,200  237,110,900  358,934,400  444,087,300   \n",
       "营业外收入净额占利润总额的比率        4.91%       -1.49%       -0.02%       -0.34%   \n",
       "\n",
       "                        2019         2020  \n",
       "加：营业外收入(元)           117,700      515,900  \n",
       "减：营业外支出(元)           580,800    1,805,700  \n",
       "营业外收入净额             -463,100   -1,289,800  \n",
       "四、利润总额(元)        534,295,600  634,062,300  \n",
       "营业外收入净额占利润总额的比率       -0.09%       -0.20%  "
      ]
     },
     "execution_count": 16,
     "metadata": {},
     "output_type": "execute_result"
    }
   ],
   "source": [
    "t6 = analysis.init_table('t6')\n",
    "t6['营业外收入净额'] = t6['加：营业外收入(元)'] - t6['减：营业外支出(元)']\n",
    "t6['营业外收入净额占利润总额的比率'] = t6['营业外收入净额'] / t6['四、利润总额(元)']\n",
    "\n",
    "analysis.format_show_table('t6')"
   ]
  },
  {
   "cell_type": "code",
   "execution_count": 17,
   "metadata": {},
   "outputs": [
    {
     "data": {
      "image/png": "[encoded data removed]",
      "text/plain": [
       "<matplotlib.figure.Figure at 0x1430f037668>"
      ]
     },
     "metadata": {
      "needs_background": "light"
     },
     "output_type": "display_data"
    }
   ],
   "source": [
    "analysis.show_plot('t6')"
   ]
  },
  {
   "cell_type": "markdown",
   "metadata": {},
   "source": [
    "### 归母净利润及增速"
   ]
  },
  {
   "cell_type": "code",
   "execution_count": 18,
   "metadata": {},
   "outputs": [
    {
     "data": {
      "text/html": [
       "<div>\n",
       "<style scoped>\n",
       "    .dataframe tbody tr th:only-of-type {\n",
       "        vertical-align: middle;\n",
       "    }\n",
       "\n",
       "    .dataframe tbody tr th {\n",
       "        vertical-align: top;\n",
       "    }\n",
       "\n",
       "    .dataframe thead th {\n",
       "        text-align: right;\n",
       "    }\n",
       "</style>\n",
       "<table border=\"1\" class=\"dataframe\">\n",
       "  <thead>\n",
       "    <tr style=\"text-align: right;\">\n",
       "      <th></th>\n",
       "      <th>2015</th>\n",
       "      <th>2016</th>\n",
       "      <th>2017</th>\n",
       "      <th>2018</th>\n",
       "      <th>2019</th>\n",
       "      <th>2020</th>\n",
       "    </tr>\n",
       "  </thead>\n",
       "  <tbody>\n",
       "    <tr>\n",
       "      <th>归属于母公司所有者的净利润(元)</th>\n",
       "      <td>155,641,200</td>\n",
       "      <td>202,656,100</td>\n",
       "      <td>305,192,100</td>\n",
       "      <td>377,525,100</td>\n",
       "      <td>460,012,900</td>\n",
       "      <td>543,562,800</td>\n",
       "    </tr>\n",
       "    <tr>\n",
       "      <th>归属于母公司所有者的净利润增长率</th>\n",
       "      <td>nan%</td>\n",
       "      <td>30.21%</td>\n",
       "      <td>50.60%</td>\n",
       "      <td>23.70%</td>\n",
       "      <td>21.85%</td>\n",
       "      <td>18.16%</td>\n",
       "    </tr>\n",
       "  </tbody>\n",
       "</table>\n",
       "</div>"
      ],
      "text/plain": [
       "                         2015         2016         2017         2018  \\\n",
       "归属于母公司所有者的净利润(元)  155,641,200  202,656,100  305,192,100  377,525,100   \n",
       "归属于母公司所有者的净利润增长率         nan%       30.21%       50.60%       23.70%   \n",
       "\n",
       "                         2019         2020  \n",
       "归属于母公司所有者的净利润(元)  460,012,900  543,562,800  \n",
       "归属于母公司所有者的净利润增长率       21.85%       18.16%  "
      ]
     },
     "execution_count": 18,
     "metadata": {},
     "output_type": "execute_result"
    }
   ],
   "source": [
    "t7 = analysis.init_table('t7')\n",
    "t7['归属于母公司所有者的净利润增长率'] = t7.pct_change()\n",
    "\n",
    "analysis.format_show_table('t7')"
   ]
  },
  {
   "cell_type": "code",
   "execution_count": 19,
   "metadata": {},
   "outputs": [
    {
     "data": {
      "image/png": "[encoded data removed]",
      "text/plain": [
       "<matplotlib.figure.Figure at 0x1430f19eba8>"
      ]
     },
     "metadata": {
      "needs_background": "light"
     },
     "output_type": "display_data"
    }
   ],
   "source": [
    "analysis.show_plot('t7')"
   ]
  },
  {
   "cell_type": "markdown",
   "metadata": {},
   "source": [
    "### 输出分析报告"
   ]
  },
  {
   "cell_type": "code",
   "execution_count": 20,
   "metadata": {},
   "outputs": [],
   "source": [
    "ReportDocument(analysis).save()"
   ]
  },
  {
   "cell_type": "code",
   "execution_count": null,
   "metadata": {},
   "outputs": [],
   "source": []
  }
 ],
 "metadata": {
  "kernelspec": {
   "display_name": "Python 3",
   "language": "python",
   "name": "python3"
  },
  "language_info": {
   "codemirror_mode": {
    "name": "ipython",
    "version": 3
   },
   "file_extension": ".py",
   "mimetype": "text/x-python",
   "name": "python",
   "nbconvert_exporter": "python",
   "pygments_lexer": "ipython3",
   "version": "3.6.4"
  }
 },
 "nbformat": 4,
 "nbformat_minor": 1
}
