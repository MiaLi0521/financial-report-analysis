{
 "cells": [
  {
   "cell_type": "code",
   "execution_count": 1,
   "metadata": {},
   "outputs": [],
   "source": [
    "from analysis import ANALYSIS_CONFIGS\n",
    "from analysis.analysis import FinancialAnalysis\n",
    "from analysis.doc_utils import ReportDocument"
   ]
  },
  {
   "cell_type": "code",
   "execution_count": 2,
   "metadata": {},
   "outputs": [
    {
     "data": {
      "text/plain": [
       "['all_analysis.json',\n",
       " 'asset_quality_analysis.json',\n",
       " 'asset_indepth_analysis.json',\n",
       " 'asset_fraud_analysis.json',\n",
       " 'profit_analysis.json',\n",
       " 'cash_flow_analysis.json']"
      ]
     },
     "execution_count": 2,
     "metadata": {},
     "output_type": "execute_result"
    }
   ],
   "source": [
    "ANALYSIS_CONFIGS"
   ]
  },
  {
   "cell_type": "code",
   "execution_count": 3,
   "metadata": {},
   "outputs": [],
   "source": [
    "analysis = FinancialAnalysis(ANALYSIS_CONFIGS[4])\n",
    "images, titles, fields = analysis.images, analysis.titles, analysis.fields"
   ]
  },
  {
   "cell_type": "markdown",
   "metadata": {},
   "source": [
    "### 营业收入及增长率"
   ]
  },
  {
   "cell_type": "code",
   "execution_count": 4,
   "metadata": {},
   "outputs": [
    {
     "data": {
      "text/html": [
       "<div>\n",
       "<style scoped>\n",
       "    .dataframe tbody tr th:only-of-type {\n",
       "        vertical-align: middle;\n",
       "    }\n",
       "\n",
       "    .dataframe tbody tr th {\n",
       "        vertical-align: top;\n",
       "    }\n",
       "\n",
       "    .dataframe thead th {\n",
       "        text-align: right;\n",
       "    }\n",
       "</style>\n",
       "<table border=\"1\" class=\"dataframe\">\n",
       "  <thead>\n",
       "    <tr style=\"text-align: right;\">\n",
       "      <th></th>\n",
       "      <th>2015</th>\n",
       "      <th>2016</th>\n",
       "      <th>2017</th>\n",
       "      <th>2018</th>\n",
       "      <th>2019</th>\n",
       "      <th>2020</th>\n",
       "    </tr>\n",
       "  </thead>\n",
       "  <tbody>\n",
       "    <tr>\n",
       "      <th>其中：营业收入(元)</th>\n",
       "      <td>4,542,718,028</td>\n",
       "      <td>5,794,897,867</td>\n",
       "      <td>7,017,397,058</td>\n",
       "      <td>7,424,885,274</td>\n",
       "      <td>7,760,581,856</td>\n",
       "      <td>8,128,620,799</td>\n",
       "    </tr>\n",
       "    <tr>\n",
       "      <th>营业收入增长率</th>\n",
       "      <td>nan%</td>\n",
       "      <td>27.56%</td>\n",
       "      <td>21.10%</td>\n",
       "      <td>5.81%</td>\n",
       "      <td>4.52%</td>\n",
       "      <td>4.74%</td>\n",
       "    </tr>\n",
       "  </tbody>\n",
       "</table>\n",
       "</div>"
      ],
      "text/plain": [
       "                     2015           2016           2017           2018  \\\n",
       "其中：营业收入(元)  4,542,718,028  5,794,897,867  7,017,397,058  7,424,885,274   \n",
       "营业收入增长率              nan%         27.56%         21.10%          5.81%   \n",
       "\n",
       "                     2019           2020  \n",
       "其中：营业收入(元)  7,760,581,856  8,128,620,799  \n",
       "营业收入增长率             4.52%          4.74%  "
      ]
     },
     "execution_count": 4,
     "metadata": {},
     "output_type": "execute_result"
    }
   ],
   "source": [
    "t1 = analysis.init_table('t1')\n",
    "t1['营业收入增长率'] = t1['其中：营业收入(元)'].pct_change()\n",
    "\n",
    "analysis.format_show_table('t1')"
   ]
  },
  {
   "cell_type": "code",
   "execution_count": 5,
   "metadata": {},
   "outputs": [
    {
     "data": {
      "image/png": "[encoded data removed]",
      "text/plain": [
       "<matplotlib.figure.Figure at 0x1bff09ddeb8>"
      ]
     },
     "metadata": {
      "needs_background": "light"
     },
     "output_type": "display_data"
    }
   ],
   "source": [
    "analysis.show_plot('t1')"
   ]
  },
  {
   "cell_type": "markdown",
   "metadata": {},
   "source": [
    "### 毛利率及毛利率波动"
   ]
  },
  {
   "cell_type": "code",
   "execution_count": 6,
   "metadata": {},
   "outputs": [
    {
     "data": {
      "text/html": [
       "<div>\n",
       "<style scoped>\n",
       "    .dataframe tbody tr th:only-of-type {\n",
       "        vertical-align: middle;\n",
       "    }\n",
       "\n",
       "    .dataframe tbody tr th {\n",
       "        vertical-align: top;\n",
       "    }\n",
       "\n",
       "    .dataframe thead th {\n",
       "        text-align: right;\n",
       "    }\n",
       "</style>\n",
       "<table border=\"1\" class=\"dataframe\">\n",
       "  <thead>\n",
       "    <tr style=\"text-align: right;\">\n",
       "      <th></th>\n",
       "      <th>2015</th>\n",
       "      <th>2016</th>\n",
       "      <th>2017</th>\n",
       "      <th>2018</th>\n",
       "      <th>2019</th>\n",
       "      <th>2020</th>\n",
       "    </tr>\n",
       "  </thead>\n",
       "  <tbody>\n",
       "    <tr>\n",
       "      <th>其中：营业收入(元)</th>\n",
       "      <td>4,542,718,028</td>\n",
       "      <td>5,794,897,867</td>\n",
       "      <td>7,017,397,058</td>\n",
       "      <td>7,424,885,274</td>\n",
       "      <td>7,760,581,856</td>\n",
       "      <td>8,128,620,799</td>\n",
       "    </tr>\n",
       "    <tr>\n",
       "      <th>其中：营业成本(元)</th>\n",
       "      <td>1,899,998,300</td>\n",
       "      <td>2,474,046,300</td>\n",
       "      <td>3,250,587,700</td>\n",
       "      <td>3,450,765,200</td>\n",
       "      <td>3,548,777,700</td>\n",
       "      <td>3,563,206,900</td>\n",
       "    </tr>\n",
       "    <tr>\n",
       "      <th>毛利率</th>\n",
       "      <td>58.17%</td>\n",
       "      <td>57.31%</td>\n",
       "      <td>53.68%</td>\n",
       "      <td>53.52%</td>\n",
       "      <td>54.27%</td>\n",
       "      <td>56.16%</td>\n",
       "    </tr>\n",
       "    <tr>\n",
       "      <th>毛利率波动率</th>\n",
       "      <td>nan%</td>\n",
       "      <td>-1.49%</td>\n",
       "      <td>-6.33%</td>\n",
       "      <td>-0.29%</td>\n",
       "      <td>1.40%</td>\n",
       "      <td>3.49%</td>\n",
       "    </tr>\n",
       "  </tbody>\n",
       "</table>\n",
       "</div>"
      ],
      "text/plain": [
       "                     2015           2016           2017           2018  \\\n",
       "其中：营业收入(元)  4,542,718,028  5,794,897,867  7,017,397,058  7,424,885,274   \n",
       "其中：营业成本(元)  1,899,998,300  2,474,046,300  3,250,587,700  3,450,765,200   \n",
       "毛利率                58.17%         57.31%         53.68%         53.52%   \n",
       "毛利率波动率               nan%         -1.49%         -6.33%         -0.29%   \n",
       "\n",
       "                     2019           2020  \n",
       "其中：营业收入(元)  7,760,581,856  8,128,620,799  \n",
       "其中：营业成本(元)  3,548,777,700  3,563,206,900  \n",
       "毛利率                54.27%         56.16%  \n",
       "毛利率波动率              1.40%          3.49%  "
      ]
     },
     "execution_count": 6,
     "metadata": {},
     "output_type": "execute_result"
    }
   ],
   "source": [
    "t2 = analysis.init_table('t2')\n",
    "t2['毛利率'] = (t2['其中：营业收入(元)'] - t2['其中：营业成本(元)']) / t2['其中：营业收入(元)']\n",
    "t2['毛利率波动率'] = t2['毛利率'].pct_change()\n",
    "\n",
    "analysis.format_show_table('t2')"
   ]
  },
  {
   "cell_type": "code",
   "execution_count": 7,
   "metadata": {},
   "outputs": [
    {
     "data": {
      "image/png": "[encoded data removed]",
      "text/plain": [
       "<matplotlib.figure.Figure at 0x1bff2bda3c8>"
      ]
     },
     "metadata": {
      "needs_background": "light"
     },
     "output_type": "display_data"
    }
   ],
   "source": [
    "analysis.show_plot('t2')"
   ]
  },
  {
   "cell_type": "markdown",
   "metadata": {},
   "source": [
    "### 期间费用率"
   ]
  },
  {
   "cell_type": "code",
   "execution_count": 8,
   "metadata": {},
   "outputs": [
    {
     "data": {
      "text/html": [
       "<div>\n",
       "<style scoped>\n",
       "    .dataframe tbody tr th:only-of-type {\n",
       "        vertical-align: middle;\n",
       "    }\n",
       "\n",
       "    .dataframe tbody tr th {\n",
       "        vertical-align: top;\n",
       "    }\n",
       "\n",
       "    .dataframe thead th {\n",
       "        text-align: right;\n",
       "    }\n",
       "</style>\n",
       "<table border=\"1\" class=\"dataframe\">\n",
       "  <thead>\n",
       "    <tr style=\"text-align: right;\">\n",
       "      <th></th>\n",
       "      <th>2015</th>\n",
       "      <th>2016</th>\n",
       "      <th>2017</th>\n",
       "      <th>2018</th>\n",
       "      <th>2019</th>\n",
       "      <th>2020</th>\n",
       "    </tr>\n",
       "  </thead>\n",
       "  <tbody>\n",
       "    <tr>\n",
       "      <th>销售费用(元)</th>\n",
       "      <td>1,353,472,800</td>\n",
       "      <td>1,545,113,300</td>\n",
       "      <td>1,677,876,500</td>\n",
       "      <td>1,909,856,800</td>\n",
       "      <td>1,928,259,200</td>\n",
       "      <td>2,146,965,000</td>\n",
       "    </tr>\n",
       "    <tr>\n",
       "      <th>管理费用(元)</th>\n",
       "      <td>354,268,800</td>\n",
       "      <td>449,159,300</td>\n",
       "      <td>247,834,600</td>\n",
       "      <td>272,355,100</td>\n",
       "      <td>284,364,100</td>\n",
       "      <td>296,985,800</td>\n",
       "    </tr>\n",
       "    <tr>\n",
       "      <th>研发费用(元)</th>\n",
       "      <td>0</td>\n",
       "      <td>0</td>\n",
       "      <td>233,127,000</td>\n",
       "      <td>293,427,200</td>\n",
       "      <td>299,469,100</td>\n",
       "      <td>303,347,600</td>\n",
       "    </tr>\n",
       "    <tr>\n",
       "      <th>财务费用(元)</th>\n",
       "      <td>0</td>\n",
       "      <td>0</td>\n",
       "      <td>0</td>\n",
       "      <td>0</td>\n",
       "      <td>0</td>\n",
       "      <td>0</td>\n",
       "    </tr>\n",
       "    <tr>\n",
       "      <th>四费合计</th>\n",
       "      <td>1,707,741,600</td>\n",
       "      <td>1,994,272,600</td>\n",
       "      <td>2,158,838,100</td>\n",
       "      <td>2,475,639,100</td>\n",
       "      <td>2,512,092,400</td>\n",
       "      <td>2,747,298,400</td>\n",
       "    </tr>\n",
       "    <tr>\n",
       "      <th>其中：营业收入(元)</th>\n",
       "      <td>4,542,718,028</td>\n",
       "      <td>5,794,897,867</td>\n",
       "      <td>7,017,397,058</td>\n",
       "      <td>7,424,885,274</td>\n",
       "      <td>7,760,581,856</td>\n",
       "      <td>8,128,620,799</td>\n",
       "    </tr>\n",
       "    <tr>\n",
       "      <th>期间费用率</th>\n",
       "      <td>37.59%</td>\n",
       "      <td>34.41%</td>\n",
       "      <td>30.76%</td>\n",
       "      <td>33.34%</td>\n",
       "      <td>32.37%</td>\n",
       "      <td>33.80%</td>\n",
       "    </tr>\n",
       "    <tr>\n",
       "      <th>毛利率</th>\n",
       "      <td>58.17%</td>\n",
       "      <td>57.31%</td>\n",
       "      <td>53.68%</td>\n",
       "      <td>53.52%</td>\n",
       "      <td>54.27%</td>\n",
       "      <td>56.16%</td>\n",
       "    </tr>\n",
       "    <tr>\n",
       "      <th>期间费用率占毛利率的比率</th>\n",
       "      <td>64.62%</td>\n",
       "      <td>60.05%</td>\n",
       "      <td>57.31%</td>\n",
       "      <td>62.29%</td>\n",
       "      <td>59.64%</td>\n",
       "      <td>60.18%</td>\n",
       "    </tr>\n",
       "  </tbody>\n",
       "</table>\n",
       "</div>"
      ],
      "text/plain": [
       "                       2015           2016           2017           2018  \\\n",
       "销售费用(元)       1,353,472,800  1,545,113,300  1,677,876,500  1,909,856,800   \n",
       "管理费用(元)         354,268,800    449,159,300    247,834,600    272,355,100   \n",
       "研发费用(元)                   0              0    233,127,000    293,427,200   \n",
       "财务费用(元)                   0              0              0              0   \n",
       "四费合计          1,707,741,600  1,994,272,600  2,158,838,100  2,475,639,100   \n",
       "其中：营业收入(元)    4,542,718,028  5,794,897,867  7,017,397,058  7,424,885,274   \n",
       "期间费用率                37.59%         34.41%         30.76%         33.34%   \n",
       "毛利率                  58.17%         57.31%         53.68%         53.52%   \n",
       "期间费用率占毛利率的比率         64.62%         60.05%         57.31%         62.29%   \n",
       "\n",
       "                       2019           2020  \n",
       "销售费用(元)       1,928,259,200  2,146,965,000  \n",
       "管理费用(元)         284,364,100    296,985,800  \n",
       "研发费用(元)         299,469,100    303,347,600  \n",
       "财务费用(元)                   0              0  \n",
       "四费合计          2,512,092,400  2,747,298,400  \n",
       "其中：营业收入(元)    7,760,581,856  8,128,620,799  \n",
       "期间费用率                32.37%         33.80%  \n",
       "毛利率                  54.27%         56.16%  \n",
       "期间费用率占毛利率的比率         59.64%         60.18%  "
      ]
     },
     "execution_count": 8,
     "metadata": {},
     "output_type": "execute_result"
    }
   ],
   "source": [
    "t3 = analysis.init_table('t3')\n",
    "t3.loc[t3['财务费用(元)']<0, '财务费用(元)'] = 0\n",
    "t3['四费合计'] = t3.T[:4].sum()\n",
    "t3['期间费用率'] = t3['四费合计'] / t3['其中：营业收入(元)']\n",
    "t3['毛利率'] = t2['毛利率']\n",
    "t3['期间费用率占毛利率的比率'] = t3['期间费用率'] / t3['毛利率']\n",
    "\n",
    "analysis.format_show_table('t3')"
   ]
  },
  {
   "cell_type": "code",
   "execution_count": 9,
   "metadata": {},
   "outputs": [
    {
     "data": {
      "image/png": "[encoded data removed]",
      "text/plain": [
       "<matplotlib.figure.Figure at 0x1bff3c3f828>"
      ]
     },
     "metadata": {
      "needs_background": "light"
     },
     "output_type": "display_data"
    }
   ],
   "source": [
    "analysis.show_plot('t3')"
   ]
  },
  {
   "cell_type": "code",
   "execution_count": 10,
   "metadata": {},
   "outputs": [
    {
     "data": {
      "image/png": "[encoded data removed]",
      "text/plain": [
       "<matplotlib.figure.Figure at 0x1bff3fa41d0>"
      ]
     },
     "metadata": {
      "needs_background": "light"
     },
     "output_type": "display_data"
    }
   ],
   "source": [
    "analysis.show_plot('t3', image_index=1)"
   ]
  },
  {
   "cell_type": "markdown",
   "metadata": {},
   "source": [
    "### 销售费用率"
   ]
  },
  {
   "cell_type": "code",
   "execution_count": 11,
   "metadata": {},
   "outputs": [
    {
     "data": {
      "text/html": [
       "<div>\n",
       "<style scoped>\n",
       "    .dataframe tbody tr th:only-of-type {\n",
       "        vertical-align: middle;\n",
       "    }\n",
       "\n",
       "    .dataframe tbody tr th {\n",
       "        vertical-align: top;\n",
       "    }\n",
       "\n",
       "    .dataframe thead th {\n",
       "        text-align: right;\n",
       "    }\n",
       "</style>\n",
       "<table border=\"1\" class=\"dataframe\">\n",
       "  <thead>\n",
       "    <tr style=\"text-align: right;\">\n",
       "      <th></th>\n",
       "      <th>2015</th>\n",
       "      <th>2016</th>\n",
       "      <th>2017</th>\n",
       "      <th>2018</th>\n",
       "      <th>2019</th>\n",
       "      <th>2020</th>\n",
       "    </tr>\n",
       "  </thead>\n",
       "  <tbody>\n",
       "    <tr>\n",
       "      <th>销售费用(元)</th>\n",
       "      <td>1,353,472,800</td>\n",
       "      <td>1,545,113,300</td>\n",
       "      <td>1,677,876,500</td>\n",
       "      <td>1,909,856,800</td>\n",
       "      <td>1,928,259,200</td>\n",
       "      <td>2,146,965,000</td>\n",
       "    </tr>\n",
       "    <tr>\n",
       "      <th>其中：营业收入(元)</th>\n",
       "      <td>4,542,718,028</td>\n",
       "      <td>5,794,897,867</td>\n",
       "      <td>7,017,397,058</td>\n",
       "      <td>7,424,885,274</td>\n",
       "      <td>7,760,581,856</td>\n",
       "      <td>8,128,620,799</td>\n",
       "    </tr>\n",
       "    <tr>\n",
       "      <th>销售费用率</th>\n",
       "      <td>29.79%</td>\n",
       "      <td>26.66%</td>\n",
       "      <td>23.91%</td>\n",
       "      <td>25.72%</td>\n",
       "      <td>24.85%</td>\n",
       "      <td>26.41%</td>\n",
       "    </tr>\n",
       "  </tbody>\n",
       "</table>\n",
       "</div>"
      ],
      "text/plain": [
       "                     2015           2016           2017           2018  \\\n",
       "销售费用(元)     1,353,472,800  1,545,113,300  1,677,876,500  1,909,856,800   \n",
       "其中：营业收入(元)  4,542,718,028  5,794,897,867  7,017,397,058  7,424,885,274   \n",
       "销售费用率              29.79%         26.66%         23.91%         25.72%   \n",
       "\n",
       "                     2019           2020  \n",
       "销售费用(元)     1,928,259,200  2,146,965,000  \n",
       "其中：营业收入(元)  7,760,581,856  8,128,620,799  \n",
       "销售费用率              24.85%         26.41%  "
      ]
     },
     "execution_count": 11,
     "metadata": {},
     "output_type": "execute_result"
    }
   ],
   "source": [
    "t4 = analysis.init_table('t4')\n",
    "t4['销售费用率'] = t4['销售费用(元)'] / t4['其中：营业收入(元)']\n",
    "\n",
    "analysis.format_show_table('t4')"
   ]
  },
  {
   "cell_type": "code",
   "execution_count": 12,
   "metadata": {},
   "outputs": [
    {
     "data": {
      "image/png": "[encoded data removed]",
      "text/plain": [
       "<matplotlib.figure.Figure at 0x1bff3ce8358>"
      ]
     },
     "metadata": {
      "needs_background": "light"
     },
     "output_type": "display_data"
    }
   ],
   "source": [
    "analysis.show_plot('t4')"
   ]
  },
  {
   "cell_type": "markdown",
   "metadata": {},
   "source": [
    "### 主营利润率"
   ]
  },
  {
   "cell_type": "code",
   "execution_count": 13,
   "metadata": {},
   "outputs": [
    {
     "data": {
      "text/html": [
       "<div>\n",
       "<style scoped>\n",
       "    .dataframe tbody tr th:only-of-type {\n",
       "        vertical-align: middle;\n",
       "    }\n",
       "\n",
       "    .dataframe tbody tr th {\n",
       "        vertical-align: top;\n",
       "    }\n",
       "\n",
       "    .dataframe thead th {\n",
       "        text-align: right;\n",
       "    }\n",
       "</style>\n",
       "<table border=\"1\" class=\"dataframe\">\n",
       "  <thead>\n",
       "    <tr style=\"text-align: right;\">\n",
       "      <th></th>\n",
       "      <th>2015</th>\n",
       "      <th>2016</th>\n",
       "      <th>2017</th>\n",
       "      <th>2018</th>\n",
       "      <th>2019</th>\n",
       "      <th>2020</th>\n",
       "    </tr>\n",
       "  </thead>\n",
       "  <tbody>\n",
       "    <tr>\n",
       "      <th>其中：营业收入(元)</th>\n",
       "      <td>4,542,718,028</td>\n",
       "      <td>5,794,897,867</td>\n",
       "      <td>7,017,397,058</td>\n",
       "      <td>7,424,885,274</td>\n",
       "      <td>7,760,581,856</td>\n",
       "      <td>8,128,620,799</td>\n",
       "    </tr>\n",
       "    <tr>\n",
       "      <th>其中：营业成本(元)</th>\n",
       "      <td>1,899,998,300</td>\n",
       "      <td>2,474,046,300</td>\n",
       "      <td>3,250,587,700</td>\n",
       "      <td>3,450,765,200</td>\n",
       "      <td>3,548,777,700</td>\n",
       "      <td>3,563,206,900</td>\n",
       "    </tr>\n",
       "    <tr>\n",
       "      <th>营业税金及附加(元)</th>\n",
       "      <td>46,546,200</td>\n",
       "      <td>67,524,300</td>\n",
       "      <td>66,643,000</td>\n",
       "      <td>70,571,400</td>\n",
       "      <td>66,618,100</td>\n",
       "      <td>61,956,600</td>\n",
       "    </tr>\n",
       "    <tr>\n",
       "      <th>四费合计</th>\n",
       "      <td>1,707,741,600</td>\n",
       "      <td>1,994,272,600</td>\n",
       "      <td>2,158,838,100</td>\n",
       "      <td>2,475,639,100</td>\n",
       "      <td>2,512,092,400</td>\n",
       "      <td>2,747,298,400</td>\n",
       "    </tr>\n",
       "    <tr>\n",
       "      <th>主营利润</th>\n",
       "      <td>888,431,928</td>\n",
       "      <td>1,259,054,667</td>\n",
       "      <td>1,541,328,258</td>\n",
       "      <td>1,427,909,574</td>\n",
       "      <td>1,633,093,656</td>\n",
       "      <td>1,756,158,899</td>\n",
       "    </tr>\n",
       "    <tr>\n",
       "      <th>主营利润率</th>\n",
       "      <td>19.56%</td>\n",
       "      <td>21.73%</td>\n",
       "      <td>21.96%</td>\n",
       "      <td>19.23%</td>\n",
       "      <td>21.04%</td>\n",
       "      <td>21.60%</td>\n",
       "    </tr>\n",
       "    <tr>\n",
       "      <th>三、营业利润(元)</th>\n",
       "      <td>953,027,986</td>\n",
       "      <td>1,334,633,128</td>\n",
       "      <td>1,690,032,921</td>\n",
       "      <td>1,701,556,037</td>\n",
       "      <td>1,871,755,798</td>\n",
       "      <td>1,951,474,414</td>\n",
       "    </tr>\n",
       "    <tr>\n",
       "      <th>主营利润占营业利润的比率</th>\n",
       "      <td>93.22%</td>\n",
       "      <td>94.34%</td>\n",
       "      <td>91.20%</td>\n",
       "      <td>83.92%</td>\n",
       "      <td>87.25%</td>\n",
       "      <td>89.99%</td>\n",
       "    </tr>\n",
       "  </tbody>\n",
       "</table>\n",
       "</div>"
      ],
      "text/plain": [
       "                       2015           2016           2017           2018  \\\n",
       "其中：营业收入(元)    4,542,718,028  5,794,897,867  7,017,397,058  7,424,885,274   \n",
       "其中：营业成本(元)    1,899,998,300  2,474,046,300  3,250,587,700  3,450,765,200   \n",
       "营业税金及附加(元)       46,546,200     67,524,300     66,643,000     70,571,400   \n",
       "四费合计          1,707,741,600  1,994,272,600  2,158,838,100  2,475,639,100   \n",
       "主营利润            888,431,928  1,259,054,667  1,541,328,258  1,427,909,574   \n",
       "主营利润率                19.56%         21.73%         21.96%         19.23%   \n",
       "三、营业利润(元)       953,027,986  1,334,633,128  1,690,032,921  1,701,556,037   \n",
       "主营利润占营业利润的比率         93.22%         94.34%         91.20%         83.92%   \n",
       "\n",
       "                       2019           2020  \n",
       "其中：营业收入(元)    7,760,581,856  8,128,620,799  \n",
       "其中：营业成本(元)    3,548,777,700  3,563,206,900  \n",
       "营业税金及附加(元)       66,618,100     61,956,600  \n",
       "四费合计          2,512,092,400  2,747,298,400  \n",
       "主营利润          1,633,093,656  1,756,158,899  \n",
       "主营利润率                21.04%         21.60%  \n",
       "三、营业利润(元)     1,871,755,798  1,951,474,414  \n",
       "主营利润占营业利润的比率         87.25%         89.99%  "
      ]
     },
     "execution_count": 13,
     "metadata": {},
     "output_type": "execute_result"
    }
   ],
   "source": [
    "t5 = analysis.init_table('t5')\n",
    "t5['四费合计'] = t3['四费合计']\n",
    "t5['主营利润'] = t5['其中：营业收入(元)'] - t5.T[1:4].sum()\n",
    "t5['主营利润率'] = t5['主营利润'] / t5['其中：营业收入(元)']\n",
    "t5['主营利润占营业利润的比率'] = t5['主营利润'] / t5['三、营业利润(元)']\n",
    "\n",
    "analysis.format_show_table('t5')"
   ]
  },
  {
   "cell_type": "code",
   "execution_count": 14,
   "metadata": {},
   "outputs": [
    {
     "data": {
      "image/png": "[encoded data removed]",
      "text/plain": [
       "<matplotlib.figure.Figure at 0x1bff3d61a58>"
      ]
     },
     "metadata": {
      "needs_background": "light"
     },
     "output_type": "display_data"
    }
   ],
   "source": [
    "analysis.show_plot('t5')"
   ]
  },
  {
   "cell_type": "code",
   "execution_count": 15,
   "metadata": {},
   "outputs": [
    {
     "data": {
      "image/png": "[encoded data removed]",
      "text/plain": [
       "<matplotlib.figure.Figure at 0x1bff3dcf710>"
      ]
     },
     "metadata": {
      "needs_background": "light"
     },
     "output_type": "display_data"
    }
   ],
   "source": [
    "analysis.show_plot('t5', image_index=1)"
   ]
  },
  {
   "cell_type": "markdown",
   "metadata": {},
   "source": [
    "### 营业外收入净额"
   ]
  },
  {
   "cell_type": "code",
   "execution_count": 16,
   "metadata": {},
   "outputs": [
    {
     "data": {
      "text/html": [
       "<div>\n",
       "<style scoped>\n",
       "    .dataframe tbody tr th:only-of-type {\n",
       "        vertical-align: middle;\n",
       "    }\n",
       "\n",
       "    .dataframe tbody tr th {\n",
       "        vertical-align: top;\n",
       "    }\n",
       "\n",
       "    .dataframe thead th {\n",
       "        text-align: right;\n",
       "    }\n",
       "</style>\n",
       "<table border=\"1\" class=\"dataframe\">\n",
       "  <thead>\n",
       "    <tr style=\"text-align: right;\">\n",
       "      <th></th>\n",
       "      <th>2015</th>\n",
       "      <th>2016</th>\n",
       "      <th>2017</th>\n",
       "      <th>2018</th>\n",
       "      <th>2019</th>\n",
       "      <th>2020</th>\n",
       "    </tr>\n",
       "  </thead>\n",
       "  <tbody>\n",
       "    <tr>\n",
       "      <th>加：营业外收入(元)</th>\n",
       "      <td>17,323,700</td>\n",
       "      <td>70,955,800</td>\n",
       "      <td>4,101,300</td>\n",
       "      <td>2,375,700</td>\n",
       "      <td>4,098,200</td>\n",
       "      <td>1,084,400</td>\n",
       "    </tr>\n",
       "    <tr>\n",
       "      <th>减：营业外支出(元)</th>\n",
       "      <td>1,542,100</td>\n",
       "      <td>1,329,900</td>\n",
       "      <td>1,459,600</td>\n",
       "      <td>1,607,100</td>\n",
       "      <td>4,323,600</td>\n",
       "      <td>3,953,200</td>\n",
       "    </tr>\n",
       "    <tr>\n",
       "      <th>营业外收入净额</th>\n",
       "      <td>15,781,600</td>\n",
       "      <td>69,625,900</td>\n",
       "      <td>2,641,700</td>\n",
       "      <td>768,600</td>\n",
       "      <td>-225,400</td>\n",
       "      <td>-2,868,800</td>\n",
       "    </tr>\n",
       "    <tr>\n",
       "      <th>四、利润总额(元)</th>\n",
       "      <td>968,809,600</td>\n",
       "      <td>1,404,259,100</td>\n",
       "      <td>1,692,674,700</td>\n",
       "      <td>1,702,324,700</td>\n",
       "      <td>1,871,530,500</td>\n",
       "      <td>1,948,605,500</td>\n",
       "    </tr>\n",
       "    <tr>\n",
       "      <th>营业外收入净额占利润总额的比率</th>\n",
       "      <td>1.63%</td>\n",
       "      <td>4.96%</td>\n",
       "      <td>0.16%</td>\n",
       "      <td>0.05%</td>\n",
       "      <td>-0.01%</td>\n",
       "      <td>-0.15%</td>\n",
       "    </tr>\n",
       "  </tbody>\n",
       "</table>\n",
       "</div>"
      ],
      "text/plain": [
       "                        2015           2016           2017           2018  \\\n",
       "加：营业外收入(元)        17,323,700     70,955,800      4,101,300      2,375,700   \n",
       "减：营业外支出(元)         1,542,100      1,329,900      1,459,600      1,607,100   \n",
       "营业外收入净额           15,781,600     69,625,900      2,641,700        768,600   \n",
       "四、利润总额(元)        968,809,600  1,404,259,100  1,692,674,700  1,702,324,700   \n",
       "营业外收入净额占利润总额的比率        1.63%          4.96%          0.16%          0.05%   \n",
       "\n",
       "                          2019           2020  \n",
       "加：营业外收入(元)           4,098,200      1,084,400  \n",
       "减：营业外支出(元)           4,323,600      3,953,200  \n",
       "营业外收入净额               -225,400     -2,868,800  \n",
       "四、利润总额(元)        1,871,530,500  1,948,605,500  \n",
       "营业外收入净额占利润总额的比率         -0.01%         -0.15%  "
      ]
     },
     "execution_count": 16,
     "metadata": {},
     "output_type": "execute_result"
    }
   ],
   "source": [
    "t6 = analysis.init_table('t6')\n",
    "t6['营业外收入净额'] = t6['加：营业外收入(元)'] - t6['减：营业外支出(元)']\n",
    "t6['营业外收入净额占利润总额的比率'] = t6['营业外收入净额'] / t6['四、利润总额(元)']\n",
    "\n",
    "analysis.format_show_table('t6')"
   ]
  },
  {
   "cell_type": "code",
   "execution_count": 17,
   "metadata": {},
   "outputs": [
    {
     "data": {
      "image/png": "[encoded data removed]",
      "text/plain": [
       "<matplotlib.figure.Figure at 0x1bff3e024a8>"
      ]
     },
     "metadata": {
      "needs_background": "light"
     },
     "output_type": "display_data"
    }
   ],
   "source": [
    "analysis.show_plot('t6')"
   ]
  },
  {
   "cell_type": "markdown",
   "metadata": {},
   "source": [
    "### 归母净利润及增速"
   ]
  },
  {
   "cell_type": "code",
   "execution_count": 18,
   "metadata": {},
   "outputs": [
    {
     "data": {
      "text/html": [
       "<div>\n",
       "<style scoped>\n",
       "    .dataframe tbody tr th:only-of-type {\n",
       "        vertical-align: middle;\n",
       "    }\n",
       "\n",
       "    .dataframe tbody tr th {\n",
       "        vertical-align: top;\n",
       "    }\n",
       "\n",
       "    .dataframe thead th {\n",
       "        text-align: right;\n",
       "    }\n",
       "</style>\n",
       "<table border=\"1\" class=\"dataframe\">\n",
       "  <thead>\n",
       "    <tr style=\"text-align: right;\">\n",
       "      <th></th>\n",
       "      <th>2015</th>\n",
       "      <th>2016</th>\n",
       "      <th>2017</th>\n",
       "      <th>2018</th>\n",
       "      <th>2019</th>\n",
       "      <th>2020</th>\n",
       "    </tr>\n",
       "  </thead>\n",
       "  <tbody>\n",
       "    <tr>\n",
       "      <th>归属于母公司所有者的净利润(元)</th>\n",
       "      <td>830,491,200</td>\n",
       "      <td>1,206,833,900</td>\n",
       "      <td>1,461,213,500</td>\n",
       "      <td>1,473,579,700</td>\n",
       "      <td>1,589,814,800</td>\n",
       "      <td>1,660,750,000</td>\n",
       "    </tr>\n",
       "    <tr>\n",
       "      <th>归属于母公司所有者的净利润增长率</th>\n",
       "      <td>nan%</td>\n",
       "      <td>45.32%</td>\n",
       "      <td>21.08%</td>\n",
       "      <td>0.85%</td>\n",
       "      <td>7.89%</td>\n",
       "      <td>4.46%</td>\n",
       "    </tr>\n",
       "  </tbody>\n",
       "</table>\n",
       "</div>"
      ],
      "text/plain": [
       "                         2015           2016           2017           2018  \\\n",
       "归属于母公司所有者的净利润(元)  830,491,200  1,206,833,900  1,461,213,500  1,473,579,700   \n",
       "归属于母公司所有者的净利润增长率         nan%         45.32%         21.08%          0.85%   \n",
       "\n",
       "                           2019           2020  \n",
       "归属于母公司所有者的净利润(元)  1,589,814,800  1,660,750,000  \n",
       "归属于母公司所有者的净利润增长率          7.89%          4.46%  "
      ]
     },
     "execution_count": 18,
     "metadata": {},
     "output_type": "execute_result"
    }
   ],
   "source": [
    "t7 = analysis.init_table('t7')\n",
    "t7['归属于母公司所有者的净利润增长率'] = t7.pct_change()\n",
    "\n",
    "analysis.format_show_table('t7')"
   ]
  },
  {
   "cell_type": "code",
   "execution_count": 19,
   "metadata": {},
   "outputs": [
    {
     "data": {
      "image/png": "[encoded data removed]",
      "text/plain": [
       "<matplotlib.figure.Figure at 0x1bff3e711d0>"
      ]
     },
     "metadata": {
      "needs_background": "light"
     },
     "output_type": "display_data"
    }
   ],
   "source": [
    "analysis.show_plot('t7')"
   ]
  },
  {
   "cell_type": "markdown",
   "metadata": {},
   "source": [
    "### 输出分析报告"
   ]
  },
  {
   "cell_type": "code",
   "execution_count": 20,
   "metadata": {},
   "outputs": [],
   "source": [
    "ReportDocument(analysis).save()"
   ]
  },
  {
   "cell_type": "code",
   "execution_count": null,
   "metadata": {},
   "outputs": [],
   "source": []
  }
 ],
 "metadata": {
  "kernelspec": {
   "display_name": "Python 3",
   "language": "python",
   "name": "python3"
  },
  "language_info": {
   "codemirror_mode": {
    "name": "ipython",
    "version": 3
   },
   "file_extension": ".py",
   "mimetype": "text/x-python",
   "name": "python",
   "nbconvert_exporter": "python",
   "pygments_lexer": "ipython3",
   "version": "3.6.4"
  }
 },
 "nbformat": 4,
 "nbformat_minor": 1
}
