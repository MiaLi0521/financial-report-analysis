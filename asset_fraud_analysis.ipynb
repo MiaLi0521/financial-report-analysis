{
 "cells": [
  {
   "cell_type": "markdown",
   "metadata": {
    "collapsed": true
   },
   "source": [
    "### 应收账款造假"
   ]
  },
  {
   "cell_type": "code",
   "execution_count": 1,
   "metadata": {},
   "outputs": [],
   "source": [
    "from analysis import ANALYSIS_CONFIGS\n",
    "from analysis.analysis import FinancialAnalysis\n",
    "from analysis.doc_utils import ReportDocument"
   ]
  },
  {
   "cell_type": "code",
   "execution_count": 2,
   "metadata": {},
   "outputs": [
    {
     "data": {
      "text/plain": [
       "['all_analysis.json',\n",
       " 'asset_quality_analysis.json',\n",
       " 'asset_indepth_analysis.json',\n",
       " 'asset_fraud_analysis.json',\n",
       " 'profit_analysis.json',\n",
       " 'cash_flow_analysis.json']"
      ]
     },
     "execution_count": 2,
     "metadata": {},
     "output_type": "execute_result"
    }
   ],
   "source": [
    "ANALYSIS_CONFIGS"
   ]
  },
  {
   "cell_type": "code",
   "execution_count": 3,
   "metadata": {},
   "outputs": [],
   "source": [
    "analysis = FinancialAnalysis(ANALYSIS_CONFIGS[3])\n",
    "images, titles, fields = analysis.images, analysis.titles, analysis.fields"
   ]
  },
  {
   "cell_type": "code",
   "execution_count": 4,
   "metadata": {},
   "outputs": [
    {
     "data": {
      "text/html": [
       "<div>\n",
       "<style scoped>\n",
       "    .dataframe tbody tr th:only-of-type {\n",
       "        vertical-align: middle;\n",
       "    }\n",
       "\n",
       "    .dataframe tbody tr th {\n",
       "        vertical-align: top;\n",
       "    }\n",
       "\n",
       "    .dataframe thead th {\n",
       "        text-align: right;\n",
       "    }\n",
       "</style>\n",
       "<table border=\"1\" class=\"dataframe\">\n",
       "  <thead>\n",
       "    <tr style=\"text-align: right;\">\n",
       "      <th></th>\n",
       "      <th>2015</th>\n",
       "      <th>2016</th>\n",
       "      <th>2017</th>\n",
       "      <th>2018</th>\n",
       "      <th>2019</th>\n",
       "      <th>2020</th>\n",
       "    </tr>\n",
       "  </thead>\n",
       "  <tbody>\n",
       "    <tr>\n",
       "      <th>合同资产(元)</th>\n",
       "      <td>0</td>\n",
       "      <td>0</td>\n",
       "      <td>0</td>\n",
       "      <td>0</td>\n",
       "      <td>0</td>\n",
       "      <td>1,422,477</td>\n",
       "    </tr>\n",
       "    <tr>\n",
       "      <th>应收账款(元)</th>\n",
       "      <td>4,792,600</td>\n",
       "      <td>7,948,400</td>\n",
       "      <td>8,497,800</td>\n",
       "      <td>14,827,700</td>\n",
       "      <td>17,727,800</td>\n",
       "      <td>24,567,400</td>\n",
       "    </tr>\n",
       "    <tr>\n",
       "      <th>应收账款+合同资产</th>\n",
       "      <td>4,792,600</td>\n",
       "      <td>7,948,400</td>\n",
       "      <td>8,497,800</td>\n",
       "      <td>14,827,700</td>\n",
       "      <td>17,727,800</td>\n",
       "      <td>25,989,877</td>\n",
       "    </tr>\n",
       "    <tr>\n",
       "      <th>资产合计(元)</th>\n",
       "      <td>1,211,887,900</td>\n",
       "      <td>1,397,628,600</td>\n",
       "      <td>1,675,684,100</td>\n",
       "      <td>1,780,577,600</td>\n",
       "      <td>1,986,804,400</td>\n",
       "      <td>2,178,534,900</td>\n",
       "    </tr>\n",
       "    <tr>\n",
       "      <th>(应收账款+合同资产)占总资产的比率</th>\n",
       "      <td>0.40%</td>\n",
       "      <td>0.57%</td>\n",
       "      <td>0.51%</td>\n",
       "      <td>0.83%</td>\n",
       "      <td>0.89%</td>\n",
       "      <td>1.19%</td>\n",
       "    </tr>\n",
       "  </tbody>\n",
       "</table>\n",
       "</div>"
      ],
      "text/plain": [
       "                             2015           2016           2017  \\\n",
       "合同资产(元)                         0              0              0   \n",
       "应收账款(元)                 4,792,600      7,948,400      8,497,800   \n",
       "应收账款+合同资产               4,792,600      7,948,400      8,497,800   \n",
       "资产合计(元)             1,211,887,900  1,397,628,600  1,675,684,100   \n",
       "(应收账款+合同资产)占总资产的比率          0.40%          0.57%          0.51%   \n",
       "\n",
       "                             2018           2019           2020  \n",
       "合同资产(元)                         0              0      1,422,477  \n",
       "应收账款(元)                14,827,700     17,727,800     24,567,400  \n",
       "应收账款+合同资产              14,827,700     17,727,800     25,989,877  \n",
       "资产合计(元)             1,780,577,600  1,986,804,400  2,178,534,900  \n",
       "(应收账款+合同资产)占总资产的比率          0.83%          0.89%          1.19%  "
      ]
     },
     "execution_count": 4,
     "metadata": {},
     "output_type": "execute_result"
    }
   ],
   "source": [
    "t1 = analysis.init_table('t1')\n",
    "t1['应收账款+合同资产'] = t1.T[:2].sum()\n",
    "t1['(应收账款+合同资产)占总资产的比率'] = t1['应收账款+合同资产'] / t1['资产合计(元)']\n",
    "\n",
    "analysis.format_show_table('t1')"
   ]
  },
  {
   "cell_type": "code",
   "execution_count": 5,
   "metadata": {},
   "outputs": [
    {
     "data": {
      "image/png": "[encoded data removed]",
      "text/plain": [
       "<matplotlib.figure.Figure at 0x296b5d9bd68>"
      ]
     },
     "metadata": {
      "needs_background": "light"
     },
     "output_type": "display_data"
    }
   ],
   "source": [
    "analysis.show_plot('t1')"
   ]
  },
  {
   "cell_type": "markdown",
   "metadata": {},
   "source": [
    "### 利息收入占平均货币资金的比率"
   ]
  },
  {
   "cell_type": "code",
   "execution_count": 6,
   "metadata": {},
   "outputs": [
    {
     "data": {
      "text/html": [
       "<div>\n",
       "<style scoped>\n",
       "    .dataframe tbody tr th:only-of-type {\n",
       "        vertical-align: middle;\n",
       "    }\n",
       "\n",
       "    .dataframe tbody tr th {\n",
       "        vertical-align: top;\n",
       "    }\n",
       "\n",
       "    .dataframe thead th {\n",
       "        text-align: right;\n",
       "    }\n",
       "</style>\n",
       "<table border=\"1\" class=\"dataframe\">\n",
       "  <thead>\n",
       "    <tr style=\"text-align: right;\">\n",
       "      <th></th>\n",
       "      <th>2015</th>\n",
       "      <th>2016</th>\n",
       "      <th>2017</th>\n",
       "      <th>2018</th>\n",
       "      <th>2019</th>\n",
       "      <th>2020</th>\n",
       "    </tr>\n",
       "  </thead>\n",
       "  <tbody>\n",
       "    <tr>\n",
       "      <th>利息收入(元)</th>\n",
       "      <td>2,587,200</td>\n",
       "      <td>2,317,900</td>\n",
       "      <td>2,613,300</td>\n",
       "      <td>4,414,400</td>\n",
       "      <td>13,407,400</td>\n",
       "      <td>22,062,400</td>\n",
       "    </tr>\n",
       "    <tr>\n",
       "      <th>货币资金(元)</th>\n",
       "      <td>371,817,300</td>\n",
       "      <td>370,078,000</td>\n",
       "      <td>865,129,000</td>\n",
       "      <td>839,378,600</td>\n",
       "      <td>799,127,100</td>\n",
       "      <td>509,970,800</td>\n",
       "    </tr>\n",
       "    <tr>\n",
       "      <th>平均货币资金</th>\n",
       "      <td>nan</td>\n",
       "      <td>370,947,650</td>\n",
       "      <td>617,603,500</td>\n",
       "      <td>852,253,800</td>\n",
       "      <td>819,252,850</td>\n",
       "      <td>654,548,950</td>\n",
       "    </tr>\n",
       "    <tr>\n",
       "      <th>利息收入占平均货币资金的比率</th>\n",
       "      <td>nan%</td>\n",
       "      <td>0.62%</td>\n",
       "      <td>0.42%</td>\n",
       "      <td>0.52%</td>\n",
       "      <td>1.64%</td>\n",
       "      <td>3.37%</td>\n",
       "    </tr>\n",
       "  </tbody>\n",
       "</table>\n",
       "</div>"
      ],
      "text/plain": [
       "                       2015         2016         2017         2018  \\\n",
       "利息收入(元)           2,587,200    2,317,900    2,613,300    4,414,400   \n",
       "货币资金(元)         371,817,300  370,078,000  865,129,000  839,378,600   \n",
       "平均货币资金                  nan  370,947,650  617,603,500  852,253,800   \n",
       "利息收入占平均货币资金的比率         nan%        0.62%        0.42%        0.52%   \n",
       "\n",
       "                       2019         2020  \n",
       "利息收入(元)          13,407,400   22,062,400  \n",
       "货币资金(元)         799,127,100  509,970,800  \n",
       "平均货币资金          819,252,850  654,548,950  \n",
       "利息收入占平均货币资金的比率        1.64%        3.37%  "
      ]
     },
     "execution_count": 6,
     "metadata": {},
     "output_type": "execute_result"
    }
   ],
   "source": [
    "t2 = analysis.init_table('t2')\n",
    "t2['平均货币资金'][1:] = (t2['货币资金(元)'][1:].values + t2['货币资金(元)'][:-1].values) / 2\n",
    "t2['利息收入占平均货币资金的比率'] = t2['利息收入(元)'] / t2['平均货币资金']\n",
    "\n",
    "analysis.format_show_table('t2')"
   ]
  },
  {
   "cell_type": "code",
   "execution_count": 7,
   "metadata": {},
   "outputs": [
    {
     "data": {
      "image/png": "[encoded data removed]",
      "text/plain": [
       "<matplotlib.figure.Figure at 0x296b7f55898>"
      ]
     },
     "metadata": {
      "needs_background": "light"
     },
     "output_type": "display_data"
    }
   ],
   "source": [
    "analysis.show_plot('t2')"
   ]
  },
  {
   "cell_type": "markdown",
   "metadata": {},
   "source": [
    "### 利息支出占净利润的比率"
   ]
  },
  {
   "cell_type": "code",
   "execution_count": 8,
   "metadata": {},
   "outputs": [
    {
     "data": {
      "text/html": [
       "<div>\n",
       "<style scoped>\n",
       "    .dataframe tbody tr th:only-of-type {\n",
       "        vertical-align: middle;\n",
       "    }\n",
       "\n",
       "    .dataframe tbody tr th {\n",
       "        vertical-align: top;\n",
       "    }\n",
       "\n",
       "    .dataframe thead th {\n",
       "        text-align: right;\n",
       "    }\n",
       "</style>\n",
       "<table border=\"1\" class=\"dataframe\">\n",
       "  <thead>\n",
       "    <tr style=\"text-align: right;\">\n",
       "      <th></th>\n",
       "      <th>2015</th>\n",
       "      <th>2016</th>\n",
       "      <th>2017</th>\n",
       "      <th>2018</th>\n",
       "      <th>2019</th>\n",
       "      <th>2020</th>\n",
       "    </tr>\n",
       "  </thead>\n",
       "  <tbody>\n",
       "    <tr>\n",
       "      <th>其中：利息费用(元)</th>\n",
       "      <td>0</td>\n",
       "      <td>0</td>\n",
       "      <td>0</td>\n",
       "      <td>0</td>\n",
       "      <td>0</td>\n",
       "      <td>0</td>\n",
       "    </tr>\n",
       "    <tr>\n",
       "      <th>五、净利润(元)</th>\n",
       "      <td>155,641,200</td>\n",
       "      <td>202,656,100</td>\n",
       "      <td>305,192,100</td>\n",
       "      <td>377,525,100</td>\n",
       "      <td>460,012,900</td>\n",
       "      <td>543,562,800</td>\n",
       "    </tr>\n",
       "    <tr>\n",
       "      <th>利息费用占净利润的比率</th>\n",
       "      <td>0.00%</td>\n",
       "      <td>0.00%</td>\n",
       "      <td>0.00%</td>\n",
       "      <td>0.00%</td>\n",
       "      <td>0.00%</td>\n",
       "      <td>0.00%</td>\n",
       "    </tr>\n",
       "  </tbody>\n",
       "</table>\n",
       "</div>"
      ],
      "text/plain": [
       "                    2015         2016         2017         2018         2019  \\\n",
       "其中：利息费用(元)             0            0            0            0            0   \n",
       "五、净利润(元)     155,641,200  202,656,100  305,192,100  377,525,100  460,012,900   \n",
       "利息费用占净利润的比率        0.00%        0.00%        0.00%        0.00%        0.00%   \n",
       "\n",
       "                    2020  \n",
       "其中：利息费用(元)             0  \n",
       "五、净利润(元)     543,562,800  \n",
       "利息费用占净利润的比率        0.00%  "
      ]
     },
     "execution_count": 8,
     "metadata": {},
     "output_type": "execute_result"
    }
   ],
   "source": [
    "t3 = analysis.init_table('t3')\n",
    "t3['利息费用占净利润的比率'] = t3['其中：利息费用(元)'] / t3['五、净利润(元)']\n",
    "\n",
    "analysis.format_show_table('t3')"
   ]
  },
  {
   "cell_type": "code",
   "execution_count": 9,
   "metadata": {},
   "outputs": [
    {
     "data": {
      "image/png": "[encoded data removed]",
      "text/plain": [
       "<matplotlib.figure.Figure at 0x296ba24dbe0>"
      ]
     },
     "metadata": {
      "needs_background": "light"
     },
     "output_type": "display_data"
    }
   ],
   "source": [
    "analysis.show_plot('t3')"
   ]
  },
  {
   "cell_type": "markdown",
   "metadata": {},
   "source": [
    "### 预付款项和其他应收款占总资产的比率"
   ]
  },
  {
   "cell_type": "code",
   "execution_count": 10,
   "metadata": {},
   "outputs": [
    {
     "data": {
      "text/html": [
       "<div>\n",
       "<style scoped>\n",
       "    .dataframe tbody tr th:only-of-type {\n",
       "        vertical-align: middle;\n",
       "    }\n",
       "\n",
       "    .dataframe tbody tr th {\n",
       "        vertical-align: top;\n",
       "    }\n",
       "\n",
       "    .dataframe thead th {\n",
       "        text-align: right;\n",
       "    }\n",
       "</style>\n",
       "<table border=\"1\" class=\"dataframe\">\n",
       "  <thead>\n",
       "    <tr style=\"text-align: right;\">\n",
       "      <th></th>\n",
       "      <th>2015</th>\n",
       "      <th>2016</th>\n",
       "      <th>2017</th>\n",
       "      <th>2018</th>\n",
       "      <th>2019</th>\n",
       "      <th>2020</th>\n",
       "    </tr>\n",
       "  </thead>\n",
       "  <tbody>\n",
       "    <tr>\n",
       "      <th>预付款项(元)</th>\n",
       "      <td>3,903,900</td>\n",
       "      <td>4,259,700</td>\n",
       "      <td>10,817,800</td>\n",
       "      <td>30,558,900</td>\n",
       "      <td>13,716,800</td>\n",
       "      <td>14,705,400</td>\n",
       "    </tr>\n",
       "    <tr>\n",
       "      <th>其他应收款合计(元)</th>\n",
       "      <td>1,737,300</td>\n",
       "      <td>1,329,400</td>\n",
       "      <td>321,500</td>\n",
       "      <td>4,128,800</td>\n",
       "      <td>337,400</td>\n",
       "      <td>382,900</td>\n",
       "    </tr>\n",
       "    <tr>\n",
       "      <th>资产合计(元)</th>\n",
       "      <td>1,211,887,900</td>\n",
       "      <td>1,397,628,600</td>\n",
       "      <td>1,675,684,100</td>\n",
       "      <td>1,780,577,600</td>\n",
       "      <td>1,986,804,400</td>\n",
       "      <td>2,178,534,900</td>\n",
       "    </tr>\n",
       "    <tr>\n",
       "      <th>预付款项和其他应收款占总资产的比率</th>\n",
       "      <td>0.47%</td>\n",
       "      <td>0.40%</td>\n",
       "      <td>0.66%</td>\n",
       "      <td>1.95%</td>\n",
       "      <td>0.71%</td>\n",
       "      <td>0.69%</td>\n",
       "    </tr>\n",
       "  </tbody>\n",
       "</table>\n",
       "</div>"
      ],
      "text/plain": [
       "                            2015           2016           2017           2018  \\\n",
       "预付款项(元)                3,903,900      4,259,700     10,817,800     30,558,900   \n",
       "其他应收款合计(元)             1,737,300      1,329,400        321,500      4,128,800   \n",
       "资产合计(元)            1,211,887,900  1,397,628,600  1,675,684,100  1,780,577,600   \n",
       "预付款项和其他应收款占总资产的比率          0.47%          0.40%          0.66%          1.95%   \n",
       "\n",
       "                            2019           2020  \n",
       "预付款项(元)               13,716,800     14,705,400  \n",
       "其他应收款合计(元)               337,400        382,900  \n",
       "资产合计(元)            1,986,804,400  2,178,534,900  \n",
       "预付款项和其他应收款占总资产的比率          0.71%          0.69%  "
      ]
     },
     "execution_count": 10,
     "metadata": {},
     "output_type": "execute_result"
    }
   ],
   "source": [
    "t4 = analysis.init_table('t4')\n",
    "t4['预付款项和其他应收款占总资产的比率'] = t4.T[:2].sum() / t4['资产合计(元)']\n",
    "    \n",
    "analysis.format_show_table('t4')"
   ]
  },
  {
   "cell_type": "code",
   "execution_count": 11,
   "metadata": {},
   "outputs": [
    {
     "data": {
      "image/png": "[encoded data removed]",
      "text/plain": [
       "<matplotlib.figure.Figure at 0x296b90102e8>"
      ]
     },
     "metadata": {
      "needs_background": "light"
     },
     "output_type": "display_data"
    }
   ],
   "source": [
    "analysis.show_plot('t4')"
   ]
  },
  {
   "cell_type": "markdown",
   "metadata": {},
   "source": [
    "### 在建工程占总资产的比率"
   ]
  },
  {
   "cell_type": "code",
   "execution_count": 12,
   "metadata": {},
   "outputs": [
    {
     "data": {
      "text/html": [
       "<div>\n",
       "<style scoped>\n",
       "    .dataframe tbody tr th:only-of-type {\n",
       "        vertical-align: middle;\n",
       "    }\n",
       "\n",
       "    .dataframe tbody tr th {\n",
       "        vertical-align: top;\n",
       "    }\n",
       "\n",
       "    .dataframe thead th {\n",
       "        text-align: right;\n",
       "    }\n",
       "</style>\n",
       "<table border=\"1\" class=\"dataframe\">\n",
       "  <thead>\n",
       "    <tr style=\"text-align: right;\">\n",
       "      <th></th>\n",
       "      <th>2015</th>\n",
       "      <th>2016</th>\n",
       "      <th>2017</th>\n",
       "      <th>2018</th>\n",
       "      <th>2019</th>\n",
       "      <th>2020</th>\n",
       "    </tr>\n",
       "  </thead>\n",
       "  <tbody>\n",
       "    <tr>\n",
       "      <th>在建工程合计(元)</th>\n",
       "      <td>2,623,600</td>\n",
       "      <td>1,751,500</td>\n",
       "      <td>14,166,700</td>\n",
       "      <td>238,247,000</td>\n",
       "      <td>80,713,600</td>\n",
       "      <td>120,273,100</td>\n",
       "    </tr>\n",
       "    <tr>\n",
       "      <th>资产合计(元)</th>\n",
       "      <td>1,211,887,900</td>\n",
       "      <td>1,397,628,600</td>\n",
       "      <td>1,675,684,100</td>\n",
       "      <td>1,780,577,600</td>\n",
       "      <td>1,986,804,400</td>\n",
       "      <td>2,178,534,900</td>\n",
       "    </tr>\n",
       "    <tr>\n",
       "      <th>在建工程占总资产的比率</th>\n",
       "      <td>0.22%</td>\n",
       "      <td>0.13%</td>\n",
       "      <td>0.85%</td>\n",
       "      <td>13.38%</td>\n",
       "      <td>4.06%</td>\n",
       "      <td>5.52%</td>\n",
       "    </tr>\n",
       "  </tbody>\n",
       "</table>\n",
       "</div>"
      ],
      "text/plain": [
       "                      2015           2016           2017           2018  \\\n",
       "在建工程合计(元)        2,623,600      1,751,500     14,166,700    238,247,000   \n",
       "资产合计(元)      1,211,887,900  1,397,628,600  1,675,684,100  1,780,577,600   \n",
       "在建工程占总资产的比率          0.22%          0.13%          0.85%         13.38%   \n",
       "\n",
       "                      2019           2020  \n",
       "在建工程合计(元)       80,713,600    120,273,100  \n",
       "资产合计(元)      1,986,804,400  2,178,534,900  \n",
       "在建工程占总资产的比率          4.06%          5.52%  "
      ]
     },
     "execution_count": 12,
     "metadata": {},
     "output_type": "execute_result"
    }
   ],
   "source": [
    "t5 = analysis.init_table('t5')\n",
    "t5['在建工程占总资产的比率'] = t5['在建工程合计(元)'] / t5['资产合计(元)']\n",
    "\n",
    "analysis.format_show_table('t5')"
   ]
  },
  {
   "cell_type": "code",
   "execution_count": 13,
   "metadata": {},
   "outputs": [
    {
     "data": {
      "image/png": "[encoded data removed]",
      "text/plain": [
       "<matplotlib.figure.Figure at 0x296b91b2278>"
      ]
     },
     "metadata": {
      "needs_background": "light"
     },
     "output_type": "display_data"
    }
   ],
   "source": [
    "analysis.show_plot('t5')"
   ]
  },
  {
   "cell_type": "markdown",
   "metadata": {},
   "source": [
    "### 存货占总资产的比率"
   ]
  },
  {
   "cell_type": "code",
   "execution_count": 14,
   "metadata": {},
   "outputs": [
    {
     "data": {
      "text/html": [
       "<div>\n",
       "<style scoped>\n",
       "    .dataframe tbody tr th:only-of-type {\n",
       "        vertical-align: middle;\n",
       "    }\n",
       "\n",
       "    .dataframe tbody tr th {\n",
       "        vertical-align: top;\n",
       "    }\n",
       "\n",
       "    .dataframe thead th {\n",
       "        text-align: right;\n",
       "    }\n",
       "</style>\n",
       "<table border=\"1\" class=\"dataframe\">\n",
       "  <thead>\n",
       "    <tr style=\"text-align: right;\">\n",
       "      <th></th>\n",
       "      <th>2015</th>\n",
       "      <th>2016</th>\n",
       "      <th>2017</th>\n",
       "      <th>2018</th>\n",
       "      <th>2019</th>\n",
       "      <th>2020</th>\n",
       "    </tr>\n",
       "  </thead>\n",
       "  <tbody>\n",
       "    <tr>\n",
       "      <th>存货(元)</th>\n",
       "      <td>40,678,800</td>\n",
       "      <td>48,294,000</td>\n",
       "      <td>73,613,600</td>\n",
       "      <td>64,125,600</td>\n",
       "      <td>79,640,800</td>\n",
       "      <td>78,025,500</td>\n",
       "    </tr>\n",
       "    <tr>\n",
       "      <th>资产合计(元)</th>\n",
       "      <td>1,211,887,900</td>\n",
       "      <td>1,397,628,600</td>\n",
       "      <td>1,675,684,100</td>\n",
       "      <td>1,780,577,600</td>\n",
       "      <td>1,986,804,400</td>\n",
       "      <td>2,178,534,900</td>\n",
       "    </tr>\n",
       "    <tr>\n",
       "      <th>存货占总资产的比率</th>\n",
       "      <td>3.36%</td>\n",
       "      <td>3.46%</td>\n",
       "      <td>4.39%</td>\n",
       "      <td>3.60%</td>\n",
       "      <td>4.01%</td>\n",
       "      <td>3.58%</td>\n",
       "    </tr>\n",
       "  </tbody>\n",
       "</table>\n",
       "</div>"
      ],
      "text/plain": [
       "                    2015           2016           2017           2018  \\\n",
       "存货(元)         40,678,800     48,294,000     73,613,600     64,125,600   \n",
       "资产合计(元)    1,211,887,900  1,397,628,600  1,675,684,100  1,780,577,600   \n",
       "存货占总资产的比率          3.36%          3.46%          4.39%          3.60%   \n",
       "\n",
       "                    2019           2020  \n",
       "存货(元)         79,640,800     78,025,500  \n",
       "资产合计(元)    1,986,804,400  2,178,534,900  \n",
       "存货占总资产的比率          4.01%          3.58%  "
      ]
     },
     "execution_count": 14,
     "metadata": {},
     "output_type": "execute_result"
    }
   ],
   "source": [
    "t6 = analysis.init_table('t6')\n",
    "t6['存货占总资产的比率'] = t6['存货(元)'] / t6['资产合计(元)']\n",
    "\n",
    "analysis.format_show_table('t6')"
   ]
  },
  {
   "cell_type": "code",
   "execution_count": 15,
   "metadata": {},
   "outputs": [
    {
     "data": {
      "image/png": "[encoded data removed]",
      "text/plain": [
       "<matplotlib.figure.Figure at 0x296b91b2240>"
      ]
     },
     "metadata": {
      "needs_background": "light"
     },
     "output_type": "display_data"
    }
   ],
   "source": [
    "import pandas as pd\n",
    "from analysis.utils import plot_show\n",
    "\n",
    "tmp_df = pd.merge(\n",
    "    t6['存货占总资产的比率'], \n",
    "    t1['(应收账款+合同资产)占总资产的比率'],\n",
    "    right_index=True,\n",
    "    left_index=True\n",
    ")\n",
    "plot_show(tmp_df, image_title=images['t6'][0], y_label='', y_format='', save_image=True)"
   ]
  },
  {
   "cell_type": "markdown",
   "metadata": {},
   "source": [
    "### 商誉占总资产的比率"
   ]
  },
  {
   "cell_type": "code",
   "execution_count": 16,
   "metadata": {},
   "outputs": [
    {
     "data": {
      "text/html": [
       "<div>\n",
       "<style scoped>\n",
       "    .dataframe tbody tr th:only-of-type {\n",
       "        vertical-align: middle;\n",
       "    }\n",
       "\n",
       "    .dataframe tbody tr th {\n",
       "        vertical-align: top;\n",
       "    }\n",
       "\n",
       "    .dataframe thead th {\n",
       "        text-align: right;\n",
       "    }\n",
       "</style>\n",
       "<table border=\"1\" class=\"dataframe\">\n",
       "  <thead>\n",
       "    <tr style=\"text-align: right;\">\n",
       "      <th></th>\n",
       "      <th>2015</th>\n",
       "      <th>2016</th>\n",
       "      <th>2017</th>\n",
       "      <th>2018</th>\n",
       "      <th>2019</th>\n",
       "      <th>2020</th>\n",
       "    </tr>\n",
       "  </thead>\n",
       "  <tbody>\n",
       "    <tr>\n",
       "      <th>商誉(元)</th>\n",
       "      <td>0</td>\n",
       "      <td>0</td>\n",
       "      <td>0</td>\n",
       "      <td>0</td>\n",
       "      <td>0</td>\n",
       "      <td>0</td>\n",
       "    </tr>\n",
       "    <tr>\n",
       "      <th>资产合计(元)</th>\n",
       "      <td>1,211,887,900</td>\n",
       "      <td>1,397,628,600</td>\n",
       "      <td>1,675,684,100</td>\n",
       "      <td>1,780,577,600</td>\n",
       "      <td>1,986,804,400</td>\n",
       "      <td>2,178,534,900</td>\n",
       "    </tr>\n",
       "    <tr>\n",
       "      <th>商誉占总资产的比率</th>\n",
       "      <td>0.00%</td>\n",
       "      <td>0.00%</td>\n",
       "      <td>0.00%</td>\n",
       "      <td>0.00%</td>\n",
       "      <td>0.00%</td>\n",
       "      <td>0.00%</td>\n",
       "    </tr>\n",
       "  </tbody>\n",
       "</table>\n",
       "</div>"
      ],
      "text/plain": [
       "                    2015           2016           2017           2018  \\\n",
       "商誉(元)                  0              0              0              0   \n",
       "资产合计(元)    1,211,887,900  1,397,628,600  1,675,684,100  1,780,577,600   \n",
       "商誉占总资产的比率          0.00%          0.00%          0.00%          0.00%   \n",
       "\n",
       "                    2019           2020  \n",
       "商誉(元)                  0              0  \n",
       "资产合计(元)    1,986,804,400  2,178,534,900  \n",
       "商誉占总资产的比率          0.00%          0.00%  "
      ]
     },
     "execution_count": 16,
     "metadata": {},
     "output_type": "execute_result"
    }
   ],
   "source": [
    "t7 = analysis.init_table('t7')\n",
    "t7['商誉占总资产的比率'] = t7['商誉(元)'] / t7['资产合计(元)']\n",
    "\n",
    "analysis.format_show_table('t7')"
   ]
  },
  {
   "cell_type": "code",
   "execution_count": 17,
   "metadata": {},
   "outputs": [
    {
     "data": {
      "image/png": "[encoded data removed]",
      "text/plain": [
       "<matplotlib.figure.Figure at 0x296b90ade80>"
      ]
     },
     "metadata": {
      "needs_background": "light"
     },
     "output_type": "display_data"
    }
   ],
   "source": [
    "analysis.show_plot('t7')"
   ]
  },
  {
   "cell_type": "markdown",
   "metadata": {},
   "source": [
    "### 输出分析报告"
   ]
  },
  {
   "cell_type": "code",
   "execution_count": 18,
   "metadata": {},
   "outputs": [],
   "source": [
    "ReportDocument(analysis).save()"
   ]
  },
  {
   "cell_type": "code",
   "execution_count": null,
   "metadata": {},
   "outputs": [],
   "source": []
  }
 ],
 "metadata": {
  "kernelspec": {
   "display_name": "Python 3",
   "language": "python",
   "name": "python3"
  },
  "language_info": {
   "codemirror_mode": {
    "name": "ipython",
    "version": 3
   },
   "file_extension": ".py",
   "mimetype": "text/x-python",
   "name": "python",
   "nbconvert_exporter": "python",
   "pygments_lexer": "ipython3",
   "version": "3.6.4"
  }
 },
 "nbformat": 4,
 "nbformat_minor": 1
}
