{
 "cells": [
  {
   "cell_type": "markdown",
   "metadata": {
    "collapsed": true
   },
   "source": [
    "### 应收账款造假"
   ]
  },
  {
   "cell_type": "code",
   "execution_count": 1,
   "metadata": {},
   "outputs": [],
   "source": [
    "from analysis import ANALYSIS_CONFIGS\n",
    "from analysis.analysis import FinancialAnalysis\n",
    "from analysis.doc_utils import ReportDocument"
   ]
  },
  {
   "cell_type": "code",
   "execution_count": 2,
   "metadata": {},
   "outputs": [
    {
     "data": {
      "text/plain": [
       "['all_analysis.json',\n",
       " 'asset_quality_analysis.json',\n",
       " 'asset_indepth_analysis.json',\n",
       " 'asset_fraud_analysis.json',\n",
       " 'profit_analysis.json',\n",
       " 'cash_flow_analysis.json']"
      ]
     },
     "execution_count": 2,
     "metadata": {},
     "output_type": "execute_result"
    }
   ],
   "source": [
    "ANALYSIS_CONFIGS"
   ]
  },
  {
   "cell_type": "code",
   "execution_count": 3,
   "metadata": {},
   "outputs": [],
   "source": [
    "analysis = FinancialAnalysis(ANALYSIS_CONFIGS[3])\n",
    "images, titles, fields = analysis.images, analysis.titles, analysis.fields"
   ]
  },
  {
   "cell_type": "code",
   "execution_count": 4,
   "metadata": {},
   "outputs": [
    {
     "data": {
      "text/html": [
       "<div>\n",
       "<style scoped>\n",
       "    .dataframe tbody tr th:only-of-type {\n",
       "        vertical-align: middle;\n",
       "    }\n",
       "\n",
       "    .dataframe tbody tr th {\n",
       "        vertical-align: top;\n",
       "    }\n",
       "\n",
       "    .dataframe thead th {\n",
       "        text-align: right;\n",
       "    }\n",
       "</style>\n",
       "<table border=\"1\" class=\"dataframe\">\n",
       "  <thead>\n",
       "    <tr style=\"text-align: right;\">\n",
       "      <th></th>\n",
       "      <th>2015</th>\n",
       "      <th>2016</th>\n",
       "      <th>2017</th>\n",
       "      <th>2018</th>\n",
       "      <th>2019</th>\n",
       "      <th>2020</th>\n",
       "    </tr>\n",
       "  </thead>\n",
       "  <tbody>\n",
       "    <tr>\n",
       "      <th>合同资产(元)</th>\n",
       "      <td>0</td>\n",
       "      <td>0</td>\n",
       "      <td>0</td>\n",
       "      <td>0</td>\n",
       "      <td>0</td>\n",
       "      <td>0</td>\n",
       "    </tr>\n",
       "    <tr>\n",
       "      <th>应收账款(元)</th>\n",
       "      <td>320,387,700</td>\n",
       "      <td>331,595,200</td>\n",
       "      <td>371,167,700</td>\n",
       "      <td>446,773,100</td>\n",
       "      <td>725,630,900</td>\n",
       "      <td>1,008,235,900</td>\n",
       "    </tr>\n",
       "    <tr>\n",
       "      <th>应收账款+合同资产</th>\n",
       "      <td>320,387,700</td>\n",
       "      <td>331,595,200</td>\n",
       "      <td>371,167,700</td>\n",
       "      <td>446,773,100</td>\n",
       "      <td>725,630,900</td>\n",
       "      <td>1,008,235,900</td>\n",
       "    </tr>\n",
       "    <tr>\n",
       "      <th>资产合计(元)</th>\n",
       "      <td>5,026,642,400</td>\n",
       "      <td>6,415,202,500</td>\n",
       "      <td>7,926,615,200</td>\n",
       "      <td>9,455,361,500</td>\n",
       "      <td>10,651,922,600</td>\n",
       "      <td>12,457,568,300</td>\n",
       "    </tr>\n",
       "    <tr>\n",
       "      <th>(应收账款+合同资产)占总资产的比率</th>\n",
       "      <td>6.37%</td>\n",
       "      <td>5.17%</td>\n",
       "      <td>4.68%</td>\n",
       "      <td>4.73%</td>\n",
       "      <td>6.81%</td>\n",
       "      <td>8.09%</td>\n",
       "    </tr>\n",
       "  </tbody>\n",
       "</table>\n",
       "</div>"
      ],
      "text/plain": [
       "                             2015           2016           2017  \\\n",
       "合同资产(元)                         0              0              0   \n",
       "应收账款(元)               320,387,700    331,595,200    371,167,700   \n",
       "应收账款+合同资产             320,387,700    331,595,200    371,167,700   \n",
       "资产合计(元)             5,026,642,400  6,415,202,500  7,926,615,200   \n",
       "(应收账款+合同资产)占总资产的比率          6.37%          5.17%          4.68%   \n",
       "\n",
       "                             2018            2019            2020  \n",
       "合同资产(元)                         0               0               0  \n",
       "应收账款(元)               446,773,100     725,630,900   1,008,235,900  \n",
       "应收账款+合同资产             446,773,100     725,630,900   1,008,235,900  \n",
       "资产合计(元)             9,455,361,500  10,651,922,600  12,457,568,300  \n",
       "(应收账款+合同资产)占总资产的比率          4.73%           6.81%           8.09%  "
      ]
     },
     "execution_count": 4,
     "metadata": {},
     "output_type": "execute_result"
    }
   ],
   "source": [
    "t1 = analysis.init_table('t1')\n",
    "t1['应收账款+合同资产'] = t1.T[:2].sum()\n",
    "t1['(应收账款+合同资产)占总资产的比率'] = t1['应收账款+合同资产'] / t1['资产合计(元)']\n",
    "\n",
    "analysis.format_show_table('t1')"
   ]
  },
  {
   "cell_type": "code",
   "execution_count": 5,
   "metadata": {},
   "outputs": [
    {
     "data": {
      "image/png": "[encoded data removed]",
      "text/plain": [
       "<matplotlib.figure.Figure at 0x2105c26de10>"
      ]
     },
     "metadata": {
      "needs_background": "light"
     },
     "output_type": "display_data"
    }
   ],
   "source": [
    "analysis.show_plot('t1')"
   ]
  },
  {
   "cell_type": "markdown",
   "metadata": {},
   "source": [
    "### 利息收入占平均货币资金的比率"
   ]
  },
  {
   "cell_type": "code",
   "execution_count": 6,
   "metadata": {},
   "outputs": [
    {
     "data": {
      "text/html": [
       "<div>\n",
       "<style scoped>\n",
       "    .dataframe tbody tr th:only-of-type {\n",
       "        vertical-align: middle;\n",
       "    }\n",
       "\n",
       "    .dataframe tbody tr th {\n",
       "        vertical-align: top;\n",
       "    }\n",
       "\n",
       "    .dataframe thead th {\n",
       "        text-align: right;\n",
       "    }\n",
       "</style>\n",
       "<table border=\"1\" class=\"dataframe\">\n",
       "  <thead>\n",
       "    <tr style=\"text-align: right;\">\n",
       "      <th></th>\n",
       "      <th>2015</th>\n",
       "      <th>2016</th>\n",
       "      <th>2017</th>\n",
       "      <th>2018</th>\n",
       "      <th>2019</th>\n",
       "      <th>2020</th>\n",
       "    </tr>\n",
       "  </thead>\n",
       "  <tbody>\n",
       "    <tr>\n",
       "      <th>利息收入(元)</th>\n",
       "      <td>65,957,900</td>\n",
       "      <td>78,635,300</td>\n",
       "      <td>93,430,000</td>\n",
       "      <td>100,909,000</td>\n",
       "      <td>84,590,700</td>\n",
       "      <td>160,282,600</td>\n",
       "    </tr>\n",
       "    <tr>\n",
       "      <th>货币资金(元)</th>\n",
       "      <td>2,323,218,500</td>\n",
       "      <td>3,448,409,300</td>\n",
       "      <td>2,581,883,300</td>\n",
       "      <td>2,196,706,800</td>\n",
       "      <td>4,054,121,700</td>\n",
       "      <td>3,921,052,700</td>\n",
       "    </tr>\n",
       "    <tr>\n",
       "      <th>平均货币资金</th>\n",
       "      <td>nan</td>\n",
       "      <td>2,885,813,900</td>\n",
       "      <td>3,015,146,300</td>\n",
       "      <td>2,389,295,050</td>\n",
       "      <td>3,125,414,250</td>\n",
       "      <td>3,987,587,200</td>\n",
       "    </tr>\n",
       "    <tr>\n",
       "      <th>利息收入占平均货币资金的比率</th>\n",
       "      <td>nan%</td>\n",
       "      <td>2.72%</td>\n",
       "      <td>3.10%</td>\n",
       "      <td>4.22%</td>\n",
       "      <td>2.71%</td>\n",
       "      <td>4.02%</td>\n",
       "    </tr>\n",
       "  </tbody>\n",
       "</table>\n",
       "</div>"
      ],
      "text/plain": [
       "                         2015           2016           2017           2018  \\\n",
       "利息收入(元)            65,957,900     78,635,300     93,430,000    100,909,000   \n",
       "货币资金(元)         2,323,218,500  3,448,409,300  2,581,883,300  2,196,706,800   \n",
       "平均货币资金                    nan  2,885,813,900  3,015,146,300  2,389,295,050   \n",
       "利息收入占平均货币资金的比率           nan%          2.72%          3.10%          4.22%   \n",
       "\n",
       "                         2019           2020  \n",
       "利息收入(元)            84,590,700    160,282,600  \n",
       "货币资金(元)         4,054,121,700  3,921,052,700  \n",
       "平均货币资金          3,125,414,250  3,987,587,200  \n",
       "利息收入占平均货币资金的比率          2.71%          4.02%  "
      ]
     },
     "execution_count": 6,
     "metadata": {},
     "output_type": "execute_result"
    }
   ],
   "source": [
    "t2 = analysis.init_table('t2')\n",
    "t2['平均货币资金'][1:] = (t2['货币资金(元)'][1:].values + t2['货币资金(元)'][:-1].values) / 2\n",
    "t2['利息收入占平均货币资金的比率'] = t2['利息收入(元)'] / t2['平均货币资金']\n",
    "\n",
    "analysis.format_show_table('t2')"
   ]
  },
  {
   "cell_type": "code",
   "execution_count": 7,
   "metadata": {},
   "outputs": [
    {
     "data": {
      "image/png": "[encoded data removed]",
      "text/plain": [
       "<matplotlib.figure.Figure at 0x2105e428b00>"
      ]
     },
     "metadata": {
      "needs_background": "light"
     },
     "output_type": "display_data"
    }
   ],
   "source": [
    "analysis.show_plot('t2')"
   ]
  },
  {
   "cell_type": "markdown",
   "metadata": {},
   "source": [
    "### 利息支出占净利润的比率"
   ]
  },
  {
   "cell_type": "code",
   "execution_count": 8,
   "metadata": {},
   "outputs": [
    {
     "data": {
      "text/html": [
       "<div>\n",
       "<style scoped>\n",
       "    .dataframe tbody tr th:only-of-type {\n",
       "        vertical-align: middle;\n",
       "    }\n",
       "\n",
       "    .dataframe tbody tr th {\n",
       "        vertical-align: top;\n",
       "    }\n",
       "\n",
       "    .dataframe thead th {\n",
       "        text-align: right;\n",
       "    }\n",
       "</style>\n",
       "<table border=\"1\" class=\"dataframe\">\n",
       "  <thead>\n",
       "    <tr style=\"text-align: right;\">\n",
       "      <th></th>\n",
       "      <th>2015</th>\n",
       "      <th>2016</th>\n",
       "      <th>2017</th>\n",
       "      <th>2018</th>\n",
       "      <th>2019</th>\n",
       "      <th>2020</th>\n",
       "    </tr>\n",
       "  </thead>\n",
       "  <tbody>\n",
       "    <tr>\n",
       "      <th>其中：利息费用(元)</th>\n",
       "      <td>0</td>\n",
       "      <td>0</td>\n",
       "      <td>0</td>\n",
       "      <td>0</td>\n",
       "      <td>477,400</td>\n",
       "      <td>6,721,500</td>\n",
       "    </tr>\n",
       "    <tr>\n",
       "      <th>五、净利润(元)</th>\n",
       "      <td>827,950,300</td>\n",
       "      <td>1,206,814,400</td>\n",
       "      <td>1,461,194,100</td>\n",
       "      <td>1,483,847,900</td>\n",
       "      <td>1,614,245,400</td>\n",
       "      <td>1,687,357,900</td>\n",
       "    </tr>\n",
       "    <tr>\n",
       "      <th>利息费用占净利润的比率</th>\n",
       "      <td>0.00%</td>\n",
       "      <td>0.00%</td>\n",
       "      <td>0.00%</td>\n",
       "      <td>0.00%</td>\n",
       "      <td>0.03%</td>\n",
       "      <td>0.40%</td>\n",
       "    </tr>\n",
       "  </tbody>\n",
       "</table>\n",
       "</div>"
      ],
      "text/plain": [
       "                    2015           2016           2017           2018  \\\n",
       "其中：利息费用(元)             0              0              0              0   \n",
       "五、净利润(元)     827,950,300  1,206,814,400  1,461,194,100  1,483,847,900   \n",
       "利息费用占净利润的比率        0.00%          0.00%          0.00%          0.00%   \n",
       "\n",
       "                      2019           2020  \n",
       "其中：利息费用(元)         477,400      6,721,500  \n",
       "五、净利润(元)     1,614,245,400  1,687,357,900  \n",
       "利息费用占净利润的比率          0.03%          0.40%  "
      ]
     },
     "execution_count": 8,
     "metadata": {},
     "output_type": "execute_result"
    }
   ],
   "source": [
    "t3 = analysis.init_table('t3')\n",
    "t3['利息费用占净利润的比率'] = t3['其中：利息费用(元)'] / t3['五、净利润(元)']\n",
    "\n",
    "analysis.format_show_table('t3')"
   ]
  },
  {
   "cell_type": "code",
   "execution_count": 9,
   "metadata": {},
   "outputs": [
    {
     "data": {
      "image/png": "[encoded data removed]",
      "text/plain": [
       "<matplotlib.figure.Figure at 0x210607011d0>"
      ]
     },
     "metadata": {
      "needs_background": "light"
     },
     "output_type": "display_data"
    }
   ],
   "source": [
    "analysis.show_plot('t3')"
   ]
  },
  {
   "cell_type": "markdown",
   "metadata": {},
   "source": [
    "### 预付款项和其他应收款占总资产的比率"
   ]
  },
  {
   "cell_type": "code",
   "execution_count": 10,
   "metadata": {},
   "outputs": [
    {
     "data": {
      "text/html": [
       "<div>\n",
       "<style scoped>\n",
       "    .dataframe tbody tr th:only-of-type {\n",
       "        vertical-align: middle;\n",
       "    }\n",
       "\n",
       "    .dataframe tbody tr th {\n",
       "        vertical-align: top;\n",
       "    }\n",
       "\n",
       "    .dataframe thead th {\n",
       "        text-align: right;\n",
       "    }\n",
       "</style>\n",
       "<table border=\"1\" class=\"dataframe\">\n",
       "  <thead>\n",
       "    <tr style=\"text-align: right;\">\n",
       "      <th></th>\n",
       "      <th>2015</th>\n",
       "      <th>2016</th>\n",
       "      <th>2017</th>\n",
       "      <th>2018</th>\n",
       "      <th>2019</th>\n",
       "      <th>2020</th>\n",
       "    </tr>\n",
       "  </thead>\n",
       "  <tbody>\n",
       "    <tr>\n",
       "      <th>预付款项(元)</th>\n",
       "      <td>20,355,100</td>\n",
       "      <td>32,828,400</td>\n",
       "      <td>58,386,100</td>\n",
       "      <td>59,485,900</td>\n",
       "      <td>50,113,500</td>\n",
       "      <td>69,889,400</td>\n",
       "    </tr>\n",
       "    <tr>\n",
       "      <th>其他应收款合计(元)</th>\n",
       "      <td>11,191,000</td>\n",
       "      <td>14,323,300</td>\n",
       "      <td>51,299,400</td>\n",
       "      <td>70,182,500</td>\n",
       "      <td>110,899,400</td>\n",
       "      <td>56,589,800</td>\n",
       "    </tr>\n",
       "    <tr>\n",
       "      <th>资产合计(元)</th>\n",
       "      <td>5,026,642,400</td>\n",
       "      <td>6,415,202,500</td>\n",
       "      <td>7,926,615,200</td>\n",
       "      <td>9,455,361,500</td>\n",
       "      <td>10,651,922,600</td>\n",
       "      <td>12,457,568,300</td>\n",
       "    </tr>\n",
       "    <tr>\n",
       "      <th>预付款项和其他应收款占总资产的比率</th>\n",
       "      <td>0.63%</td>\n",
       "      <td>0.73%</td>\n",
       "      <td>1.38%</td>\n",
       "      <td>1.37%</td>\n",
       "      <td>1.51%</td>\n",
       "      <td>1.02%</td>\n",
       "    </tr>\n",
       "  </tbody>\n",
       "</table>\n",
       "</div>"
      ],
      "text/plain": [
       "                            2015           2016           2017           2018  \\\n",
       "预付款项(元)               20,355,100     32,828,400     58,386,100     59,485,900   \n",
       "其他应收款合计(元)            11,191,000     14,323,300     51,299,400     70,182,500   \n",
       "资产合计(元)            5,026,642,400  6,415,202,500  7,926,615,200  9,455,361,500   \n",
       "预付款项和其他应收款占总资产的比率          0.63%          0.73%          1.38%          1.37%   \n",
       "\n",
       "                             2019            2020  \n",
       "预付款项(元)                50,113,500      69,889,400  \n",
       "其他应收款合计(元)            110,899,400      56,589,800  \n",
       "资产合计(元)            10,651,922,600  12,457,568,300  \n",
       "预付款项和其他应收款占总资产的比率           1.51%           1.02%  "
      ]
     },
     "execution_count": 10,
     "metadata": {},
     "output_type": "execute_result"
    }
   ],
   "source": [
    "t4 = analysis.init_table('t4')\n",
    "t4['预付款项和其他应收款占总资产的比率'] = t4.T[:2].sum() / t4['资产合计(元)']\n",
    "    \n",
    "analysis.format_show_table('t4')"
   ]
  },
  {
   "cell_type": "code",
   "execution_count": 11,
   "metadata": {},
   "outputs": [
    {
     "data": {
      "image/png": "[encoded data removed]",
      "text/plain": [
       "<matplotlib.figure.Figure at 0x2105f490898>"
      ]
     },
     "metadata": {
      "needs_background": "light"
     },
     "output_type": "display_data"
    }
   ],
   "source": [
    "analysis.show_plot('t4')"
   ]
  },
  {
   "cell_type": "markdown",
   "metadata": {},
   "source": [
    "### 在建工程占总资产的比率"
   ]
  },
  {
   "cell_type": "code",
   "execution_count": 12,
   "metadata": {},
   "outputs": [
    {
     "data": {
      "text/html": [
       "<div>\n",
       "<style scoped>\n",
       "    .dataframe tbody tr th:only-of-type {\n",
       "        vertical-align: middle;\n",
       "    }\n",
       "\n",
       "    .dataframe tbody tr th {\n",
       "        vertical-align: top;\n",
       "    }\n",
       "\n",
       "    .dataframe thead th {\n",
       "        text-align: right;\n",
       "    }\n",
       "</style>\n",
       "<table border=\"1\" class=\"dataframe\">\n",
       "  <thead>\n",
       "    <tr style=\"text-align: right;\">\n",
       "      <th></th>\n",
       "      <th>2015</th>\n",
       "      <th>2016</th>\n",
       "      <th>2017</th>\n",
       "      <th>2018</th>\n",
       "      <th>2019</th>\n",
       "      <th>2020</th>\n",
       "    </tr>\n",
       "  </thead>\n",
       "  <tbody>\n",
       "    <tr>\n",
       "      <th>在建工程合计(元)</th>\n",
       "      <td>0</td>\n",
       "      <td>0</td>\n",
       "      <td>21,085,400</td>\n",
       "      <td>184,440,700</td>\n",
       "      <td>272,211,700</td>\n",
       "      <td>463,424,600</td>\n",
       "    </tr>\n",
       "    <tr>\n",
       "      <th>资产合计(元)</th>\n",
       "      <td>5,026,642,400</td>\n",
       "      <td>6,415,202,500</td>\n",
       "      <td>7,926,615,200</td>\n",
       "      <td>9,455,361,500</td>\n",
       "      <td>10,651,922,600</td>\n",
       "      <td>12,457,568,300</td>\n",
       "    </tr>\n",
       "    <tr>\n",
       "      <th>在建工程占总资产的比率</th>\n",
       "      <td>0.00%</td>\n",
       "      <td>0.00%</td>\n",
       "      <td>0.27%</td>\n",
       "      <td>1.95%</td>\n",
       "      <td>2.56%</td>\n",
       "      <td>3.72%</td>\n",
       "    </tr>\n",
       "  </tbody>\n",
       "</table>\n",
       "</div>"
      ],
      "text/plain": [
       "                      2015           2016           2017           2018  \\\n",
       "在建工程合计(元)                0              0     21,085,400    184,440,700   \n",
       "资产合计(元)      5,026,642,400  6,415,202,500  7,926,615,200  9,455,361,500   \n",
       "在建工程占总资产的比率          0.00%          0.00%          0.27%          1.95%   \n",
       "\n",
       "                       2019            2020  \n",
       "在建工程合计(元)       272,211,700     463,424,600  \n",
       "资产合计(元)      10,651,922,600  12,457,568,300  \n",
       "在建工程占总资产的比率           2.56%           3.72%  "
      ]
     },
     "execution_count": 12,
     "metadata": {},
     "output_type": "execute_result"
    }
   ],
   "source": [
    "t5 = analysis.init_table('t5')\n",
    "t5['在建工程占总资产的比率'] = t5['在建工程合计(元)'] / t5['资产合计(元)']\n",
    "\n",
    "analysis.format_show_table('t5')"
   ]
  },
  {
   "cell_type": "code",
   "execution_count": 13,
   "metadata": {},
   "outputs": [
    {
     "data": {
      "image/png": "[encoded data removed]",
      "text/plain": [
       "<matplotlib.figure.Figure at 0x2105f4bbe48>"
      ]
     },
     "metadata": {
      "needs_background": "light"
     },
     "output_type": "display_data"
    }
   ],
   "source": [
    "analysis.show_plot('t5')"
   ]
  },
  {
   "cell_type": "markdown",
   "metadata": {},
   "source": [
    "### 存货占总资产的比率"
   ]
  },
  {
   "cell_type": "code",
   "execution_count": 14,
   "metadata": {},
   "outputs": [
    {
     "data": {
      "text/html": [
       "<div>\n",
       "<style scoped>\n",
       "    .dataframe tbody tr th:only-of-type {\n",
       "        vertical-align: middle;\n",
       "    }\n",
       "\n",
       "    .dataframe tbody tr th {\n",
       "        vertical-align: top;\n",
       "    }\n",
       "\n",
       "    .dataframe thead th {\n",
       "        text-align: right;\n",
       "    }\n",
       "</style>\n",
       "<table border=\"1\" class=\"dataframe\">\n",
       "  <thead>\n",
       "    <tr style=\"text-align: right;\">\n",
       "      <th></th>\n",
       "      <th>2015</th>\n",
       "      <th>2016</th>\n",
       "      <th>2017</th>\n",
       "      <th>2018</th>\n",
       "      <th>2019</th>\n",
       "      <th>2020</th>\n",
       "    </tr>\n",
       "  </thead>\n",
       "  <tbody>\n",
       "    <tr>\n",
       "      <th>存货(元)</th>\n",
       "      <td>721,573,000</td>\n",
       "      <td>914,493,000</td>\n",
       "      <td>1,112,902,200</td>\n",
       "      <td>1,347,112,700</td>\n",
       "      <td>1,339,176,900</td>\n",
       "      <td>1,386,089,300</td>\n",
       "    </tr>\n",
       "    <tr>\n",
       "      <th>资产合计(元)</th>\n",
       "      <td>5,026,642,400</td>\n",
       "      <td>6,415,202,500</td>\n",
       "      <td>7,926,615,200</td>\n",
       "      <td>9,455,361,500</td>\n",
       "      <td>10,651,922,600</td>\n",
       "      <td>12,457,568,300</td>\n",
       "    </tr>\n",
       "    <tr>\n",
       "      <th>存货占总资产的比率</th>\n",
       "      <td>14.35%</td>\n",
       "      <td>14.26%</td>\n",
       "      <td>14.04%</td>\n",
       "      <td>14.25%</td>\n",
       "      <td>12.57%</td>\n",
       "      <td>11.13%</td>\n",
       "    </tr>\n",
       "  </tbody>\n",
       "</table>\n",
       "</div>"
      ],
      "text/plain": [
       "                    2015           2016           2017           2018  \\\n",
       "存货(元)        721,573,000    914,493,000  1,112,902,200  1,347,112,700   \n",
       "资产合计(元)    5,026,642,400  6,415,202,500  7,926,615,200  9,455,361,500   \n",
       "存货占总资产的比率         14.35%         14.26%         14.04%         14.25%   \n",
       "\n",
       "                     2019            2020  \n",
       "存货(元)       1,339,176,900   1,386,089,300  \n",
       "资产合计(元)    10,651,922,600  12,457,568,300  \n",
       "存货占总资产的比率          12.57%          11.13%  "
      ]
     },
     "execution_count": 14,
     "metadata": {},
     "output_type": "execute_result"
    }
   ],
   "source": [
    "t6 = analysis.init_table('t6')\n",
    "t6['存货占总资产的比率'] = t6['存货(元)'] / t6['资产合计(元)']\n",
    "\n",
    "analysis.format_show_table('t6')"
   ]
  },
  {
   "cell_type": "code",
   "execution_count": 15,
   "metadata": {},
   "outputs": [
    {
     "data": {
      "image/png": "[encoded data removed]",
      "text/plain": [
       "<matplotlib.figure.Figure at 0x2105f533b38>"
      ]
     },
     "metadata": {
      "needs_background": "light"
     },
     "output_type": "display_data"
    }
   ],
   "source": [
    "import pandas as pd\n",
    "from analysis.utils import plot_show\n",
    "\n",
    "tmp_df = pd.merge(\n",
    "    t6['存货占总资产的比率'], \n",
    "    t1['(应收账款+合同资产)占总资产的比率'],\n",
    "    right_index=True,\n",
    "    left_index=True\n",
    ")\n",
    "plot_show(tmp_df, image_title=images['t6'][0], y_label='', y_format='', save_image=True)"
   ]
  },
  {
   "cell_type": "markdown",
   "metadata": {},
   "source": [
    "### 商誉占总资产的比率"
   ]
  },
  {
   "cell_type": "code",
   "execution_count": 16,
   "metadata": {},
   "outputs": [
    {
     "data": {
      "text/html": [
       "<div>\n",
       "<style scoped>\n",
       "    .dataframe tbody tr th:only-of-type {\n",
       "        vertical-align: middle;\n",
       "    }\n",
       "\n",
       "    .dataframe tbody tr th {\n",
       "        vertical-align: top;\n",
       "    }\n",
       "\n",
       "    .dataframe thead th {\n",
       "        text-align: right;\n",
       "    }\n",
       "</style>\n",
       "<table border=\"1\" class=\"dataframe\">\n",
       "  <thead>\n",
       "    <tr style=\"text-align: right;\">\n",
       "      <th></th>\n",
       "      <th>2015</th>\n",
       "      <th>2016</th>\n",
       "      <th>2017</th>\n",
       "      <th>2018</th>\n",
       "      <th>2019</th>\n",
       "      <th>2020</th>\n",
       "    </tr>\n",
       "  </thead>\n",
       "  <tbody>\n",
       "    <tr>\n",
       "      <th>商誉(元)</th>\n",
       "      <td>0</td>\n",
       "      <td>0</td>\n",
       "      <td>0</td>\n",
       "      <td>80,589,600</td>\n",
       "      <td>80,589,600</td>\n",
       "      <td>80,589,600</td>\n",
       "    </tr>\n",
       "    <tr>\n",
       "      <th>资产合计(元)</th>\n",
       "      <td>5,026,642,400</td>\n",
       "      <td>6,415,202,500</td>\n",
       "      <td>7,926,615,200</td>\n",
       "      <td>9,455,361,500</td>\n",
       "      <td>10,651,922,600</td>\n",
       "      <td>12,457,568,300</td>\n",
       "    </tr>\n",
       "    <tr>\n",
       "      <th>商誉占总资产的比率</th>\n",
       "      <td>0.00%</td>\n",
       "      <td>0.00%</td>\n",
       "      <td>0.00%</td>\n",
       "      <td>0.85%</td>\n",
       "      <td>0.76%</td>\n",
       "      <td>0.65%</td>\n",
       "    </tr>\n",
       "  </tbody>\n",
       "</table>\n",
       "</div>"
      ],
      "text/plain": [
       "                    2015           2016           2017           2018  \\\n",
       "商誉(元)                  0              0              0     80,589,600   \n",
       "资产合计(元)    5,026,642,400  6,415,202,500  7,926,615,200  9,455,361,500   \n",
       "商誉占总资产的比率          0.00%          0.00%          0.00%          0.85%   \n",
       "\n",
       "                     2019            2020  \n",
       "商誉(元)          80,589,600      80,589,600  \n",
       "资产合计(元)    10,651,922,600  12,457,568,300  \n",
       "商誉占总资产的比率           0.76%           0.65%  "
      ]
     },
     "execution_count": 16,
     "metadata": {},
     "output_type": "execute_result"
    }
   ],
   "source": [
    "t7 = analysis.init_table('t7')\n",
    "t7['商誉占总资产的比率'] = t7['商誉(元)'] / t7['资产合计(元)']\n",
    "\n",
    "analysis.format_show_table('t7')"
   ]
  },
  {
   "cell_type": "code",
   "execution_count": 17,
   "metadata": {},
   "outputs": [
    {
     "data": {
      "image/png": "[encoded data removed]",
      "text/plain": [
       "<matplotlib.figure.Figure at 0x2105f63ef60>"
      ]
     },
     "metadata": {
      "needs_background": "light"
     },
     "output_type": "display_data"
    }
   ],
   "source": [
    "analysis.show_plot('t7')"
   ]
  },
  {
   "cell_type": "markdown",
   "metadata": {},
   "source": [
    "### 输出分析报告"
   ]
  },
  {
   "cell_type": "code",
   "execution_count": 18,
   "metadata": {},
   "outputs": [],
   "source": [
    "ReportDocument(analysis).save()"
   ]
  },
  {
   "cell_type": "code",
   "execution_count": null,
   "metadata": {},
   "outputs": [],
   "source": []
  }
 ],
 "metadata": {
  "kernelspec": {
   "display_name": "Python 3",
   "language": "python",
   "name": "python3"
  },
  "language_info": {
   "codemirror_mode": {
    "name": "ipython",
    "version": 3
   },
   "file_extension": ".py",
   "mimetype": "text/x-python",
   "name": "python",
   "nbconvert_exporter": "python",
   "pygments_lexer": "ipython3",
   "version": "3.6.4"
  }
 },
 "nbformat": 4,
 "nbformat_minor": 1
}
