{
 "cells": [
  {
   "cell_type": "markdown",
   "metadata": {
    "collapsed": true
   },
   "source": [
    "### 总资产规模及增长率，看公司实力及成长性"
   ]
  },
  {
   "cell_type": "code",
   "execution_count": 1,
   "metadata": {},
   "outputs": [],
   "source": [
    "from analysis import ANALYSIS_CONFIGS\n",
    "from analysis.analysis import FinancialAnalysis\n",
    "from analysis.doc_utils import ReportDocument"
   ]
  },
  {
   "cell_type": "code",
   "execution_count": 2,
   "metadata": {},
   "outputs": [
    {
     "data": {
      "text/plain": [
       "['all_analysis.json',\n",
       " 'asset_quality_analysis.json',\n",
       " 'asset_indepth_analysis.json',\n",
       " 'asset_fraud_analysis.json',\n",
       " 'profit_analysis.json',\n",
       " 'cash_flow_analysis.json']"
      ]
     },
     "execution_count": 2,
     "metadata": {},
     "output_type": "execute_result"
    }
   ],
   "source": [
    "ANALYSIS_CONFIGS"
   ]
  },
  {
   "cell_type": "code",
   "execution_count": 3,
   "metadata": {},
   "outputs": [],
   "source": [
    "ana = FinancialAnalysis(ANALYSIS_CONFIGS[2])\n",
    "images, titles, fields = ana.images, ana.titles, ana.fields"
   ]
  },
  {
   "cell_type": "code",
   "execution_count": 4,
   "metadata": {},
   "outputs": [
    {
     "data": {
      "text/html": [
       "<div>\n",
       "<style scoped>\n",
       "    .dataframe tbody tr th:only-of-type {\n",
       "        vertical-align: middle;\n",
       "    }\n",
       "\n",
       "    .dataframe tbody tr th {\n",
       "        vertical-align: top;\n",
       "    }\n",
       "\n",
       "    .dataframe thead th {\n",
       "        text-align: right;\n",
       "    }\n",
       "</style>\n",
       "<table border=\"1\" class=\"dataframe\">\n",
       "  <thead>\n",
       "    <tr style=\"text-align: right;\">\n",
       "      <th></th>\n",
       "      <th>2015</th>\n",
       "      <th>2016</th>\n",
       "      <th>2017</th>\n",
       "      <th>2018</th>\n",
       "      <th>2019</th>\n",
       "      <th>2020</th>\n",
       "    </tr>\n",
       "  </thead>\n",
       "  <tbody>\n",
       "    <tr>\n",
       "      <th>资产合计(元)</th>\n",
       "      <td>5,026,642,400</td>\n",
       "      <td>6,415,202,500</td>\n",
       "      <td>7,926,615,200</td>\n",
       "      <td>9,455,361,500</td>\n",
       "      <td>10,651,922,600</td>\n",
       "      <td>12,457,568,300</td>\n",
       "    </tr>\n",
       "    <tr>\n",
       "      <th>总资产增长率</th>\n",
       "      <td>nan%</td>\n",
       "      <td>27.62%</td>\n",
       "      <td>23.56%</td>\n",
       "      <td>19.29%</td>\n",
       "      <td>12.65%</td>\n",
       "      <td>16.95%</td>\n",
       "    </tr>\n",
       "  </tbody>\n",
       "</table>\n",
       "</div>"
      ],
      "text/plain": [
       "                  2015           2016           2017           2018  \\\n",
       "资产合计(元)  5,026,642,400  6,415,202,500  7,926,615,200  9,455,361,500   \n",
       "总资产增长率            nan%         27.62%         23.56%         19.29%   \n",
       "\n",
       "                   2019            2020  \n",
       "资产合计(元)  10,651,922,600  12,457,568,300  \n",
       "总资产增长率           12.65%          16.95%  "
      ]
     },
     "execution_count": 4,
     "metadata": {},
     "output_type": "execute_result"
    }
   ],
   "source": [
    "t1 = ana.init_table('t1')\n",
    "t1['总资产增长率'] = t1['资产合计(元)'].pct_change()\n",
    "\n",
    "ana.format_show_table('t1')"
   ]
  },
  {
   "cell_type": "code",
   "execution_count": 5,
   "metadata": {},
   "outputs": [
    {
     "data": {
      "image/png": "[encoded data removed]",
      "text/plain": [
       "<matplotlib.figure.Figure at 0x2162832cda0>"
      ]
     },
     "metadata": {
      "needs_background": "light"
     },
     "output_type": "display_data"
    }
   ],
   "source": [
    "ana.show_plot('t1')"
   ]
  },
  {
   "cell_type": "markdown",
   "metadata": {},
   "source": [
    "### 债务压力：资产负债率"
   ]
  },
  {
   "cell_type": "code",
   "execution_count": 6,
   "metadata": {},
   "outputs": [
    {
     "data": {
      "text/html": [
       "<div>\n",
       "<style scoped>\n",
       "    .dataframe tbody tr th:only-of-type {\n",
       "        vertical-align: middle;\n",
       "    }\n",
       "\n",
       "    .dataframe tbody tr th {\n",
       "        vertical-align: top;\n",
       "    }\n",
       "\n",
       "    .dataframe thead th {\n",
       "        text-align: right;\n",
       "    }\n",
       "</style>\n",
       "<table border=\"1\" class=\"dataframe\">\n",
       "  <thead>\n",
       "    <tr style=\"text-align: right;\">\n",
       "      <th></th>\n",
       "      <th>2015</th>\n",
       "      <th>2016</th>\n",
       "      <th>2017</th>\n",
       "      <th>2018</th>\n",
       "      <th>2019</th>\n",
       "      <th>2020</th>\n",
       "    </tr>\n",
       "  </thead>\n",
       "  <tbody>\n",
       "    <tr>\n",
       "      <th>负债合计(元)</th>\n",
       "      <td>1,860,356,000</td>\n",
       "      <td>2,289,957,600</td>\n",
       "      <td>2,669,143,900</td>\n",
       "      <td>3,324,513,200</td>\n",
       "      <td>3,677,639,200</td>\n",
       "      <td>4,263,789,000</td>\n",
       "    </tr>\n",
       "    <tr>\n",
       "      <th>资产合计(元)</th>\n",
       "      <td>5,026,642,400</td>\n",
       "      <td>6,415,202,500</td>\n",
       "      <td>7,926,615,200</td>\n",
       "      <td>9,455,361,500</td>\n",
       "      <td>10,651,922,600</td>\n",
       "      <td>12,457,568,300</td>\n",
       "    </tr>\n",
       "    <tr>\n",
       "      <th>资产负债率</th>\n",
       "      <td>37.01%</td>\n",
       "      <td>35.70%</td>\n",
       "      <td>33.67%</td>\n",
       "      <td>35.16%</td>\n",
       "      <td>34.53%</td>\n",
       "      <td>34.23%</td>\n",
       "    </tr>\n",
       "  </tbody>\n",
       "</table>\n",
       "</div>"
      ],
      "text/plain": [
       "                  2015           2016           2017           2018  \\\n",
       "负债合计(元)  1,860,356,000  2,289,957,600  2,669,143,900  3,324,513,200   \n",
       "资产合计(元)  5,026,642,400  6,415,202,500  7,926,615,200  9,455,361,500   \n",
       "资产负债率           37.01%         35.70%         33.67%         35.16%   \n",
       "\n",
       "                   2019            2020  \n",
       "负债合计(元)   3,677,639,200   4,263,789,000  \n",
       "资产合计(元)  10,651,922,600  12,457,568,300  \n",
       "资产负债率            34.53%          34.23%  "
      ]
     },
     "execution_count": 6,
     "metadata": {},
     "output_type": "execute_result"
    }
   ],
   "source": [
    "t2 = ana.init_table('t2')\n",
    "t2['资产负债率'] = t2['负债合计(元)'] / t2['资产合计(元)']\n",
    "\n",
    "ana.format_show_table('t2')"
   ]
  },
  {
   "cell_type": "code",
   "execution_count": 7,
   "metadata": {},
   "outputs": [
    {
     "data": {
      "image/png": "[encoded data removed]",
      "text/plain": [
       "<matplotlib.figure.Figure at 0x2162a53b208>"
      ]
     },
     "metadata": {
      "needs_background": "light"
     },
     "output_type": "display_data"
    }
   ],
   "source": [
    "ana.show_plot('t2')"
   ]
  },
  {
   "cell_type": "markdown",
   "metadata": {},
   "source": [
    "### 债务压力：准货币资金与有息负债的差额"
   ]
  },
  {
   "cell_type": "code",
   "execution_count": 8,
   "metadata": {},
   "outputs": [
    {
     "data": {
      "text/html": [
       "<div>\n",
       "<style scoped>\n",
       "    .dataframe tbody tr th:only-of-type {\n",
       "        vertical-align: middle;\n",
       "    }\n",
       "\n",
       "    .dataframe tbody tr th {\n",
       "        vertical-align: top;\n",
       "    }\n",
       "\n",
       "    .dataframe thead th {\n",
       "        text-align: right;\n",
       "    }\n",
       "</style>\n",
       "<table border=\"1\" class=\"dataframe\">\n",
       "  <thead>\n",
       "    <tr style=\"text-align: right;\">\n",
       "      <th></th>\n",
       "      <th>2015</th>\n",
       "      <th>2016</th>\n",
       "      <th>2017</th>\n",
       "      <th>2018</th>\n",
       "      <th>2019</th>\n",
       "      <th>2020</th>\n",
       "    </tr>\n",
       "  </thead>\n",
       "  <tbody>\n",
       "    <tr>\n",
       "      <th>货币资金(元)</th>\n",
       "      <td>2,323,218,500</td>\n",
       "      <td>3,448,409,300</td>\n",
       "      <td>2,581,883,300</td>\n",
       "      <td>2,196,706,800</td>\n",
       "      <td>4,054,121,700</td>\n",
       "      <td>3,921,052,700</td>\n",
       "    </tr>\n",
       "    <tr>\n",
       "      <th>交易性金融资产(元)</th>\n",
       "      <td>0</td>\n",
       "      <td>0</td>\n",
       "      <td>0</td>\n",
       "      <td>0</td>\n",
       "      <td>1,360,000,000</td>\n",
       "      <td>2,352,000,000</td>\n",
       "    </tr>\n",
       "    <tr>\n",
       "      <th>其他流动资产里的理财产品</th>\n",
       "      <td>0</td>\n",
       "      <td>0</td>\n",
       "      <td>1,500,000,000</td>\n",
       "      <td>2,570,000,000</td>\n",
       "      <td>0</td>\n",
       "      <td>0</td>\n",
       "    </tr>\n",
       "    <tr>\n",
       "      <th>其他流动资产里的结构性存款</th>\n",
       "      <td>0</td>\n",
       "      <td>0</td>\n",
       "      <td>0</td>\n",
       "      <td>0</td>\n",
       "      <td>0</td>\n",
       "      <td>0</td>\n",
       "    </tr>\n",
       "    <tr>\n",
       "      <th>准货币资金</th>\n",
       "      <td>2,323,218,500</td>\n",
       "      <td>3,448,409,300</td>\n",
       "      <td>4,081,883,300</td>\n",
       "      <td>4,766,706,800</td>\n",
       "      <td>5,414,121,700</td>\n",
       "      <td>6,273,052,700</td>\n",
       "    </tr>\n",
       "    <tr>\n",
       "      <th>短期借款(元)</th>\n",
       "      <td>0</td>\n",
       "      <td>0</td>\n",
       "      <td>0</td>\n",
       "      <td>0</td>\n",
       "      <td>0</td>\n",
       "      <td>6,076,200</td>\n",
       "    </tr>\n",
       "    <tr>\n",
       "      <th>一年内到期的非流动负债(元)</th>\n",
       "      <td>0</td>\n",
       "      <td>0</td>\n",
       "      <td>0</td>\n",
       "      <td>0</td>\n",
       "      <td>0</td>\n",
       "      <td>0</td>\n",
       "    </tr>\n",
       "    <tr>\n",
       "      <th>长期借款(元)</th>\n",
       "      <td>0</td>\n",
       "      <td>0</td>\n",
       "      <td>0</td>\n",
       "      <td>0</td>\n",
       "      <td>0</td>\n",
       "      <td>0</td>\n",
       "    </tr>\n",
       "    <tr>\n",
       "      <th>应付债券(元)</th>\n",
       "      <td>0</td>\n",
       "      <td>0</td>\n",
       "      <td>0</td>\n",
       "      <td>0</td>\n",
       "      <td>0</td>\n",
       "      <td>0</td>\n",
       "    </tr>\n",
       "    <tr>\n",
       "      <th>长期应付款</th>\n",
       "      <td>0</td>\n",
       "      <td>0</td>\n",
       "      <td>0</td>\n",
       "      <td>0</td>\n",
       "      <td>0</td>\n",
       "      <td>0</td>\n",
       "    </tr>\n",
       "    <tr>\n",
       "      <th>有息负债总额</th>\n",
       "      <td>0</td>\n",
       "      <td>0</td>\n",
       "      <td>0</td>\n",
       "      <td>0</td>\n",
       "      <td>0</td>\n",
       "      <td>6,076,200</td>\n",
       "    </tr>\n",
       "    <tr>\n",
       "      <th>总货币资金与有息负债之差</th>\n",
       "      <td>2,323,218,500</td>\n",
       "      <td>3,448,409,300</td>\n",
       "      <td>4,081,883,300</td>\n",
       "      <td>4,766,706,800</td>\n",
       "      <td>5,414,121,700</td>\n",
       "      <td>6,266,976,500</td>\n",
       "    </tr>\n",
       "  </tbody>\n",
       "</table>\n",
       "</div>"
      ],
      "text/plain": [
       "                         2015           2016           2017           2018  \\\n",
       "货币资金(元)         2,323,218,500  3,448,409,300  2,581,883,300  2,196,706,800   \n",
       "交易性金融资产(元)                  0              0              0              0   \n",
       "其他流动资产里的理财产品                0              0  1,500,000,000  2,570,000,000   \n",
       "其他流动资产里的结构性存款               0              0              0              0   \n",
       "准货币资金           2,323,218,500  3,448,409,300  4,081,883,300  4,766,706,800   \n",
       "短期借款(元)                     0              0              0              0   \n",
       "一年内到期的非流动负债(元)              0              0              0              0   \n",
       "长期借款(元)                     0              0              0              0   \n",
       "应付债券(元)                     0              0              0              0   \n",
       "长期应付款                       0              0              0              0   \n",
       "有息负债总额                      0              0              0              0   \n",
       "总货币资金与有息负债之差    2,323,218,500  3,448,409,300  4,081,883,300  4,766,706,800   \n",
       "\n",
       "                         2019           2020  \n",
       "货币资金(元)         4,054,121,700  3,921,052,700  \n",
       "交易性金融资产(元)      1,360,000,000  2,352,000,000  \n",
       "其他流动资产里的理财产品                0              0  \n",
       "其他流动资产里的结构性存款               0              0  \n",
       "准货币资金           5,414,121,700  6,273,052,700  \n",
       "短期借款(元)                     0      6,076,200  \n",
       "一年内到期的非流动负债(元)              0              0  \n",
       "长期借款(元)                     0              0  \n",
       "应付债券(元)                     0              0  \n",
       "长期应付款                       0              0  \n",
       "有息负债总额                      0      6,076,200  \n",
       "总货币资金与有息负债之差    5,414,121,700  6,266,976,500  "
      ]
     },
     "execution_count": 8,
     "metadata": {},
     "output_type": "execute_result"
    }
   ],
   "source": [
    "t3 = ana.init_table('t3')\n",
    "t3['准货币资金'] = t3.T[:4].sum()\n",
    "t3['有息负债总额'] = t3.T[5:10].sum()\n",
    "t3['总货币资金与有息负债之差'] = t3['准货币资金'] - t3['有息负债总额']\n",
    "\n",
    "ana.format_show_table('t3')"
   ]
  },
  {
   "cell_type": "code",
   "execution_count": 9,
   "metadata": {},
   "outputs": [
    {
     "data": {
      "image/png": "[encoded data removed]",
      "text/plain": [
       "<matplotlib.figure.Figure at 0x2162c8094a8>"
      ]
     },
     "metadata": {
      "needs_background": "light"
     },
     "output_type": "display_data"
    }
   ],
   "source": [
    "ana.show_plot('t3')"
   ]
  },
  {
   "cell_type": "code",
   "execution_count": 10,
   "metadata": {},
   "outputs": [
    {
     "data": {
      "image/png": "[encoded data removed]",
      "text/plain": [
       "<matplotlib.figure.Figure at 0x2162b652198>"
      ]
     },
     "metadata": {
      "needs_background": "light"
     },
     "output_type": "display_data"
    }
   ],
   "source": [
    "ana.show_plot('t3', image_index=1)"
   ]
  },
  {
   "cell_type": "markdown",
   "metadata": {},
   "source": [
    "### 公司竞争力：应付预收减应收预付的差额"
   ]
  },
  {
   "cell_type": "code",
   "execution_count": 11,
   "metadata": {},
   "outputs": [
    {
     "data": {
      "text/html": [
       "<div>\n",
       "<style scoped>\n",
       "    .dataframe tbody tr th:only-of-type {\n",
       "        vertical-align: middle;\n",
       "    }\n",
       "\n",
       "    .dataframe tbody tr th {\n",
       "        vertical-align: top;\n",
       "    }\n",
       "\n",
       "    .dataframe thead th {\n",
       "        text-align: right;\n",
       "    }\n",
       "</style>\n",
       "<table border=\"1\" class=\"dataframe\">\n",
       "  <thead>\n",
       "    <tr style=\"text-align: right;\">\n",
       "      <th></th>\n",
       "      <th>2015</th>\n",
       "      <th>2016</th>\n",
       "      <th>2017</th>\n",
       "      <th>2018</th>\n",
       "      <th>2019</th>\n",
       "      <th>2020</th>\n",
       "    </tr>\n",
       "  </thead>\n",
       "  <tbody>\n",
       "    <tr>\n",
       "      <th>其中：应付票据(元)</th>\n",
       "      <td>0</td>\n",
       "      <td>0</td>\n",
       "      <td>365,613,300</td>\n",
       "      <td>411,415,000</td>\n",
       "      <td>603,308,600</td>\n",
       "      <td>751,802,500</td>\n",
       "    </tr>\n",
       "    <tr>\n",
       "      <th>应付账款(元)</th>\n",
       "      <td>964,246,700</td>\n",
       "      <td>910,854,400</td>\n",
       "      <td>1,045,259,500</td>\n",
       "      <td>1,195,563,100</td>\n",
       "      <td>1,395,061,300</td>\n",
       "      <td>1,723,832,200</td>\n",
       "    </tr>\n",
       "    <tr>\n",
       "      <th>预收款项(元)</th>\n",
       "      <td>524,551,900</td>\n",
       "      <td>840,328,500</td>\n",
       "      <td>735,005,100</td>\n",
       "      <td>1,170,088,500</td>\n",
       "      <td>1,092,261,300</td>\n",
       "      <td>0</td>\n",
       "    </tr>\n",
       "    <tr>\n",
       "      <th>合同负债(元)</th>\n",
       "      <td>0</td>\n",
       "      <td>0</td>\n",
       "      <td>0</td>\n",
       "      <td>0</td>\n",
       "      <td>0</td>\n",
       "      <td>949,591,228</td>\n",
       "    </tr>\n",
       "    <tr>\n",
       "      <th>应付与预收合计</th>\n",
       "      <td>1,488,798,600</td>\n",
       "      <td>1,751,182,900</td>\n",
       "      <td>2,145,877,900</td>\n",
       "      <td>2,777,066,600</td>\n",
       "      <td>3,090,631,200</td>\n",
       "      <td>3,425,225,928</td>\n",
       "    </tr>\n",
       "    <tr>\n",
       "      <th>其中：应收票据(元)</th>\n",
       "      <td>613,732,800</td>\n",
       "      <td>637,529,200</td>\n",
       "      <td>1,007,950,700</td>\n",
       "      <td>1,268,146,300</td>\n",
       "      <td>986,693,100</td>\n",
       "      <td>1,832,701,400</td>\n",
       "    </tr>\n",
       "    <tr>\n",
       "      <th>合同资产(元)</th>\n",
       "      <td>0</td>\n",
       "      <td>0</td>\n",
       "      <td>0</td>\n",
       "      <td>0</td>\n",
       "      <td>0</td>\n",
       "      <td>0</td>\n",
       "    </tr>\n",
       "    <tr>\n",
       "      <th>应收款项融资</th>\n",
       "      <td>0</td>\n",
       "      <td>0</td>\n",
       "      <td>0</td>\n",
       "      <td>0</td>\n",
       "      <td>408,972,104</td>\n",
       "      <td>0</td>\n",
       "    </tr>\n",
       "    <tr>\n",
       "      <th>应收账款(元)</th>\n",
       "      <td>320,387,700</td>\n",
       "      <td>331,595,200</td>\n",
       "      <td>371,167,700</td>\n",
       "      <td>446,773,100</td>\n",
       "      <td>725,630,900</td>\n",
       "      <td>1,008,235,900</td>\n",
       "    </tr>\n",
       "    <tr>\n",
       "      <th>预付款项(元)</th>\n",
       "      <td>20,355,100</td>\n",
       "      <td>32,828,400</td>\n",
       "      <td>58,386,100</td>\n",
       "      <td>59,485,900</td>\n",
       "      <td>50,113,500</td>\n",
       "      <td>69,889,400</td>\n",
       "    </tr>\n",
       "    <tr>\n",
       "      <th>应收与预付合计</th>\n",
       "      <td>954,475,600</td>\n",
       "      <td>1,001,952,800</td>\n",
       "      <td>1,437,504,500</td>\n",
       "      <td>1,774,405,300</td>\n",
       "      <td>2,171,409,604</td>\n",
       "      <td>2,910,826,700</td>\n",
       "    </tr>\n",
       "    <tr>\n",
       "      <th>应付预收减应收预付的差额</th>\n",
       "      <td>534,323,000</td>\n",
       "      <td>749,230,100</td>\n",
       "      <td>708,373,400</td>\n",
       "      <td>1,002,661,300</td>\n",
       "      <td>919,221,596</td>\n",
       "      <td>514,399,228</td>\n",
       "    </tr>\n",
       "  </tbody>\n",
       "</table>\n",
       "</div>"
      ],
      "text/plain": [
       "                       2015           2016           2017           2018  \\\n",
       "其中：应付票据(元)                0              0    365,613,300    411,415,000   \n",
       "应付账款(元)         964,246,700    910,854,400  1,045,259,500  1,195,563,100   \n",
       "预收款项(元)         524,551,900    840,328,500    735,005,100  1,170,088,500   \n",
       "合同负债(元)                   0              0              0              0   \n",
       "应付与预收合计       1,488,798,600  1,751,182,900  2,145,877,900  2,777,066,600   \n",
       "其中：应收票据(元)      613,732,800    637,529,200  1,007,950,700  1,268,146,300   \n",
       "合同资产(元)                   0              0              0              0   \n",
       "应收款项融资                    0              0              0              0   \n",
       "应收账款(元)         320,387,700    331,595,200    371,167,700    446,773,100   \n",
       "预付款项(元)          20,355,100     32,828,400     58,386,100     59,485,900   \n",
       "应收与预付合计         954,475,600  1,001,952,800  1,437,504,500  1,774,405,300   \n",
       "应付预收减应收预付的差额    534,323,000    749,230,100    708,373,400  1,002,661,300   \n",
       "\n",
       "                       2019           2020  \n",
       "其中：应付票据(元)      603,308,600    751,802,500  \n",
       "应付账款(元)       1,395,061,300  1,723,832,200  \n",
       "预收款项(元)       1,092,261,300              0  \n",
       "合同负债(元)                   0    949,591,228  \n",
       "应付与预收合计       3,090,631,200  3,425,225,928  \n",
       "其中：应收票据(元)      986,693,100  1,832,701,400  \n",
       "合同资产(元)                   0              0  \n",
       "应收款项融资          408,972,104              0  \n",
       "应收账款(元)         725,630,900  1,008,235,900  \n",
       "预付款项(元)          50,113,500     69,889,400  \n",
       "应收与预付合计       2,171,409,604  2,910,826,700  \n",
       "应付预收减应收预付的差额    919,221,596    514,399,228  "
      ]
     },
     "execution_count": 11,
     "metadata": {},
     "output_type": "execute_result"
    }
   ],
   "source": [
    "t4 = ana.init_table('t4')\n",
    "t4['应付与预收合计'] = t4.T[:4].sum()\n",
    "t4['应收与预付合计'] = t4.T[5:10].sum()\n",
    "t4['应付预收减应收预付的差额'] = t4['应付与预收合计'] - t4['应收与预付合计']\n",
    "\n",
    "ana.format_show_table('t4')"
   ]
  },
  {
   "cell_type": "code",
   "execution_count": 12,
   "metadata": {},
   "outputs": [
    {
     "data": {
      "image/png": "[encoded data removed]",
      "text/plain": [
       "<matplotlib.figure.Figure at 0x2162b5be908>"
      ]
     },
     "metadata": {
      "needs_background": "light"
     },
     "output_type": "display_data"
    }
   ],
   "source": [
    "ana.show_plot('t4')"
   ]
  },
  {
   "cell_type": "code",
   "execution_count": 13,
   "metadata": {},
   "outputs": [
    {
     "data": {
      "image/png": "[encoded data removed]",
      "text/plain": [
       "<matplotlib.figure.Figure at 0x2162b705a58>"
      ]
     },
     "metadata": {
      "needs_background": "light"
     },
     "output_type": "display_data"
    }
   ],
   "source": [
    "ana.show_plot('t4', image_index=1)"
   ]
  },
  {
   "cell_type": "markdown",
   "metadata": {},
   "source": [
    "### 产品竞争力：应收账款+合同资产占总资产的比例"
   ]
  },
  {
   "cell_type": "code",
   "execution_count": 14,
   "metadata": {},
   "outputs": [
    {
     "data": {
      "text/html": [
       "<div>\n",
       "<style scoped>\n",
       "    .dataframe tbody tr th:only-of-type {\n",
       "        vertical-align: middle;\n",
       "    }\n",
       "\n",
       "    .dataframe tbody tr th {\n",
       "        vertical-align: top;\n",
       "    }\n",
       "\n",
       "    .dataframe thead th {\n",
       "        text-align: right;\n",
       "    }\n",
       "</style>\n",
       "<table border=\"1\" class=\"dataframe\">\n",
       "  <thead>\n",
       "    <tr style=\"text-align: right;\">\n",
       "      <th></th>\n",
       "      <th>2015</th>\n",
       "      <th>2016</th>\n",
       "      <th>2017</th>\n",
       "      <th>2018</th>\n",
       "      <th>2019</th>\n",
       "      <th>2020</th>\n",
       "    </tr>\n",
       "  </thead>\n",
       "  <tbody>\n",
       "    <tr>\n",
       "      <th>合同资产(元)</th>\n",
       "      <td>0</td>\n",
       "      <td>0</td>\n",
       "      <td>0</td>\n",
       "      <td>0</td>\n",
       "      <td>0</td>\n",
       "      <td>0</td>\n",
       "    </tr>\n",
       "    <tr>\n",
       "      <th>应收账款(元)</th>\n",
       "      <td>320,387,700</td>\n",
       "      <td>331,595,200</td>\n",
       "      <td>371,167,700</td>\n",
       "      <td>446,773,100</td>\n",
       "      <td>725,630,900</td>\n",
       "      <td>1,008,235,900</td>\n",
       "    </tr>\n",
       "    <tr>\n",
       "      <th>资产合计(元)</th>\n",
       "      <td>5,026,642,400</td>\n",
       "      <td>6,415,202,500</td>\n",
       "      <td>7,926,615,200</td>\n",
       "      <td>9,455,361,500</td>\n",
       "      <td>10,651,922,600</td>\n",
       "      <td>12,457,568,300</td>\n",
       "    </tr>\n",
       "    <tr>\n",
       "      <th>应收账款加合同资产占总资产的比率</th>\n",
       "      <td>6.37%</td>\n",
       "      <td>5.17%</td>\n",
       "      <td>4.68%</td>\n",
       "      <td>4.73%</td>\n",
       "      <td>6.81%</td>\n",
       "      <td>8.09%</td>\n",
       "    </tr>\n",
       "    <tr>\n",
       "      <th>应收账款+合同资产</th>\n",
       "      <td>320,387,700</td>\n",
       "      <td>331,595,200</td>\n",
       "      <td>371,167,700</td>\n",
       "      <td>446,773,100</td>\n",
       "      <td>725,630,900</td>\n",
       "      <td>1,008,235,900</td>\n",
       "    </tr>\n",
       "  </tbody>\n",
       "</table>\n",
       "</div>"
      ],
      "text/plain": [
       "                           2015           2016           2017           2018  \\\n",
       "合同资产(元)                       0              0              0              0   \n",
       "应收账款(元)             320,387,700    331,595,200    371,167,700    446,773,100   \n",
       "资产合计(元)           5,026,642,400  6,415,202,500  7,926,615,200  9,455,361,500   \n",
       "应收账款加合同资产占总资产的比率          6.37%          5.17%          4.68%          4.73%   \n",
       "应收账款+合同资产           320,387,700    331,595,200    371,167,700    446,773,100   \n",
       "\n",
       "                            2019            2020  \n",
       "合同资产(元)                        0               0  \n",
       "应收账款(元)              725,630,900   1,008,235,900  \n",
       "资产合计(元)           10,651,922,600  12,457,568,300  \n",
       "应收账款加合同资产占总资产的比率           6.81%           8.09%  \n",
       "应收账款+合同资产            725,630,900   1,008,235,900  "
      ]
     },
     "execution_count": 14,
     "metadata": {},
     "output_type": "execute_result"
    }
   ],
   "source": [
    "t5 = ana.init_table('t5')\n",
    "t5['应收账款+合同资产'] = t5.T[:2].sum()\n",
    "t5['应收账款加合同资产占总资产的比率'] = t5['应收账款+合同资产'] / t5['资产合计(元)']\n",
    "\n",
    "ana.format_show_table('t5')"
   ]
  },
  {
   "cell_type": "code",
   "execution_count": 15,
   "metadata": {},
   "outputs": [
    {
     "data": {
      "image/png": "[encoded data removed]",
      "text/plain": [
       "<matplotlib.figure.Figure at 0x2162b7407b8>"
      ]
     },
     "metadata": {
      "needs_background": "light"
     },
     "output_type": "display_data"
    }
   ],
   "source": [
    "ana.show_plot('t5')"
   ]
  },
  {
   "cell_type": "markdown",
   "metadata": {},
   "source": [
    "### 主业专注度：投资类资产占总资产的比例"
   ]
  },
  {
   "cell_type": "code",
   "execution_count": 16,
   "metadata": {},
   "outputs": [
    {
     "data": {
      "text/html": [
       "<div>\n",
       "<style scoped>\n",
       "    .dataframe tbody tr th:only-of-type {\n",
       "        vertical-align: middle;\n",
       "    }\n",
       "\n",
       "    .dataframe tbody tr th {\n",
       "        vertical-align: top;\n",
       "    }\n",
       "\n",
       "    .dataframe thead th {\n",
       "        text-align: right;\n",
       "    }\n",
       "</style>\n",
       "<table border=\"1\" class=\"dataframe\">\n",
       "  <thead>\n",
       "    <tr style=\"text-align: right;\">\n",
       "      <th></th>\n",
       "      <th>2015</th>\n",
       "      <th>2016</th>\n",
       "      <th>2017</th>\n",
       "      <th>2018</th>\n",
       "      <th>2019</th>\n",
       "      <th>2020</th>\n",
       "    </tr>\n",
       "  </thead>\n",
       "  <tbody>\n",
       "    <tr>\n",
       "      <th>以公允价值计量且其变动计入当期损益的金融资产(元)</th>\n",
       "      <td>0</td>\n",
       "      <td>0</td>\n",
       "      <td>0</td>\n",
       "      <td>0</td>\n",
       "      <td>0</td>\n",
       "      <td>0</td>\n",
       "    </tr>\n",
       "    <tr>\n",
       "      <th>债权投资(元)</th>\n",
       "      <td>0</td>\n",
       "      <td>0</td>\n",
       "      <td>0</td>\n",
       "      <td>0</td>\n",
       "      <td>0</td>\n",
       "      <td>0</td>\n",
       "    </tr>\n",
       "    <tr>\n",
       "      <th>可供出售金融资产(元)</th>\n",
       "      <td>27,734,000</td>\n",
       "      <td>27,734,000</td>\n",
       "      <td>147,734,000</td>\n",
       "      <td>119,948,500</td>\n",
       "      <td>0</td>\n",
       "      <td>0</td>\n",
       "    </tr>\n",
       "    <tr>\n",
       "      <th>其他权益工具投资(元)</th>\n",
       "      <td>0</td>\n",
       "      <td>0</td>\n",
       "      <td>0</td>\n",
       "      <td>0</td>\n",
       "      <td>102,116,000</td>\n",
       "      <td>102,116,000</td>\n",
       "    </tr>\n",
       "    <tr>\n",
       "      <th>持有至到期投资(元)</th>\n",
       "      <td>0</td>\n",
       "      <td>0</td>\n",
       "      <td>0</td>\n",
       "      <td>0</td>\n",
       "      <td>0</td>\n",
       "      <td>0</td>\n",
       "    </tr>\n",
       "    <tr>\n",
       "      <th>其他非流动金融资产(元)</th>\n",
       "      <td>0</td>\n",
       "      <td>0</td>\n",
       "      <td>0</td>\n",
       "      <td>0</td>\n",
       "      <td>0</td>\n",
       "      <td>0</td>\n",
       "    </tr>\n",
       "    <tr>\n",
       "      <th>长期股权投资(元)</th>\n",
       "      <td>0</td>\n",
       "      <td>817,900</td>\n",
       "      <td>3,815,200</td>\n",
       "      <td>2,617,900</td>\n",
       "      <td>4,168,300</td>\n",
       "      <td>3,452,800</td>\n",
       "    </tr>\n",
       "    <tr>\n",
       "      <th>投资性房地产(元)</th>\n",
       "      <td>148,500</td>\n",
       "      <td>139,500</td>\n",
       "      <td>130,600</td>\n",
       "      <td>121,600</td>\n",
       "      <td>112,600</td>\n",
       "      <td>2,591,000</td>\n",
       "    </tr>\n",
       "    <tr>\n",
       "      <th>投资类资产合计</th>\n",
       "      <td>27,882,500</td>\n",
       "      <td>28,691,400</td>\n",
       "      <td>151,679,800</td>\n",
       "      <td>122,688,000</td>\n",
       "      <td>106,396,900</td>\n",
       "      <td>108,159,800</td>\n",
       "    </tr>\n",
       "    <tr>\n",
       "      <th>资产合计(元)</th>\n",
       "      <td>5,026,642,400</td>\n",
       "      <td>6,415,202,500</td>\n",
       "      <td>7,926,615,200</td>\n",
       "      <td>9,455,361,500</td>\n",
       "      <td>10,651,922,600</td>\n",
       "      <td>12,457,568,300</td>\n",
       "    </tr>\n",
       "    <tr>\n",
       "      <th>投资类资产占总资产的比率</th>\n",
       "      <td>0.55%</td>\n",
       "      <td>0.45%</td>\n",
       "      <td>1.91%</td>\n",
       "      <td>1.30%</td>\n",
       "      <td>1.00%</td>\n",
       "      <td>0.87%</td>\n",
       "    </tr>\n",
       "  </tbody>\n",
       "</table>\n",
       "</div>"
      ],
      "text/plain": [
       "                                    2015           2016           2017  \\\n",
       "以公允价值计量且其变动计入当期损益的金融资产(元)              0              0              0   \n",
       "债权投资(元)                                0              0              0   \n",
       "可供出售金融资产(元)                   27,734,000     27,734,000    147,734,000   \n",
       "其他权益工具投资(元)                            0              0              0   \n",
       "持有至到期投资(元)                             0              0              0   \n",
       "其他非流动金融资产(元)                           0              0              0   \n",
       "长期股权投资(元)                              0        817,900      3,815,200   \n",
       "投资性房地产(元)                        148,500        139,500        130,600   \n",
       "投资类资产合计                       27,882,500     28,691,400    151,679,800   \n",
       "资产合计(元)                    5,026,642,400  6,415,202,500  7,926,615,200   \n",
       "投资类资产占总资产的比率                       0.55%          0.45%          1.91%   \n",
       "\n",
       "                                    2018            2019            2020  \n",
       "以公允价值计量且其变动计入当期损益的金融资产(元)              0               0               0  \n",
       "债权投资(元)                                0               0               0  \n",
       "可供出售金融资产(元)                  119,948,500               0               0  \n",
       "其他权益工具投资(元)                            0     102,116,000     102,116,000  \n",
       "持有至到期投资(元)                             0               0               0  \n",
       "其他非流动金融资产(元)                           0               0               0  \n",
       "长期股权投资(元)                      2,617,900       4,168,300       3,452,800  \n",
       "投资性房地产(元)                        121,600         112,600       2,591,000  \n",
       "投资类资产合计                      122,688,000     106,396,900     108,159,800  \n",
       "资产合计(元)                    9,455,361,500  10,651,922,600  12,457,568,300  \n",
       "投资类资产占总资产的比率                       1.30%           1.00%           0.87%  "
      ]
     },
     "execution_count": 16,
     "metadata": {},
     "output_type": "execute_result"
    }
   ],
   "source": [
    "t6 = ana.init_table('t6')\n",
    "t6['投资类资产合计'] = t6.T[:8].sum()\n",
    "t6['投资类资产占总资产的比率'] = t6['投资类资产合计'] / t6['资产合计(元)']\n",
    "\n",
    "ana.format_show_table('t6')"
   ]
  },
  {
   "cell_type": "code",
   "execution_count": 17,
   "metadata": {},
   "outputs": [
    {
     "data": {
      "image/png": "[encoded data removed]",
      "text/plain": [
       "<matplotlib.figure.Figure at 0x2162b892c88>"
      ]
     },
     "metadata": {
      "needs_background": "light"
     },
     "output_type": "display_data"
    }
   ],
   "source": [
    "ana.show_plot('t6')"
   ]
  },
  {
   "cell_type": "markdown",
   "metadata": {},
   "source": [
    "### 存货暴雷风险：存货和应收账款占比"
   ]
  },
  {
   "cell_type": "code",
   "execution_count": 18,
   "metadata": {},
   "outputs": [
    {
     "data": {
      "text/html": [
       "<div>\n",
       "<style scoped>\n",
       "    .dataframe tbody tr th:only-of-type {\n",
       "        vertical-align: middle;\n",
       "    }\n",
       "\n",
       "    .dataframe tbody tr th {\n",
       "        vertical-align: top;\n",
       "    }\n",
       "\n",
       "    .dataframe thead th {\n",
       "        text-align: right;\n",
       "    }\n",
       "</style>\n",
       "<table border=\"1\" class=\"dataframe\">\n",
       "  <thead>\n",
       "    <tr style=\"text-align: right;\">\n",
       "      <th></th>\n",
       "      <th>2015</th>\n",
       "      <th>2016</th>\n",
       "      <th>2017</th>\n",
       "      <th>2018</th>\n",
       "      <th>2019</th>\n",
       "      <th>2020</th>\n",
       "    </tr>\n",
       "  </thead>\n",
       "  <tbody>\n",
       "    <tr>\n",
       "      <th>存货(元)</th>\n",
       "      <td>721,573,000</td>\n",
       "      <td>914,493,000</td>\n",
       "      <td>1,112,902,200</td>\n",
       "      <td>1,347,112,700</td>\n",
       "      <td>1,339,176,900</td>\n",
       "      <td>1,386,089,300</td>\n",
       "    </tr>\n",
       "    <tr>\n",
       "      <th>资产合计(元)</th>\n",
       "      <td>5,026,642,400</td>\n",
       "      <td>6,415,202,500</td>\n",
       "      <td>7,926,615,200</td>\n",
       "      <td>9,455,361,500</td>\n",
       "      <td>10,651,922,600</td>\n",
       "      <td>12,457,568,300</td>\n",
       "    </tr>\n",
       "    <tr>\n",
       "      <th>存货占总资产的比率</th>\n",
       "      <td>14.35%</td>\n",
       "      <td>14.26%</td>\n",
       "      <td>14.04%</td>\n",
       "      <td>14.25%</td>\n",
       "      <td>12.57%</td>\n",
       "      <td>11.13%</td>\n",
       "    </tr>\n",
       "  </tbody>\n",
       "</table>\n",
       "</div>"
      ],
      "text/plain": [
       "                    2015           2016           2017           2018  \\\n",
       "存货(元)        721,573,000    914,493,000  1,112,902,200  1,347,112,700   \n",
       "资产合计(元)    5,026,642,400  6,415,202,500  7,926,615,200  9,455,361,500   \n",
       "存货占总资产的比率         14.35%         14.26%         14.04%         14.25%   \n",
       "\n",
       "                     2019            2020  \n",
       "存货(元)       1,339,176,900   1,386,089,300  \n",
       "资产合计(元)    10,651,922,600  12,457,568,300  \n",
       "存货占总资产的比率          12.57%          11.13%  "
      ]
     },
     "execution_count": 18,
     "metadata": {},
     "output_type": "execute_result"
    }
   ],
   "source": [
    "t7 = ana.init_table('t7')\n",
    "t7['存货占总资产的比率'] = t7['存货(元)'] / t7[ '资产合计(元)']\n",
    "\n",
    "ana.format_show_table('t7')"
   ]
  },
  {
   "cell_type": "code",
   "execution_count": 19,
   "metadata": {},
   "outputs": [
    {
     "data": {
      "image/png": "[encoded data removed]",
      "text/plain": [
       "<matplotlib.figure.Figure at 0x2162b8a90b8>"
      ]
     },
     "metadata": {
      "needs_background": "light"
     },
     "output_type": "display_data"
    }
   ],
   "source": [
    "import pandas as pd\n",
    "from analysis.utils import plot_show\n",
    "\n",
    "tmp_df = pd.merge(\n",
    "    t7['存货占总资产的比率'], \n",
    "    t5['应收账款加合同资产占总资产的比率'],\n",
    "    right_index=True,\n",
    "    left_index=True\n",
    ")\n",
    "plot_show(tmp_df, image_title=images['t7'][0], y_label='', y_format='', save_image=True)"
   ]
  },
  {
   "cell_type": "markdown",
   "metadata": {},
   "source": [
    "### 商誉暴雷风险：商誉占总资产的比例"
   ]
  },
  {
   "cell_type": "code",
   "execution_count": 20,
   "metadata": {},
   "outputs": [
    {
     "data": {
      "text/html": [
       "<div>\n",
       "<style scoped>\n",
       "    .dataframe tbody tr th:only-of-type {\n",
       "        vertical-align: middle;\n",
       "    }\n",
       "\n",
       "    .dataframe tbody tr th {\n",
       "        vertical-align: top;\n",
       "    }\n",
       "\n",
       "    .dataframe thead th {\n",
       "        text-align: right;\n",
       "    }\n",
       "</style>\n",
       "<table border=\"1\" class=\"dataframe\">\n",
       "  <thead>\n",
       "    <tr style=\"text-align: right;\">\n",
       "      <th></th>\n",
       "      <th>2015</th>\n",
       "      <th>2016</th>\n",
       "      <th>2017</th>\n",
       "      <th>2018</th>\n",
       "      <th>2019</th>\n",
       "      <th>2020</th>\n",
       "    </tr>\n",
       "  </thead>\n",
       "  <tbody>\n",
       "    <tr>\n",
       "      <th>商誉(元)</th>\n",
       "      <td>0</td>\n",
       "      <td>0</td>\n",
       "      <td>0</td>\n",
       "      <td>80,589,600</td>\n",
       "      <td>80,589,600</td>\n",
       "      <td>80,589,600</td>\n",
       "    </tr>\n",
       "    <tr>\n",
       "      <th>资产合计(元)</th>\n",
       "      <td>5,026,642,400</td>\n",
       "      <td>6,415,202,500</td>\n",
       "      <td>7,926,615,200</td>\n",
       "      <td>9,455,361,500</td>\n",
       "      <td>10,651,922,600</td>\n",
       "      <td>12,457,568,300</td>\n",
       "    </tr>\n",
       "    <tr>\n",
       "      <th>商誉占总资产的比率</th>\n",
       "      <td>0.00%</td>\n",
       "      <td>0.00%</td>\n",
       "      <td>0.00%</td>\n",
       "      <td>0.85%</td>\n",
       "      <td>0.76%</td>\n",
       "      <td>0.65%</td>\n",
       "    </tr>\n",
       "  </tbody>\n",
       "</table>\n",
       "</div>"
      ],
      "text/plain": [
       "                    2015           2016           2017           2018  \\\n",
       "商誉(元)                  0              0              0     80,589,600   \n",
       "资产合计(元)    5,026,642,400  6,415,202,500  7,926,615,200  9,455,361,500   \n",
       "商誉占总资产的比率          0.00%          0.00%          0.00%          0.85%   \n",
       "\n",
       "                     2019            2020  \n",
       "商誉(元)          80,589,600      80,589,600  \n",
       "资产合计(元)    10,651,922,600  12,457,568,300  \n",
       "商誉占总资产的比率           0.76%           0.65%  "
      ]
     },
     "execution_count": 20,
     "metadata": {},
     "output_type": "execute_result"
    }
   ],
   "source": [
    "t8 = ana.init_table('t8')\n",
    "t8['商誉占总资产的比率'] = t8['商誉(元)'] / t8[ '资产合计(元)']\n",
    "\n",
    "ana.format_show_table('t8')"
   ]
  },
  {
   "cell_type": "code",
   "execution_count": 21,
   "metadata": {},
   "outputs": [
    {
     "data": {
      "image/png": "[encoded data removed]",
      "text/plain": [
       "<matplotlib.figure.Figure at 0x2162ba2ebe0>"
      ]
     },
     "metadata": {
      "needs_background": "light"
     },
     "output_type": "display_data"
    }
   ],
   "source": [
    "ana.show_plot('t8')"
   ]
  },
  {
   "cell_type": "markdown",
   "metadata": {},
   "source": [
    "### 输出分析报告"
   ]
  },
  {
   "cell_type": "code",
   "execution_count": 22,
   "metadata": {},
   "outputs": [],
   "source": [
    "ReportDocument(ana).save()"
   ]
  },
  {
   "cell_type": "code",
   "execution_count": null,
   "metadata": {},
   "outputs": [],
   "source": []
  }
 ],
 "metadata": {
  "kernelspec": {
   "display_name": "Python 3",
   "language": "python",
   "name": "python3"
  },
  "language_info": {
   "codemirror_mode": {
    "name": "ipython",
    "version": 3
   },
   "file_extension": ".py",
   "mimetype": "text/x-python",
   "name": "python",
   "nbconvert_exporter": "python",
   "pygments_lexer": "ipython3",
   "version": "3.6.4"
  }
 },
 "nbformat": 4,
 "nbformat_minor": 1
}
