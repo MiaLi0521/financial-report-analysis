{
 "cells": [
  {
   "cell_type": "markdown",
   "metadata": {
    "collapsed": true
   },
   "source": [
    "### 总资产规模及增长率，看公司实力及成长性"
   ]
  },
  {
   "cell_type": "code",
   "execution_count": 1,
   "metadata": {},
   "outputs": [],
   "source": [
    "from analysis import ANALYSIS_CONFIGS\n",
    "from analysis.analysis import FinancialAnalysis\n",
    "from analysis.doc_utils import ReportDocument"
   ]
  },
  {
   "cell_type": "code",
   "execution_count": 2,
   "metadata": {},
   "outputs": [
    {
     "data": {
      "text/plain": [
       "['all_analysis.json',\n",
       " 'asset_quality_analysis.json',\n",
       " 'asset_indepth_analysis.json',\n",
       " 'asset_fraud_analysis.json',\n",
       " 'profit_analysis.json',\n",
       " 'cash_flow_analysis.json']"
      ]
     },
     "execution_count": 2,
     "metadata": {},
     "output_type": "execute_result"
    }
   ],
   "source": [
    "ANALYSIS_CONFIGS"
   ]
  },
  {
   "cell_type": "code",
   "execution_count": 3,
   "metadata": {},
   "outputs": [],
   "source": [
    "ana = FinancialAnalysis(ANALYSIS_CONFIGS[2])\n",
    "images, titles, fields = ana.images, ana.titles, ana.fields"
   ]
  },
  {
   "cell_type": "code",
   "execution_count": 4,
   "metadata": {},
   "outputs": [
    {
     "data": {
      "text/html": [
       "<div>\n",
       "<style scoped>\n",
       "    .dataframe tbody tr th:only-of-type {\n",
       "        vertical-align: middle;\n",
       "    }\n",
       "\n",
       "    .dataframe tbody tr th {\n",
       "        vertical-align: top;\n",
       "    }\n",
       "\n",
       "    .dataframe thead th {\n",
       "        text-align: right;\n",
       "    }\n",
       "</style>\n",
       "<table border=\"1\" class=\"dataframe\">\n",
       "  <thead>\n",
       "    <tr style=\"text-align: right;\">\n",
       "      <th></th>\n",
       "      <th>2015</th>\n",
       "      <th>2016</th>\n",
       "      <th>2017</th>\n",
       "      <th>2018</th>\n",
       "      <th>2019</th>\n",
       "      <th>2020</th>\n",
       "    </tr>\n",
       "  </thead>\n",
       "  <tbody>\n",
       "    <tr>\n",
       "      <th>资产合计(元)</th>\n",
       "      <td>1,211,887,900</td>\n",
       "      <td>1,397,628,600</td>\n",
       "      <td>1,675,684,100</td>\n",
       "      <td>1,780,577,600</td>\n",
       "      <td>1,986,804,400</td>\n",
       "      <td>2,178,534,900</td>\n",
       "    </tr>\n",
       "    <tr>\n",
       "      <th>总资产增长率</th>\n",
       "      <td>nan%</td>\n",
       "      <td>15.33%</td>\n",
       "      <td>19.89%</td>\n",
       "      <td>6.26%</td>\n",
       "      <td>11.58%</td>\n",
       "      <td>9.65%</td>\n",
       "    </tr>\n",
       "  </tbody>\n",
       "</table>\n",
       "</div>"
      ],
      "text/plain": [
       "                  2015           2016           2017           2018  \\\n",
       "资产合计(元)  1,211,887,900  1,397,628,600  1,675,684,100  1,780,577,600   \n",
       "总资产增长率            nan%         15.33%         19.89%          6.26%   \n",
       "\n",
       "                  2019           2020  \n",
       "资产合计(元)  1,986,804,400  2,178,534,900  \n",
       "总资产增长率          11.58%          9.65%  "
      ]
     },
     "execution_count": 4,
     "metadata": {},
     "output_type": "execute_result"
    }
   ],
   "source": [
    "t1 = ana.init_table('t1')\n",
    "t1['总资产增长率'] = t1['资产合计(元)'].pct_change()\n",
    "\n",
    "ana.format_show_table('t1')"
   ]
  },
  {
   "cell_type": "code",
   "execution_count": 5,
   "metadata": {},
   "outputs": [
    {
     "data": {
      "image/png": "[encoded data removed]",
      "text/plain": [
       "<matplotlib.figure.Figure at 0x257a6a2bdd8>"
      ]
     },
     "metadata": {
      "needs_background": "light"
     },
     "output_type": "display_data"
    }
   ],
   "source": [
    "ana.show_plot('t1')"
   ]
  },
  {
   "cell_type": "markdown",
   "metadata": {},
   "source": [
    "### 债务压力：资产负债率"
   ]
  },
  {
   "cell_type": "code",
   "execution_count": 6,
   "metadata": {},
   "outputs": [
    {
     "data": {
      "text/html": [
       "<div>\n",
       "<style scoped>\n",
       "    .dataframe tbody tr th:only-of-type {\n",
       "        vertical-align: middle;\n",
       "    }\n",
       "\n",
       "    .dataframe tbody tr th {\n",
       "        vertical-align: top;\n",
       "    }\n",
       "\n",
       "    .dataframe thead th {\n",
       "        text-align: right;\n",
       "    }\n",
       "</style>\n",
       "<table border=\"1\" class=\"dataframe\">\n",
       "  <thead>\n",
       "    <tr style=\"text-align: right;\">\n",
       "      <th></th>\n",
       "      <th>2015</th>\n",
       "      <th>2016</th>\n",
       "      <th>2017</th>\n",
       "      <th>2018</th>\n",
       "      <th>2019</th>\n",
       "      <th>2020</th>\n",
       "    </tr>\n",
       "  </thead>\n",
       "  <tbody>\n",
       "    <tr>\n",
       "      <th>负债合计(元)</th>\n",
       "      <td>168,415,800</td>\n",
       "      <td>246,575,200</td>\n",
       "      <td>367,271,500</td>\n",
       "      <td>415,501,400</td>\n",
       "      <td>467,556,400</td>\n",
       "      <td>474,821,000</td>\n",
       "    </tr>\n",
       "    <tr>\n",
       "      <th>资产合计(元)</th>\n",
       "      <td>1,211,887,900</td>\n",
       "      <td>1,397,628,600</td>\n",
       "      <td>1,675,684,100</td>\n",
       "      <td>1,780,577,600</td>\n",
       "      <td>1,986,804,400</td>\n",
       "      <td>2,178,534,900</td>\n",
       "    </tr>\n",
       "    <tr>\n",
       "      <th>资产负债率</th>\n",
       "      <td>13.90%</td>\n",
       "      <td>17.64%</td>\n",
       "      <td>21.92%</td>\n",
       "      <td>23.34%</td>\n",
       "      <td>23.53%</td>\n",
       "      <td>21.80%</td>\n",
       "    </tr>\n",
       "  </tbody>\n",
       "</table>\n",
       "</div>"
      ],
      "text/plain": [
       "                  2015           2016           2017           2018  \\\n",
       "负债合计(元)    168,415,800    246,575,200    367,271,500    415,501,400   \n",
       "资产合计(元)  1,211,887,900  1,397,628,600  1,675,684,100  1,780,577,600   \n",
       "资产负债率           13.90%         17.64%         21.92%         23.34%   \n",
       "\n",
       "                  2019           2020  \n",
       "负债合计(元)    467,556,400    474,821,000  \n",
       "资产合计(元)  1,986,804,400  2,178,534,900  \n",
       "资产负债率           23.53%         21.80%  "
      ]
     },
     "execution_count": 6,
     "metadata": {},
     "output_type": "execute_result"
    }
   ],
   "source": [
    "t2 = ana.init_table('t2')\n",
    "t2['资产负债率'] = t2['负债合计(元)'] / t2['资产合计(元)']\n",
    "\n",
    "ana.format_show_table('t2')"
   ]
  },
  {
   "cell_type": "code",
   "execution_count": 7,
   "metadata": {},
   "outputs": [
    {
     "data": {
      "image/png": "[encoded data removed]",
      "text/plain": [
       "<matplotlib.figure.Figure at 0x257a6a2bda0>"
      ]
     },
     "metadata": {
      "needs_background": "light"
     },
     "output_type": "display_data"
    }
   ],
   "source": [
    "ana.show_plot('t2')"
   ]
  },
  {
   "cell_type": "markdown",
   "metadata": {},
   "source": [
    "### 债务压力：准货币资金与有息负债的差额"
   ]
  },
  {
   "cell_type": "code",
   "execution_count": 8,
   "metadata": {},
   "outputs": [
    {
     "data": {
      "text/html": [
       "<div>\n",
       "<style scoped>\n",
       "    .dataframe tbody tr th:only-of-type {\n",
       "        vertical-align: middle;\n",
       "    }\n",
       "\n",
       "    .dataframe tbody tr th {\n",
       "        vertical-align: top;\n",
       "    }\n",
       "\n",
       "    .dataframe thead th {\n",
       "        text-align: right;\n",
       "    }\n",
       "</style>\n",
       "<table border=\"1\" class=\"dataframe\">\n",
       "  <thead>\n",
       "    <tr style=\"text-align: right;\">\n",
       "      <th></th>\n",
       "      <th>2015</th>\n",
       "      <th>2016</th>\n",
       "      <th>2017</th>\n",
       "      <th>2018</th>\n",
       "      <th>2019</th>\n",
       "      <th>2020</th>\n",
       "    </tr>\n",
       "  </thead>\n",
       "  <tbody>\n",
       "    <tr>\n",
       "      <th>货币资金(元)</th>\n",
       "      <td>371,817,300</td>\n",
       "      <td>370,078,000</td>\n",
       "      <td>865,129,000</td>\n",
       "      <td>839,378,600</td>\n",
       "      <td>799,127,100</td>\n",
       "      <td>509,970,800</td>\n",
       "    </tr>\n",
       "    <tr>\n",
       "      <th>交易性金融资产(元)</th>\n",
       "      <td>0</td>\n",
       "      <td>0</td>\n",
       "      <td>0</td>\n",
       "      <td>0</td>\n",
       "      <td>0</td>\n",
       "      <td>500,000,000</td>\n",
       "    </tr>\n",
       "    <tr>\n",
       "      <th>其他流动资产里的理财产品</th>\n",
       "      <td>370,000,000</td>\n",
       "      <td>550,000,000</td>\n",
       "      <td>0</td>\n",
       "      <td>0</td>\n",
       "      <td>0</td>\n",
       "      <td>0</td>\n",
       "    </tr>\n",
       "    <tr>\n",
       "      <th>其他流动资产里的结构性存款</th>\n",
       "      <td>0</td>\n",
       "      <td>0</td>\n",
       "      <td>0</td>\n",
       "      <td>0</td>\n",
       "      <td>0</td>\n",
       "      <td>0</td>\n",
       "    </tr>\n",
       "    <tr>\n",
       "      <th>准货币资金</th>\n",
       "      <td>741,817,300</td>\n",
       "      <td>920,078,000</td>\n",
       "      <td>865,129,000</td>\n",
       "      <td>839,378,600</td>\n",
       "      <td>799,127,100</td>\n",
       "      <td>1,009,970,800</td>\n",
       "    </tr>\n",
       "    <tr>\n",
       "      <th>短期借款(元)</th>\n",
       "      <td>0</td>\n",
       "      <td>0</td>\n",
       "      <td>0</td>\n",
       "      <td>0</td>\n",
       "      <td>0</td>\n",
       "      <td>0</td>\n",
       "    </tr>\n",
       "    <tr>\n",
       "      <th>一年内到期的非流动负债(元)</th>\n",
       "      <td>0</td>\n",
       "      <td>0</td>\n",
       "      <td>0</td>\n",
       "      <td>0</td>\n",
       "      <td>0</td>\n",
       "      <td>0</td>\n",
       "    </tr>\n",
       "    <tr>\n",
       "      <th>长期借款(元)</th>\n",
       "      <td>0</td>\n",
       "      <td>0</td>\n",
       "      <td>0</td>\n",
       "      <td>0</td>\n",
       "      <td>0</td>\n",
       "      <td>0</td>\n",
       "    </tr>\n",
       "    <tr>\n",
       "      <th>应付债券(元)</th>\n",
       "      <td>0</td>\n",
       "      <td>0</td>\n",
       "      <td>0</td>\n",
       "      <td>0</td>\n",
       "      <td>0</td>\n",
       "      <td>0</td>\n",
       "    </tr>\n",
       "    <tr>\n",
       "      <th>长期应付款</th>\n",
       "      <td>0</td>\n",
       "      <td>0</td>\n",
       "      <td>0</td>\n",
       "      <td>0</td>\n",
       "      <td>0</td>\n",
       "      <td>0</td>\n",
       "    </tr>\n",
       "    <tr>\n",
       "      <th>有息负债总额</th>\n",
       "      <td>0</td>\n",
       "      <td>0</td>\n",
       "      <td>0</td>\n",
       "      <td>0</td>\n",
       "      <td>0</td>\n",
       "      <td>0</td>\n",
       "    </tr>\n",
       "    <tr>\n",
       "      <th>总货币资金与有息负债之差</th>\n",
       "      <td>741,817,300</td>\n",
       "      <td>920,078,000</td>\n",
       "      <td>865,129,000</td>\n",
       "      <td>839,378,600</td>\n",
       "      <td>799,127,100</td>\n",
       "      <td>1,009,970,800</td>\n",
       "    </tr>\n",
       "  </tbody>\n",
       "</table>\n",
       "</div>"
      ],
      "text/plain": [
       "                       2015         2016         2017         2018  \\\n",
       "货币资金(元)         371,817,300  370,078,000  865,129,000  839,378,600   \n",
       "交易性金融资产(元)                0            0            0            0   \n",
       "其他流动资产里的理财产品    370,000,000  550,000,000            0            0   \n",
       "其他流动资产里的结构性存款             0            0            0            0   \n",
       "准货币资金           741,817,300  920,078,000  865,129,000  839,378,600   \n",
       "短期借款(元)                   0            0            0            0   \n",
       "一年内到期的非流动负债(元)            0            0            0            0   \n",
       "长期借款(元)                   0            0            0            0   \n",
       "应付债券(元)                   0            0            0            0   \n",
       "长期应付款                     0            0            0            0   \n",
       "有息负债总额                    0            0            0            0   \n",
       "总货币资金与有息负债之差    741,817,300  920,078,000  865,129,000  839,378,600   \n",
       "\n",
       "                       2019           2020  \n",
       "货币资金(元)         799,127,100    509,970,800  \n",
       "交易性金融资产(元)                0    500,000,000  \n",
       "其他流动资产里的理财产品              0              0  \n",
       "其他流动资产里的结构性存款             0              0  \n",
       "准货币资金           799,127,100  1,009,970,800  \n",
       "短期借款(元)                   0              0  \n",
       "一年内到期的非流动负债(元)            0              0  \n",
       "长期借款(元)                   0              0  \n",
       "应付债券(元)                   0              0  \n",
       "长期应付款                     0              0  \n",
       "有息负债总额                    0              0  \n",
       "总货币资金与有息负债之差    799,127,100  1,009,970,800  "
      ]
     },
     "execution_count": 8,
     "metadata": {},
     "output_type": "execute_result"
    }
   ],
   "source": [
    "t3 = ana.init_table('t3')\n",
    "t3['准货币资金'] = t3.T[:4].sum()\n",
    "t3['有息负债总额'] = t3.T[5:10].sum()\n",
    "t3['总货币资金与有息负债之差'] = t3['准货币资金'] - t3['有息负债总额']\n",
    "\n",
    "ana.format_show_table('t3')"
   ]
  },
  {
   "cell_type": "code",
   "execution_count": 9,
   "metadata": {},
   "outputs": [
    {
     "data": {
      "image/png": "[encoded data removed]",
      "text/plain": [
       "<matplotlib.figure.Figure at 0x257a8c18128>"
      ]
     },
     "metadata": {
      "needs_background": "light"
     },
     "output_type": "display_data"
    }
   ],
   "source": [
    "ana.show_plot('t3')"
   ]
  },
  {
   "cell_type": "code",
   "execution_count": 10,
   "metadata": {},
   "outputs": [
    {
     "data": {
      "image/png": "[encoded data removed]",
      "text/plain": [
       "<matplotlib.figure.Figure at 0x257a9d5f5f8>"
      ]
     },
     "metadata": {
      "needs_background": "light"
     },
     "output_type": "display_data"
    }
   ],
   "source": [
    "ana.show_plot('t3', image_index=1)"
   ]
  },
  {
   "cell_type": "markdown",
   "metadata": {},
   "source": [
    "### 公司竞争力：应付预收减应收预付的差额"
   ]
  },
  {
   "cell_type": "code",
   "execution_count": 11,
   "metadata": {},
   "outputs": [
    {
     "data": {
      "text/html": [
       "<div>\n",
       "<style scoped>\n",
       "    .dataframe tbody tr th:only-of-type {\n",
       "        vertical-align: middle;\n",
       "    }\n",
       "\n",
       "    .dataframe tbody tr th {\n",
       "        vertical-align: top;\n",
       "    }\n",
       "\n",
       "    .dataframe thead th {\n",
       "        text-align: right;\n",
       "    }\n",
       "</style>\n",
       "<table border=\"1\" class=\"dataframe\">\n",
       "  <thead>\n",
       "    <tr style=\"text-align: right;\">\n",
       "      <th></th>\n",
       "      <th>2015</th>\n",
       "      <th>2016</th>\n",
       "      <th>2017</th>\n",
       "      <th>2018</th>\n",
       "      <th>2019</th>\n",
       "      <th>2020</th>\n",
       "    </tr>\n",
       "  </thead>\n",
       "  <tbody>\n",
       "    <tr>\n",
       "      <th>其中：应付票据(元)</th>\n",
       "      <td>21,040,000</td>\n",
       "      <td>28,720,000</td>\n",
       "      <td>43,310,000</td>\n",
       "      <td>50,004,700</td>\n",
       "      <td>27,750,000</td>\n",
       "      <td>13,780,000</td>\n",
       "    </tr>\n",
       "    <tr>\n",
       "      <th>应付账款(元)</th>\n",
       "      <td>57,143,800</td>\n",
       "      <td>61,261,600</td>\n",
       "      <td>71,819,700</td>\n",
       "      <td>110,799,100</td>\n",
       "      <td>212,610,900</td>\n",
       "      <td>150,309,000</td>\n",
       "    </tr>\n",
       "    <tr>\n",
       "      <th>预收款项(元)</th>\n",
       "      <td>26,492,200</td>\n",
       "      <td>55,406,700</td>\n",
       "      <td>130,688,800</td>\n",
       "      <td>133,945,600</td>\n",
       "      <td>80,681,300</td>\n",
       "      <td>0</td>\n",
       "    </tr>\n",
       "    <tr>\n",
       "      <th>合同负债(元)</th>\n",
       "      <td>0</td>\n",
       "      <td>0</td>\n",
       "      <td>0</td>\n",
       "      <td>0</td>\n",
       "      <td>0</td>\n",
       "      <td>142,761,360</td>\n",
       "    </tr>\n",
       "    <tr>\n",
       "      <th>应付与预收合计</th>\n",
       "      <td>104,676,000</td>\n",
       "      <td>145,388,300</td>\n",
       "      <td>245,818,500</td>\n",
       "      <td>294,749,400</td>\n",
       "      <td>321,042,200</td>\n",
       "      <td>306,850,360</td>\n",
       "    </tr>\n",
       "    <tr>\n",
       "      <th>其中：应收票据(元)</th>\n",
       "      <td>800,000</td>\n",
       "      <td>500,000</td>\n",
       "      <td>477,600</td>\n",
       "      <td>2,630,000</td>\n",
       "      <td>0</td>\n",
       "      <td>4,405,700</td>\n",
       "    </tr>\n",
       "    <tr>\n",
       "      <th>合同资产(元)</th>\n",
       "      <td>0</td>\n",
       "      <td>0</td>\n",
       "      <td>0</td>\n",
       "      <td>0</td>\n",
       "      <td>0</td>\n",
       "      <td>1,422,477</td>\n",
       "    </tr>\n",
       "    <tr>\n",
       "      <th>应收款项融资</th>\n",
       "      <td>0</td>\n",
       "      <td>0</td>\n",
       "      <td>0</td>\n",
       "      <td>0</td>\n",
       "      <td>5,815,853</td>\n",
       "      <td>3,600,000</td>\n",
       "    </tr>\n",
       "    <tr>\n",
       "      <th>应收账款(元)</th>\n",
       "      <td>4,792,600</td>\n",
       "      <td>7,948,400</td>\n",
       "      <td>8,497,800</td>\n",
       "      <td>14,827,700</td>\n",
       "      <td>17,727,800</td>\n",
       "      <td>24,567,400</td>\n",
       "    </tr>\n",
       "    <tr>\n",
       "      <th>预付款项(元)</th>\n",
       "      <td>3,903,900</td>\n",
       "      <td>4,259,700</td>\n",
       "      <td>10,817,800</td>\n",
       "      <td>30,558,900</td>\n",
       "      <td>13,716,800</td>\n",
       "      <td>14,705,400</td>\n",
       "    </tr>\n",
       "    <tr>\n",
       "      <th>应收与预付合计</th>\n",
       "      <td>9,496,500</td>\n",
       "      <td>12,708,100</td>\n",
       "      <td>19,793,200</td>\n",
       "      <td>48,016,600</td>\n",
       "      <td>37,260,453</td>\n",
       "      <td>48,700,977</td>\n",
       "    </tr>\n",
       "    <tr>\n",
       "      <th>应付预收减应收预付的差额</th>\n",
       "      <td>95,179,500</td>\n",
       "      <td>132,680,200</td>\n",
       "      <td>226,025,300</td>\n",
       "      <td>246,732,800</td>\n",
       "      <td>283,781,747</td>\n",
       "      <td>258,149,383</td>\n",
       "    </tr>\n",
       "  </tbody>\n",
       "</table>\n",
       "</div>"
      ],
      "text/plain": [
       "                     2015         2016         2017         2018         2019  \\\n",
       "其中：应付票据(元)     21,040,000   28,720,000   43,310,000   50,004,700   27,750,000   \n",
       "应付账款(元)        57,143,800   61,261,600   71,819,700  110,799,100  212,610,900   \n",
       "预收款项(元)        26,492,200   55,406,700  130,688,800  133,945,600   80,681,300   \n",
       "合同负债(元)                 0            0            0            0            0   \n",
       "应付与预收合计       104,676,000  145,388,300  245,818,500  294,749,400  321,042,200   \n",
       "其中：应收票据(元)        800,000      500,000      477,600    2,630,000            0   \n",
       "合同资产(元)                 0            0            0            0            0   \n",
       "应收款项融资                  0            0            0            0    5,815,853   \n",
       "应收账款(元)         4,792,600    7,948,400    8,497,800   14,827,700   17,727,800   \n",
       "预付款项(元)         3,903,900    4,259,700   10,817,800   30,558,900   13,716,800   \n",
       "应收与预付合计         9,496,500   12,708,100   19,793,200   48,016,600   37,260,453   \n",
       "应付预收减应收预付的差额   95,179,500  132,680,200  226,025,300  246,732,800  283,781,747   \n",
       "\n",
       "                     2020  \n",
       "其中：应付票据(元)     13,780,000  \n",
       "应付账款(元)       150,309,000  \n",
       "预收款项(元)                 0  \n",
       "合同负债(元)       142,761,360  \n",
       "应付与预收合计       306,850,360  \n",
       "其中：应收票据(元)      4,405,700  \n",
       "合同资产(元)         1,422,477  \n",
       "应收款项融资          3,600,000  \n",
       "应收账款(元)        24,567,400  \n",
       "预付款项(元)        14,705,400  \n",
       "应收与预付合计        48,700,977  \n",
       "应付预收减应收预付的差额  258,149,383  "
      ]
     },
     "execution_count": 11,
     "metadata": {},
     "output_type": "execute_result"
    }
   ],
   "source": [
    "t4 = ana.init_table('t4')\n",
    "t4['应付与预收合计'] = t4.T[:4].sum()\n",
    "t4['应收与预付合计'] = t4.T[5:10].sum()\n",
    "t4['应付预收减应收预付的差额'] = t4['应付与预收合计'] - t4['应收与预付合计']\n",
    "\n",
    "ana.format_show_table('t4')"
   ]
  },
  {
   "cell_type": "code",
   "execution_count": 12,
   "metadata": {},
   "outputs": [
    {
     "data": {
      "image/png": "[encoded data removed]",
      "text/plain": [
       "<matplotlib.figure.Figure at 0x257a9d64eb8>"
      ]
     },
     "metadata": {
      "needs_background": "light"
     },
     "output_type": "display_data"
    }
   ],
   "source": [
    "ana.show_plot('t4')"
   ]
  },
  {
   "cell_type": "code",
   "execution_count": 13,
   "metadata": {},
   "outputs": [
    {
     "data": {
      "image/png": "[encoded data removed]",
      "text/plain": [
       "<matplotlib.figure.Figure at 0x257a9dc74e0>"
      ]
     },
     "metadata": {
      "needs_background": "light"
     },
     "output_type": "display_data"
    }
   ],
   "source": [
    "ana.show_plot('t4', image_index=1)"
   ]
  },
  {
   "cell_type": "markdown",
   "metadata": {},
   "source": [
    "### 产品竞争力：应收账款+合同资产占总资产的比例"
   ]
  },
  {
   "cell_type": "code",
   "execution_count": 14,
   "metadata": {},
   "outputs": [
    {
     "data": {
      "text/html": [
       "<div>\n",
       "<style scoped>\n",
       "    .dataframe tbody tr th:only-of-type {\n",
       "        vertical-align: middle;\n",
       "    }\n",
       "\n",
       "    .dataframe tbody tr th {\n",
       "        vertical-align: top;\n",
       "    }\n",
       "\n",
       "    .dataframe thead th {\n",
       "        text-align: right;\n",
       "    }\n",
       "</style>\n",
       "<table border=\"1\" class=\"dataframe\">\n",
       "  <thead>\n",
       "    <tr style=\"text-align: right;\">\n",
       "      <th></th>\n",
       "      <th>2015</th>\n",
       "      <th>2016</th>\n",
       "      <th>2017</th>\n",
       "      <th>2018</th>\n",
       "      <th>2019</th>\n",
       "      <th>2020</th>\n",
       "    </tr>\n",
       "  </thead>\n",
       "  <tbody>\n",
       "    <tr>\n",
       "      <th>合同资产(元)</th>\n",
       "      <td>0</td>\n",
       "      <td>0</td>\n",
       "      <td>0</td>\n",
       "      <td>0</td>\n",
       "      <td>0</td>\n",
       "      <td>1,422,477</td>\n",
       "    </tr>\n",
       "    <tr>\n",
       "      <th>应收账款(元)</th>\n",
       "      <td>4,792,600</td>\n",
       "      <td>7,948,400</td>\n",
       "      <td>8,497,800</td>\n",
       "      <td>14,827,700</td>\n",
       "      <td>17,727,800</td>\n",
       "      <td>24,567,400</td>\n",
       "    </tr>\n",
       "    <tr>\n",
       "      <th>资产合计(元)</th>\n",
       "      <td>1,211,887,900</td>\n",
       "      <td>1,397,628,600</td>\n",
       "      <td>1,675,684,100</td>\n",
       "      <td>1,780,577,600</td>\n",
       "      <td>1,986,804,400</td>\n",
       "      <td>2,178,534,900</td>\n",
       "    </tr>\n",
       "    <tr>\n",
       "      <th>应收账款加合同资产占总资产的比率</th>\n",
       "      <td>0.40%</td>\n",
       "      <td>0.57%</td>\n",
       "      <td>0.51%</td>\n",
       "      <td>0.83%</td>\n",
       "      <td>0.89%</td>\n",
       "      <td>1.19%</td>\n",
       "    </tr>\n",
       "    <tr>\n",
       "      <th>应收账款+合同资产</th>\n",
       "      <td>4,792,600</td>\n",
       "      <td>7,948,400</td>\n",
       "      <td>8,497,800</td>\n",
       "      <td>14,827,700</td>\n",
       "      <td>17,727,800</td>\n",
       "      <td>25,989,877</td>\n",
       "    </tr>\n",
       "  </tbody>\n",
       "</table>\n",
       "</div>"
      ],
      "text/plain": [
       "                           2015           2016           2017           2018  \\\n",
       "合同资产(元)                       0              0              0              0   \n",
       "应收账款(元)               4,792,600      7,948,400      8,497,800     14,827,700   \n",
       "资产合计(元)           1,211,887,900  1,397,628,600  1,675,684,100  1,780,577,600   \n",
       "应收账款加合同资产占总资产的比率          0.40%          0.57%          0.51%          0.83%   \n",
       "应收账款+合同资产             4,792,600      7,948,400      8,497,800     14,827,700   \n",
       "\n",
       "                           2019           2020  \n",
       "合同资产(元)                       0      1,422,477  \n",
       "应收账款(元)              17,727,800     24,567,400  \n",
       "资产合计(元)           1,986,804,400  2,178,534,900  \n",
       "应收账款加合同资产占总资产的比率          0.89%          1.19%  \n",
       "应收账款+合同资产            17,727,800     25,989,877  "
      ]
     },
     "execution_count": 14,
     "metadata": {},
     "output_type": "execute_result"
    }
   ],
   "source": [
    "t5 = ana.init_table('t5')\n",
    "t5['应收账款+合同资产'] = t5.T[:2].sum()\n",
    "t5['应收账款加合同资产占总资产的比率'] = t5['应收账款+合同资产'] / t5['资产合计(元)']\n",
    "\n",
    "ana.format_show_table('t5')"
   ]
  },
  {
   "cell_type": "code",
   "execution_count": 15,
   "metadata": {},
   "outputs": [
    {
     "data": {
      "image/png": "[encoded data removed]",
      "text/plain": [
       "<matplotlib.figure.Figure at 0x257a9e65be0>"
      ]
     },
     "metadata": {
      "needs_background": "light"
     },
     "output_type": "display_data"
    }
   ],
   "source": [
    "ana.show_plot('t5')"
   ]
  },
  {
   "cell_type": "markdown",
   "metadata": {},
   "source": [
    "### 主业专注度：投资类资产占总资产的比例"
   ]
  },
  {
   "cell_type": "code",
   "execution_count": 16,
   "metadata": {},
   "outputs": [
    {
     "data": {
      "text/html": [
       "<div>\n",
       "<style scoped>\n",
       "    .dataframe tbody tr th:only-of-type {\n",
       "        vertical-align: middle;\n",
       "    }\n",
       "\n",
       "    .dataframe tbody tr th {\n",
       "        vertical-align: top;\n",
       "    }\n",
       "\n",
       "    .dataframe thead th {\n",
       "        text-align: right;\n",
       "    }\n",
       "</style>\n",
       "<table border=\"1\" class=\"dataframe\">\n",
       "  <thead>\n",
       "    <tr style=\"text-align: right;\">\n",
       "      <th></th>\n",
       "      <th>2015</th>\n",
       "      <th>2016</th>\n",
       "      <th>2017</th>\n",
       "      <th>2018</th>\n",
       "      <th>2019</th>\n",
       "      <th>2020</th>\n",
       "    </tr>\n",
       "  </thead>\n",
       "  <tbody>\n",
       "    <tr>\n",
       "      <th>以公允价值计量且其变动计入当期损益的金融资产(元)</th>\n",
       "      <td>0</td>\n",
       "      <td>0</td>\n",
       "      <td>0</td>\n",
       "      <td>0</td>\n",
       "      <td>0</td>\n",
       "      <td>0</td>\n",
       "    </tr>\n",
       "    <tr>\n",
       "      <th>债权投资(元)</th>\n",
       "      <td>0</td>\n",
       "      <td>0</td>\n",
       "      <td>0</td>\n",
       "      <td>0</td>\n",
       "      <td>0</td>\n",
       "      <td>0</td>\n",
       "    </tr>\n",
       "    <tr>\n",
       "      <th>可供出售金融资产(元)</th>\n",
       "      <td>0</td>\n",
       "      <td>0</td>\n",
       "      <td>246,167,500</td>\n",
       "      <td>79,596,200</td>\n",
       "      <td>0</td>\n",
       "      <td>0</td>\n",
       "    </tr>\n",
       "    <tr>\n",
       "      <th>其他权益工具投资(元)</th>\n",
       "      <td>0</td>\n",
       "      <td>0</td>\n",
       "      <td>0</td>\n",
       "      <td>0</td>\n",
       "      <td>72,064,200</td>\n",
       "      <td>61,494,200</td>\n",
       "    </tr>\n",
       "    <tr>\n",
       "      <th>持有至到期投资(元)</th>\n",
       "      <td>0</td>\n",
       "      <td>0</td>\n",
       "      <td>0</td>\n",
       "      <td>0</td>\n",
       "      <td>0</td>\n",
       "      <td>0</td>\n",
       "    </tr>\n",
       "    <tr>\n",
       "      <th>其他非流动金融资产(元)</th>\n",
       "      <td>0</td>\n",
       "      <td>0</td>\n",
       "      <td>0</td>\n",
       "      <td>0</td>\n",
       "      <td>0</td>\n",
       "      <td>0</td>\n",
       "    </tr>\n",
       "    <tr>\n",
       "      <th>长期股权投资(元)</th>\n",
       "      <td>0</td>\n",
       "      <td>0</td>\n",
       "      <td>0</td>\n",
       "      <td>0</td>\n",
       "      <td>0</td>\n",
       "      <td>0</td>\n",
       "    </tr>\n",
       "    <tr>\n",
       "      <th>投资性房地产(元)</th>\n",
       "      <td>0</td>\n",
       "      <td>0</td>\n",
       "      <td>0</td>\n",
       "      <td>0</td>\n",
       "      <td>0</td>\n",
       "      <td>0</td>\n",
       "    </tr>\n",
       "    <tr>\n",
       "      <th>投资类资产合计</th>\n",
       "      <td>0</td>\n",
       "      <td>0</td>\n",
       "      <td>246,167,500</td>\n",
       "      <td>79,596,200</td>\n",
       "      <td>72,064,200</td>\n",
       "      <td>61,494,200</td>\n",
       "    </tr>\n",
       "    <tr>\n",
       "      <th>资产合计(元)</th>\n",
       "      <td>1,211,887,900</td>\n",
       "      <td>1,397,628,600</td>\n",
       "      <td>1,675,684,100</td>\n",
       "      <td>1,780,577,600</td>\n",
       "      <td>1,986,804,400</td>\n",
       "      <td>2,178,534,900</td>\n",
       "    </tr>\n",
       "    <tr>\n",
       "      <th>投资类资产占总资产的比率</th>\n",
       "      <td>0.00%</td>\n",
       "      <td>0.00%</td>\n",
       "      <td>14.69%</td>\n",
       "      <td>4.47%</td>\n",
       "      <td>3.63%</td>\n",
       "      <td>2.82%</td>\n",
       "    </tr>\n",
       "  </tbody>\n",
       "</table>\n",
       "</div>"
      ],
      "text/plain": [
       "                                    2015           2016           2017  \\\n",
       "以公允价值计量且其变动计入当期损益的金融资产(元)              0              0              0   \n",
       "债权投资(元)                                0              0              0   \n",
       "可供出售金融资产(元)                            0              0    246,167,500   \n",
       "其他权益工具投资(元)                            0              0              0   \n",
       "持有至到期投资(元)                             0              0              0   \n",
       "其他非流动金融资产(元)                           0              0              0   \n",
       "长期股权投资(元)                              0              0              0   \n",
       "投资性房地产(元)                              0              0              0   \n",
       "投资类资产合计                                0              0    246,167,500   \n",
       "资产合计(元)                    1,211,887,900  1,397,628,600  1,675,684,100   \n",
       "投资类资产占总资产的比率                       0.00%          0.00%         14.69%   \n",
       "\n",
       "                                    2018           2019           2020  \n",
       "以公允价值计量且其变动计入当期损益的金融资产(元)              0              0              0  \n",
       "债权投资(元)                                0              0              0  \n",
       "可供出售金融资产(元)                   79,596,200              0              0  \n",
       "其他权益工具投资(元)                            0     72,064,200     61,494,200  \n",
       "持有至到期投资(元)                             0              0              0  \n",
       "其他非流动金融资产(元)                           0              0              0  \n",
       "长期股权投资(元)                              0              0              0  \n",
       "投资性房地产(元)                              0              0              0  \n",
       "投资类资产合计                       79,596,200     72,064,200     61,494,200  \n",
       "资产合计(元)                    1,780,577,600  1,986,804,400  2,178,534,900  \n",
       "投资类资产占总资产的比率                       4.47%          3.63%          2.82%  "
      ]
     },
     "execution_count": 16,
     "metadata": {},
     "output_type": "execute_result"
    }
   ],
   "source": [
    "t6 = ana.init_table('t6')\n",
    "t6['投资类资产合计'] = t6.T[:8].sum()\n",
    "t6['投资类资产占总资产的比率'] = t6['投资类资产合计'] / t6['资产合计(元)']\n",
    "\n",
    "ana.format_show_table('t6')"
   ]
  },
  {
   "cell_type": "code",
   "execution_count": 17,
   "metadata": {},
   "outputs": [
    {
     "data": {
      "image/png": "[encoded data removed]",
      "text/plain": [
       "<matplotlib.figure.Figure at 0x257a9f92588>"
      ]
     },
     "metadata": {
      "needs_background": "light"
     },
     "output_type": "display_data"
    }
   ],
   "source": [
    "ana.show_plot('t6')"
   ]
  },
  {
   "cell_type": "markdown",
   "metadata": {},
   "source": [
    "### 存货暴雷风险：存货和应收账款占比"
   ]
  },
  {
   "cell_type": "code",
   "execution_count": 18,
   "metadata": {},
   "outputs": [
    {
     "data": {
      "text/html": [
       "<div>\n",
       "<style scoped>\n",
       "    .dataframe tbody tr th:only-of-type {\n",
       "        vertical-align: middle;\n",
       "    }\n",
       "\n",
       "    .dataframe tbody tr th {\n",
       "        vertical-align: top;\n",
       "    }\n",
       "\n",
       "    .dataframe thead th {\n",
       "        text-align: right;\n",
       "    }\n",
       "</style>\n",
       "<table border=\"1\" class=\"dataframe\">\n",
       "  <thead>\n",
       "    <tr style=\"text-align: right;\">\n",
       "      <th></th>\n",
       "      <th>2015</th>\n",
       "      <th>2016</th>\n",
       "      <th>2017</th>\n",
       "      <th>2018</th>\n",
       "      <th>2019</th>\n",
       "      <th>2020</th>\n",
       "    </tr>\n",
       "  </thead>\n",
       "  <tbody>\n",
       "    <tr>\n",
       "      <th>存货(元)</th>\n",
       "      <td>40,678,800</td>\n",
       "      <td>48,294,000</td>\n",
       "      <td>73,613,600</td>\n",
       "      <td>64,125,600</td>\n",
       "      <td>79,640,800</td>\n",
       "      <td>78,025,500</td>\n",
       "    </tr>\n",
       "    <tr>\n",
       "      <th>资产合计(元)</th>\n",
       "      <td>1,211,887,900</td>\n",
       "      <td>1,397,628,600</td>\n",
       "      <td>1,675,684,100</td>\n",
       "      <td>1,780,577,600</td>\n",
       "      <td>1,986,804,400</td>\n",
       "      <td>2,178,534,900</td>\n",
       "    </tr>\n",
       "    <tr>\n",
       "      <th>存货占总资产的比率</th>\n",
       "      <td>3.36%</td>\n",
       "      <td>3.46%</td>\n",
       "      <td>4.39%</td>\n",
       "      <td>3.60%</td>\n",
       "      <td>4.01%</td>\n",
       "      <td>3.58%</td>\n",
       "    </tr>\n",
       "  </tbody>\n",
       "</table>\n",
       "</div>"
      ],
      "text/plain": [
       "                    2015           2016           2017           2018  \\\n",
       "存货(元)         40,678,800     48,294,000     73,613,600     64,125,600   \n",
       "资产合计(元)    1,211,887,900  1,397,628,600  1,675,684,100  1,780,577,600   \n",
       "存货占总资产的比率          3.36%          3.46%          4.39%          3.60%   \n",
       "\n",
       "                    2019           2020  \n",
       "存货(元)         79,640,800     78,025,500  \n",
       "资产合计(元)    1,986,804,400  2,178,534,900  \n",
       "存货占总资产的比率          4.01%          3.58%  "
      ]
     },
     "execution_count": 18,
     "metadata": {},
     "output_type": "execute_result"
    }
   ],
   "source": [
    "t7 = ana.init_table('t7')\n",
    "t7['存货占总资产的比率'] = t7['存货(元)'] / t7[ '资产合计(元)']\n",
    "\n",
    "ana.format_show_table('t7')"
   ]
  },
  {
   "cell_type": "code",
   "execution_count": 19,
   "metadata": {},
   "outputs": [
    {
     "data": {
      "image/png": "[encoded data removed]",
      "text/plain": [
       "<matplotlib.figure.Figure at 0x257aa140d30>"
      ]
     },
     "metadata": {
      "needs_background": "light"
     },
     "output_type": "display_data"
    }
   ],
   "source": [
    "import pandas as pd\n",
    "from analysis.utils import plot_show\n",
    "\n",
    "tmp_df = pd.merge(\n",
    "    t7['存货占总资产的比率'], \n",
    "    t5['应收账款加合同资产占总资产的比率'],\n",
    "    right_index=True,\n",
    "    left_index=True\n",
    ")\n",
    "plot_show(tmp_df, image_title=images['t7'][0], y_label='', y_format='', save_image=True)"
   ]
  },
  {
   "cell_type": "markdown",
   "metadata": {},
   "source": [
    "### 商誉暴雷风险：商誉占总资产的比例"
   ]
  },
  {
   "cell_type": "code",
   "execution_count": 20,
   "metadata": {},
   "outputs": [
    {
     "data": {
      "text/html": [
       "<div>\n",
       "<style scoped>\n",
       "    .dataframe tbody tr th:only-of-type {\n",
       "        vertical-align: middle;\n",
       "    }\n",
       "\n",
       "    .dataframe tbody tr th {\n",
       "        vertical-align: top;\n",
       "    }\n",
       "\n",
       "    .dataframe thead th {\n",
       "        text-align: right;\n",
       "    }\n",
       "</style>\n",
       "<table border=\"1\" class=\"dataframe\">\n",
       "  <thead>\n",
       "    <tr style=\"text-align: right;\">\n",
       "      <th></th>\n",
       "      <th>2015</th>\n",
       "      <th>2016</th>\n",
       "      <th>2017</th>\n",
       "      <th>2018</th>\n",
       "      <th>2019</th>\n",
       "      <th>2020</th>\n",
       "    </tr>\n",
       "  </thead>\n",
       "  <tbody>\n",
       "    <tr>\n",
       "      <th>商誉(元)</th>\n",
       "      <td>0</td>\n",
       "      <td>0</td>\n",
       "      <td>0</td>\n",
       "      <td>0</td>\n",
       "      <td>0</td>\n",
       "      <td>0</td>\n",
       "    </tr>\n",
       "    <tr>\n",
       "      <th>资产合计(元)</th>\n",
       "      <td>1,211,887,900</td>\n",
       "      <td>1,397,628,600</td>\n",
       "      <td>1,675,684,100</td>\n",
       "      <td>1,780,577,600</td>\n",
       "      <td>1,986,804,400</td>\n",
       "      <td>2,178,534,900</td>\n",
       "    </tr>\n",
       "    <tr>\n",
       "      <th>商誉占总资产的比率</th>\n",
       "      <td>0.00%</td>\n",
       "      <td>0.00%</td>\n",
       "      <td>0.00%</td>\n",
       "      <td>0.00%</td>\n",
       "      <td>0.00%</td>\n",
       "      <td>0.00%</td>\n",
       "    </tr>\n",
       "  </tbody>\n",
       "</table>\n",
       "</div>"
      ],
      "text/plain": [
       "                    2015           2016           2017           2018  \\\n",
       "商誉(元)                  0              0              0              0   \n",
       "资产合计(元)    1,211,887,900  1,397,628,600  1,675,684,100  1,780,577,600   \n",
       "商誉占总资产的比率          0.00%          0.00%          0.00%          0.00%   \n",
       "\n",
       "                    2019           2020  \n",
       "商誉(元)                  0              0  \n",
       "资产合计(元)    1,986,804,400  2,178,534,900  \n",
       "商誉占总资产的比率          0.00%          0.00%  "
      ]
     },
     "execution_count": 20,
     "metadata": {},
     "output_type": "execute_result"
    }
   ],
   "source": [
    "t8 = ana.init_table('t8')\n",
    "t8['商誉占总资产的比率'] = t8['商誉(元)'] / t8[ '资产合计(元)']\n",
    "\n",
    "ana.format_show_table('t8')"
   ]
  },
  {
   "cell_type": "code",
   "execution_count": 21,
   "metadata": {},
   "outputs": [
    {
     "data": {
      "image/png": "[encoded data removed]",
      "text/plain": [
       "<matplotlib.figure.Figure at 0x257a9fcc860>"
      ]
     },
     "metadata": {
      "needs_background": "light"
     },
     "output_type": "display_data"
    }
   ],
   "source": [
    "ana.show_plot('t8')"
   ]
  },
  {
   "cell_type": "markdown",
   "metadata": {},
   "source": [
    "### 输出分析报告"
   ]
  },
  {
   "cell_type": "code",
   "execution_count": 22,
   "metadata": {},
   "outputs": [],
   "source": [
    "ReportDocument(ana).save()"
   ]
  },
  {
   "cell_type": "code",
   "execution_count": null,
   "metadata": {},
   "outputs": [],
   "source": []
  }
 ],
 "metadata": {
  "kernelspec": {
   "display_name": "Python 3",
   "language": "python",
   "name": "python3"
  },
  "language_info": {
   "codemirror_mode": {
    "name": "ipython",
    "version": 3
   },
   "file_extension": ".py",
   "mimetype": "text/x-python",
   "name": "python",
   "nbconvert_exporter": "python",
   "pygments_lexer": "ipython3",
   "version": "3.6.4"
  }
 },
 "nbformat": 4,
 "nbformat_minor": 1
}
