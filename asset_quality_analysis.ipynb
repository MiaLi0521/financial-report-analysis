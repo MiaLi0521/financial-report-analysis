{
 "cells": [
  {
   "cell_type": "markdown",
   "metadata": {
    "collapsed": true
   },
   "source": [
    "### 准货币资金"
   ]
  },
  {
   "cell_type": "code",
   "execution_count": 1,
   "metadata": {},
   "outputs": [],
   "source": [
    "from analysis import ANALYSIS_CONFIGS\n",
    "from analysis.analysis import FinancialAnalysis\n",
    "from analysis.doc_utils import ReportDocument"
   ]
  },
  {
   "cell_type": "code",
   "execution_count": 2,
   "metadata": {},
   "outputs": [
    {
     "data": {
      "text/plain": [
       "['all_analysis.json',\n",
       " 'asset_quality_analysis.json',\n",
       " 'asset_indepth_analysis.json',\n",
       " 'asset_fraud_analysis.json',\n",
       " 'profit_analysis.json',\n",
       " 'cash_flow_analysis.json']"
      ]
     },
     "execution_count": 2,
     "metadata": {},
     "output_type": "execute_result"
    }
   ],
   "source": [
    "ANALYSIS_CONFIGS"
   ]
  },
  {
   "cell_type": "code",
   "execution_count": 3,
   "metadata": {},
   "outputs": [],
   "source": [
    "ana = FinancialAnalysis(ANALYSIS_CONFIGS[1])\n",
    "images, titles, fields = ana.images, ana.titles, ana.fields"
   ]
  },
  {
   "cell_type": "code",
   "execution_count": 4,
   "metadata": {},
   "outputs": [
    {
     "data": {
      "text/html": [
       "<div>\n",
       "<style scoped>\n",
       "    .dataframe tbody tr th:only-of-type {\n",
       "        vertical-align: middle;\n",
       "    }\n",
       "\n",
       "    .dataframe tbody tr th {\n",
       "        vertical-align: top;\n",
       "    }\n",
       "\n",
       "    .dataframe thead th {\n",
       "        text-align: right;\n",
       "    }\n",
       "</style>\n",
       "<table border=\"1\" class=\"dataframe\">\n",
       "  <thead>\n",
       "    <tr style=\"text-align: right;\">\n",
       "      <th></th>\n",
       "      <th>2015</th>\n",
       "      <th>2016</th>\n",
       "      <th>2017</th>\n",
       "      <th>2018</th>\n",
       "      <th>2019</th>\n",
       "      <th>2020</th>\n",
       "    </tr>\n",
       "  </thead>\n",
       "  <tbody>\n",
       "    <tr>\n",
       "      <th>货币资金(元)</th>\n",
       "      <td>371,817,300</td>\n",
       "      <td>370,078,000</td>\n",
       "      <td>865,129,000</td>\n",
       "      <td>839,378,600</td>\n",
       "      <td>799,127,100</td>\n",
       "      <td>509,970,800</td>\n",
       "    </tr>\n",
       "    <tr>\n",
       "      <th>交易性金融资产(元)</th>\n",
       "      <td>0</td>\n",
       "      <td>0</td>\n",
       "      <td>0</td>\n",
       "      <td>0</td>\n",
       "      <td>0</td>\n",
       "      <td>500,000,000</td>\n",
       "    </tr>\n",
       "    <tr>\n",
       "      <th>其他流动资产里的理财产品</th>\n",
       "      <td>370,000,000</td>\n",
       "      <td>550,000,000</td>\n",
       "      <td>0</td>\n",
       "      <td>0</td>\n",
       "      <td>0</td>\n",
       "      <td>0</td>\n",
       "    </tr>\n",
       "    <tr>\n",
       "      <th>其他流动资产里的结构性存款</th>\n",
       "      <td>0</td>\n",
       "      <td>0</td>\n",
       "      <td>0</td>\n",
       "      <td>0</td>\n",
       "      <td>0</td>\n",
       "      <td>0</td>\n",
       "    </tr>\n",
       "    <tr>\n",
       "      <th>准货币资金</th>\n",
       "      <td>741,817,300</td>\n",
       "      <td>920,078,000</td>\n",
       "      <td>865,129,000</td>\n",
       "      <td>839,378,600</td>\n",
       "      <td>799,127,100</td>\n",
       "      <td>1,009,970,800</td>\n",
       "    </tr>\n",
       "    <tr>\n",
       "      <th>资产合计(元)</th>\n",
       "      <td>1,211,887,900</td>\n",
       "      <td>1,397,628,600</td>\n",
       "      <td>1,675,684,100</td>\n",
       "      <td>1,780,577,600</td>\n",
       "      <td>1,986,804,400</td>\n",
       "      <td>2,178,534,900</td>\n",
       "    </tr>\n",
       "    <tr>\n",
       "      <th>准货币资金占总资产的比率</th>\n",
       "      <td>61.21%</td>\n",
       "      <td>65.83%</td>\n",
       "      <td>51.63%</td>\n",
       "      <td>47.14%</td>\n",
       "      <td>40.22%</td>\n",
       "      <td>46.36%</td>\n",
       "    </tr>\n",
       "  </tbody>\n",
       "</table>\n",
       "</div>"
      ],
      "text/plain": [
       "                        2015           2016           2017           2018  \\\n",
       "货币资金(元)          371,817,300    370,078,000    865,129,000    839,378,600   \n",
       "交易性金融资产(元)                 0              0              0              0   \n",
       "其他流动资产里的理财产品     370,000,000    550,000,000              0              0   \n",
       "其他流动资产里的结构性存款              0              0              0              0   \n",
       "准货币资金            741,817,300    920,078,000    865,129,000    839,378,600   \n",
       "资产合计(元)        1,211,887,900  1,397,628,600  1,675,684,100  1,780,577,600   \n",
       "准货币资金占总资产的比率          61.21%         65.83%         51.63%         47.14%   \n",
       "\n",
       "                        2019           2020  \n",
       "货币资金(元)          799,127,100    509,970,800  \n",
       "交易性金融资产(元)                 0    500,000,000  \n",
       "其他流动资产里的理财产品               0              0  \n",
       "其他流动资产里的结构性存款              0              0  \n",
       "准货币资金            799,127,100  1,009,970,800  \n",
       "资产合计(元)        1,986,804,400  2,178,534,900  \n",
       "准货币资金占总资产的比率          40.22%         46.36%  "
      ]
     },
     "execution_count": 4,
     "metadata": {},
     "output_type": "execute_result"
    }
   ],
   "source": [
    "t1 = ana.init_table('t1')\n",
    "t1['准货币资金'] = t1.T[:4].sum()\n",
    "t1['准货币资金占总资产的比率'] = t1['准货币资金'] / t1['资产合计(元)']\n",
    "\n",
    "ana.format_show_table('t1')"
   ]
  },
  {
   "cell_type": "code",
   "execution_count": 5,
   "metadata": {},
   "outputs": [
    {
     "data": {
      "image/png": "[encoded data removed]",
      "text/plain": [
       "<matplotlib.figure.Figure at 0x21e5fdfbcc0>"
      ]
     },
     "metadata": {
      "needs_background": "light"
     },
     "output_type": "display_data"
    }
   ],
   "source": [
    "ana.show_plot('t1')"
   ]
  },
  {
   "cell_type": "markdown",
   "metadata": {},
   "source": [
    "### 应收账款、合同资产"
   ]
  },
  {
   "cell_type": "code",
   "execution_count": 6,
   "metadata": {},
   "outputs": [
    {
     "data": {
      "text/html": [
       "<div>\n",
       "<style scoped>\n",
       "    .dataframe tbody tr th:only-of-type {\n",
       "        vertical-align: middle;\n",
       "    }\n",
       "\n",
       "    .dataframe tbody tr th {\n",
       "        vertical-align: top;\n",
       "    }\n",
       "\n",
       "    .dataframe thead th {\n",
       "        text-align: right;\n",
       "    }\n",
       "</style>\n",
       "<table border=\"1\" class=\"dataframe\">\n",
       "  <thead>\n",
       "    <tr style=\"text-align: right;\">\n",
       "      <th></th>\n",
       "      <th>2015</th>\n",
       "      <th>2016</th>\n",
       "      <th>2017</th>\n",
       "      <th>2018</th>\n",
       "      <th>2019</th>\n",
       "      <th>2020</th>\n",
       "    </tr>\n",
       "  </thead>\n",
       "  <tbody>\n",
       "    <tr>\n",
       "      <th>应收账款(元)</th>\n",
       "      <td>4,792,600</td>\n",
       "      <td>7,948,400</td>\n",
       "      <td>8,497,800</td>\n",
       "      <td>14,827,700</td>\n",
       "      <td>17,727,800</td>\n",
       "      <td>24,567,400</td>\n",
       "    </tr>\n",
       "    <tr>\n",
       "      <th>合同资产(元)</th>\n",
       "      <td>0</td>\n",
       "      <td>0</td>\n",
       "      <td>0</td>\n",
       "      <td>0</td>\n",
       "      <td>0</td>\n",
       "      <td>1,422,477</td>\n",
       "    </tr>\n",
       "    <tr>\n",
       "      <th>应收账款加合同资产</th>\n",
       "      <td>4,792,600</td>\n",
       "      <td>7,948,400</td>\n",
       "      <td>8,497,800</td>\n",
       "      <td>14,827,700</td>\n",
       "      <td>17,727,800</td>\n",
       "      <td>25,989,877</td>\n",
       "    </tr>\n",
       "    <tr>\n",
       "      <th>资产合计(元)</th>\n",
       "      <td>1,211,887,900</td>\n",
       "      <td>1,397,628,600</td>\n",
       "      <td>1,675,684,100</td>\n",
       "      <td>1,780,577,600</td>\n",
       "      <td>1,986,804,400</td>\n",
       "      <td>2,178,534,900</td>\n",
       "    </tr>\n",
       "    <tr>\n",
       "      <th>应收账款与合同资产占总资产的比率</th>\n",
       "      <td>0.40%</td>\n",
       "      <td>0.57%</td>\n",
       "      <td>0.51%</td>\n",
       "      <td>0.83%</td>\n",
       "      <td>0.89%</td>\n",
       "      <td>1.19%</td>\n",
       "    </tr>\n",
       "  </tbody>\n",
       "</table>\n",
       "</div>"
      ],
      "text/plain": [
       "                           2015           2016           2017           2018  \\\n",
       "应收账款(元)               4,792,600      7,948,400      8,497,800     14,827,700   \n",
       "合同资产(元)                       0              0              0              0   \n",
       "应收账款加合同资产             4,792,600      7,948,400      8,497,800     14,827,700   \n",
       "资产合计(元)           1,211,887,900  1,397,628,600  1,675,684,100  1,780,577,600   \n",
       "应收账款与合同资产占总资产的比率          0.40%          0.57%          0.51%          0.83%   \n",
       "\n",
       "                           2019           2020  \n",
       "应收账款(元)              17,727,800     24,567,400  \n",
       "合同资产(元)                       0      1,422,477  \n",
       "应收账款加合同资产            17,727,800     25,989,877  \n",
       "资产合计(元)           1,986,804,400  2,178,534,900  \n",
       "应收账款与合同资产占总资产的比率          0.89%          1.19%  "
      ]
     },
     "execution_count": 6,
     "metadata": {},
     "output_type": "execute_result"
    }
   ],
   "source": [
    "t2 = ana.init_table('t2')\n",
    "t2['应收账款加合同资产'] = t2.T[:2].sum()\n",
    "t2['应收账款与合同资产占总资产的比率'] = t2['应收账款加合同资产'] / t2['资产合计(元)']\n",
    "\n",
    "ana.format_show_table('t2')"
   ]
  },
  {
   "cell_type": "code",
   "execution_count": 7,
   "metadata": {},
   "outputs": [
    {
     "data": {
      "image/png": "[encoded data removed]",
      "text/plain": [
       "<matplotlib.figure.Figure at 0x21e5fdfbef0>"
      ]
     },
     "metadata": {
      "needs_background": "light"
     },
     "output_type": "display_data"
    }
   ],
   "source": [
    "ana.show_plot('t2')"
   ]
  },
  {
   "cell_type": "markdown",
   "metadata": {},
   "source": [
    "### 预付款项"
   ]
  },
  {
   "cell_type": "code",
   "execution_count": 8,
   "metadata": {},
   "outputs": [
    {
     "data": {
      "text/html": [
       "<div>\n",
       "<style scoped>\n",
       "    .dataframe tbody tr th:only-of-type {\n",
       "        vertical-align: middle;\n",
       "    }\n",
       "\n",
       "    .dataframe tbody tr th {\n",
       "        vertical-align: top;\n",
       "    }\n",
       "\n",
       "    .dataframe thead th {\n",
       "        text-align: right;\n",
       "    }\n",
       "</style>\n",
       "<table border=\"1\" class=\"dataframe\">\n",
       "  <thead>\n",
       "    <tr style=\"text-align: right;\">\n",
       "      <th></th>\n",
       "      <th>2015</th>\n",
       "      <th>2016</th>\n",
       "      <th>2017</th>\n",
       "      <th>2018</th>\n",
       "      <th>2019</th>\n",
       "      <th>2020</th>\n",
       "    </tr>\n",
       "  </thead>\n",
       "  <tbody>\n",
       "    <tr>\n",
       "      <th>预付款项(元)</th>\n",
       "      <td>3,903,900</td>\n",
       "      <td>4,259,700</td>\n",
       "      <td>10,817,800</td>\n",
       "      <td>30,558,900</td>\n",
       "      <td>13,716,800</td>\n",
       "      <td>14,705,400</td>\n",
       "    </tr>\n",
       "    <tr>\n",
       "      <th>资产合计(元)</th>\n",
       "      <td>1,211,887,900</td>\n",
       "      <td>1,397,628,600</td>\n",
       "      <td>1,675,684,100</td>\n",
       "      <td>1,780,577,600</td>\n",
       "      <td>1,986,804,400</td>\n",
       "      <td>2,178,534,900</td>\n",
       "    </tr>\n",
       "    <tr>\n",
       "      <th>预付款项占总资产的比率</th>\n",
       "      <td>0.32%</td>\n",
       "      <td>0.30%</td>\n",
       "      <td>0.65%</td>\n",
       "      <td>1.72%</td>\n",
       "      <td>0.69%</td>\n",
       "      <td>0.68%</td>\n",
       "    </tr>\n",
       "  </tbody>\n",
       "</table>\n",
       "</div>"
      ],
      "text/plain": [
       "                      2015           2016           2017           2018  \\\n",
       "预付款项(元)          3,903,900      4,259,700     10,817,800     30,558,900   \n",
       "资产合计(元)      1,211,887,900  1,397,628,600  1,675,684,100  1,780,577,600   \n",
       "预付款项占总资产的比率          0.32%          0.30%          0.65%          1.72%   \n",
       "\n",
       "                      2019           2020  \n",
       "预付款项(元)         13,716,800     14,705,400  \n",
       "资产合计(元)      1,986,804,400  2,178,534,900  \n",
       "预付款项占总资产的比率          0.69%          0.68%  "
      ]
     },
     "execution_count": 8,
     "metadata": {},
     "output_type": "execute_result"
    }
   ],
   "source": [
    "t3 = ana.init_table('t3')\n",
    "t3['预付款项占总资产的比率'] = t3['预付款项(元)'] / t3['资产合计(元)']\n",
    "\n",
    "ana.format_show_table('t3')"
   ]
  },
  {
   "cell_type": "code",
   "execution_count": 9,
   "metadata": {},
   "outputs": [
    {
     "data": {
      "image/png": "[encoded data removed]",
      "text/plain": [
       "<matplotlib.figure.Figure at 0x21e62ff2080>"
      ]
     },
     "metadata": {
      "needs_background": "light"
     },
     "output_type": "display_data"
    }
   ],
   "source": [
    "ana.show_plot('t3')"
   ]
  },
  {
   "cell_type": "markdown",
   "metadata": {},
   "source": [
    "### 固定资产、在建工程"
   ]
  },
  {
   "cell_type": "code",
   "execution_count": 10,
   "metadata": {},
   "outputs": [
    {
     "data": {
      "text/html": [
       "<div>\n",
       "<style scoped>\n",
       "    .dataframe tbody tr th:only-of-type {\n",
       "        vertical-align: middle;\n",
       "    }\n",
       "\n",
       "    .dataframe tbody tr th {\n",
       "        vertical-align: top;\n",
       "    }\n",
       "\n",
       "    .dataframe thead th {\n",
       "        text-align: right;\n",
       "    }\n",
       "</style>\n",
       "<table border=\"1\" class=\"dataframe\">\n",
       "  <thead>\n",
       "    <tr style=\"text-align: right;\">\n",
       "      <th></th>\n",
       "      <th>2015</th>\n",
       "      <th>2016</th>\n",
       "      <th>2017</th>\n",
       "      <th>2018</th>\n",
       "      <th>2019</th>\n",
       "      <th>2020</th>\n",
       "    </tr>\n",
       "  </thead>\n",
       "  <tbody>\n",
       "    <tr>\n",
       "      <th>固定资产合计(元)</th>\n",
       "      <td>351,462,800</td>\n",
       "      <td>351,419,700</td>\n",
       "      <td>350,940,600</td>\n",
       "      <td>323,517,500</td>\n",
       "      <td>728,869,600</td>\n",
       "      <td>674,529,900</td>\n",
       "    </tr>\n",
       "    <tr>\n",
       "      <th>在建工程合计(元)</th>\n",
       "      <td>2,623,600</td>\n",
       "      <td>1,751,500</td>\n",
       "      <td>14,166,700</td>\n",
       "      <td>238,247,000</td>\n",
       "      <td>80,713,600</td>\n",
       "      <td>120,273,100</td>\n",
       "    </tr>\n",
       "    <tr>\n",
       "      <th>固定资产+在建工程</th>\n",
       "      <td>354,086,400</td>\n",
       "      <td>353,171,200</td>\n",
       "      <td>365,107,300</td>\n",
       "      <td>561,764,500</td>\n",
       "      <td>809,583,200</td>\n",
       "      <td>794,803,000</td>\n",
       "    </tr>\n",
       "    <tr>\n",
       "      <th>资产合计(元)</th>\n",
       "      <td>1,211,887,900</td>\n",
       "      <td>1,397,628,600</td>\n",
       "      <td>1,675,684,100</td>\n",
       "      <td>1,780,577,600</td>\n",
       "      <td>1,986,804,400</td>\n",
       "      <td>2,178,534,900</td>\n",
       "    </tr>\n",
       "    <tr>\n",
       "      <th>固定型资产占总资产的比率</th>\n",
       "      <td>29.22%</td>\n",
       "      <td>25.27%</td>\n",
       "      <td>21.79%</td>\n",
       "      <td>31.55%</td>\n",
       "      <td>40.75%</td>\n",
       "      <td>36.48%</td>\n",
       "    </tr>\n",
       "  </tbody>\n",
       "</table>\n",
       "</div>"
      ],
      "text/plain": [
       "                       2015           2016           2017           2018  \\\n",
       "固定资产合计(元)       351,462,800    351,419,700    350,940,600    323,517,500   \n",
       "在建工程合计(元)         2,623,600      1,751,500     14,166,700    238,247,000   \n",
       "固定资产+在建工程       354,086,400    353,171,200    365,107,300    561,764,500   \n",
       "资产合计(元)       1,211,887,900  1,397,628,600  1,675,684,100  1,780,577,600   \n",
       "固定型资产占总资产的比率         29.22%         25.27%         21.79%         31.55%   \n",
       "\n",
       "                       2019           2020  \n",
       "固定资产合计(元)       728,869,600    674,529,900  \n",
       "在建工程合计(元)        80,713,600    120,273,100  \n",
       "固定资产+在建工程       809,583,200    794,803,000  \n",
       "资产合计(元)       1,986,804,400  2,178,534,900  \n",
       "固定型资产占总资产的比率         40.75%         36.48%  "
      ]
     },
     "execution_count": 10,
     "metadata": {},
     "output_type": "execute_result"
    }
   ],
   "source": [
    "t4 = ana.init_table('t4')\n",
    "t4['固定资产+在建工程'] = t4.T[:2].sum()\n",
    "t4['固定型资产占总资产的比率'] = t4['固定资产+在建工程'] / t4['资产合计(元)']\n",
    "\n",
    "ana.format_show_table('t4')"
   ]
  },
  {
   "cell_type": "code",
   "execution_count": 11,
   "metadata": {},
   "outputs": [
    {
     "data": {
      "image/png": "[encoded data removed]",
      "text/plain": [
       "<matplotlib.figure.Figure at 0x21e631896d8>"
      ]
     },
     "metadata": {
      "needs_background": "light"
     },
     "output_type": "display_data"
    }
   ],
   "source": [
    "ana.show_plot('t4')"
   ]
  },
  {
   "cell_type": "markdown",
   "metadata": {},
   "source": [
    "### 输出分析报告"
   ]
  },
  {
   "cell_type": "code",
   "execution_count": 12,
   "metadata": {},
   "outputs": [],
   "source": [
    "ReportDocument(ana).save()"
   ]
  },
  {
   "cell_type": "code",
   "execution_count": null,
   "metadata": {},
   "outputs": [],
   "source": []
  }
 ],
 "metadata": {
  "kernelspec": {
   "display_name": "Python 3",
   "language": "python",
   "name": "python3"
  },
  "language_info": {
   "codemirror_mode": {
    "name": "ipython",
    "version": 3
   },
   "file_extension": ".py",
   "mimetype": "text/x-python",
   "name": "python",
   "nbconvert_exporter": "python",
   "pygments_lexer": "ipython3",
   "version": "3.6.4"
  }
 },
 "nbformat": 4,
 "nbformat_minor": 1
}
