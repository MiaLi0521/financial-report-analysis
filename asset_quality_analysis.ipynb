{
 "cells": [
  {
   "cell_type": "markdown",
   "metadata": {
    "collapsed": true
   },
   "source": [
    "### 准货币资金"
   ]
  },
  {
   "cell_type": "code",
   "execution_count": 1,
   "metadata": {},
   "outputs": [],
   "source": [
    "from analysis import ANALYSIS_CONFIGS\n",
    "from analysis.analysis import FinancialAnalysis\n",
    "from analysis.doc_utils import ReportDocument"
   ]
  },
  {
   "cell_type": "code",
   "execution_count": 2,
   "metadata": {},
   "outputs": [
    {
     "data": {
      "text/plain": [
       "['all_analysis.json',\n",
       " 'asset_quality_analysis.json',\n",
       " 'asset_indepth_analysis.json',\n",
       " 'asset_fraud_analysis.json',\n",
       " 'profit_analysis.json',\n",
       " 'cash_flow_analysis.json']"
      ]
     },
     "execution_count": 2,
     "metadata": {},
     "output_type": "execute_result"
    }
   ],
   "source": [
    "ANALYSIS_CONFIGS"
   ]
  },
  {
   "cell_type": "code",
   "execution_count": 3,
   "metadata": {},
   "outputs": [],
   "source": [
    "ana = FinancialAnalysis(ANALYSIS_CONFIGS[1])\n",
    "images, titles, fields = ana.images, ana.titles, ana.fields"
   ]
  },
  {
   "cell_type": "code",
   "execution_count": 4,
   "metadata": {},
   "outputs": [
    {
     "data": {
      "text/html": [
       "<div>\n",
       "<style scoped>\n",
       "    .dataframe tbody tr th:only-of-type {\n",
       "        vertical-align: middle;\n",
       "    }\n",
       "\n",
       "    .dataframe tbody tr th {\n",
       "        vertical-align: top;\n",
       "    }\n",
       "\n",
       "    .dataframe thead th {\n",
       "        text-align: right;\n",
       "    }\n",
       "</style>\n",
       "<table border=\"1\" class=\"dataframe\">\n",
       "  <thead>\n",
       "    <tr style=\"text-align: right;\">\n",
       "      <th></th>\n",
       "      <th>2015</th>\n",
       "      <th>2016</th>\n",
       "      <th>2017</th>\n",
       "      <th>2018</th>\n",
       "      <th>2019</th>\n",
       "      <th>2020</th>\n",
       "    </tr>\n",
       "  </thead>\n",
       "  <tbody>\n",
       "    <tr>\n",
       "      <th>货币资金(元)</th>\n",
       "      <td>2,323,218,500</td>\n",
       "      <td>3,448,409,300</td>\n",
       "      <td>2,581,883,300</td>\n",
       "      <td>2,196,706,800</td>\n",
       "      <td>4,054,121,700</td>\n",
       "      <td>3,921,052,700</td>\n",
       "    </tr>\n",
       "    <tr>\n",
       "      <th>交易性金融资产(元)</th>\n",
       "      <td>0</td>\n",
       "      <td>0</td>\n",
       "      <td>0</td>\n",
       "      <td>0</td>\n",
       "      <td>1,360,000,000</td>\n",
       "      <td>2,352,000,000</td>\n",
       "    </tr>\n",
       "    <tr>\n",
       "      <th>其他流动资产里的理财产品</th>\n",
       "      <td>0</td>\n",
       "      <td>0</td>\n",
       "      <td>1,500,000,000</td>\n",
       "      <td>2,570,000,000</td>\n",
       "      <td>0</td>\n",
       "      <td>0</td>\n",
       "    </tr>\n",
       "    <tr>\n",
       "      <th>其他流动资产里的结构性存款</th>\n",
       "      <td>0</td>\n",
       "      <td>0</td>\n",
       "      <td>0</td>\n",
       "      <td>0</td>\n",
       "      <td>0</td>\n",
       "      <td>0</td>\n",
       "    </tr>\n",
       "    <tr>\n",
       "      <th>准货币资金</th>\n",
       "      <td>2,323,218,500</td>\n",
       "      <td>3,448,409,300</td>\n",
       "      <td>4,081,883,300</td>\n",
       "      <td>4,766,706,800</td>\n",
       "      <td>5,414,121,700</td>\n",
       "      <td>6,273,052,700</td>\n",
       "    </tr>\n",
       "    <tr>\n",
       "      <th>资产合计(元)</th>\n",
       "      <td>5,026,642,400</td>\n",
       "      <td>6,415,202,500</td>\n",
       "      <td>7,926,615,200</td>\n",
       "      <td>9,455,361,500</td>\n",
       "      <td>10,651,922,600</td>\n",
       "      <td>12,457,568,300</td>\n",
       "    </tr>\n",
       "    <tr>\n",
       "      <th>准货币资金占总资产的比率</th>\n",
       "      <td>46.22%</td>\n",
       "      <td>53.75%</td>\n",
       "      <td>51.50%</td>\n",
       "      <td>50.41%</td>\n",
       "      <td>50.83%</td>\n",
       "      <td>50.36%</td>\n",
       "    </tr>\n",
       "  </tbody>\n",
       "</table>\n",
       "</div>"
      ],
      "text/plain": [
       "                        2015           2016           2017           2018  \\\n",
       "货币资金(元)        2,323,218,500  3,448,409,300  2,581,883,300  2,196,706,800   \n",
       "交易性金融资产(元)                 0              0              0              0   \n",
       "其他流动资产里的理财产品               0              0  1,500,000,000  2,570,000,000   \n",
       "其他流动资产里的结构性存款              0              0              0              0   \n",
       "准货币资金          2,323,218,500  3,448,409,300  4,081,883,300  4,766,706,800   \n",
       "资产合计(元)        5,026,642,400  6,415,202,500  7,926,615,200  9,455,361,500   \n",
       "准货币资金占总资产的比率          46.22%         53.75%         51.50%         50.41%   \n",
       "\n",
       "                         2019            2020  \n",
       "货币资金(元)         4,054,121,700   3,921,052,700  \n",
       "交易性金融资产(元)      1,360,000,000   2,352,000,000  \n",
       "其他流动资产里的理财产品                0               0  \n",
       "其他流动资产里的结构性存款               0               0  \n",
       "准货币资金           5,414,121,700   6,273,052,700  \n",
       "资产合计(元)        10,651,922,600  12,457,568,300  \n",
       "准货币资金占总资产的比率           50.83%          50.36%  "
      ]
     },
     "execution_count": 4,
     "metadata": {},
     "output_type": "execute_result"
    }
   ],
   "source": [
    "t1 = ana.init_table('t1')\n",
    "t1['准货币资金'] = t1.T[:4].sum()\n",
    "t1['准货币资金占总资产的比率'] = t1['准货币资金'] / t1['资产合计(元)']\n",
    "\n",
    "ana.format_show_table('t1')"
   ]
  },
  {
   "cell_type": "code",
   "execution_count": 5,
   "metadata": {},
   "outputs": [
    {
     "data": {
      "image/png": "[encoded data removed]",
      "text/plain": [
       "<matplotlib.figure.Figure at 0x1519469dbe0>"
      ]
     },
     "metadata": {
      "needs_background": "light"
     },
     "output_type": "display_data"
    }
   ],
   "source": [
    "ana.show_plot('t1')"
   ]
  },
  {
   "cell_type": "markdown",
   "metadata": {},
   "source": [
    "### 应收账款、合同资产"
   ]
  },
  {
   "cell_type": "code",
   "execution_count": 6,
   "metadata": {},
   "outputs": [
    {
     "data": {
      "text/html": [
       "<div>\n",
       "<style scoped>\n",
       "    .dataframe tbody tr th:only-of-type {\n",
       "        vertical-align: middle;\n",
       "    }\n",
       "\n",
       "    .dataframe tbody tr th {\n",
       "        vertical-align: top;\n",
       "    }\n",
       "\n",
       "    .dataframe thead th {\n",
       "        text-align: right;\n",
       "    }\n",
       "</style>\n",
       "<table border=\"1\" class=\"dataframe\">\n",
       "  <thead>\n",
       "    <tr style=\"text-align: right;\">\n",
       "      <th></th>\n",
       "      <th>2015</th>\n",
       "      <th>2016</th>\n",
       "      <th>2017</th>\n",
       "      <th>2018</th>\n",
       "      <th>2019</th>\n",
       "      <th>2020</th>\n",
       "    </tr>\n",
       "  </thead>\n",
       "  <tbody>\n",
       "    <tr>\n",
       "      <th>应收账款(元)</th>\n",
       "      <td>320,387,700</td>\n",
       "      <td>331,595,200</td>\n",
       "      <td>371,167,700</td>\n",
       "      <td>446,773,100</td>\n",
       "      <td>725,630,900</td>\n",
       "      <td>1,008,235,900</td>\n",
       "    </tr>\n",
       "    <tr>\n",
       "      <th>合同资产(元)</th>\n",
       "      <td>0</td>\n",
       "      <td>0</td>\n",
       "      <td>0</td>\n",
       "      <td>0</td>\n",
       "      <td>0</td>\n",
       "      <td>0</td>\n",
       "    </tr>\n",
       "    <tr>\n",
       "      <th>应收账款加合同资产</th>\n",
       "      <td>320,387,700</td>\n",
       "      <td>331,595,200</td>\n",
       "      <td>371,167,700</td>\n",
       "      <td>446,773,100</td>\n",
       "      <td>725,630,900</td>\n",
       "      <td>1,008,235,900</td>\n",
       "    </tr>\n",
       "    <tr>\n",
       "      <th>资产合计(元)</th>\n",
       "      <td>5,026,642,400</td>\n",
       "      <td>6,415,202,500</td>\n",
       "      <td>7,926,615,200</td>\n",
       "      <td>9,455,361,500</td>\n",
       "      <td>10,651,922,600</td>\n",
       "      <td>12,457,568,300</td>\n",
       "    </tr>\n",
       "    <tr>\n",
       "      <th>应收账款与合同资产占总资产的比率</th>\n",
       "      <td>6.37%</td>\n",
       "      <td>5.17%</td>\n",
       "      <td>4.68%</td>\n",
       "      <td>4.73%</td>\n",
       "      <td>6.81%</td>\n",
       "      <td>8.09%</td>\n",
       "    </tr>\n",
       "  </tbody>\n",
       "</table>\n",
       "</div>"
      ],
      "text/plain": [
       "                           2015           2016           2017           2018  \\\n",
       "应收账款(元)             320,387,700    331,595,200    371,167,700    446,773,100   \n",
       "合同资产(元)                       0              0              0              0   \n",
       "应收账款加合同资产           320,387,700    331,595,200    371,167,700    446,773,100   \n",
       "资产合计(元)           5,026,642,400  6,415,202,500  7,926,615,200  9,455,361,500   \n",
       "应收账款与合同资产占总资产的比率          6.37%          5.17%          4.68%          4.73%   \n",
       "\n",
       "                            2019            2020  \n",
       "应收账款(元)              725,630,900   1,008,235,900  \n",
       "合同资产(元)                        0               0  \n",
       "应收账款加合同资产            725,630,900   1,008,235,900  \n",
       "资产合计(元)           10,651,922,600  12,457,568,300  \n",
       "应收账款与合同资产占总资产的比率           6.81%           8.09%  "
      ]
     },
     "execution_count": 6,
     "metadata": {},
     "output_type": "execute_result"
    }
   ],
   "source": [
    "t2 = ana.init_table('t2')\n",
    "t2['应收账款加合同资产'] = t2.T[:2].sum()\n",
    "t2['应收账款与合同资产占总资产的比率'] = t2['应收账款加合同资产'] / t2['资产合计(元)']\n",
    "\n",
    "ana.format_show_table('t2')"
   ]
  },
  {
   "cell_type": "code",
   "execution_count": 7,
   "metadata": {},
   "outputs": [
    {
     "data": {
      "image/png": "[encoded data removed]",
      "text/plain": [
       "<matplotlib.figure.Figure at 0x1519687a1d0>"
      ]
     },
     "metadata": {
      "needs_background": "light"
     },
     "output_type": "display_data"
    }
   ],
   "source": [
    "ana.show_plot('t2')"
   ]
  },
  {
   "cell_type": "markdown",
   "metadata": {},
   "source": [
    "### 预付款项"
   ]
  },
  {
   "cell_type": "code",
   "execution_count": 8,
   "metadata": {},
   "outputs": [
    {
     "data": {
      "text/html": [
       "<div>\n",
       "<style scoped>\n",
       "    .dataframe tbody tr th:only-of-type {\n",
       "        vertical-align: middle;\n",
       "    }\n",
       "\n",
       "    .dataframe tbody tr th {\n",
       "        vertical-align: top;\n",
       "    }\n",
       "\n",
       "    .dataframe thead th {\n",
       "        text-align: right;\n",
       "    }\n",
       "</style>\n",
       "<table border=\"1\" class=\"dataframe\">\n",
       "  <thead>\n",
       "    <tr style=\"text-align: right;\">\n",
       "      <th></th>\n",
       "      <th>2015</th>\n",
       "      <th>2016</th>\n",
       "      <th>2017</th>\n",
       "      <th>2018</th>\n",
       "      <th>2019</th>\n",
       "      <th>2020</th>\n",
       "    </tr>\n",
       "  </thead>\n",
       "  <tbody>\n",
       "    <tr>\n",
       "      <th>预付款项(元)</th>\n",
       "      <td>20,355,100</td>\n",
       "      <td>32,828,400</td>\n",
       "      <td>58,386,100</td>\n",
       "      <td>59,485,900</td>\n",
       "      <td>50,113,500</td>\n",
       "      <td>69,889,400</td>\n",
       "    </tr>\n",
       "    <tr>\n",
       "      <th>资产合计(元)</th>\n",
       "      <td>5,026,642,400</td>\n",
       "      <td>6,415,202,500</td>\n",
       "      <td>7,926,615,200</td>\n",
       "      <td>9,455,361,500</td>\n",
       "      <td>10,651,922,600</td>\n",
       "      <td>12,457,568,300</td>\n",
       "    </tr>\n",
       "    <tr>\n",
       "      <th>预付款项占总资产的比率</th>\n",
       "      <td>0.40%</td>\n",
       "      <td>0.51%</td>\n",
       "      <td>0.74%</td>\n",
       "      <td>0.63%</td>\n",
       "      <td>0.47%</td>\n",
       "      <td>0.56%</td>\n",
       "    </tr>\n",
       "  </tbody>\n",
       "</table>\n",
       "</div>"
      ],
      "text/plain": [
       "                      2015           2016           2017           2018  \\\n",
       "预付款项(元)         20,355,100     32,828,400     58,386,100     59,485,900   \n",
       "资产合计(元)      5,026,642,400  6,415,202,500  7,926,615,200  9,455,361,500   \n",
       "预付款项占总资产的比率          0.40%          0.51%          0.74%          0.63%   \n",
       "\n",
       "                       2019            2020  \n",
       "预付款项(元)          50,113,500      69,889,400  \n",
       "资产合计(元)      10,651,922,600  12,457,568,300  \n",
       "预付款项占总资产的比率           0.47%           0.56%  "
      ]
     },
     "execution_count": 8,
     "metadata": {},
     "output_type": "execute_result"
    }
   ],
   "source": [
    "t3 = ana.init_table('t3')\n",
    "t3['预付款项占总资产的比率'] = t3['预付款项(元)'] / t3['资产合计(元)']\n",
    "\n",
    "ana.format_show_table('t3')"
   ]
  },
  {
   "cell_type": "code",
   "execution_count": 9,
   "metadata": {},
   "outputs": [
    {
     "data": {
      "image/png": "[encoded data removed]",
      "text/plain": [
       "<matplotlib.figure.Figure at 0x15198b33f28>"
      ]
     },
     "metadata": {
      "needs_background": "light"
     },
     "output_type": "display_data"
    }
   ],
   "source": [
    "ana.show_plot('t3')"
   ]
  },
  {
   "cell_type": "markdown",
   "metadata": {},
   "source": [
    "### 固定资产、在建工程"
   ]
  },
  {
   "cell_type": "code",
   "execution_count": 10,
   "metadata": {},
   "outputs": [
    {
     "data": {
      "text/html": [
       "<div>\n",
       "<style scoped>\n",
       "    .dataframe tbody tr th:only-of-type {\n",
       "        vertical-align: middle;\n",
       "    }\n",
       "\n",
       "    .dataframe tbody tr th {\n",
       "        vertical-align: top;\n",
       "    }\n",
       "\n",
       "    .dataframe thead th {\n",
       "        text-align: right;\n",
       "    }\n",
       "</style>\n",
       "<table border=\"1\" class=\"dataframe\">\n",
       "  <thead>\n",
       "    <tr style=\"text-align: right;\">\n",
       "      <th></th>\n",
       "      <th>2015</th>\n",
       "      <th>2016</th>\n",
       "      <th>2017</th>\n",
       "      <th>2018</th>\n",
       "      <th>2019</th>\n",
       "      <th>2020</th>\n",
       "    </tr>\n",
       "  </thead>\n",
       "  <tbody>\n",
       "    <tr>\n",
       "      <th>固定资产合计(元)</th>\n",
       "      <td>871,990,200</td>\n",
       "      <td>852,193,400</td>\n",
       "      <td>828,422,300</td>\n",
       "      <td>842,877,500</td>\n",
       "      <td>826,234,900</td>\n",
       "      <td>824,978,400</td>\n",
       "    </tr>\n",
       "    <tr>\n",
       "      <th>在建工程合计(元)</th>\n",
       "      <td>0</td>\n",
       "      <td>0</td>\n",
       "      <td>21,085,400</td>\n",
       "      <td>184,440,700</td>\n",
       "      <td>272,211,700</td>\n",
       "      <td>463,424,600</td>\n",
       "    </tr>\n",
       "    <tr>\n",
       "      <th>固定资产+在建工程</th>\n",
       "      <td>871,990,200</td>\n",
       "      <td>852,193,400</td>\n",
       "      <td>849,507,700</td>\n",
       "      <td>1,027,318,200</td>\n",
       "      <td>1,098,446,600</td>\n",
       "      <td>1,288,403,000</td>\n",
       "    </tr>\n",
       "    <tr>\n",
       "      <th>资产合计(元)</th>\n",
       "      <td>5,026,642,400</td>\n",
       "      <td>6,415,202,500</td>\n",
       "      <td>7,926,615,200</td>\n",
       "      <td>9,455,361,500</td>\n",
       "      <td>10,651,922,600</td>\n",
       "      <td>12,457,568,300</td>\n",
       "    </tr>\n",
       "    <tr>\n",
       "      <th>固定型资产占总资产的比率</th>\n",
       "      <td>17.35%</td>\n",
       "      <td>13.28%</td>\n",
       "      <td>10.72%</td>\n",
       "      <td>10.86%</td>\n",
       "      <td>10.31%</td>\n",
       "      <td>10.34%</td>\n",
       "    </tr>\n",
       "  </tbody>\n",
       "</table>\n",
       "</div>"
      ],
      "text/plain": [
       "                       2015           2016           2017           2018  \\\n",
       "固定资产合计(元)       871,990,200    852,193,400    828,422,300    842,877,500   \n",
       "在建工程合计(元)                 0              0     21,085,400    184,440,700   \n",
       "固定资产+在建工程       871,990,200    852,193,400    849,507,700  1,027,318,200   \n",
       "资产合计(元)       5,026,642,400  6,415,202,500  7,926,615,200  9,455,361,500   \n",
       "固定型资产占总资产的比率         17.35%         13.28%         10.72%         10.86%   \n",
       "\n",
       "                        2019            2020  \n",
       "固定资产合计(元)        826,234,900     824,978,400  \n",
       "在建工程合计(元)        272,211,700     463,424,600  \n",
       "固定资产+在建工程      1,098,446,600   1,288,403,000  \n",
       "资产合计(元)       10,651,922,600  12,457,568,300  \n",
       "固定型资产占总资产的比率          10.31%          10.34%  "
      ]
     },
     "execution_count": 10,
     "metadata": {},
     "output_type": "execute_result"
    }
   ],
   "source": [
    "t4 = ana.init_table('t4')\n",
    "t4['固定资产+在建工程'] = t4.T[:2].sum()\n",
    "t4['固定型资产占总资产的比率'] = t4['固定资产+在建工程'] / t4['资产合计(元)']\n",
    "\n",
    "ana.format_show_table('t4')"
   ]
  },
  {
   "cell_type": "code",
   "execution_count": 11,
   "metadata": {},
   "outputs": [
    {
     "data": {
      "image/png": "[encoded data removed]",
      "text/plain": [
       "<matplotlib.figure.Figure at 0x15197a3fe48>"
      ]
     },
     "metadata": {
      "needs_background": "light"
     },
     "output_type": "display_data"
    }
   ],
   "source": [
    "ana.show_plot('t4')"
   ]
  },
  {
   "cell_type": "markdown",
   "metadata": {},
   "source": [
    "### 输出分析报告"
   ]
  },
  {
   "cell_type": "code",
   "execution_count": 12,
   "metadata": {},
   "outputs": [],
   "source": [
    "ReportDocument(ana).save()"
   ]
  },
  {
   "cell_type": "code",
   "execution_count": null,
   "metadata": {},
   "outputs": [],
   "source": []
  }
 ],
 "metadata": {
  "kernelspec": {
   "display_name": "Python 3",
   "language": "python",
   "name": "python3"
  },
  "language_info": {
   "codemirror_mode": {
    "name": "ipython",
    "version": 3
   },
   "file_extension": ".py",
   "mimetype": "text/x-python",
   "name": "python",
   "nbconvert_exporter": "python",
   "pygments_lexer": "ipython3",
   "version": "3.6.4"
  }
 },
 "nbformat": 4,
 "nbformat_minor": 1
}
