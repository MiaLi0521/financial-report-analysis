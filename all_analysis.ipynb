{
 "cells": [
  {
   "cell_type": "code",
   "execution_count": 1,
   "metadata": {},
   "outputs": [],
   "source": [
    "from analysis import ANALYSIS_CONFIGS\n",
    "from analysis.analysis import FinancialAnalysis\n",
    "from analysis.doc_utils import ReportDocument"
   ]
  },
  {
   "cell_type": "code",
   "execution_count": 2,
   "metadata": {},
   "outputs": [
    {
     "data": {
      "text/plain": [
       "['all_analysis.json',\n",
       " 'asset_quality_analysis.json',\n",
       " 'asset_indepth_analysis.json',\n",
       " 'asset_fraud_analysis.json',\n",
       " 'profit_analysis.json',\n",
       " 'cash_flow_analysis.json']"
      ]
     },
     "execution_count": 2,
     "metadata": {},
     "output_type": "execute_result"
    }
   ],
   "source": [
    "ANALYSIS_CONFIGS"
   ]
  },
  {
   "cell_type": "code",
   "execution_count": 3,
   "metadata": {},
   "outputs": [],
   "source": [
    "analysis = FinancialAnalysis(ANALYSIS_CONFIGS[0])\n",
    "images, titles, fields = analysis.images, analysis.titles, analysis.fields"
   ]
  },
  {
   "cell_type": "markdown",
   "metadata": {},
   "source": [
    "### 总资产规模和增长率"
   ]
  },
  {
   "cell_type": "code",
   "execution_count": 4,
   "metadata": {},
   "outputs": [
    {
     "data": {
      "text/html": [
       "<div>\n",
       "<style scoped>\n",
       "    .dataframe tbody tr th:only-of-type {\n",
       "        vertical-align: middle;\n",
       "    }\n",
       "\n",
       "    .dataframe tbody tr th {\n",
       "        vertical-align: top;\n",
       "    }\n",
       "\n",
       "    .dataframe thead th {\n",
       "        text-align: right;\n",
       "    }\n",
       "</style>\n",
       "<table border=\"1\" class=\"dataframe\">\n",
       "  <thead>\n",
       "    <tr style=\"text-align: right;\">\n",
       "      <th></th>\n",
       "      <th>2015</th>\n",
       "      <th>2016</th>\n",
       "      <th>2017</th>\n",
       "      <th>2018</th>\n",
       "      <th>2019</th>\n",
       "      <th>2020</th>\n",
       "    </tr>\n",
       "  </thead>\n",
       "  <tbody>\n",
       "    <tr>\n",
       "      <th>资产合计(元)</th>\n",
       "      <td>5,026,642,400</td>\n",
       "      <td>6,415,202,500</td>\n",
       "      <td>7,926,615,200</td>\n",
       "      <td>9,455,361,500</td>\n",
       "      <td>10,651,922,600</td>\n",
       "      <td>12,457,568,300</td>\n",
       "    </tr>\n",
       "    <tr>\n",
       "      <th>总资产增长率</th>\n",
       "      <td>nan%</td>\n",
       "      <td>27.62%</td>\n",
       "      <td>23.56%</td>\n",
       "      <td>19.29%</td>\n",
       "      <td>12.65%</td>\n",
       "      <td>16.95%</td>\n",
       "    </tr>\n",
       "  </tbody>\n",
       "</table>\n",
       "</div>"
      ],
      "text/plain": [
       "                  2015           2016           2017           2018  \\\n",
       "资产合计(元)  5,026,642,400  6,415,202,500  7,926,615,200  9,455,361,500   \n",
       "总资产增长率            nan%         27.62%         23.56%         19.29%   \n",
       "\n",
       "                   2019            2020  \n",
       "资产合计(元)  10,651,922,600  12,457,568,300  \n",
       "总资产增长率           12.65%          16.95%  "
      ]
     },
     "execution_count": 4,
     "metadata": {},
     "output_type": "execute_result"
    }
   ],
   "source": [
    "t1 = analysis.init_table('t1')\n",
    "t1['总资产增长率'] = t1['资产合计(元)'].pct_change()\n",
    "\n",
    "analysis.format_show_table('t1')"
   ]
  },
  {
   "cell_type": "code",
   "execution_count": 5,
   "metadata": {
    "scrolled": true
   },
   "outputs": [
    {
     "data": {
      "image/png": "[encoded data removed]",
      "text/plain": [
       "<matplotlib.figure.Figure at 0x2bc66fbddd8>"
      ]
     },
     "metadata": {
      "needs_background": "light"
     },
     "output_type": "display_data"
    }
   ],
   "source": [
    "analysis.show_plot('t1')"
   ]
  },
  {
   "cell_type": "markdown",
   "metadata": {},
   "source": [
    "### 资产负债率"
   ]
  },
  {
   "cell_type": "code",
   "execution_count": 6,
   "metadata": {},
   "outputs": [
    {
     "data": {
      "text/html": [
       "<div>\n",
       "<style scoped>\n",
       "    .dataframe tbody tr th:only-of-type {\n",
       "        vertical-align: middle;\n",
       "    }\n",
       "\n",
       "    .dataframe tbody tr th {\n",
       "        vertical-align: top;\n",
       "    }\n",
       "\n",
       "    .dataframe thead th {\n",
       "        text-align: right;\n",
       "    }\n",
       "</style>\n",
       "<table border=\"1\" class=\"dataframe\">\n",
       "  <thead>\n",
       "    <tr style=\"text-align: right;\">\n",
       "      <th></th>\n",
       "      <th>2015</th>\n",
       "      <th>2016</th>\n",
       "      <th>2017</th>\n",
       "      <th>2018</th>\n",
       "      <th>2019</th>\n",
       "      <th>2020</th>\n",
       "    </tr>\n",
       "  </thead>\n",
       "  <tbody>\n",
       "    <tr>\n",
       "      <th>负债合计(元)</th>\n",
       "      <td>1,860,356,000</td>\n",
       "      <td>2,289,957,600</td>\n",
       "      <td>2,669,143,900</td>\n",
       "      <td>3,324,513,200</td>\n",
       "      <td>3,677,639,200</td>\n",
       "      <td>4,263,789,000</td>\n",
       "    </tr>\n",
       "    <tr>\n",
       "      <th>资产合计(元)</th>\n",
       "      <td>5,026,642,400</td>\n",
       "      <td>6,415,202,500</td>\n",
       "      <td>7,926,615,200</td>\n",
       "      <td>9,455,361,500</td>\n",
       "      <td>10,651,922,600</td>\n",
       "      <td>12,457,568,300</td>\n",
       "    </tr>\n",
       "    <tr>\n",
       "      <th>资产负债率</th>\n",
       "      <td>37.01%</td>\n",
       "      <td>35.70%</td>\n",
       "      <td>33.67%</td>\n",
       "      <td>35.16%</td>\n",
       "      <td>34.53%</td>\n",
       "      <td>34.23%</td>\n",
       "    </tr>\n",
       "  </tbody>\n",
       "</table>\n",
       "</div>"
      ],
      "text/plain": [
       "                  2015           2016           2017           2018  \\\n",
       "负债合计(元)  1,860,356,000  2,289,957,600  2,669,143,900  3,324,513,200   \n",
       "资产合计(元)  5,026,642,400  6,415,202,500  7,926,615,200  9,455,361,500   \n",
       "资产负债率           37.01%         35.70%         33.67%         35.16%   \n",
       "\n",
       "                   2019            2020  \n",
       "负债合计(元)   3,677,639,200   4,263,789,000  \n",
       "资产合计(元)  10,651,922,600  12,457,568,300  \n",
       "资产负债率            34.53%          34.23%  "
      ]
     },
     "execution_count": 6,
     "metadata": {},
     "output_type": "execute_result"
    }
   ],
   "source": [
    "t2 = analysis.init_table('t2')\n",
    "t2['资产负债率'] = t2['负债合计(元)'] / t2['资产合计(元)']\n",
    "\n",
    "analysis.format_show_table('t2')"
   ]
  },
  {
   "cell_type": "code",
   "execution_count": 7,
   "metadata": {},
   "outputs": [
    {
     "data": {
      "image/png": "[encoded data removed]",
      "text/plain": [
       "<matplotlib.figure.Figure at 0x2bc66fbdcc0>"
      ]
     },
     "metadata": {
      "needs_background": "light"
     },
     "output_type": "display_data"
    }
   ],
   "source": [
    "analysis.show_plot('t2')"
   ]
  },
  {
   "cell_type": "markdown",
   "metadata": {},
   "source": [
    "### 准货币资金与有息负债的差额"
   ]
  },
  {
   "cell_type": "code",
   "execution_count": 8,
   "metadata": {},
   "outputs": [
    {
     "data": {
      "text/html": [
       "<div>\n",
       "<style scoped>\n",
       "    .dataframe tbody tr th:only-of-type {\n",
       "        vertical-align: middle;\n",
       "    }\n",
       "\n",
       "    .dataframe tbody tr th {\n",
       "        vertical-align: top;\n",
       "    }\n",
       "\n",
       "    .dataframe thead th {\n",
       "        text-align: right;\n",
       "    }\n",
       "</style>\n",
       "<table border=\"1\" class=\"dataframe\">\n",
       "  <thead>\n",
       "    <tr style=\"text-align: right;\">\n",
       "      <th></th>\n",
       "      <th>2015</th>\n",
       "      <th>2016</th>\n",
       "      <th>2017</th>\n",
       "      <th>2018</th>\n",
       "      <th>2019</th>\n",
       "      <th>2020</th>\n",
       "    </tr>\n",
       "  </thead>\n",
       "  <tbody>\n",
       "    <tr>\n",
       "      <th>货币资金(元)</th>\n",
       "      <td>2,323,218,500</td>\n",
       "      <td>3,448,409,300</td>\n",
       "      <td>2,581,883,300</td>\n",
       "      <td>2,196,706,800</td>\n",
       "      <td>4,054,121,700</td>\n",
       "      <td>3,921,052,700</td>\n",
       "    </tr>\n",
       "    <tr>\n",
       "      <th>交易性金融资产(元)</th>\n",
       "      <td>0</td>\n",
       "      <td>0</td>\n",
       "      <td>0</td>\n",
       "      <td>0</td>\n",
       "      <td>1,360,000,000</td>\n",
       "      <td>2,352,000,000</td>\n",
       "    </tr>\n",
       "    <tr>\n",
       "      <th>其他流动资产里的理财产品</th>\n",
       "      <td>0</td>\n",
       "      <td>0</td>\n",
       "      <td>1,500,000,000</td>\n",
       "      <td>2,570,000,000</td>\n",
       "      <td>0</td>\n",
       "      <td>0</td>\n",
       "    </tr>\n",
       "    <tr>\n",
       "      <th>其他流动资产里的结构性存款</th>\n",
       "      <td>0</td>\n",
       "      <td>0</td>\n",
       "      <td>0</td>\n",
       "      <td>0</td>\n",
       "      <td>0</td>\n",
       "      <td>0</td>\n",
       "    </tr>\n",
       "    <tr>\n",
       "      <th>准货币资金</th>\n",
       "      <td>2,323,218,500</td>\n",
       "      <td>3,448,409,300</td>\n",
       "      <td>4,081,883,300</td>\n",
       "      <td>4,766,706,800</td>\n",
       "      <td>5,414,121,700</td>\n",
       "      <td>6,273,052,700</td>\n",
       "    </tr>\n",
       "    <tr>\n",
       "      <th>短期借款(元)</th>\n",
       "      <td>0</td>\n",
       "      <td>0</td>\n",
       "      <td>0</td>\n",
       "      <td>0</td>\n",
       "      <td>0</td>\n",
       "      <td>6,076,200</td>\n",
       "    </tr>\n",
       "    <tr>\n",
       "      <th>一年内到期的非流动负债(元)</th>\n",
       "      <td>0</td>\n",
       "      <td>0</td>\n",
       "      <td>0</td>\n",
       "      <td>0</td>\n",
       "      <td>0</td>\n",
       "      <td>0</td>\n",
       "    </tr>\n",
       "    <tr>\n",
       "      <th>长期借款(元)</th>\n",
       "      <td>0</td>\n",
       "      <td>0</td>\n",
       "      <td>0</td>\n",
       "      <td>0</td>\n",
       "      <td>0</td>\n",
       "      <td>0</td>\n",
       "    </tr>\n",
       "    <tr>\n",
       "      <th>应付债券(元)</th>\n",
       "      <td>0</td>\n",
       "      <td>0</td>\n",
       "      <td>0</td>\n",
       "      <td>0</td>\n",
       "      <td>0</td>\n",
       "      <td>0</td>\n",
       "    </tr>\n",
       "    <tr>\n",
       "      <th>长期应付款</th>\n",
       "      <td>0</td>\n",
       "      <td>0</td>\n",
       "      <td>0</td>\n",
       "      <td>0</td>\n",
       "      <td>0</td>\n",
       "      <td>0</td>\n",
       "    </tr>\n",
       "    <tr>\n",
       "      <th>有息负债总额</th>\n",
       "      <td>0</td>\n",
       "      <td>0</td>\n",
       "      <td>0</td>\n",
       "      <td>0</td>\n",
       "      <td>0</td>\n",
       "      <td>6,076,200</td>\n",
       "    </tr>\n",
       "    <tr>\n",
       "      <th>总货币资金与有息负债之差</th>\n",
       "      <td>2,323,218,500</td>\n",
       "      <td>3,448,409,300</td>\n",
       "      <td>4,081,883,300</td>\n",
       "      <td>4,766,706,800</td>\n",
       "      <td>5,414,121,700</td>\n",
       "      <td>6,266,976,500</td>\n",
       "    </tr>\n",
       "  </tbody>\n",
       "</table>\n",
       "</div>"
      ],
      "text/plain": [
       "                         2015           2016           2017           2018  \\\n",
       "货币资金(元)         2,323,218,500  3,448,409,300  2,581,883,300  2,196,706,800   \n",
       "交易性金融资产(元)                  0              0              0              0   \n",
       "其他流动资产里的理财产品                0              0  1,500,000,000  2,570,000,000   \n",
       "其他流动资产里的结构性存款               0              0              0              0   \n",
       "准货币资金           2,323,218,500  3,448,409,300  4,081,883,300  4,766,706,800   \n",
       "短期借款(元)                     0              0              0              0   \n",
       "一年内到期的非流动负债(元)              0              0              0              0   \n",
       "长期借款(元)                     0              0              0              0   \n",
       "应付债券(元)                     0              0              0              0   \n",
       "长期应付款                       0              0              0              0   \n",
       "有息负债总额                      0              0              0              0   \n",
       "总货币资金与有息负债之差    2,323,218,500  3,448,409,300  4,081,883,300  4,766,706,800   \n",
       "\n",
       "                         2019           2020  \n",
       "货币资金(元)         4,054,121,700  3,921,052,700  \n",
       "交易性金融资产(元)      1,360,000,000  2,352,000,000  \n",
       "其他流动资产里的理财产品                0              0  \n",
       "其他流动资产里的结构性存款               0              0  \n",
       "准货币资金           5,414,121,700  6,273,052,700  \n",
       "短期借款(元)                     0      6,076,200  \n",
       "一年内到期的非流动负债(元)              0              0  \n",
       "长期借款(元)                     0              0  \n",
       "应付债券(元)                     0              0  \n",
       "长期应付款                       0              0  \n",
       "有息负债总额                      0      6,076,200  \n",
       "总货币资金与有息负债之差    5,414,121,700  6,266,976,500  "
      ]
     },
     "execution_count": 8,
     "metadata": {},
     "output_type": "execute_result"
    }
   ],
   "source": [
    "t3 = analysis.init_table('t3')\n",
    "t3['准货币资金'] = t3.T[:4].sum()\n",
    "t3['有息负债总额'] = t3.T[5:10].sum()\n",
    "t3['总货币资金与有息负债之差'] = t3['准货币资金'] - t3['有息负债总额']\n",
    "\n",
    "analysis.format_show_table('t3')"
   ]
  },
  {
   "cell_type": "code",
   "execution_count": 9,
   "metadata": {},
   "outputs": [
    {
     "data": {
      "image/png": "[encoded data removed]",
      "text/plain": [
       "<matplotlib.figure.Figure at 0x2bc6922f940>"
      ]
     },
     "metadata": {
      "needs_background": "light"
     },
     "output_type": "display_data"
    }
   ],
   "source": [
    "analysis.show_plot('t3')"
   ]
  },
  {
   "cell_type": "code",
   "execution_count": 10,
   "metadata": {},
   "outputs": [
    {
     "data": {
      "image/png": "[encoded data removed]",
      "text/plain": [
       "<matplotlib.figure.Figure at 0x2bc6a237d30>"
      ]
     },
     "metadata": {
      "needs_background": "light"
     },
     "output_type": "display_data"
    }
   ],
   "source": [
    "analysis.show_plot('t3', image_index=1)"
   ]
  },
  {
   "cell_type": "markdown",
   "metadata": {},
   "source": [
    "### 应付预收减应收预付的差额"
   ]
  },
  {
   "cell_type": "code",
   "execution_count": 11,
   "metadata": {},
   "outputs": [
    {
     "data": {
      "text/html": [
       "<div>\n",
       "<style scoped>\n",
       "    .dataframe tbody tr th:only-of-type {\n",
       "        vertical-align: middle;\n",
       "    }\n",
       "\n",
       "    .dataframe tbody tr th {\n",
       "        vertical-align: top;\n",
       "    }\n",
       "\n",
       "    .dataframe thead th {\n",
       "        text-align: right;\n",
       "    }\n",
       "</style>\n",
       "<table border=\"1\" class=\"dataframe\">\n",
       "  <thead>\n",
       "    <tr style=\"text-align: right;\">\n",
       "      <th></th>\n",
       "      <th>2015</th>\n",
       "      <th>2016</th>\n",
       "      <th>2017</th>\n",
       "      <th>2018</th>\n",
       "      <th>2019</th>\n",
       "      <th>2020</th>\n",
       "    </tr>\n",
       "  </thead>\n",
       "  <tbody>\n",
       "    <tr>\n",
       "      <th>其中：应付票据(元)</th>\n",
       "      <td>0</td>\n",
       "      <td>0</td>\n",
       "      <td>365,613,300</td>\n",
       "      <td>411,415,000</td>\n",
       "      <td>603,308,600</td>\n",
       "      <td>751,802,500</td>\n",
       "    </tr>\n",
       "    <tr>\n",
       "      <th>应付账款(元)</th>\n",
       "      <td>964,246,700</td>\n",
       "      <td>910,854,400</td>\n",
       "      <td>1,045,259,500</td>\n",
       "      <td>1,195,563,100</td>\n",
       "      <td>1,395,061,300</td>\n",
       "      <td>1,723,832,200</td>\n",
       "    </tr>\n",
       "    <tr>\n",
       "      <th>预收款项(元)</th>\n",
       "      <td>524,551,900</td>\n",
       "      <td>840,328,500</td>\n",
       "      <td>735,005,100</td>\n",
       "      <td>1,170,088,500</td>\n",
       "      <td>1,092,261,300</td>\n",
       "      <td>0</td>\n",
       "    </tr>\n",
       "    <tr>\n",
       "      <th>合同负债(元)</th>\n",
       "      <td>0</td>\n",
       "      <td>0</td>\n",
       "      <td>0</td>\n",
       "      <td>0</td>\n",
       "      <td>0</td>\n",
       "      <td>949,591,228</td>\n",
       "    </tr>\n",
       "    <tr>\n",
       "      <th>应付与预收合计</th>\n",
       "      <td>1,488,798,600</td>\n",
       "      <td>1,751,182,900</td>\n",
       "      <td>2,145,877,900</td>\n",
       "      <td>2,777,066,600</td>\n",
       "      <td>3,090,631,200</td>\n",
       "      <td>3,425,225,928</td>\n",
       "    </tr>\n",
       "    <tr>\n",
       "      <th>其中：应收票据(元)</th>\n",
       "      <td>613,732,800</td>\n",
       "      <td>637,529,200</td>\n",
       "      <td>1,007,950,700</td>\n",
       "      <td>1,268,146,300</td>\n",
       "      <td>986,693,100</td>\n",
       "      <td>1,832,701,400</td>\n",
       "    </tr>\n",
       "    <tr>\n",
       "      <th>合同资产(元)</th>\n",
       "      <td>0</td>\n",
       "      <td>0</td>\n",
       "      <td>0</td>\n",
       "      <td>0</td>\n",
       "      <td>0</td>\n",
       "      <td>0</td>\n",
       "    </tr>\n",
       "    <tr>\n",
       "      <th>应收款项融资</th>\n",
       "      <td>0</td>\n",
       "      <td>0</td>\n",
       "      <td>0</td>\n",
       "      <td>0</td>\n",
       "      <td>408,972,104</td>\n",
       "      <td>0</td>\n",
       "    </tr>\n",
       "    <tr>\n",
       "      <th>应收账款(元)</th>\n",
       "      <td>320,387,700</td>\n",
       "      <td>331,595,200</td>\n",
       "      <td>371,167,700</td>\n",
       "      <td>446,773,100</td>\n",
       "      <td>725,630,900</td>\n",
       "      <td>1,008,235,900</td>\n",
       "    </tr>\n",
       "    <tr>\n",
       "      <th>预付款项(元)</th>\n",
       "      <td>20,355,100</td>\n",
       "      <td>32,828,400</td>\n",
       "      <td>58,386,100</td>\n",
       "      <td>59,485,900</td>\n",
       "      <td>50,113,500</td>\n",
       "      <td>69,889,400</td>\n",
       "    </tr>\n",
       "    <tr>\n",
       "      <th>应收与预付合计</th>\n",
       "      <td>954,475,600</td>\n",
       "      <td>1,001,952,800</td>\n",
       "      <td>1,437,504,500</td>\n",
       "      <td>1,774,405,300</td>\n",
       "      <td>2,171,409,604</td>\n",
       "      <td>2,910,826,700</td>\n",
       "    </tr>\n",
       "    <tr>\n",
       "      <th>应付预收减应收预付的差额</th>\n",
       "      <td>534,323,000</td>\n",
       "      <td>749,230,100</td>\n",
       "      <td>708,373,400</td>\n",
       "      <td>1,002,661,300</td>\n",
       "      <td>919,221,596</td>\n",
       "      <td>514,399,228</td>\n",
       "    </tr>\n",
       "  </tbody>\n",
       "</table>\n",
       "</div>"
      ],
      "text/plain": [
       "                       2015           2016           2017           2018  \\\n",
       "其中：应付票据(元)                0              0    365,613,300    411,415,000   \n",
       "应付账款(元)         964,246,700    910,854,400  1,045,259,500  1,195,563,100   \n",
       "预收款项(元)         524,551,900    840,328,500    735,005,100  1,170,088,500   \n",
       "合同负债(元)                   0              0              0              0   \n",
       "应付与预收合计       1,488,798,600  1,751,182,900  2,145,877,900  2,777,066,600   \n",
       "其中：应收票据(元)      613,732,800    637,529,200  1,007,950,700  1,268,146,300   \n",
       "合同资产(元)                   0              0              0              0   \n",
       "应收款项融资                    0              0              0              0   \n",
       "应收账款(元)         320,387,700    331,595,200    371,167,700    446,773,100   \n",
       "预付款项(元)          20,355,100     32,828,400     58,386,100     59,485,900   \n",
       "应收与预付合计         954,475,600  1,001,952,800  1,437,504,500  1,774,405,300   \n",
       "应付预收减应收预付的差额    534,323,000    749,230,100    708,373,400  1,002,661,300   \n",
       "\n",
       "                       2019           2020  \n",
       "其中：应付票据(元)      603,308,600    751,802,500  \n",
       "应付账款(元)       1,395,061,300  1,723,832,200  \n",
       "预收款项(元)       1,092,261,300              0  \n",
       "合同负债(元)                   0    949,591,228  \n",
       "应付与预收合计       3,090,631,200  3,425,225,928  \n",
       "其中：应收票据(元)      986,693,100  1,832,701,400  \n",
       "合同资产(元)                   0              0  \n",
       "应收款项融资          408,972,104              0  \n",
       "应收账款(元)         725,630,900  1,008,235,900  \n",
       "预付款项(元)          50,113,500     69,889,400  \n",
       "应收与预付合计       2,171,409,604  2,910,826,700  \n",
       "应付预收减应收预付的差额    919,221,596    514,399,228  "
      ]
     },
     "execution_count": 11,
     "metadata": {},
     "output_type": "execute_result"
    }
   ],
   "source": [
    "t4 = analysis.init_table('t4')\n",
    "t4['应付与预收合计'] = t4.T[:4].sum()\n",
    "t4['应收与预付合计'] = t4.T[5:10].sum()\n",
    "t4['应付预收减应收预付的差额'] = t4['应付与预收合计'] - t4['应收与预付合计']\n",
    "\n",
    "analysis.format_show_table('t4')"
   ]
  },
  {
   "cell_type": "code",
   "execution_count": 12,
   "metadata": {},
   "outputs": [
    {
     "data": {
      "image/png": "[encoded data removed]",
      "text/plain": [
       "<matplotlib.figure.Figure at 0x2bc6a24c048>"
      ]
     },
     "metadata": {
      "needs_background": "light"
     },
     "output_type": "display_data"
    }
   ],
   "source": [
    "analysis.show_plot('t4')"
   ]
  },
  {
   "cell_type": "code",
   "execution_count": 13,
   "metadata": {},
   "outputs": [
    {
     "data": {
      "image/png": "[encoded data removed]",
      "text/plain": [
       "<matplotlib.figure.Figure at 0x2bc6a38a908>"
      ]
     },
     "metadata": {
      "needs_background": "light"
     },
     "output_type": "display_data"
    }
   ],
   "source": [
    "analysis.show_plot('t4', image_index=1)"
   ]
  },
  {
   "cell_type": "markdown",
   "metadata": {},
   "source": [
    "### 应收账款+合同资产占总资产的比例"
   ]
  },
  {
   "cell_type": "code",
   "execution_count": 14,
   "metadata": {},
   "outputs": [
    {
     "data": {
      "text/html": [
       "<div>\n",
       "<style scoped>\n",
       "    .dataframe tbody tr th:only-of-type {\n",
       "        vertical-align: middle;\n",
       "    }\n",
       "\n",
       "    .dataframe tbody tr th {\n",
       "        vertical-align: top;\n",
       "    }\n",
       "\n",
       "    .dataframe thead th {\n",
       "        text-align: right;\n",
       "    }\n",
       "</style>\n",
       "<table border=\"1\" class=\"dataframe\">\n",
       "  <thead>\n",
       "    <tr style=\"text-align: right;\">\n",
       "      <th></th>\n",
       "      <th>2015</th>\n",
       "      <th>2016</th>\n",
       "      <th>2017</th>\n",
       "      <th>2018</th>\n",
       "      <th>2019</th>\n",
       "      <th>2020</th>\n",
       "    </tr>\n",
       "  </thead>\n",
       "  <tbody>\n",
       "    <tr>\n",
       "      <th>合同资产(元)</th>\n",
       "      <td>0</td>\n",
       "      <td>0</td>\n",
       "      <td>0</td>\n",
       "      <td>0</td>\n",
       "      <td>0</td>\n",
       "      <td>0</td>\n",
       "    </tr>\n",
       "    <tr>\n",
       "      <th>应收账款(元)</th>\n",
       "      <td>320,387,700</td>\n",
       "      <td>331,595,200</td>\n",
       "      <td>371,167,700</td>\n",
       "      <td>446,773,100</td>\n",
       "      <td>725,630,900</td>\n",
       "      <td>1,008,235,900</td>\n",
       "    </tr>\n",
       "    <tr>\n",
       "      <th>应收账款+合同资产</th>\n",
       "      <td>320,387,700</td>\n",
       "      <td>331,595,200</td>\n",
       "      <td>371,167,700</td>\n",
       "      <td>446,773,100</td>\n",
       "      <td>725,630,900</td>\n",
       "      <td>1,008,235,900</td>\n",
       "    </tr>\n",
       "    <tr>\n",
       "      <th>资产合计(元)</th>\n",
       "      <td>5,026,642,400</td>\n",
       "      <td>6,415,202,500</td>\n",
       "      <td>7,926,615,200</td>\n",
       "      <td>9,455,361,500</td>\n",
       "      <td>10,651,922,600</td>\n",
       "      <td>12,457,568,300</td>\n",
       "    </tr>\n",
       "    <tr>\n",
       "      <th>(应收账款+合同资产)占总资产的比率</th>\n",
       "      <td>6.37%</td>\n",
       "      <td>5.17%</td>\n",
       "      <td>4.68%</td>\n",
       "      <td>4.73%</td>\n",
       "      <td>6.81%</td>\n",
       "      <td>8.09%</td>\n",
       "    </tr>\n",
       "  </tbody>\n",
       "</table>\n",
       "</div>"
      ],
      "text/plain": [
       "                             2015           2016           2017  \\\n",
       "合同资产(元)                         0              0              0   \n",
       "应收账款(元)               320,387,700    331,595,200    371,167,700   \n",
       "应收账款+合同资产             320,387,700    331,595,200    371,167,700   \n",
       "资产合计(元)             5,026,642,400  6,415,202,500  7,926,615,200   \n",
       "(应收账款+合同资产)占总资产的比率          6.37%          5.17%          4.68%   \n",
       "\n",
       "                             2018            2019            2020  \n",
       "合同资产(元)                         0               0               0  \n",
       "应收账款(元)               446,773,100     725,630,900   1,008,235,900  \n",
       "应收账款+合同资产             446,773,100     725,630,900   1,008,235,900  \n",
       "资产合计(元)             9,455,361,500  10,651,922,600  12,457,568,300  \n",
       "(应收账款+合同资产)占总资产的比率          4.73%           6.81%           8.09%  "
      ]
     },
     "execution_count": 14,
     "metadata": {},
     "output_type": "execute_result"
    }
   ],
   "source": [
    "t5 = analysis.init_table('t5')\n",
    "t5['应收账款+合同资产'] = t5.T[:2].sum()\n",
    "t5['(应收账款+合同资产)占总资产的比率'] = t5['应收账款+合同资产'] / t5['资产合计(元)']\n",
    "\n",
    "analysis.format_show_table('t5')"
   ]
  },
  {
   "cell_type": "code",
   "execution_count": 15,
   "metadata": {},
   "outputs": [
    {
     "data": {
      "image/png": "[encoded data removed]",
      "text/plain": [
       "<matplotlib.figure.Figure at 0x2bc6a39c860>"
      ]
     },
     "metadata": {
      "needs_background": "light"
     },
     "output_type": "display_data"
    }
   ],
   "source": [
    "analysis.show_plot('t5')"
   ]
  },
  {
   "cell_type": "markdown",
   "metadata": {},
   "source": [
    "### 固定资产占总资产的比重"
   ]
  },
  {
   "cell_type": "code",
   "execution_count": 16,
   "metadata": {},
   "outputs": [
    {
     "data": {
      "text/html": [
       "<div>\n",
       "<style scoped>\n",
       "    .dataframe tbody tr th:only-of-type {\n",
       "        vertical-align: middle;\n",
       "    }\n",
       "\n",
       "    .dataframe tbody tr th {\n",
       "        vertical-align: top;\n",
       "    }\n",
       "\n",
       "    .dataframe thead th {\n",
       "        text-align: right;\n",
       "    }\n",
       "</style>\n",
       "<table border=\"1\" class=\"dataframe\">\n",
       "  <thead>\n",
       "    <tr style=\"text-align: right;\">\n",
       "      <th></th>\n",
       "      <th>2015</th>\n",
       "      <th>2016</th>\n",
       "      <th>2017</th>\n",
       "      <th>2018</th>\n",
       "      <th>2019</th>\n",
       "      <th>2020</th>\n",
       "    </tr>\n",
       "  </thead>\n",
       "  <tbody>\n",
       "    <tr>\n",
       "      <th>固定资产合计(元)</th>\n",
       "      <td>871,990,200</td>\n",
       "      <td>852,193,400</td>\n",
       "      <td>828,422,300</td>\n",
       "      <td>842,877,500</td>\n",
       "      <td>826,234,900</td>\n",
       "      <td>824,978,400</td>\n",
       "    </tr>\n",
       "    <tr>\n",
       "      <th>在建工程合计(元)</th>\n",
       "      <td>0</td>\n",
       "      <td>0</td>\n",
       "      <td>21,085,400</td>\n",
       "      <td>184,440,700</td>\n",
       "      <td>272,211,700</td>\n",
       "      <td>463,424,600</td>\n",
       "    </tr>\n",
       "    <tr>\n",
       "      <th>固定资产+在建工程</th>\n",
       "      <td>871,990,200</td>\n",
       "      <td>852,193,400</td>\n",
       "      <td>849,507,700</td>\n",
       "      <td>1,027,318,200</td>\n",
       "      <td>1,098,446,600</td>\n",
       "      <td>1,288,403,000</td>\n",
       "    </tr>\n",
       "    <tr>\n",
       "      <th>资产合计(元)</th>\n",
       "      <td>5,026,642,400</td>\n",
       "      <td>6,415,202,500</td>\n",
       "      <td>7,926,615,200</td>\n",
       "      <td>9,455,361,500</td>\n",
       "      <td>10,651,922,600</td>\n",
       "      <td>12,457,568,300</td>\n",
       "    </tr>\n",
       "    <tr>\n",
       "      <th>固定型资产占总资产的比率</th>\n",
       "      <td>17.35%</td>\n",
       "      <td>13.28%</td>\n",
       "      <td>10.72%</td>\n",
       "      <td>10.86%</td>\n",
       "      <td>10.31%</td>\n",
       "      <td>10.34%</td>\n",
       "    </tr>\n",
       "  </tbody>\n",
       "</table>\n",
       "</div>"
      ],
      "text/plain": [
       "                       2015           2016           2017           2018  \\\n",
       "固定资产合计(元)       871,990,200    852,193,400    828,422,300    842,877,500   \n",
       "在建工程合计(元)                 0              0     21,085,400    184,440,700   \n",
       "固定资产+在建工程       871,990,200    852,193,400    849,507,700  1,027,318,200   \n",
       "资产合计(元)       5,026,642,400  6,415,202,500  7,926,615,200  9,455,361,500   \n",
       "固定型资产占总资产的比率         17.35%         13.28%         10.72%         10.86%   \n",
       "\n",
       "                        2019            2020  \n",
       "固定资产合计(元)        826,234,900     824,978,400  \n",
       "在建工程合计(元)        272,211,700     463,424,600  \n",
       "固定资产+在建工程      1,098,446,600   1,288,403,000  \n",
       "资产合计(元)       10,651,922,600  12,457,568,300  \n",
       "固定型资产占总资产的比率          10.31%          10.34%  "
      ]
     },
     "execution_count": 16,
     "metadata": {},
     "output_type": "execute_result"
    }
   ],
   "source": [
    "t6 = analysis.init_table('t6')\n",
    "t6['固定资产+在建工程'] = t6.T[:2].sum()\n",
    "t6['固定型资产占总资产的比率'] = t6['固定资产+在建工程'] / t6['资产合计(元)']\n",
    "\n",
    "analysis.format_show_table('t6')"
   ]
  },
  {
   "cell_type": "code",
   "execution_count": 17,
   "metadata": {},
   "outputs": [
    {
     "data": {
      "image/png": "[encoded data removed]",
      "text/plain": [
       "<matplotlib.figure.Figure at 0x2bc6a3f5550>"
      ]
     },
     "metadata": {
      "needs_background": "light"
     },
     "output_type": "display_data"
    }
   ],
   "source": [
    "analysis.show_plot('t6')"
   ]
  },
  {
   "cell_type": "markdown",
   "metadata": {},
   "source": [
    "### 投资类资产占比分析"
   ]
  },
  {
   "cell_type": "code",
   "execution_count": 18,
   "metadata": {},
   "outputs": [
    {
     "data": {
      "text/html": [
       "<div>\n",
       "<style scoped>\n",
       "    .dataframe tbody tr th:only-of-type {\n",
       "        vertical-align: middle;\n",
       "    }\n",
       "\n",
       "    .dataframe tbody tr th {\n",
       "        vertical-align: top;\n",
       "    }\n",
       "\n",
       "    .dataframe thead th {\n",
       "        text-align: right;\n",
       "    }\n",
       "</style>\n",
       "<table border=\"1\" class=\"dataframe\">\n",
       "  <thead>\n",
       "    <tr style=\"text-align: right;\">\n",
       "      <th></th>\n",
       "      <th>2015</th>\n",
       "      <th>2016</th>\n",
       "      <th>2017</th>\n",
       "      <th>2018</th>\n",
       "      <th>2019</th>\n",
       "      <th>2020</th>\n",
       "    </tr>\n",
       "  </thead>\n",
       "  <tbody>\n",
       "    <tr>\n",
       "      <th>以公允价值计量且其变动计入当期损益的金融资产(元)</th>\n",
       "      <td>0</td>\n",
       "      <td>0</td>\n",
       "      <td>0</td>\n",
       "      <td>0</td>\n",
       "      <td>0</td>\n",
       "      <td>0</td>\n",
       "    </tr>\n",
       "    <tr>\n",
       "      <th>债权投资(元)</th>\n",
       "      <td>0</td>\n",
       "      <td>0</td>\n",
       "      <td>0</td>\n",
       "      <td>0</td>\n",
       "      <td>0</td>\n",
       "      <td>0</td>\n",
       "    </tr>\n",
       "    <tr>\n",
       "      <th>可供出售金融资产(元)</th>\n",
       "      <td>27,734,000</td>\n",
       "      <td>27,734,000</td>\n",
       "      <td>147,734,000</td>\n",
       "      <td>119,948,500</td>\n",
       "      <td>0</td>\n",
       "      <td>0</td>\n",
       "    </tr>\n",
       "    <tr>\n",
       "      <th>其他权益工具投资(元)</th>\n",
       "      <td>0</td>\n",
       "      <td>0</td>\n",
       "      <td>0</td>\n",
       "      <td>0</td>\n",
       "      <td>102,116,000</td>\n",
       "      <td>102,116,000</td>\n",
       "    </tr>\n",
       "    <tr>\n",
       "      <th>持有至到期投资(元)</th>\n",
       "      <td>0</td>\n",
       "      <td>0</td>\n",
       "      <td>0</td>\n",
       "      <td>0</td>\n",
       "      <td>0</td>\n",
       "      <td>0</td>\n",
       "    </tr>\n",
       "    <tr>\n",
       "      <th>其他非流动金融资产(元)</th>\n",
       "      <td>0</td>\n",
       "      <td>0</td>\n",
       "      <td>0</td>\n",
       "      <td>0</td>\n",
       "      <td>0</td>\n",
       "      <td>0</td>\n",
       "    </tr>\n",
       "    <tr>\n",
       "      <th>长期股权投资(元)</th>\n",
       "      <td>0</td>\n",
       "      <td>817,900</td>\n",
       "      <td>3,815,200</td>\n",
       "      <td>2,617,900</td>\n",
       "      <td>4,168,300</td>\n",
       "      <td>3,452,800</td>\n",
       "    </tr>\n",
       "    <tr>\n",
       "      <th>投资性房地产(元)</th>\n",
       "      <td>148,500</td>\n",
       "      <td>139,500</td>\n",
       "      <td>130,600</td>\n",
       "      <td>121,600</td>\n",
       "      <td>112,600</td>\n",
       "      <td>2,591,000</td>\n",
       "    </tr>\n",
       "    <tr>\n",
       "      <th>投资类资产合计</th>\n",
       "      <td>27,882,500</td>\n",
       "      <td>28,691,400</td>\n",
       "      <td>151,679,800</td>\n",
       "      <td>122,688,000</td>\n",
       "      <td>106,396,900</td>\n",
       "      <td>108,159,800</td>\n",
       "    </tr>\n",
       "    <tr>\n",
       "      <th>资产合计(元)</th>\n",
       "      <td>5,026,642,400</td>\n",
       "      <td>6,415,202,500</td>\n",
       "      <td>7,926,615,200</td>\n",
       "      <td>9,455,361,500</td>\n",
       "      <td>10,651,922,600</td>\n",
       "      <td>12,457,568,300</td>\n",
       "    </tr>\n",
       "    <tr>\n",
       "      <th>投资类资产占总资产的比率</th>\n",
       "      <td>0.55%</td>\n",
       "      <td>0.45%</td>\n",
       "      <td>1.91%</td>\n",
       "      <td>1.30%</td>\n",
       "      <td>1.00%</td>\n",
       "      <td>0.87%</td>\n",
       "    </tr>\n",
       "  </tbody>\n",
       "</table>\n",
       "</div>"
      ],
      "text/plain": [
       "                                    2015           2016           2017  \\\n",
       "以公允价值计量且其变动计入当期损益的金融资产(元)              0              0              0   \n",
       "债权投资(元)                                0              0              0   \n",
       "可供出售金融资产(元)                   27,734,000     27,734,000    147,734,000   \n",
       "其他权益工具投资(元)                            0              0              0   \n",
       "持有至到期投资(元)                             0              0              0   \n",
       "其他非流动金融资产(元)                           0              0              0   \n",
       "长期股权投资(元)                              0        817,900      3,815,200   \n",
       "投资性房地产(元)                        148,500        139,500        130,600   \n",
       "投资类资产合计                       27,882,500     28,691,400    151,679,800   \n",
       "资产合计(元)                    5,026,642,400  6,415,202,500  7,926,615,200   \n",
       "投资类资产占总资产的比率                       0.55%          0.45%          1.91%   \n",
       "\n",
       "                                    2018            2019            2020  \n",
       "以公允价值计量且其变动计入当期损益的金融资产(元)              0               0               0  \n",
       "债权投资(元)                                0               0               0  \n",
       "可供出售金融资产(元)                  119,948,500               0               0  \n",
       "其他权益工具投资(元)                            0     102,116,000     102,116,000  \n",
       "持有至到期投资(元)                             0               0               0  \n",
       "其他非流动金融资产(元)                           0               0               0  \n",
       "长期股权投资(元)                      2,617,900       4,168,300       3,452,800  \n",
       "投资性房地产(元)                        121,600         112,600       2,591,000  \n",
       "投资类资产合计                      122,688,000     106,396,900     108,159,800  \n",
       "资产合计(元)                    9,455,361,500  10,651,922,600  12,457,568,300  \n",
       "投资类资产占总资产的比率                       1.30%           1.00%           0.87%  "
      ]
     },
     "execution_count": 18,
     "metadata": {},
     "output_type": "execute_result"
    }
   ],
   "source": [
    "t7 = analysis.init_table('t7')\n",
    "t7['投资类资产合计'] = t7.T[:8].sum()\n",
    "t7['投资类资产占总资产的比率'] = t7['投资类资产合计'] / t7['资产合计(元)']\n",
    "\n",
    "analysis.format_show_table('t7')"
   ]
  },
  {
   "cell_type": "code",
   "execution_count": 19,
   "metadata": {},
   "outputs": [
    {
     "data": {
      "image/png": "[encoded data removed]",
      "text/plain": [
       "<matplotlib.figure.Figure at 0x2bc6a4c73c8>"
      ]
     },
     "metadata": {
      "needs_background": "light"
     },
     "output_type": "display_data"
    }
   ],
   "source": [
    "analysis.show_plot('t7')"
   ]
  },
  {
   "cell_type": "code",
   "execution_count": 20,
   "metadata": {},
   "outputs": [
    {
     "data": {
      "text/html": [
       "<div>\n",
       "<style scoped>\n",
       "    .dataframe tbody tr th:only-of-type {\n",
       "        vertical-align: middle;\n",
       "    }\n",
       "\n",
       "    .dataframe tbody tr th {\n",
       "        vertical-align: top;\n",
       "    }\n",
       "\n",
       "    .dataframe thead th {\n",
       "        text-align: right;\n",
       "    }\n",
       "</style>\n",
       "<table border=\"1\" class=\"dataframe\">\n",
       "  <thead>\n",
       "    <tr style=\"text-align: right;\">\n",
       "      <th></th>\n",
       "      <th>2015</th>\n",
       "      <th>2016</th>\n",
       "      <th>2017</th>\n",
       "      <th>2018</th>\n",
       "      <th>2019</th>\n",
       "      <th>2020</th>\n",
       "    </tr>\n",
       "  </thead>\n",
       "  <tbody>\n",
       "    <tr>\n",
       "      <th>存货(元)</th>\n",
       "      <td>721,573,000</td>\n",
       "      <td>914,493,000</td>\n",
       "      <td>1,112,902,200</td>\n",
       "      <td>1,347,112,700</td>\n",
       "      <td>1,339,176,900</td>\n",
       "      <td>1,386,089,300</td>\n",
       "    </tr>\n",
       "    <tr>\n",
       "      <th>资产合计(元)</th>\n",
       "      <td>5,026,642,400</td>\n",
       "      <td>6,415,202,500</td>\n",
       "      <td>7,926,615,200</td>\n",
       "      <td>9,455,361,500</td>\n",
       "      <td>10,651,922,600</td>\n",
       "      <td>12,457,568,300</td>\n",
       "    </tr>\n",
       "    <tr>\n",
       "      <th>存货占总资产的比率</th>\n",
       "      <td>14.35%</td>\n",
       "      <td>14.26%</td>\n",
       "      <td>14.04%</td>\n",
       "      <td>14.25%</td>\n",
       "      <td>12.57%</td>\n",
       "      <td>11.13%</td>\n",
       "    </tr>\n",
       "  </tbody>\n",
       "</table>\n",
       "</div>"
      ],
      "text/plain": [
       "                    2015           2016           2017           2018  \\\n",
       "存货(元)        721,573,000    914,493,000  1,112,902,200  1,347,112,700   \n",
       "资产合计(元)    5,026,642,400  6,415,202,500  7,926,615,200  9,455,361,500   \n",
       "存货占总资产的比率         14.35%         14.26%         14.04%         14.25%   \n",
       "\n",
       "                     2019            2020  \n",
       "存货(元)       1,339,176,900   1,386,089,300  \n",
       "资产合计(元)    10,651,922,600  12,457,568,300  \n",
       "存货占总资产的比率          12.57%          11.13%  "
      ]
     },
     "execution_count": 20,
     "metadata": {},
     "output_type": "execute_result"
    }
   ],
   "source": [
    "t8 = analysis.init_table('t8')\n",
    "t8['存货占总资产的比率'] = t8['存货(元)'] / t8[ '资产合计(元)']\n",
    "\n",
    "analysis.format_show_table('t8')"
   ]
  },
  {
   "cell_type": "code",
   "execution_count": 21,
   "metadata": {},
   "outputs": [
    {
     "data": {
      "image/png": "[encoded data removed]",
      "text/plain": [
       "<matplotlib.figure.Figure at 0x2bc6a5ba9b0>"
      ]
     },
     "metadata": {
      "needs_background": "light"
     },
     "output_type": "display_data"
    }
   ],
   "source": [
    "import pandas as pd\n",
    "from analysis.utils import plot_show\n",
    "\n",
    "tmp_df = pd.merge(\n",
    "    t8['存货占总资产的比率'], \n",
    "    t5['(应收账款+合同资产)占总资产的比率'],\n",
    "    right_index=True,\n",
    "    left_index=True\n",
    ")\n",
    "plot_show(tmp_df, image_title=images['t8'][0], y_label='', y_format='', save_image=True)"
   ]
  },
  {
   "cell_type": "markdown",
   "metadata": {},
   "source": [
    "### 商誉占比"
   ]
  },
  {
   "cell_type": "code",
   "execution_count": 22,
   "metadata": {},
   "outputs": [
    {
     "data": {
      "text/html": [
       "<div>\n",
       "<style scoped>\n",
       "    .dataframe tbody tr th:only-of-type {\n",
       "        vertical-align: middle;\n",
       "    }\n",
       "\n",
       "    .dataframe tbody tr th {\n",
       "        vertical-align: top;\n",
       "    }\n",
       "\n",
       "    .dataframe thead th {\n",
       "        text-align: right;\n",
       "    }\n",
       "</style>\n",
       "<table border=\"1\" class=\"dataframe\">\n",
       "  <thead>\n",
       "    <tr style=\"text-align: right;\">\n",
       "      <th></th>\n",
       "      <th>2015</th>\n",
       "      <th>2016</th>\n",
       "      <th>2017</th>\n",
       "      <th>2018</th>\n",
       "      <th>2019</th>\n",
       "      <th>2020</th>\n",
       "    </tr>\n",
       "  </thead>\n",
       "  <tbody>\n",
       "    <tr>\n",
       "      <th>商誉(元)</th>\n",
       "      <td>0</td>\n",
       "      <td>0</td>\n",
       "      <td>0</td>\n",
       "      <td>80,589,600</td>\n",
       "      <td>80,589,600</td>\n",
       "      <td>80,589,600</td>\n",
       "    </tr>\n",
       "    <tr>\n",
       "      <th>资产合计(元)</th>\n",
       "      <td>5,026,642,400</td>\n",
       "      <td>6,415,202,500</td>\n",
       "      <td>7,926,615,200</td>\n",
       "      <td>9,455,361,500</td>\n",
       "      <td>10,651,922,600</td>\n",
       "      <td>12,457,568,300</td>\n",
       "    </tr>\n",
       "    <tr>\n",
       "      <th>商誉占总资产的比率</th>\n",
       "      <td>0.00%</td>\n",
       "      <td>0.00%</td>\n",
       "      <td>0.00%</td>\n",
       "      <td>0.85%</td>\n",
       "      <td>0.76%</td>\n",
       "      <td>0.65%</td>\n",
       "    </tr>\n",
       "  </tbody>\n",
       "</table>\n",
       "</div>"
      ],
      "text/plain": [
       "                    2015           2016           2017           2018  \\\n",
       "商誉(元)                  0              0              0     80,589,600   \n",
       "资产合计(元)    5,026,642,400  6,415,202,500  7,926,615,200  9,455,361,500   \n",
       "商誉占总资产的比率          0.00%          0.00%          0.00%          0.85%   \n",
       "\n",
       "                     2019            2020  \n",
       "商誉(元)          80,589,600      80,589,600  \n",
       "资产合计(元)    10,651,922,600  12,457,568,300  \n",
       "商誉占总资产的比率           0.76%           0.65%  "
      ]
     },
     "execution_count": 22,
     "metadata": {},
     "output_type": "execute_result"
    }
   ],
   "source": [
    "t9 = analysis.init_table('t9')\n",
    "t9['商誉占总资产的比率'] = t9['商誉(元)'] / t9[ '资产合计(元)']\n",
    "\n",
    "analysis.format_show_table('t9')"
   ]
  },
  {
   "cell_type": "code",
   "execution_count": 23,
   "metadata": {},
   "outputs": [
    {
     "data": {
      "image/png": "[encoded data removed]",
      "text/plain": [
       "<matplotlib.figure.Figure at 0x2bc6a738710>"
      ]
     },
     "metadata": {
      "needs_background": "light"
     },
     "output_type": "display_data"
    }
   ],
   "source": [
    "analysis.show_plot('t9')"
   ]
  },
  {
   "cell_type": "markdown",
   "metadata": {},
   "source": [
    "### 营业收入分析"
   ]
  },
  {
   "cell_type": "code",
   "execution_count": 24,
   "metadata": {},
   "outputs": [
    {
     "data": {
      "text/html": [
       "<div>\n",
       "<style scoped>\n",
       "    .dataframe tbody tr th:only-of-type {\n",
       "        vertical-align: middle;\n",
       "    }\n",
       "\n",
       "    .dataframe tbody tr th {\n",
       "        vertical-align: top;\n",
       "    }\n",
       "\n",
       "    .dataframe thead th {\n",
       "        text-align: right;\n",
       "    }\n",
       "</style>\n",
       "<table border=\"1\" class=\"dataframe\">\n",
       "  <thead>\n",
       "    <tr style=\"text-align: right;\">\n",
       "      <th></th>\n",
       "      <th>2015</th>\n",
       "      <th>2016</th>\n",
       "      <th>2017</th>\n",
       "      <th>2018</th>\n",
       "      <th>2019</th>\n",
       "      <th>2020</th>\n",
       "    </tr>\n",
       "  </thead>\n",
       "  <tbody>\n",
       "    <tr>\n",
       "      <th>其中：营业收入(元)</th>\n",
       "      <td>4,542,718,028</td>\n",
       "      <td>5,794,897,867</td>\n",
       "      <td>7,017,397,058</td>\n",
       "      <td>7,424,885,274</td>\n",
       "      <td>7,760,581,856</td>\n",
       "      <td>8,128,620,799</td>\n",
       "    </tr>\n",
       "    <tr>\n",
       "      <th>营业收入增长率</th>\n",
       "      <td>nan%</td>\n",
       "      <td>27.56%</td>\n",
       "      <td>21.10%</td>\n",
       "      <td>5.81%</td>\n",
       "      <td>4.52%</td>\n",
       "      <td>4.74%</td>\n",
       "    </tr>\n",
       "  </tbody>\n",
       "</table>\n",
       "</div>"
      ],
      "text/plain": [
       "                     2015           2016           2017           2018  \\\n",
       "其中：营业收入(元)  4,542,718,028  5,794,897,867  7,017,397,058  7,424,885,274   \n",
       "营业收入增长率              nan%         27.56%         21.10%          5.81%   \n",
       "\n",
       "                     2019           2020  \n",
       "其中：营业收入(元)  7,760,581,856  8,128,620,799  \n",
       "营业收入增长率             4.52%          4.74%  "
      ]
     },
     "execution_count": 24,
     "metadata": {},
     "output_type": "execute_result"
    }
   ],
   "source": [
    "t10 = analysis.init_table('t10')\n",
    "t10['营业收入增长率'] = t10['其中：营业收入(元)'].pct_change()\n",
    "\n",
    "analysis.format_show_table('t10')"
   ]
  },
  {
   "cell_type": "code",
   "execution_count": 25,
   "metadata": {},
   "outputs": [
    {
     "data": {
      "image/png": "[encoded data removed]",
      "text/plain": [
       "<matplotlib.figure.Figure at 0x2bc6a5ba588>"
      ]
     },
     "metadata": {
      "needs_background": "light"
     },
     "output_type": "display_data"
    }
   ],
   "source": [
    "analysis.show_plot('t10')"
   ]
  },
  {
   "cell_type": "code",
   "execution_count": 26,
   "metadata": {},
   "outputs": [
    {
     "data": {
      "text/html": [
       "<div>\n",
       "<style scoped>\n",
       "    .dataframe tbody tr th:only-of-type {\n",
       "        vertical-align: middle;\n",
       "    }\n",
       "\n",
       "    .dataframe tbody tr th {\n",
       "        vertical-align: top;\n",
       "    }\n",
       "\n",
       "    .dataframe thead th {\n",
       "        text-align: right;\n",
       "    }\n",
       "</style>\n",
       "<table border=\"1\" class=\"dataframe\">\n",
       "  <thead>\n",
       "    <tr style=\"text-align: right;\">\n",
       "      <th></th>\n",
       "      <th>2015</th>\n",
       "      <th>2016</th>\n",
       "      <th>2017</th>\n",
       "      <th>2018</th>\n",
       "      <th>2019</th>\n",
       "      <th>2020</th>\n",
       "    </tr>\n",
       "  </thead>\n",
       "  <tbody>\n",
       "    <tr>\n",
       "      <th>其中：营业收入(元)</th>\n",
       "      <td>4,542,718,028</td>\n",
       "      <td>5,794,897,867</td>\n",
       "      <td>7,017,397,058</td>\n",
       "      <td>7,424,885,274</td>\n",
       "      <td>7,760,581,856</td>\n",
       "      <td>8,128,620,799</td>\n",
       "    </tr>\n",
       "    <tr>\n",
       "      <th>其中：营业成本(元)</th>\n",
       "      <td>1,899,998,300</td>\n",
       "      <td>2,474,046,300</td>\n",
       "      <td>3,250,587,700</td>\n",
       "      <td>3,450,765,200</td>\n",
       "      <td>3,548,777,700</td>\n",
       "      <td>3,563,206,900</td>\n",
       "    </tr>\n",
       "    <tr>\n",
       "      <th>毛利率</th>\n",
       "      <td>58.17%</td>\n",
       "      <td>57.31%</td>\n",
       "      <td>53.68%</td>\n",
       "      <td>53.52%</td>\n",
       "      <td>54.27%</td>\n",
       "      <td>56.16%</td>\n",
       "    </tr>\n",
       "    <tr>\n",
       "      <th>毛利率波动率</th>\n",
       "      <td>nan%</td>\n",
       "      <td>-1.49%</td>\n",
       "      <td>-6.33%</td>\n",
       "      <td>-0.29%</td>\n",
       "      <td>1.40%</td>\n",
       "      <td>3.49%</td>\n",
       "    </tr>\n",
       "  </tbody>\n",
       "</table>\n",
       "</div>"
      ],
      "text/plain": [
       "                     2015           2016           2017           2018  \\\n",
       "其中：营业收入(元)  4,542,718,028  5,794,897,867  7,017,397,058  7,424,885,274   \n",
       "其中：营业成本(元)  1,899,998,300  2,474,046,300  3,250,587,700  3,450,765,200   \n",
       "毛利率                58.17%         57.31%         53.68%         53.52%   \n",
       "毛利率波动率               nan%         -1.49%         -6.33%         -0.29%   \n",
       "\n",
       "                     2019           2020  \n",
       "其中：营业收入(元)  7,760,581,856  8,128,620,799  \n",
       "其中：营业成本(元)  3,548,777,700  3,563,206,900  \n",
       "毛利率                54.27%         56.16%  \n",
       "毛利率波动率              1.40%          3.49%  "
      ]
     },
     "execution_count": 26,
     "metadata": {},
     "output_type": "execute_result"
    }
   ],
   "source": [
    "t11 = analysis.init_table('t11')\n",
    "t11['毛利率'] = (t11['其中：营业收入(元)']-t11['其中：营业成本(元)']) / t11['其中：营业收入(元)']\n",
    "t11['毛利率波动率'] = t11['毛利率'].pct_change()\n",
    "\n",
    "analysis.format_show_table('t11')"
   ]
  },
  {
   "cell_type": "code",
   "execution_count": 27,
   "metadata": {
    "scrolled": true
   },
   "outputs": [
    {
     "data": {
      "image/png": "[encoded data removed]",
      "text/plain": [
       "<matplotlib.figure.Figure at 0x2bc6a39c588>"
      ]
     },
     "metadata": {
      "needs_background": "light"
     },
     "output_type": "display_data"
    }
   ],
   "source": [
    "analysis.show_plot('t11')"
   ]
  },
  {
   "cell_type": "markdown",
   "metadata": {},
   "source": [
    "### 期间费用率"
   ]
  },
  {
   "cell_type": "code",
   "execution_count": 28,
   "metadata": {},
   "outputs": [
    {
     "data": {
      "text/html": [
       "<div>\n",
       "<style scoped>\n",
       "    .dataframe tbody tr th:only-of-type {\n",
       "        vertical-align: middle;\n",
       "    }\n",
       "\n",
       "    .dataframe tbody tr th {\n",
       "        vertical-align: top;\n",
       "    }\n",
       "\n",
       "    .dataframe thead th {\n",
       "        text-align: right;\n",
       "    }\n",
       "</style>\n",
       "<table border=\"1\" class=\"dataframe\">\n",
       "  <thead>\n",
       "    <tr style=\"text-align: right;\">\n",
       "      <th></th>\n",
       "      <th>2015</th>\n",
       "      <th>2016</th>\n",
       "      <th>2017</th>\n",
       "      <th>2018</th>\n",
       "      <th>2019</th>\n",
       "      <th>2020</th>\n",
       "    </tr>\n",
       "  </thead>\n",
       "  <tbody>\n",
       "    <tr>\n",
       "      <th>销售费用(元)</th>\n",
       "      <td>1,353,472,800</td>\n",
       "      <td>1,545,113,300</td>\n",
       "      <td>1,677,876,500</td>\n",
       "      <td>1,909,856,800</td>\n",
       "      <td>1,928,259,200</td>\n",
       "      <td>2,146,965,000</td>\n",
       "    </tr>\n",
       "    <tr>\n",
       "      <th>管理费用(元)</th>\n",
       "      <td>354,268,800</td>\n",
       "      <td>449,159,300</td>\n",
       "      <td>247,834,600</td>\n",
       "      <td>272,355,100</td>\n",
       "      <td>284,364,100</td>\n",
       "      <td>296,985,800</td>\n",
       "    </tr>\n",
       "    <tr>\n",
       "      <th>研发费用(元)</th>\n",
       "      <td>0</td>\n",
       "      <td>0</td>\n",
       "      <td>233,127,000</td>\n",
       "      <td>293,427,200</td>\n",
       "      <td>299,469,100</td>\n",
       "      <td>303,347,600</td>\n",
       "    </tr>\n",
       "    <tr>\n",
       "      <th>财务费用(元)</th>\n",
       "      <td>0</td>\n",
       "      <td>0</td>\n",
       "      <td>0</td>\n",
       "      <td>0</td>\n",
       "      <td>0</td>\n",
       "      <td>0</td>\n",
       "    </tr>\n",
       "    <tr>\n",
       "      <th>四费合计</th>\n",
       "      <td>1,707,741,600</td>\n",
       "      <td>1,994,272,600</td>\n",
       "      <td>2,158,838,100</td>\n",
       "      <td>2,475,639,100</td>\n",
       "      <td>2,512,092,400</td>\n",
       "      <td>2,747,298,400</td>\n",
       "    </tr>\n",
       "    <tr>\n",
       "      <th>其中：营业收入(元)</th>\n",
       "      <td>4,542,718,028</td>\n",
       "      <td>5,794,897,867</td>\n",
       "      <td>7,017,397,058</td>\n",
       "      <td>7,424,885,274</td>\n",
       "      <td>7,760,581,856</td>\n",
       "      <td>8,128,620,799</td>\n",
       "    </tr>\n",
       "    <tr>\n",
       "      <th>期间费用率</th>\n",
       "      <td>37.59%</td>\n",
       "      <td>34.41%</td>\n",
       "      <td>30.76%</td>\n",
       "      <td>33.34%</td>\n",
       "      <td>32.37%</td>\n",
       "      <td>33.80%</td>\n",
       "    </tr>\n",
       "    <tr>\n",
       "      <th>毛利率</th>\n",
       "      <td>58.17%</td>\n",
       "      <td>57.31%</td>\n",
       "      <td>53.68%</td>\n",
       "      <td>53.52%</td>\n",
       "      <td>54.27%</td>\n",
       "      <td>56.16%</td>\n",
       "    </tr>\n",
       "    <tr>\n",
       "      <th>期间费用率占毛利率的比率</th>\n",
       "      <td>64.62%</td>\n",
       "      <td>60.05%</td>\n",
       "      <td>57.31%</td>\n",
       "      <td>62.29%</td>\n",
       "      <td>59.64%</td>\n",
       "      <td>60.18%</td>\n",
       "    </tr>\n",
       "  </tbody>\n",
       "</table>\n",
       "</div>"
      ],
      "text/plain": [
       "                       2015           2016           2017           2018  \\\n",
       "销售费用(元)       1,353,472,800  1,545,113,300  1,677,876,500  1,909,856,800   \n",
       "管理费用(元)         354,268,800    449,159,300    247,834,600    272,355,100   \n",
       "研发费用(元)                   0              0    233,127,000    293,427,200   \n",
       "财务费用(元)                   0              0              0              0   \n",
       "四费合计          1,707,741,600  1,994,272,600  2,158,838,100  2,475,639,100   \n",
       "其中：营业收入(元)    4,542,718,028  5,794,897,867  7,017,397,058  7,424,885,274   \n",
       "期间费用率                37.59%         34.41%         30.76%         33.34%   \n",
       "毛利率                  58.17%         57.31%         53.68%         53.52%   \n",
       "期间费用率占毛利率的比率         64.62%         60.05%         57.31%         62.29%   \n",
       "\n",
       "                       2019           2020  \n",
       "销售费用(元)       1,928,259,200  2,146,965,000  \n",
       "管理费用(元)         284,364,100    296,985,800  \n",
       "研发费用(元)         299,469,100    303,347,600  \n",
       "财务费用(元)                   0              0  \n",
       "四费合计          2,512,092,400  2,747,298,400  \n",
       "其中：营业收入(元)    7,760,581,856  8,128,620,799  \n",
       "期间费用率                32.37%         33.80%  \n",
       "毛利率                  54.27%         56.16%  \n",
       "期间费用率占毛利率的比率         59.64%         60.18%  "
      ]
     },
     "execution_count": 28,
     "metadata": {},
     "output_type": "execute_result"
    }
   ],
   "source": [
    "t12 = analysis.init_table('t12')\n",
    "t12.loc[t12['财务费用(元)']<0, '财务费用(元)'] = 0\n",
    "t12['四费合计'] = t12.T[:4].sum()\n",
    "t12['期间费用率'] = t12['四费合计'] / t12['其中：营业收入(元)']\n",
    "t12['毛利率'] = t11['毛利率']\n",
    "t12['期间费用率占毛利率的比率'] = t12['期间费用率'] / t12['毛利率']\n",
    "\n",
    "analysis.format_show_table('t12')"
   ]
  },
  {
   "cell_type": "code",
   "execution_count": 29,
   "metadata": {},
   "outputs": [
    {
     "data": {
      "image/png": "[encoded data removed]",
      "text/plain": [
       "<matplotlib.figure.Figure at 0x2bc691a82e8>"
      ]
     },
     "metadata": {
      "needs_background": "light"
     },
     "output_type": "display_data"
    }
   ],
   "source": [
    "analysis.show_plot('t12')"
   ]
  },
  {
   "cell_type": "code",
   "execution_count": 30,
   "metadata": {},
   "outputs": [
    {
     "data": {
      "image/png": "[encoded data removed]",
      "text/plain": [
       "<matplotlib.figure.Figure at 0x2bc6a268da0>"
      ]
     },
     "metadata": {
      "needs_background": "light"
     },
     "output_type": "display_data"
    }
   ],
   "source": [
    "analysis.show_plot('t12', image_index=1)"
   ]
  },
  {
   "cell_type": "markdown",
   "metadata": {},
   "source": [
    "### 销售费用率"
   ]
  },
  {
   "cell_type": "code",
   "execution_count": 31,
   "metadata": {},
   "outputs": [
    {
     "data": {
      "text/html": [
       "<div>\n",
       "<style scoped>\n",
       "    .dataframe tbody tr th:only-of-type {\n",
       "        vertical-align: middle;\n",
       "    }\n",
       "\n",
       "    .dataframe tbody tr th {\n",
       "        vertical-align: top;\n",
       "    }\n",
       "\n",
       "    .dataframe thead th {\n",
       "        text-align: right;\n",
       "    }\n",
       "</style>\n",
       "<table border=\"1\" class=\"dataframe\">\n",
       "  <thead>\n",
       "    <tr style=\"text-align: right;\">\n",
       "      <th></th>\n",
       "      <th>2015</th>\n",
       "      <th>2016</th>\n",
       "      <th>2017</th>\n",
       "      <th>2018</th>\n",
       "      <th>2019</th>\n",
       "      <th>2020</th>\n",
       "    </tr>\n",
       "  </thead>\n",
       "  <tbody>\n",
       "    <tr>\n",
       "      <th>销售费用(元)</th>\n",
       "      <td>1,353,472,800</td>\n",
       "      <td>1,545,113,300</td>\n",
       "      <td>1,677,876,500</td>\n",
       "      <td>1,909,856,800</td>\n",
       "      <td>1,928,259,200</td>\n",
       "      <td>2,146,965,000</td>\n",
       "    </tr>\n",
       "    <tr>\n",
       "      <th>其中：营业收入(元)</th>\n",
       "      <td>4,542,718,028</td>\n",
       "      <td>5,794,897,867</td>\n",
       "      <td>7,017,397,058</td>\n",
       "      <td>7,424,885,274</td>\n",
       "      <td>7,760,581,856</td>\n",
       "      <td>8,128,620,799</td>\n",
       "    </tr>\n",
       "    <tr>\n",
       "      <th>销售费用率</th>\n",
       "      <td>29.79%</td>\n",
       "      <td>26.66%</td>\n",
       "      <td>23.91%</td>\n",
       "      <td>25.72%</td>\n",
       "      <td>24.85%</td>\n",
       "      <td>26.41%</td>\n",
       "    </tr>\n",
       "  </tbody>\n",
       "</table>\n",
       "</div>"
      ],
      "text/plain": [
       "                     2015           2016           2017           2018  \\\n",
       "销售费用(元)     1,353,472,800  1,545,113,300  1,677,876,500  1,909,856,800   \n",
       "其中：营业收入(元)  4,542,718,028  5,794,897,867  7,017,397,058  7,424,885,274   \n",
       "销售费用率              29.79%         26.66%         23.91%         25.72%   \n",
       "\n",
       "                     2019           2020  \n",
       "销售费用(元)     1,928,259,200  2,146,965,000  \n",
       "其中：营业收入(元)  7,760,581,856  8,128,620,799  \n",
       "销售费用率              24.85%         26.41%  "
      ]
     },
     "execution_count": 31,
     "metadata": {},
     "output_type": "execute_result"
    }
   ],
   "source": [
    "t13 = analysis.init_table('t13')\n",
    "t13['销售费用率'] = t13['销售费用(元)'] / t13['其中：营业收入(元)']\n",
    "\n",
    "analysis.format_show_table('t13')"
   ]
  },
  {
   "cell_type": "code",
   "execution_count": 32,
   "metadata": {},
   "outputs": [
    {
     "data": {
      "image/png": "[encoded data removed]",
      "text/plain": [
       "<matplotlib.figure.Figure at 0x2bc6a205208>"
      ]
     },
     "metadata": {
      "needs_background": "light"
     },
     "output_type": "display_data"
    }
   ],
   "source": [
    "analysis.show_plot('t13')"
   ]
  },
  {
   "cell_type": "markdown",
   "metadata": {},
   "source": [
    "### 主营利润"
   ]
  },
  {
   "cell_type": "code",
   "execution_count": 33,
   "metadata": {},
   "outputs": [
    {
     "data": {
      "text/html": [
       "<div>\n",
       "<style scoped>\n",
       "    .dataframe tbody tr th:only-of-type {\n",
       "        vertical-align: middle;\n",
       "    }\n",
       "\n",
       "    .dataframe tbody tr th {\n",
       "        vertical-align: top;\n",
       "    }\n",
       "\n",
       "    .dataframe thead th {\n",
       "        text-align: right;\n",
       "    }\n",
       "</style>\n",
       "<table border=\"1\" class=\"dataframe\">\n",
       "  <thead>\n",
       "    <tr style=\"text-align: right;\">\n",
       "      <th></th>\n",
       "      <th>2015</th>\n",
       "      <th>2016</th>\n",
       "      <th>2017</th>\n",
       "      <th>2018</th>\n",
       "      <th>2019</th>\n",
       "      <th>2020</th>\n",
       "    </tr>\n",
       "  </thead>\n",
       "  <tbody>\n",
       "    <tr>\n",
       "      <th>其中：营业收入(元)</th>\n",
       "      <td>4,542,718,028</td>\n",
       "      <td>5,794,897,867</td>\n",
       "      <td>7,017,397,058</td>\n",
       "      <td>7,424,885,274</td>\n",
       "      <td>7,760,581,856</td>\n",
       "      <td>8,128,620,799</td>\n",
       "    </tr>\n",
       "    <tr>\n",
       "      <th>其中：营业成本(元)</th>\n",
       "      <td>1,899,998,300</td>\n",
       "      <td>2,474,046,300</td>\n",
       "      <td>3,250,587,700</td>\n",
       "      <td>3,450,765,200</td>\n",
       "      <td>3,548,777,700</td>\n",
       "      <td>3,563,206,900</td>\n",
       "    </tr>\n",
       "    <tr>\n",
       "      <th>营业税金及附加(元)</th>\n",
       "      <td>46,546,200</td>\n",
       "      <td>67,524,300</td>\n",
       "      <td>66,643,000</td>\n",
       "      <td>70,571,400</td>\n",
       "      <td>66,618,100</td>\n",
       "      <td>61,956,600</td>\n",
       "    </tr>\n",
       "    <tr>\n",
       "      <th>四费合计</th>\n",
       "      <td>1,707,741,600</td>\n",
       "      <td>1,994,272,600</td>\n",
       "      <td>2,158,838,100</td>\n",
       "      <td>2,475,639,100</td>\n",
       "      <td>2,512,092,400</td>\n",
       "      <td>2,747,298,400</td>\n",
       "    </tr>\n",
       "    <tr>\n",
       "      <th>主营利润</th>\n",
       "      <td>888,431,928</td>\n",
       "      <td>1,259,054,667</td>\n",
       "      <td>1,541,328,258</td>\n",
       "      <td>1,427,909,574</td>\n",
       "      <td>1,633,093,656</td>\n",
       "      <td>1,756,158,899</td>\n",
       "    </tr>\n",
       "    <tr>\n",
       "      <th>主营利润率</th>\n",
       "      <td>19.56%</td>\n",
       "      <td>21.73%</td>\n",
       "      <td>21.96%</td>\n",
       "      <td>19.23%</td>\n",
       "      <td>21.04%</td>\n",
       "      <td>21.60%</td>\n",
       "    </tr>\n",
       "    <tr>\n",
       "      <th>三、营业利润(元)</th>\n",
       "      <td>953,027,986</td>\n",
       "      <td>1,334,633,128</td>\n",
       "      <td>1,690,032,921</td>\n",
       "      <td>1,701,556,037</td>\n",
       "      <td>1,871,755,798</td>\n",
       "      <td>1,951,474,414</td>\n",
       "    </tr>\n",
       "    <tr>\n",
       "      <th>主营利润占营业利润的比率</th>\n",
       "      <td>93.22%</td>\n",
       "      <td>94.34%</td>\n",
       "      <td>91.20%</td>\n",
       "      <td>83.92%</td>\n",
       "      <td>87.25%</td>\n",
       "      <td>89.99%</td>\n",
       "    </tr>\n",
       "  </tbody>\n",
       "</table>\n",
       "</div>"
      ],
      "text/plain": [
       "                       2015           2016           2017           2018  \\\n",
       "其中：营业收入(元)    4,542,718,028  5,794,897,867  7,017,397,058  7,424,885,274   \n",
       "其中：营业成本(元)    1,899,998,300  2,474,046,300  3,250,587,700  3,450,765,200   \n",
       "营业税金及附加(元)       46,546,200     67,524,300     66,643,000     70,571,400   \n",
       "四费合计          1,707,741,600  1,994,272,600  2,158,838,100  2,475,639,100   \n",
       "主营利润            888,431,928  1,259,054,667  1,541,328,258  1,427,909,574   \n",
       "主营利润率                19.56%         21.73%         21.96%         19.23%   \n",
       "三、营业利润(元)       953,027,986  1,334,633,128  1,690,032,921  1,701,556,037   \n",
       "主营利润占营业利润的比率         93.22%         94.34%         91.20%         83.92%   \n",
       "\n",
       "                       2019           2020  \n",
       "其中：营业收入(元)    7,760,581,856  8,128,620,799  \n",
       "其中：营业成本(元)    3,548,777,700  3,563,206,900  \n",
       "营业税金及附加(元)       66,618,100     61,956,600  \n",
       "四费合计          2,512,092,400  2,747,298,400  \n",
       "主营利润          1,633,093,656  1,756,158,899  \n",
       "主营利润率                21.04%         21.60%  \n",
       "三、营业利润(元)     1,871,755,798  1,951,474,414  \n",
       "主营利润占营业利润的比率         87.25%         89.99%  "
      ]
     },
     "execution_count": 33,
     "metadata": {},
     "output_type": "execute_result"
    }
   ],
   "source": [
    "t14 = analysis.init_table('t14')\n",
    "t14['四费合计'] = t12['四费合计']\n",
    "t14['主营利润'] = t14['其中：营业收入(元)'] - t14.T[1:4].sum()\n",
    "t14['主营利润率'] = t14['主营利润'] / t14['其中：营业收入(元)']\n",
    "t14['主营利润占营业利润的比率'] = t14['主营利润'] / t14['三、营业利润(元)']\n",
    "\n",
    "analysis.format_show_table('t14')"
   ]
  },
  {
   "cell_type": "code",
   "execution_count": 34,
   "metadata": {},
   "outputs": [
    {
     "data": {
      "image/png": "[encoded data removed]",
      "text/plain": [
       "<matplotlib.figure.Figure at 0x2bc6a3172e8>"
      ]
     },
     "metadata": {
      "needs_background": "light"
     },
     "output_type": "display_data"
    }
   ],
   "source": [
    "analysis.show_plot('t14')"
   ]
  },
  {
   "cell_type": "code",
   "execution_count": 35,
   "metadata": {},
   "outputs": [
    {
     "data": {
      "image/png": "[encoded data removed]",
      "text/plain": [
       "<matplotlib.figure.Figure at 0x2bc6a3e6b70>"
      ]
     },
     "metadata": {
      "needs_background": "light"
     },
     "output_type": "display_data"
    }
   ],
   "source": [
    "analysis.show_plot('t14', image_index=1)"
   ]
  },
  {
   "cell_type": "markdown",
   "metadata": {},
   "source": [
    "### 看净利润，了解公司的经营成果及含金量"
   ]
  },
  {
   "cell_type": "code",
   "execution_count": 36,
   "metadata": {},
   "outputs": [
    {
     "data": {
      "text/html": [
       "<div>\n",
       "<style scoped>\n",
       "    .dataframe tbody tr th:only-of-type {\n",
       "        vertical-align: middle;\n",
       "    }\n",
       "\n",
       "    .dataframe tbody tr th {\n",
       "        vertical-align: top;\n",
       "    }\n",
       "\n",
       "    .dataframe thead th {\n",
       "        text-align: right;\n",
       "    }\n",
       "</style>\n",
       "<table border=\"1\" class=\"dataframe\">\n",
       "  <thead>\n",
       "    <tr style=\"text-align: right;\">\n",
       "      <th></th>\n",
       "      <th>2015</th>\n",
       "      <th>2016</th>\n",
       "      <th>2017</th>\n",
       "      <th>2018</th>\n",
       "      <th>2019</th>\n",
       "      <th>2020</th>\n",
       "    </tr>\n",
       "  </thead>\n",
       "  <tbody>\n",
       "    <tr>\n",
       "      <th>经营活动产生的现金流量净额(元)</th>\n",
       "      <td>1,123,649,800</td>\n",
       "      <td>1,545,448,500</td>\n",
       "      <td>1,272,482,600</td>\n",
       "      <td>1,508,960,300</td>\n",
       "      <td>1,555,220,900</td>\n",
       "      <td>1,537,300,000</td>\n",
       "    </tr>\n",
       "    <tr>\n",
       "      <th>五、净利润(元)</th>\n",
       "      <td>827,950,300</td>\n",
       "      <td>1,206,814,400</td>\n",
       "      <td>1,461,194,100</td>\n",
       "      <td>1,483,847,900</td>\n",
       "      <td>1,614,245,400</td>\n",
       "      <td>1,687,357,900</td>\n",
       "    </tr>\n",
       "    <tr>\n",
       "      <th>净利润现金比率</th>\n",
       "      <td>135.71%</td>\n",
       "      <td>128.06%</td>\n",
       "      <td>87.09%</td>\n",
       "      <td>101.69%</td>\n",
       "      <td>96.34%</td>\n",
       "      <td>91.11%</td>\n",
       "    </tr>\n",
       "  </tbody>\n",
       "</table>\n",
       "</div>"
      ],
      "text/plain": [
       "                           2015           2016           2017           2018  \\\n",
       "经营活动产生的现金流量净额(元)  1,123,649,800  1,545,448,500  1,272,482,600  1,508,960,300   \n",
       "五、净利润(元)            827,950,300  1,206,814,400  1,461,194,100  1,483,847,900   \n",
       "净利润现金比率                 135.71%        128.06%         87.09%        101.69%   \n",
       "\n",
       "                           2019           2020  \n",
       "经营活动产生的现金流量净额(元)  1,555,220,900  1,537,300,000  \n",
       "五、净利润(元)          1,614,245,400  1,687,357,900  \n",
       "净利润现金比率                  96.34%         91.11%  "
      ]
     },
     "execution_count": 36,
     "metadata": {},
     "output_type": "execute_result"
    }
   ],
   "source": [
    "t15 = analysis.init_table('t15')\n",
    "t15['净利润现金比率'] = t15['经营活动产生的现金流量净额(元)'] / t15['五、净利润(元)']\n",
    "\n",
    "analysis.format_show_table('t15')"
   ]
  },
  {
   "cell_type": "code",
   "execution_count": 37,
   "metadata": {},
   "outputs": [
    {
     "name": "stdout",
     "output_type": "stream",
     "text": [
      "连续 5 年的平均净利润现金含量：106.67%\n"
     ]
    }
   ],
   "source": [
    "print(f\"连续 5 年的平均净利润现金含量：{t15['净利润现金比率'].mean():.2%}\")"
   ]
  },
  {
   "cell_type": "markdown",
   "metadata": {},
   "source": [
    "### 归母净利润"
   ]
  },
  {
   "cell_type": "code",
   "execution_count": 38,
   "metadata": {},
   "outputs": [
    {
     "data": {
      "text/html": [
       "<div>\n",
       "<style scoped>\n",
       "    .dataframe tbody tr th:only-of-type {\n",
       "        vertical-align: middle;\n",
       "    }\n",
       "\n",
       "    .dataframe tbody tr th {\n",
       "        vertical-align: top;\n",
       "    }\n",
       "\n",
       "    .dataframe thead th {\n",
       "        text-align: right;\n",
       "    }\n",
       "</style>\n",
       "<table border=\"1\" class=\"dataframe\">\n",
       "  <thead>\n",
       "    <tr style=\"text-align: right;\">\n",
       "      <th></th>\n",
       "      <th>2015</th>\n",
       "      <th>2016</th>\n",
       "      <th>2017</th>\n",
       "      <th>2018</th>\n",
       "      <th>2019</th>\n",
       "      <th>2020</th>\n",
       "    </tr>\n",
       "  </thead>\n",
       "  <tbody>\n",
       "    <tr>\n",
       "      <th>归属于母公司所有者的净利润(元)</th>\n",
       "      <td>830,491,200</td>\n",
       "      <td>1,206,833,900</td>\n",
       "      <td>1,461,213,500</td>\n",
       "      <td>1,473,579,700</td>\n",
       "      <td>1,589,814,800</td>\n",
       "      <td>1,660,750,000</td>\n",
       "    </tr>\n",
       "    <tr>\n",
       "      <th>归属于母公司所有者权益合计(元)</th>\n",
       "      <td>3,169,577,200</td>\n",
       "      <td>4,128,555,100</td>\n",
       "      <td>5,260,800,800</td>\n",
       "      <td>6,045,384,400</td>\n",
       "      <td>6,864,388,900</td>\n",
       "      <td>8,050,626,800</td>\n",
       "    </tr>\n",
       "    <tr>\n",
       "      <th>ROE 净资产收益率</th>\n",
       "      <td>26.20%</td>\n",
       "      <td>29.23%</td>\n",
       "      <td>27.78%</td>\n",
       "      <td>24.38%</td>\n",
       "      <td>23.16%</td>\n",
       "      <td>20.63%</td>\n",
       "    </tr>\n",
       "    <tr>\n",
       "      <th>归属于母公司所有者的净利润增长率</th>\n",
       "      <td>nan%</td>\n",
       "      <td>45.32%</td>\n",
       "      <td>21.08%</td>\n",
       "      <td>0.85%</td>\n",
       "      <td>7.89%</td>\n",
       "      <td>4.46%</td>\n",
       "    </tr>\n",
       "  </tbody>\n",
       "</table>\n",
       "</div>"
      ],
      "text/plain": [
       "                           2015           2016           2017           2018  \\\n",
       "归属于母公司所有者的净利润(元)    830,491,200  1,206,833,900  1,461,213,500  1,473,579,700   \n",
       "归属于母公司所有者权益合计(元)  3,169,577,200  4,128,555,100  5,260,800,800  6,045,384,400   \n",
       "ROE 净资产收益率               26.20%         29.23%         27.78%         24.38%   \n",
       "归属于母公司所有者的净利润增长率           nan%         45.32%         21.08%          0.85%   \n",
       "\n",
       "                           2019           2020  \n",
       "归属于母公司所有者的净利润(元)  1,589,814,800  1,660,750,000  \n",
       "归属于母公司所有者权益合计(元)  6,864,388,900  8,050,626,800  \n",
       "ROE 净资产收益率               23.16%         20.63%  \n",
       "归属于母公司所有者的净利润增长率          7.89%          4.46%  "
      ]
     },
     "execution_count": 38,
     "metadata": {},
     "output_type": "execute_result"
    }
   ],
   "source": [
    "t16 = analysis.init_table('t16')\n",
    "t16['ROE 净资产收益率'] = t16['归属于母公司所有者的净利润(元)'] / t16['归属于母公司所有者权益合计(元)']\n",
    "t16['归属于母公司所有者的净利润增长率'] = t16['归属于母公司所有者的净利润(元)'].pct_change()\n",
    "\n",
    "analysis.format_show_table('t16')"
   ]
  },
  {
   "cell_type": "code",
   "execution_count": 39,
   "metadata": {},
   "outputs": [
    {
     "data": {
      "image/png": "[encoded data removed]",
      "text/plain": [
       "<matplotlib.figure.Figure at 0x2bc6a3a4160>"
      ]
     },
     "metadata": {
      "needs_background": "light"
     },
     "output_type": "display_data"
    }
   ],
   "source": [
    "analysis.show_plot('t16')"
   ]
  },
  {
   "cell_type": "code",
   "execution_count": 40,
   "metadata": {},
   "outputs": [
    {
     "data": {
      "image/png": "[encoded data removed]",
      "text/plain": [
       "<matplotlib.figure.Figure at 0x2bc6a626198>"
      ]
     },
     "metadata": {
      "needs_background": "light"
     },
     "output_type": "display_data"
    }
   ],
   "source": [
    "analysis.show_plot('t16', image_index=1)"
   ]
  },
  {
   "cell_type": "markdown",
   "metadata": {},
   "source": [
    "### 构建三产支付的现金"
   ]
  },
  {
   "cell_type": "code",
   "execution_count": 41,
   "metadata": {},
   "outputs": [
    {
     "data": {
      "text/html": [
       "<div>\n",
       "<style scoped>\n",
       "    .dataframe tbody tr th:only-of-type {\n",
       "        vertical-align: middle;\n",
       "    }\n",
       "\n",
       "    .dataframe tbody tr th {\n",
       "        vertical-align: top;\n",
       "    }\n",
       "\n",
       "    .dataframe thead th {\n",
       "        text-align: right;\n",
       "    }\n",
       "</style>\n",
       "<table border=\"1\" class=\"dataframe\">\n",
       "  <thead>\n",
       "    <tr style=\"text-align: right;\">\n",
       "      <th></th>\n",
       "      <th>2015</th>\n",
       "      <th>2016</th>\n",
       "      <th>2017</th>\n",
       "      <th>2018</th>\n",
       "      <th>2019</th>\n",
       "      <th>2020</th>\n",
       "    </tr>\n",
       "  </thead>\n",
       "  <tbody>\n",
       "    <tr>\n",
       "      <th>购建固定资产、无形资产和其他长期资产支付的现金(元)</th>\n",
       "      <td>278,075,100</td>\n",
       "      <td>199,329,700</td>\n",
       "      <td>146,347,300</td>\n",
       "      <td>180,703,200</td>\n",
       "      <td>272,163,300</td>\n",
       "      <td>282,289,900</td>\n",
       "    </tr>\n",
       "    <tr>\n",
       "      <th>经营活动产生的现金流量净额(元)</th>\n",
       "      <td>1,123,649,800</td>\n",
       "      <td>1,545,448,500</td>\n",
       "      <td>1,272,482,600</td>\n",
       "      <td>1,508,960,300</td>\n",
       "      <td>1,555,220,900</td>\n",
       "      <td>1,537,300,000</td>\n",
       "    </tr>\n",
       "    <tr>\n",
       "      <th>购建支付的现金与经营活动产生的现金流量净额的比率</th>\n",
       "      <td>24.75%</td>\n",
       "      <td>12.90%</td>\n",
       "      <td>11.50%</td>\n",
       "      <td>11.98%</td>\n",
       "      <td>17.50%</td>\n",
       "      <td>18.36%</td>\n",
       "    </tr>\n",
       "  </tbody>\n",
       "</table>\n",
       "</div>"
      ],
      "text/plain": [
       "                                     2015           2016           2017  \\\n",
       "购建固定资产、无形资产和其他长期资产支付的现金(元)    278,075,100    199,329,700    146,347,300   \n",
       "经营活动产生的现金流量净额(元)            1,123,649,800  1,545,448,500  1,272,482,600   \n",
       "购建支付的现金与经营活动产生的现金流量净额的比率           24.75%         12.90%         11.50%   \n",
       "\n",
       "                                     2018           2019           2020  \n",
       "购建固定资产、无形资产和其他长期资产支付的现金(元)    180,703,200    272,163,300    282,289,900  \n",
       "经营活动产生的现金流量净额(元)            1,508,960,300  1,555,220,900  1,537,300,000  \n",
       "购建支付的现金与经营活动产生的现金流量净额的比率           11.98%         17.50%         18.36%  "
      ]
     },
     "execution_count": 41,
     "metadata": {},
     "output_type": "execute_result"
    }
   ],
   "source": [
    "t17 = analysis.init_table('t17')\n",
    "\n",
    "t17['购建支付的现金与经营活动产生的现金流量净额的比率'] = \\\n",
    "t17['购建固定资产、无形资产和其他长期资产支付的现金(元)'] / t17['经营活动产生的现金流量净额(元)']\n",
    "\n",
    "analysis.format_show_table('t17')"
   ]
  },
  {
   "cell_type": "code",
   "execution_count": 42,
   "metadata": {},
   "outputs": [
    {
     "data": {
      "image/png": "[encoded data removed]",
      "text/plain": [
       "<matplotlib.figure.Figure at 0x2bc6a7966a0>"
      ]
     },
     "metadata": {
      "needs_background": "light"
     },
     "output_type": "display_data"
    }
   ],
   "source": [
    "analysis.show_plot('t17')"
   ]
  },
  {
   "cell_type": "markdown",
   "metadata": {},
   "source": [
    "### 分红"
   ]
  },
  {
   "cell_type": "code",
   "execution_count": 43,
   "metadata": {},
   "outputs": [
    {
     "data": {
      "text/html": [
       "<div>\n",
       "<style scoped>\n",
       "    .dataframe tbody tr th:only-of-type {\n",
       "        vertical-align: middle;\n",
       "    }\n",
       "\n",
       "    .dataframe tbody tr th {\n",
       "        vertical-align: top;\n",
       "    }\n",
       "\n",
       "    .dataframe thead th {\n",
       "        text-align: right;\n",
       "    }\n",
       "</style>\n",
       "<table border=\"1\" class=\"dataframe\">\n",
       "  <thead>\n",
       "    <tr style=\"text-align: right;\">\n",
       "      <th></th>\n",
       "      <th>2015</th>\n",
       "      <th>2016</th>\n",
       "      <th>2017</th>\n",
       "      <th>2018</th>\n",
       "      <th>2019</th>\n",
       "      <th>2020</th>\n",
       "    </tr>\n",
       "  </thead>\n",
       "  <tbody>\n",
       "    <tr>\n",
       "      <th>分配股利、利润或偿付利息支付的现金(元)</th>\n",
       "      <td>162,025,000</td>\n",
       "      <td>292,022,700</td>\n",
       "      <td>365,012,600</td>\n",
       "      <td>711,774,600</td>\n",
       "      <td>759,219,200</td>\n",
       "      <td>474,512,000</td>\n",
       "    </tr>\n",
       "    <tr>\n",
       "      <th>经营活动产生的现金流量净额(元)</th>\n",
       "      <td>1,123,649,800</td>\n",
       "      <td>1,545,448,500</td>\n",
       "      <td>1,272,482,600</td>\n",
       "      <td>1,508,960,300</td>\n",
       "      <td>1,555,220,900</td>\n",
       "      <td>1,537,300,000</td>\n",
       "    </tr>\n",
       "    <tr>\n",
       "      <th>分配股利、利润或偿付利息支付的现金占经营活动产生的现金流量净额的比率</th>\n",
       "      <td>14.42%</td>\n",
       "      <td>18.90%</td>\n",
       "      <td>28.69%</td>\n",
       "      <td>47.17%</td>\n",
       "      <td>48.82%</td>\n",
       "      <td>30.87%</td>\n",
       "    </tr>\n",
       "  </tbody>\n",
       "</table>\n",
       "</div>"
      ],
      "text/plain": [
       "                                             2015           2016  \\\n",
       "分配股利、利润或偿付利息支付的现金(元)                  162,025,000    292,022,700   \n",
       "经营活动产生的现金流量净额(元)                    1,123,649,800  1,545,448,500   \n",
       "分配股利、利润或偿付利息支付的现金占经营活动产生的现金流量净额的比率         14.42%         18.90%   \n",
       "\n",
       "                                             2017           2018  \\\n",
       "分配股利、利润或偿付利息支付的现金(元)                  365,012,600    711,774,600   \n",
       "经营活动产生的现金流量净额(元)                    1,272,482,600  1,508,960,300   \n",
       "分配股利、利润或偿付利息支付的现金占经营活动产生的现金流量净额的比率         28.69%         47.17%   \n",
       "\n",
       "                                             2019           2020  \n",
       "分配股利、利润或偿付利息支付的现金(元)                  759,219,200    474,512,000  \n",
       "经营活动产生的现金流量净额(元)                    1,555,220,900  1,537,300,000  \n",
       "分配股利、利润或偿付利息支付的现金占经营活动产生的现金流量净额的比率         48.82%         30.87%  "
      ]
     },
     "execution_count": 43,
     "metadata": {},
     "output_type": "execute_result"
    }
   ],
   "source": [
    "t18 = analysis.init_table('t18')\n",
    "\n",
    "t18['分配股利、利润或偿付利息支付的现金占经营活动产生的现金流量净额的比率'] = \\\n",
    "t18['分配股利、利润或偿付利息支付的现金(元)'] / t18['经营活动产生的现金流量净额(元)']\n",
    "\n",
    "analysis.format_show_table('t18')"
   ]
  },
  {
   "cell_type": "code",
   "execution_count": 44,
   "metadata": {},
   "outputs": [
    {
     "data": {
      "image/png": "[encoded data removed]",
      "text/plain": [
       "<matplotlib.figure.Figure at 0x2bc6a78ba90>"
      ]
     },
     "metadata": {
      "needs_background": "light"
     },
     "output_type": "display_data"
    }
   ],
   "source": [
    "analysis.show_plot('t18')"
   ]
  },
  {
   "cell_type": "markdown",
   "metadata": {},
   "source": [
    "### 公司类型"
   ]
  },
  {
   "cell_type": "code",
   "execution_count": 45,
   "metadata": {},
   "outputs": [
    {
     "data": {
      "text/html": [
       "<div>\n",
       "<style scoped>\n",
       "    .dataframe tbody tr th:only-of-type {\n",
       "        vertical-align: middle;\n",
       "    }\n",
       "\n",
       "    .dataframe tbody tr th {\n",
       "        vertical-align: top;\n",
       "    }\n",
       "\n",
       "    .dataframe thead th {\n",
       "        text-align: right;\n",
       "    }\n",
       "</style>\n",
       "<table border=\"1\" class=\"dataframe\">\n",
       "  <thead>\n",
       "    <tr style=\"text-align: right;\">\n",
       "      <th></th>\n",
       "      <th>2015</th>\n",
       "      <th>2016</th>\n",
       "      <th>2017</th>\n",
       "      <th>2018</th>\n",
       "      <th>2019</th>\n",
       "      <th>2020</th>\n",
       "    </tr>\n",
       "  </thead>\n",
       "  <tbody>\n",
       "    <tr>\n",
       "      <th>经营活动产生的现金流量净额(元)</th>\n",
       "      <td>1,123,649,800</td>\n",
       "      <td>1,545,448,500</td>\n",
       "      <td>1,272,482,600</td>\n",
       "      <td>1,508,960,300</td>\n",
       "      <td>1,555,220,900</td>\n",
       "      <td>1,537,300,000</td>\n",
       "    </tr>\n",
       "    <tr>\n",
       "      <th>投资活动产生的现金流量净额(元)</th>\n",
       "      <td>-305,773,451</td>\n",
       "      <td>-198,322,518</td>\n",
       "      <td>-1,782,469,713</td>\n",
       "      <td>-1,183,503,791</td>\n",
       "      <td>1,055,539,452</td>\n",
       "      <td>-1,217,671,577</td>\n",
       "    </tr>\n",
       "    <tr>\n",
       "      <th>筹资活动产生的现金流量净额(元)</th>\n",
       "      <td>-100,627,000</td>\n",
       "      <td>-226,383,520</td>\n",
       "      <td>-365,205,405</td>\n",
       "      <td>-711,857,630</td>\n",
       "      <td>-759,219,240</td>\n",
       "      <td>-461,785,848</td>\n",
       "    </tr>\n",
       "    <tr>\n",
       "      <th>三大活动现金流量净额类型</th>\n",
       "      <td>正负负</td>\n",
       "      <td>正负负</td>\n",
       "      <td>正负负</td>\n",
       "      <td>正负负</td>\n",
       "      <td>正正负</td>\n",
       "      <td>正负负</td>\n",
       "    </tr>\n",
       "  </tbody>\n",
       "</table>\n",
       "</div>"
      ],
      "text/plain": [
       "                           2015           2016            2017  \\\n",
       "经营活动产生的现金流量净额(元)  1,123,649,800  1,545,448,500   1,272,482,600   \n",
       "投资活动产生的现金流量净额(元)   -305,773,451   -198,322,518  -1,782,469,713   \n",
       "筹资活动产生的现金流量净额(元)   -100,627,000   -226,383,520    -365,205,405   \n",
       "三大活动现金流量净额类型                正负负            正负负             正负负   \n",
       "\n",
       "                            2018           2019            2020  \n",
       "经营活动产生的现金流量净额(元)   1,508,960,300  1,555,220,900   1,537,300,000  \n",
       "投资活动产生的现金流量净额(元)  -1,183,503,791  1,055,539,452  -1,217,671,577  \n",
       "筹资活动产生的现金流量净额(元)    -711,857,630   -759,219,240    -461,785,848  \n",
       "三大活动现金流量净额类型                 正负负            正正负             正负负  "
      ]
     },
     "execution_count": 45,
     "metadata": {},
     "output_type": "execute_result"
    }
   ],
   "source": [
    "t19 = analysis.init_table('t19')\n",
    "t19_tmp = t19.copy()\n",
    "\n",
    "t19_tmp['经营活动产生的现金流量净额(元)'][t19['经营活动产生的现金流量净额(元)']>0] = \"正\"\n",
    "t19_tmp['经营活动产生的现金流量净额(元)'][t19['经营活动产生的现金流量净额(元)']<0] = \"负\"\n",
    "\n",
    "t19_tmp['投资活动产生的现金流量净额(元)'][t19['投资活动产生的现金流量净额(元)']>0] = \"正\"\n",
    "t19_tmp['投资活动产生的现金流量净额(元)'][t19['投资活动产生的现金流量净额(元)']<0] = \"负\"\n",
    "\n",
    "t19_tmp['筹资活动产生的现金流量净额(元)'][t19['筹资活动产生的现金流量净额(元)']>0] = \"正\"\n",
    "t19_tmp['筹资活动产生的现金流量净额(元)'][t19['筹资活动产生的现金流量净额(元)']<0] = \"负\"\n",
    "\n",
    "t19_tmp['三大活动现金流量净额类型'] = \\\n",
    "t19_tmp['经营活动产生的现金流量净额(元)'] + t19_tmp['投资活动产生的现金流量净额(元)'] + t19_tmp['筹资活动产生的现金流量净额(元)']\n",
    "\n",
    "t19['三大活动现金流量净额类型'] = t19_tmp['三大活动现金流量净额类型']\n",
    "analysis.format_show_table('t19', ignore=['三大活动现金流量净额类型'])"
   ]
  },
  {
   "cell_type": "code",
   "execution_count": 46,
   "metadata": {},
   "outputs": [
    {
     "data": {
      "image/png": "[encoded data removed]",
      "text/plain": [
       "<matplotlib.figure.Figure at 0x2bc6a663d30>"
      ]
     },
     "metadata": {
      "needs_background": "light"
     },
     "output_type": "display_data"
    }
   ],
   "source": [
    "analysis.show_plot('t19')"
   ]
  },
  {
   "cell_type": "markdown",
   "metadata": {},
   "source": [
    "### 输出分析报告"
   ]
  },
  {
   "cell_type": "code",
   "execution_count": 47,
   "metadata": {},
   "outputs": [],
   "source": [
    "ReportDocument(analysis).save()"
   ]
  },
  {
   "cell_type": "code",
   "execution_count": null,
   "metadata": {},
   "outputs": [],
   "source": []
  }
 ],
 "metadata": {
  "kernelspec": {
   "display_name": "Python 3",
   "language": "python",
   "name": "python3"
  },
  "language_info": {
   "codemirror_mode": {
    "name": "ipython",
    "version": 3
   },
   "file_extension": ".py",
   "mimetype": "text/x-python",
   "name": "python",
   "nbconvert_exporter": "python",
   "pygments_lexer": "ipython3",
   "version": "3.6.4"
  }
 },
 "nbformat": 4,
 "nbformat_minor": 2
}
