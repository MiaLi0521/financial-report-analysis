{
 "cells": [
  {
   "cell_type": "code",
   "execution_count": 1,
   "metadata": {},
   "outputs": [],
   "source": [
    "from analysis import ANALYSIS_CONFIGS\n",
    "from analysis.analysis import FinancialAnalysis\n",
    "from analysis.doc_utils import ReportDocument"
   ]
  },
  {
   "cell_type": "code",
   "execution_count": 2,
   "metadata": {},
   "outputs": [
    {
     "data": {
      "text/plain": [
       "['all_analysis.json',\n",
       " 'asset_quality_analysis.json',\n",
       " 'asset_indepth_analysis.json',\n",
       " 'asset_fraud_analysis.json',\n",
       " 'profit_analysis.json',\n",
       " 'cash_flow_analysis.json']"
      ]
     },
     "execution_count": 2,
     "metadata": {},
     "output_type": "execute_result"
    }
   ],
   "source": [
    "ANALYSIS_CONFIGS"
   ]
  },
  {
   "cell_type": "code",
   "execution_count": 3,
   "metadata": {},
   "outputs": [],
   "source": [
    "analysis = FinancialAnalysis(ANALYSIS_CONFIGS[0])\n",
    "images, titles, fields = analysis.images, analysis.titles, analysis.fields"
   ]
  },
  {
   "cell_type": "markdown",
   "metadata": {},
   "source": [
    "### 总资产规模和增长率"
   ]
  },
  {
   "cell_type": "code",
   "execution_count": 4,
   "metadata": {},
   "outputs": [
    {
     "data": {
      "text/html": [
       "<div>\n",
       "<style scoped>\n",
       "    .dataframe tbody tr th:only-of-type {\n",
       "        vertical-align: middle;\n",
       "    }\n",
       "\n",
       "    .dataframe tbody tr th {\n",
       "        vertical-align: top;\n",
       "    }\n",
       "\n",
       "    .dataframe thead th {\n",
       "        text-align: right;\n",
       "    }\n",
       "</style>\n",
       "<table border=\"1\" class=\"dataframe\">\n",
       "  <thead>\n",
       "    <tr style=\"text-align: right;\">\n",
       "      <th></th>\n",
       "      <th>2015</th>\n",
       "      <th>2016</th>\n",
       "      <th>2017</th>\n",
       "      <th>2018</th>\n",
       "      <th>2019</th>\n",
       "      <th>2020</th>\n",
       "    </tr>\n",
       "  </thead>\n",
       "  <tbody>\n",
       "    <tr>\n",
       "      <th>资产合计(元)</th>\n",
       "      <td>1,211,887,900</td>\n",
       "      <td>1,397,628,600</td>\n",
       "      <td>1,675,684,100</td>\n",
       "      <td>1,780,577,600</td>\n",
       "      <td>1,986,804,400</td>\n",
       "      <td>2,178,534,900</td>\n",
       "    </tr>\n",
       "    <tr>\n",
       "      <th>总资产增长率</th>\n",
       "      <td>nan%</td>\n",
       "      <td>15.33%</td>\n",
       "      <td>19.89%</td>\n",
       "      <td>6.26%</td>\n",
       "      <td>11.58%</td>\n",
       "      <td>9.65%</td>\n",
       "    </tr>\n",
       "  </tbody>\n",
       "</table>\n",
       "</div>"
      ],
      "text/plain": [
       "                  2015           2016           2017           2018  \\\n",
       "资产合计(元)  1,211,887,900  1,397,628,600  1,675,684,100  1,780,577,600   \n",
       "总资产增长率            nan%         15.33%         19.89%          6.26%   \n",
       "\n",
       "                  2019           2020  \n",
       "资产合计(元)  1,986,804,400  2,178,534,900  \n",
       "总资产增长率          11.58%          9.65%  "
      ]
     },
     "execution_count": 4,
     "metadata": {},
     "output_type": "execute_result"
    }
   ],
   "source": [
    "t1 = analysis.init_table('t1')\n",
    "t1['总资产增长率'] = t1['资产合计(元)'].pct_change()\n",
    "\n",
    "analysis.format_show_table('t1')"
   ]
  },
  {
   "cell_type": "code",
   "execution_count": 5,
   "metadata": {
    "scrolled": true
   },
   "outputs": [
    {
     "data": {
      "image/png": "[encoded data removed]",
      "text/plain": [
       "<matplotlib.figure.Figure at 0x2451640cc18>"
      ]
     },
     "metadata": {
      "needs_background": "light"
     },
     "output_type": "display_data"
    }
   ],
   "source": [
    "analysis.show_plot('t1')"
   ]
  },
  {
   "cell_type": "markdown",
   "metadata": {},
   "source": [
    "### 资产负债率"
   ]
  },
  {
   "cell_type": "code",
   "execution_count": 6,
   "metadata": {},
   "outputs": [
    {
     "data": {
      "text/html": [
       "<div>\n",
       "<style scoped>\n",
       "    .dataframe tbody tr th:only-of-type {\n",
       "        vertical-align: middle;\n",
       "    }\n",
       "\n",
       "    .dataframe tbody tr th {\n",
       "        vertical-align: top;\n",
       "    }\n",
       "\n",
       "    .dataframe thead th {\n",
       "        text-align: right;\n",
       "    }\n",
       "</style>\n",
       "<table border=\"1\" class=\"dataframe\">\n",
       "  <thead>\n",
       "    <tr style=\"text-align: right;\">\n",
       "      <th></th>\n",
       "      <th>2015</th>\n",
       "      <th>2016</th>\n",
       "      <th>2017</th>\n",
       "      <th>2018</th>\n",
       "      <th>2019</th>\n",
       "      <th>2020</th>\n",
       "    </tr>\n",
       "  </thead>\n",
       "  <tbody>\n",
       "    <tr>\n",
       "      <th>负债合计(元)</th>\n",
       "      <td>168,415,800</td>\n",
       "      <td>246,575,200</td>\n",
       "      <td>367,271,500</td>\n",
       "      <td>415,501,400</td>\n",
       "      <td>467,556,400</td>\n",
       "      <td>474,821,000</td>\n",
       "    </tr>\n",
       "    <tr>\n",
       "      <th>资产合计(元)</th>\n",
       "      <td>1,211,887,900</td>\n",
       "      <td>1,397,628,600</td>\n",
       "      <td>1,675,684,100</td>\n",
       "      <td>1,780,577,600</td>\n",
       "      <td>1,986,804,400</td>\n",
       "      <td>2,178,534,900</td>\n",
       "    </tr>\n",
       "    <tr>\n",
       "      <th>资产负债率</th>\n",
       "      <td>13.90%</td>\n",
       "      <td>17.64%</td>\n",
       "      <td>21.92%</td>\n",
       "      <td>23.34%</td>\n",
       "      <td>23.53%</td>\n",
       "      <td>21.80%</td>\n",
       "    </tr>\n",
       "  </tbody>\n",
       "</table>\n",
       "</div>"
      ],
      "text/plain": [
       "                  2015           2016           2017           2018  \\\n",
       "负债合计(元)    168,415,800    246,575,200    367,271,500    415,501,400   \n",
       "资产合计(元)  1,211,887,900  1,397,628,600  1,675,684,100  1,780,577,600   \n",
       "资产负债率           13.90%         17.64%         21.92%         23.34%   \n",
       "\n",
       "                  2019           2020  \n",
       "负债合计(元)    467,556,400    474,821,000  \n",
       "资产合计(元)  1,986,804,400  2,178,534,900  \n",
       "资产负债率           23.53%         21.80%  "
      ]
     },
     "execution_count": 6,
     "metadata": {},
     "output_type": "execute_result"
    }
   ],
   "source": [
    "t2 = analysis.init_table('t2')\n",
    "t2['资产负债率'] = t2['负债合计(元)'] / t2['资产合计(元)']\n",
    "\n",
    "analysis.format_show_table('t2')"
   ]
  },
  {
   "cell_type": "code",
   "execution_count": 7,
   "metadata": {},
   "outputs": [
    {
     "data": {
      "image/png": "[encoded data removed]",
      "text/plain": [
       "<matplotlib.figure.Figure at 0x2451640cba8>"
      ]
     },
     "metadata": {
      "needs_background": "light"
     },
     "output_type": "display_data"
    }
   ],
   "source": [
    "analysis.show_plot('t2')"
   ]
  },
  {
   "cell_type": "markdown",
   "metadata": {},
   "source": [
    "### 准货币资金与有息负债的差额"
   ]
  },
  {
   "cell_type": "code",
   "execution_count": 8,
   "metadata": {},
   "outputs": [
    {
     "data": {
      "text/html": [
       "<div>\n",
       "<style scoped>\n",
       "    .dataframe tbody tr th:only-of-type {\n",
       "        vertical-align: middle;\n",
       "    }\n",
       "\n",
       "    .dataframe tbody tr th {\n",
       "        vertical-align: top;\n",
       "    }\n",
       "\n",
       "    .dataframe thead th {\n",
       "        text-align: right;\n",
       "    }\n",
       "</style>\n",
       "<table border=\"1\" class=\"dataframe\">\n",
       "  <thead>\n",
       "    <tr style=\"text-align: right;\">\n",
       "      <th></th>\n",
       "      <th>2015</th>\n",
       "      <th>2016</th>\n",
       "      <th>2017</th>\n",
       "      <th>2018</th>\n",
       "      <th>2019</th>\n",
       "      <th>2020</th>\n",
       "    </tr>\n",
       "  </thead>\n",
       "  <tbody>\n",
       "    <tr>\n",
       "      <th>货币资金(元)</th>\n",
       "      <td>371,817,300</td>\n",
       "      <td>370,078,000</td>\n",
       "      <td>865,129,000</td>\n",
       "      <td>839,378,600</td>\n",
       "      <td>799,127,100</td>\n",
       "      <td>509,970,800</td>\n",
       "    </tr>\n",
       "    <tr>\n",
       "      <th>交易性金融资产(元)</th>\n",
       "      <td>0</td>\n",
       "      <td>0</td>\n",
       "      <td>0</td>\n",
       "      <td>0</td>\n",
       "      <td>0</td>\n",
       "      <td>500,000,000</td>\n",
       "    </tr>\n",
       "    <tr>\n",
       "      <th>其他流动资产里的理财产品</th>\n",
       "      <td>370,000,000</td>\n",
       "      <td>550,000,000</td>\n",
       "      <td>0</td>\n",
       "      <td>0</td>\n",
       "      <td>0</td>\n",
       "      <td>0</td>\n",
       "    </tr>\n",
       "    <tr>\n",
       "      <th>其他流动资产里的结构性存款</th>\n",
       "      <td>0</td>\n",
       "      <td>0</td>\n",
       "      <td>0</td>\n",
       "      <td>0</td>\n",
       "      <td>0</td>\n",
       "      <td>0</td>\n",
       "    </tr>\n",
       "    <tr>\n",
       "      <th>准货币资金</th>\n",
       "      <td>741,817,300</td>\n",
       "      <td>920,078,000</td>\n",
       "      <td>865,129,000</td>\n",
       "      <td>839,378,600</td>\n",
       "      <td>799,127,100</td>\n",
       "      <td>1,009,970,800</td>\n",
       "    </tr>\n",
       "    <tr>\n",
       "      <th>短期借款(元)</th>\n",
       "      <td>0</td>\n",
       "      <td>0</td>\n",
       "      <td>0</td>\n",
       "      <td>0</td>\n",
       "      <td>0</td>\n",
       "      <td>0</td>\n",
       "    </tr>\n",
       "    <tr>\n",
       "      <th>一年内到期的非流动负债(元)</th>\n",
       "      <td>0</td>\n",
       "      <td>0</td>\n",
       "      <td>0</td>\n",
       "      <td>0</td>\n",
       "      <td>0</td>\n",
       "      <td>0</td>\n",
       "    </tr>\n",
       "    <tr>\n",
       "      <th>长期借款(元)</th>\n",
       "      <td>0</td>\n",
       "      <td>0</td>\n",
       "      <td>0</td>\n",
       "      <td>0</td>\n",
       "      <td>0</td>\n",
       "      <td>0</td>\n",
       "    </tr>\n",
       "    <tr>\n",
       "      <th>应付债券(元)</th>\n",
       "      <td>0</td>\n",
       "      <td>0</td>\n",
       "      <td>0</td>\n",
       "      <td>0</td>\n",
       "      <td>0</td>\n",
       "      <td>0</td>\n",
       "    </tr>\n",
       "    <tr>\n",
       "      <th>长期应付款</th>\n",
       "      <td>0</td>\n",
       "      <td>0</td>\n",
       "      <td>0</td>\n",
       "      <td>0</td>\n",
       "      <td>0</td>\n",
       "      <td>0</td>\n",
       "    </tr>\n",
       "    <tr>\n",
       "      <th>有息负债总额</th>\n",
       "      <td>0</td>\n",
       "      <td>0</td>\n",
       "      <td>0</td>\n",
       "      <td>0</td>\n",
       "      <td>0</td>\n",
       "      <td>0</td>\n",
       "    </tr>\n",
       "    <tr>\n",
       "      <th>总货币资金与有息负债之差</th>\n",
       "      <td>741,817,300</td>\n",
       "      <td>920,078,000</td>\n",
       "      <td>865,129,000</td>\n",
       "      <td>839,378,600</td>\n",
       "      <td>799,127,100</td>\n",
       "      <td>1,009,970,800</td>\n",
       "    </tr>\n",
       "  </tbody>\n",
       "</table>\n",
       "</div>"
      ],
      "text/plain": [
       "                       2015         2016         2017         2018  \\\n",
       "货币资金(元)         371,817,300  370,078,000  865,129,000  839,378,600   \n",
       "交易性金融资产(元)                0            0            0            0   \n",
       "其他流动资产里的理财产品    370,000,000  550,000,000            0            0   \n",
       "其他流动资产里的结构性存款             0            0            0            0   \n",
       "准货币资金           741,817,300  920,078,000  865,129,000  839,378,600   \n",
       "短期借款(元)                   0            0            0            0   \n",
       "一年内到期的非流动负债(元)            0            0            0            0   \n",
       "长期借款(元)                   0            0            0            0   \n",
       "应付债券(元)                   0            0            0            0   \n",
       "长期应付款                     0            0            0            0   \n",
       "有息负债总额                    0            0            0            0   \n",
       "总货币资金与有息负债之差    741,817,300  920,078,000  865,129,000  839,378,600   \n",
       "\n",
       "                       2019           2020  \n",
       "货币资金(元)         799,127,100    509,970,800  \n",
       "交易性金融资产(元)                0    500,000,000  \n",
       "其他流动资产里的理财产品              0              0  \n",
       "其他流动资产里的结构性存款             0              0  \n",
       "准货币资金           799,127,100  1,009,970,800  \n",
       "短期借款(元)                   0              0  \n",
       "一年内到期的非流动负债(元)            0              0  \n",
       "长期借款(元)                   0              0  \n",
       "应付债券(元)                   0              0  \n",
       "长期应付款                     0              0  \n",
       "有息负债总额                    0              0  \n",
       "总货币资金与有息负债之差    799,127,100  1,009,970,800  "
      ]
     },
     "execution_count": 8,
     "metadata": {},
     "output_type": "execute_result"
    }
   ],
   "source": [
    "t3 = analysis.init_table('t3')\n",
    "t3['准货币资金'] = t3.T[:4].sum()\n",
    "t3['有息负债总额'] = t3.T[5:10].sum()\n",
    "t3['总货币资金与有息负债之差'] = t3['准货币资金'] - t3['有息负债总额']\n",
    "\n",
    "analysis.format_show_table('t3')"
   ]
  },
  {
   "cell_type": "code",
   "execution_count": 9,
   "metadata": {},
   "outputs": [
    {
     "data": {
      "image/png": "[encoded data removed]",
      "text/plain": [
       "<matplotlib.figure.Figure at 0x2451640ccc0>"
      ]
     },
     "metadata": {
      "needs_background": "light"
     },
     "output_type": "display_data"
    }
   ],
   "source": [
    "analysis.show_plot('t3')"
   ]
  },
  {
   "cell_type": "code",
   "execution_count": 10,
   "metadata": {},
   "outputs": [
    {
     "data": {
      "image/png": "[encoded data removed]",
      "text/plain": [
       "<matplotlib.figure.Figure at 0x2451969a278>"
      ]
     },
     "metadata": {
      "needs_background": "light"
     },
     "output_type": "display_data"
    }
   ],
   "source": [
    "analysis.show_plot('t3', image_index=1)"
   ]
  },
  {
   "cell_type": "markdown",
   "metadata": {},
   "source": [
    "### 应付预收减应收预付的差额"
   ]
  },
  {
   "cell_type": "code",
   "execution_count": 11,
   "metadata": {},
   "outputs": [
    {
     "data": {
      "text/html": [
       "<div>\n",
       "<style scoped>\n",
       "    .dataframe tbody tr th:only-of-type {\n",
       "        vertical-align: middle;\n",
       "    }\n",
       "\n",
       "    .dataframe tbody tr th {\n",
       "        vertical-align: top;\n",
       "    }\n",
       "\n",
       "    .dataframe thead th {\n",
       "        text-align: right;\n",
       "    }\n",
       "</style>\n",
       "<table border=\"1\" class=\"dataframe\">\n",
       "  <thead>\n",
       "    <tr style=\"text-align: right;\">\n",
       "      <th></th>\n",
       "      <th>2015</th>\n",
       "      <th>2016</th>\n",
       "      <th>2017</th>\n",
       "      <th>2018</th>\n",
       "      <th>2019</th>\n",
       "      <th>2020</th>\n",
       "    </tr>\n",
       "  </thead>\n",
       "  <tbody>\n",
       "    <tr>\n",
       "      <th>其中：应付票据(元)</th>\n",
       "      <td>21,040,000</td>\n",
       "      <td>28,720,000</td>\n",
       "      <td>43,310,000</td>\n",
       "      <td>50,004,700</td>\n",
       "      <td>27,750,000</td>\n",
       "      <td>13,780,000</td>\n",
       "    </tr>\n",
       "    <tr>\n",
       "      <th>应付账款(元)</th>\n",
       "      <td>57,143,800</td>\n",
       "      <td>61,261,600</td>\n",
       "      <td>71,819,700</td>\n",
       "      <td>110,799,100</td>\n",
       "      <td>212,610,900</td>\n",
       "      <td>150,309,000</td>\n",
       "    </tr>\n",
       "    <tr>\n",
       "      <th>预收款项(元)</th>\n",
       "      <td>26,492,200</td>\n",
       "      <td>55,406,700</td>\n",
       "      <td>130,688,800</td>\n",
       "      <td>133,945,600</td>\n",
       "      <td>80,681,300</td>\n",
       "      <td>0</td>\n",
       "    </tr>\n",
       "    <tr>\n",
       "      <th>合同负债(元)</th>\n",
       "      <td>0</td>\n",
       "      <td>0</td>\n",
       "      <td>0</td>\n",
       "      <td>0</td>\n",
       "      <td>0</td>\n",
       "      <td>142,761,360</td>\n",
       "    </tr>\n",
       "    <tr>\n",
       "      <th>应付与预收合计</th>\n",
       "      <td>104,676,000</td>\n",
       "      <td>145,388,300</td>\n",
       "      <td>245,818,500</td>\n",
       "      <td>294,749,400</td>\n",
       "      <td>321,042,200</td>\n",
       "      <td>306,850,360</td>\n",
       "    </tr>\n",
       "    <tr>\n",
       "      <th>其中：应收票据(元)</th>\n",
       "      <td>800,000</td>\n",
       "      <td>500,000</td>\n",
       "      <td>477,600</td>\n",
       "      <td>2,630,000</td>\n",
       "      <td>0</td>\n",
       "      <td>4,405,700</td>\n",
       "    </tr>\n",
       "    <tr>\n",
       "      <th>合同资产(元)</th>\n",
       "      <td>0</td>\n",
       "      <td>0</td>\n",
       "      <td>0</td>\n",
       "      <td>0</td>\n",
       "      <td>0</td>\n",
       "      <td>1,422,477</td>\n",
       "    </tr>\n",
       "    <tr>\n",
       "      <th>应收款项融资</th>\n",
       "      <td>0</td>\n",
       "      <td>0</td>\n",
       "      <td>0</td>\n",
       "      <td>0</td>\n",
       "      <td>5,815,853</td>\n",
       "      <td>3,600,000</td>\n",
       "    </tr>\n",
       "    <tr>\n",
       "      <th>应收账款(元)</th>\n",
       "      <td>4,792,600</td>\n",
       "      <td>7,948,400</td>\n",
       "      <td>8,497,800</td>\n",
       "      <td>14,827,700</td>\n",
       "      <td>17,727,800</td>\n",
       "      <td>24,567,400</td>\n",
       "    </tr>\n",
       "    <tr>\n",
       "      <th>预付款项(元)</th>\n",
       "      <td>3,903,900</td>\n",
       "      <td>4,259,700</td>\n",
       "      <td>10,817,800</td>\n",
       "      <td>30,558,900</td>\n",
       "      <td>13,716,800</td>\n",
       "      <td>14,705,400</td>\n",
       "    </tr>\n",
       "    <tr>\n",
       "      <th>应收与预付合计</th>\n",
       "      <td>9,496,500</td>\n",
       "      <td>12,708,100</td>\n",
       "      <td>19,793,200</td>\n",
       "      <td>48,016,600</td>\n",
       "      <td>37,260,453</td>\n",
       "      <td>48,700,977</td>\n",
       "    </tr>\n",
       "    <tr>\n",
       "      <th>应付预收减应收预付的差额</th>\n",
       "      <td>95,179,500</td>\n",
       "      <td>132,680,200</td>\n",
       "      <td>226,025,300</td>\n",
       "      <td>246,732,800</td>\n",
       "      <td>283,781,747</td>\n",
       "      <td>258,149,383</td>\n",
       "    </tr>\n",
       "  </tbody>\n",
       "</table>\n",
       "</div>"
      ],
      "text/plain": [
       "                     2015         2016         2017         2018         2019  \\\n",
       "其中：应付票据(元)     21,040,000   28,720,000   43,310,000   50,004,700   27,750,000   \n",
       "应付账款(元)        57,143,800   61,261,600   71,819,700  110,799,100  212,610,900   \n",
       "预收款项(元)        26,492,200   55,406,700  130,688,800  133,945,600   80,681,300   \n",
       "合同负债(元)                 0            0            0            0            0   \n",
       "应付与预收合计       104,676,000  145,388,300  245,818,500  294,749,400  321,042,200   \n",
       "其中：应收票据(元)        800,000      500,000      477,600    2,630,000            0   \n",
       "合同资产(元)                 0            0            0            0            0   \n",
       "应收款项融资                  0            0            0            0    5,815,853   \n",
       "应收账款(元)         4,792,600    7,948,400    8,497,800   14,827,700   17,727,800   \n",
       "预付款项(元)         3,903,900    4,259,700   10,817,800   30,558,900   13,716,800   \n",
       "应收与预付合计         9,496,500   12,708,100   19,793,200   48,016,600   37,260,453   \n",
       "应付预收减应收预付的差额   95,179,500  132,680,200  226,025,300  246,732,800  283,781,747   \n",
       "\n",
       "                     2020  \n",
       "其中：应付票据(元)     13,780,000  \n",
       "应付账款(元)       150,309,000  \n",
       "预收款项(元)                 0  \n",
       "合同负债(元)       142,761,360  \n",
       "应付与预收合计       306,850,360  \n",
       "其中：应收票据(元)      4,405,700  \n",
       "合同资产(元)         1,422,477  \n",
       "应收款项融资          3,600,000  \n",
       "应收账款(元)        24,567,400  \n",
       "预付款项(元)        14,705,400  \n",
       "应收与预付合计        48,700,977  \n",
       "应付预收减应收预付的差额  258,149,383  "
      ]
     },
     "execution_count": 11,
     "metadata": {},
     "output_type": "execute_result"
    }
   ],
   "source": [
    "t4 = analysis.init_table('t4')\n",
    "t4['应付与预收合计'] = t4.T[:4].sum()\n",
    "t4['应收与预付合计'] = t4.T[5:10].sum()\n",
    "t4['应付预收减应收预付的差额'] = t4['应付与预收合计'] - t4['应收与预付合计']\n",
    "\n",
    "analysis.format_show_table('t4')"
   ]
  },
  {
   "cell_type": "code",
   "execution_count": 12,
   "metadata": {},
   "outputs": [
    {
     "data": {
      "image/png": "[encoded data removed]",
      "text/plain": [
       "<matplotlib.figure.Figure at 0x24519771f28>"
      ]
     },
     "metadata": {
      "needs_background": "light"
     },
     "output_type": "display_data"
    }
   ],
   "source": [
    "analysis.show_plot('t4')"
   ]
  },
  {
   "cell_type": "code",
   "execution_count": 13,
   "metadata": {},
   "outputs": [
    {
     "data": {
      "image/png": "[encoded data removed]",
      "text/plain": [
       "<matplotlib.figure.Figure at 0x245198018d0>"
      ]
     },
     "metadata": {
      "needs_background": "light"
     },
     "output_type": "display_data"
    }
   ],
   "source": [
    "analysis.show_plot('t4', image_index=1)"
   ]
  },
  {
   "cell_type": "markdown",
   "metadata": {},
   "source": [
    "### 应收账款+合同资产占总资产的比例"
   ]
  },
  {
   "cell_type": "code",
   "execution_count": 14,
   "metadata": {},
   "outputs": [
    {
     "data": {
      "text/html": [
       "<div>\n",
       "<style scoped>\n",
       "    .dataframe tbody tr th:only-of-type {\n",
       "        vertical-align: middle;\n",
       "    }\n",
       "\n",
       "    .dataframe tbody tr th {\n",
       "        vertical-align: top;\n",
       "    }\n",
       "\n",
       "    .dataframe thead th {\n",
       "        text-align: right;\n",
       "    }\n",
       "</style>\n",
       "<table border=\"1\" class=\"dataframe\">\n",
       "  <thead>\n",
       "    <tr style=\"text-align: right;\">\n",
       "      <th></th>\n",
       "      <th>2015</th>\n",
       "      <th>2016</th>\n",
       "      <th>2017</th>\n",
       "      <th>2018</th>\n",
       "      <th>2019</th>\n",
       "      <th>2020</th>\n",
       "    </tr>\n",
       "  </thead>\n",
       "  <tbody>\n",
       "    <tr>\n",
       "      <th>合同资产(元)</th>\n",
       "      <td>0</td>\n",
       "      <td>0</td>\n",
       "      <td>0</td>\n",
       "      <td>0</td>\n",
       "      <td>0</td>\n",
       "      <td>1,422,477</td>\n",
       "    </tr>\n",
       "    <tr>\n",
       "      <th>应收账款(元)</th>\n",
       "      <td>4,792,600</td>\n",
       "      <td>7,948,400</td>\n",
       "      <td>8,497,800</td>\n",
       "      <td>14,827,700</td>\n",
       "      <td>17,727,800</td>\n",
       "      <td>24,567,400</td>\n",
       "    </tr>\n",
       "    <tr>\n",
       "      <th>应收账款+合同资产</th>\n",
       "      <td>4,792,600</td>\n",
       "      <td>7,948,400</td>\n",
       "      <td>8,497,800</td>\n",
       "      <td>14,827,700</td>\n",
       "      <td>17,727,800</td>\n",
       "      <td>25,989,877</td>\n",
       "    </tr>\n",
       "    <tr>\n",
       "      <th>资产合计(元)</th>\n",
       "      <td>1,211,887,900</td>\n",
       "      <td>1,397,628,600</td>\n",
       "      <td>1,675,684,100</td>\n",
       "      <td>1,780,577,600</td>\n",
       "      <td>1,986,804,400</td>\n",
       "      <td>2,178,534,900</td>\n",
       "    </tr>\n",
       "    <tr>\n",
       "      <th>(应收账款+合同资产)占总资产的比率</th>\n",
       "      <td>0.40%</td>\n",
       "      <td>0.57%</td>\n",
       "      <td>0.51%</td>\n",
       "      <td>0.83%</td>\n",
       "      <td>0.89%</td>\n",
       "      <td>1.19%</td>\n",
       "    </tr>\n",
       "  </tbody>\n",
       "</table>\n",
       "</div>"
      ],
      "text/plain": [
       "                             2015           2016           2017  \\\n",
       "合同资产(元)                         0              0              0   \n",
       "应收账款(元)                 4,792,600      7,948,400      8,497,800   \n",
       "应收账款+合同资产               4,792,600      7,948,400      8,497,800   \n",
       "资产合计(元)             1,211,887,900  1,397,628,600  1,675,684,100   \n",
       "(应收账款+合同资产)占总资产的比率          0.40%          0.57%          0.51%   \n",
       "\n",
       "                             2018           2019           2020  \n",
       "合同资产(元)                         0              0      1,422,477  \n",
       "应收账款(元)                14,827,700     17,727,800     24,567,400  \n",
       "应收账款+合同资产              14,827,700     17,727,800     25,989,877  \n",
       "资产合计(元)             1,780,577,600  1,986,804,400  2,178,534,900  \n",
       "(应收账款+合同资产)占总资产的比率          0.83%          0.89%          1.19%  "
      ]
     },
     "execution_count": 14,
     "metadata": {},
     "output_type": "execute_result"
    }
   ],
   "source": [
    "t5 = analysis.init_table('t5')\n",
    "t5['应收账款+合同资产'] = t5.T[:2].sum()\n",
    "t5['(应收账款+合同资产)占总资产的比率'] = t5['应收账款+合同资产'] / t5['资产合计(元)']\n",
    "\n",
    "analysis.format_show_table('t5')"
   ]
  },
  {
   "cell_type": "code",
   "execution_count": 15,
   "metadata": {},
   "outputs": [
    {
     "data": {
      "image/png": "[encoded data removed]",
      "text/plain": [
       "<matplotlib.figure.Figure at 0x24519989dd8>"
      ]
     },
     "metadata": {
      "needs_background": "light"
     },
     "output_type": "display_data"
    }
   ],
   "source": [
    "analysis.show_plot('t5')"
   ]
  },
  {
   "cell_type": "markdown",
   "metadata": {},
   "source": [
    "### 固定资产占总资产的比重"
   ]
  },
  {
   "cell_type": "code",
   "execution_count": 16,
   "metadata": {},
   "outputs": [
    {
     "data": {
      "text/html": [
       "<div>\n",
       "<style scoped>\n",
       "    .dataframe tbody tr th:only-of-type {\n",
       "        vertical-align: middle;\n",
       "    }\n",
       "\n",
       "    .dataframe tbody tr th {\n",
       "        vertical-align: top;\n",
       "    }\n",
       "\n",
       "    .dataframe thead th {\n",
       "        text-align: right;\n",
       "    }\n",
       "</style>\n",
       "<table border=\"1\" class=\"dataframe\">\n",
       "  <thead>\n",
       "    <tr style=\"text-align: right;\">\n",
       "      <th></th>\n",
       "      <th>2015</th>\n",
       "      <th>2016</th>\n",
       "      <th>2017</th>\n",
       "      <th>2018</th>\n",
       "      <th>2019</th>\n",
       "      <th>2020</th>\n",
       "    </tr>\n",
       "  </thead>\n",
       "  <tbody>\n",
       "    <tr>\n",
       "      <th>固定资产合计(元)</th>\n",
       "      <td>351,462,800</td>\n",
       "      <td>351,419,700</td>\n",
       "      <td>350,940,600</td>\n",
       "      <td>323,517,500</td>\n",
       "      <td>728,869,600</td>\n",
       "      <td>674,529,900</td>\n",
       "    </tr>\n",
       "    <tr>\n",
       "      <th>在建工程合计(元)</th>\n",
       "      <td>2,623,600</td>\n",
       "      <td>1,751,500</td>\n",
       "      <td>14,166,700</td>\n",
       "      <td>238,247,000</td>\n",
       "      <td>80,713,600</td>\n",
       "      <td>120,273,100</td>\n",
       "    </tr>\n",
       "    <tr>\n",
       "      <th>固定资产+在建工程</th>\n",
       "      <td>354,086,400</td>\n",
       "      <td>353,171,200</td>\n",
       "      <td>365,107,300</td>\n",
       "      <td>561,764,500</td>\n",
       "      <td>809,583,200</td>\n",
       "      <td>794,803,000</td>\n",
       "    </tr>\n",
       "    <tr>\n",
       "      <th>资产合计(元)</th>\n",
       "      <td>1,211,887,900</td>\n",
       "      <td>1,397,628,600</td>\n",
       "      <td>1,675,684,100</td>\n",
       "      <td>1,780,577,600</td>\n",
       "      <td>1,986,804,400</td>\n",
       "      <td>2,178,534,900</td>\n",
       "    </tr>\n",
       "    <tr>\n",
       "      <th>固定型资产占总资产的比率</th>\n",
       "      <td>29.22%</td>\n",
       "      <td>25.27%</td>\n",
       "      <td>21.79%</td>\n",
       "      <td>31.55%</td>\n",
       "      <td>40.75%</td>\n",
       "      <td>36.48%</td>\n",
       "    </tr>\n",
       "  </tbody>\n",
       "</table>\n",
       "</div>"
      ],
      "text/plain": [
       "                       2015           2016           2017           2018  \\\n",
       "固定资产合计(元)       351,462,800    351,419,700    350,940,600    323,517,500   \n",
       "在建工程合计(元)         2,623,600      1,751,500     14,166,700    238,247,000   \n",
       "固定资产+在建工程       354,086,400    353,171,200    365,107,300    561,764,500   \n",
       "资产合计(元)       1,211,887,900  1,397,628,600  1,675,684,100  1,780,577,600   \n",
       "固定型资产占总资产的比率         29.22%         25.27%         21.79%         31.55%   \n",
       "\n",
       "                       2019           2020  \n",
       "固定资产合计(元)       728,869,600    674,529,900  \n",
       "在建工程合计(元)        80,713,600    120,273,100  \n",
       "固定资产+在建工程       809,583,200    794,803,000  \n",
       "资产合计(元)       1,986,804,400  2,178,534,900  \n",
       "固定型资产占总资产的比率         40.75%         36.48%  "
      ]
     },
     "execution_count": 16,
     "metadata": {},
     "output_type": "execute_result"
    }
   ],
   "source": [
    "t6 = analysis.init_table('t6')\n",
    "t6['固定资产+在建工程'] = t6.T[:2].sum()\n",
    "t6['固定型资产占总资产的比率'] = t6['固定资产+在建工程'] / t6['资产合计(元)']\n",
    "\n",
    "analysis.format_show_table('t6')"
   ]
  },
  {
   "cell_type": "code",
   "execution_count": 17,
   "metadata": {},
   "outputs": [
    {
     "data": {
      "image/png": "[encoded data removed]",
      "text/plain": [
       "<matplotlib.figure.Figure at 0x245198d46a0>"
      ]
     },
     "metadata": {
      "needs_background": "light"
     },
     "output_type": "display_data"
    }
   ],
   "source": [
    "analysis.show_plot('t6')"
   ]
  },
  {
   "cell_type": "markdown",
   "metadata": {},
   "source": [
    "### 投资类资产占比分析"
   ]
  },
  {
   "cell_type": "code",
   "execution_count": 18,
   "metadata": {},
   "outputs": [
    {
     "data": {
      "text/html": [
       "<div>\n",
       "<style scoped>\n",
       "    .dataframe tbody tr th:only-of-type {\n",
       "        vertical-align: middle;\n",
       "    }\n",
       "\n",
       "    .dataframe tbody tr th {\n",
       "        vertical-align: top;\n",
       "    }\n",
       "\n",
       "    .dataframe thead th {\n",
       "        text-align: right;\n",
       "    }\n",
       "</style>\n",
       "<table border=\"1\" class=\"dataframe\">\n",
       "  <thead>\n",
       "    <tr style=\"text-align: right;\">\n",
       "      <th></th>\n",
       "      <th>2015</th>\n",
       "      <th>2016</th>\n",
       "      <th>2017</th>\n",
       "      <th>2018</th>\n",
       "      <th>2019</th>\n",
       "      <th>2020</th>\n",
       "    </tr>\n",
       "  </thead>\n",
       "  <tbody>\n",
       "    <tr>\n",
       "      <th>以公允价值计量且其变动计入当期损益的金融资产(元)</th>\n",
       "      <td>0</td>\n",
       "      <td>0</td>\n",
       "      <td>0</td>\n",
       "      <td>0</td>\n",
       "      <td>0</td>\n",
       "      <td>0</td>\n",
       "    </tr>\n",
       "    <tr>\n",
       "      <th>债权投资(元)</th>\n",
       "      <td>0</td>\n",
       "      <td>0</td>\n",
       "      <td>0</td>\n",
       "      <td>0</td>\n",
       "      <td>0</td>\n",
       "      <td>0</td>\n",
       "    </tr>\n",
       "    <tr>\n",
       "      <th>可供出售金融资产(元)</th>\n",
       "      <td>0</td>\n",
       "      <td>0</td>\n",
       "      <td>246,167,500</td>\n",
       "      <td>79,596,200</td>\n",
       "      <td>0</td>\n",
       "      <td>0</td>\n",
       "    </tr>\n",
       "    <tr>\n",
       "      <th>其他权益工具投资(元)</th>\n",
       "      <td>0</td>\n",
       "      <td>0</td>\n",
       "      <td>0</td>\n",
       "      <td>0</td>\n",
       "      <td>72,064,200</td>\n",
       "      <td>61,494,200</td>\n",
       "    </tr>\n",
       "    <tr>\n",
       "      <th>持有至到期投资(元)</th>\n",
       "      <td>0</td>\n",
       "      <td>0</td>\n",
       "      <td>0</td>\n",
       "      <td>0</td>\n",
       "      <td>0</td>\n",
       "      <td>0</td>\n",
       "    </tr>\n",
       "    <tr>\n",
       "      <th>其他非流动金融资产(元)</th>\n",
       "      <td>0</td>\n",
       "      <td>0</td>\n",
       "      <td>0</td>\n",
       "      <td>0</td>\n",
       "      <td>0</td>\n",
       "      <td>0</td>\n",
       "    </tr>\n",
       "    <tr>\n",
       "      <th>长期股权投资(元)</th>\n",
       "      <td>0</td>\n",
       "      <td>0</td>\n",
       "      <td>0</td>\n",
       "      <td>0</td>\n",
       "      <td>0</td>\n",
       "      <td>0</td>\n",
       "    </tr>\n",
       "    <tr>\n",
       "      <th>投资性房地产(元)</th>\n",
       "      <td>0</td>\n",
       "      <td>0</td>\n",
       "      <td>0</td>\n",
       "      <td>0</td>\n",
       "      <td>0</td>\n",
       "      <td>0</td>\n",
       "    </tr>\n",
       "    <tr>\n",
       "      <th>投资类资产合计</th>\n",
       "      <td>0</td>\n",
       "      <td>0</td>\n",
       "      <td>246,167,500</td>\n",
       "      <td>79,596,200</td>\n",
       "      <td>72,064,200</td>\n",
       "      <td>61,494,200</td>\n",
       "    </tr>\n",
       "    <tr>\n",
       "      <th>资产合计(元)</th>\n",
       "      <td>1,211,887,900</td>\n",
       "      <td>1,397,628,600</td>\n",
       "      <td>1,675,684,100</td>\n",
       "      <td>1,780,577,600</td>\n",
       "      <td>1,986,804,400</td>\n",
       "      <td>2,178,534,900</td>\n",
       "    </tr>\n",
       "    <tr>\n",
       "      <th>投资类资产占总资产的比率</th>\n",
       "      <td>0.00%</td>\n",
       "      <td>0.00%</td>\n",
       "      <td>14.69%</td>\n",
       "      <td>4.47%</td>\n",
       "      <td>3.63%</td>\n",
       "      <td>2.82%</td>\n",
       "    </tr>\n",
       "  </tbody>\n",
       "</table>\n",
       "</div>"
      ],
      "text/plain": [
       "                                    2015           2016           2017  \\\n",
       "以公允价值计量且其变动计入当期损益的金融资产(元)              0              0              0   \n",
       "债权投资(元)                                0              0              0   \n",
       "可供出售金融资产(元)                            0              0    246,167,500   \n",
       "其他权益工具投资(元)                            0              0              0   \n",
       "持有至到期投资(元)                             0              0              0   \n",
       "其他非流动金融资产(元)                           0              0              0   \n",
       "长期股权投资(元)                              0              0              0   \n",
       "投资性房地产(元)                              0              0              0   \n",
       "投资类资产合计                                0              0    246,167,500   \n",
       "资产合计(元)                    1,211,887,900  1,397,628,600  1,675,684,100   \n",
       "投资类资产占总资产的比率                       0.00%          0.00%         14.69%   \n",
       "\n",
       "                                    2018           2019           2020  \n",
       "以公允价值计量且其变动计入当期损益的金融资产(元)              0              0              0  \n",
       "债权投资(元)                                0              0              0  \n",
       "可供出售金融资产(元)                   79,596,200              0              0  \n",
       "其他权益工具投资(元)                            0     72,064,200     61,494,200  \n",
       "持有至到期投资(元)                             0              0              0  \n",
       "其他非流动金融资产(元)                           0              0              0  \n",
       "长期股权投资(元)                              0              0              0  \n",
       "投资性房地产(元)                              0              0              0  \n",
       "投资类资产合计                       79,596,200     72,064,200     61,494,200  \n",
       "资产合计(元)                    1,780,577,600  1,986,804,400  2,178,534,900  \n",
       "投资类资产占总资产的比率                       4.47%          3.63%          2.82%  "
      ]
     },
     "execution_count": 18,
     "metadata": {},
     "output_type": "execute_result"
    }
   ],
   "source": [
    "t7 = analysis.init_table('t7')\n",
    "t7['投资类资产合计'] = t7.T[:8].sum()\n",
    "t7['投资类资产占总资产的比率'] = t7['投资类资产合计'] / t7['资产合计(元)']\n",
    "\n",
    "analysis.format_show_table('t7')"
   ]
  },
  {
   "cell_type": "code",
   "execution_count": 19,
   "metadata": {},
   "outputs": [
    {
     "data": {
      "image/png": "[encoded data removed]",
      "text/plain": [
       "<matplotlib.figure.Figure at 0x245198f8128>"
      ]
     },
     "metadata": {
      "needs_background": "light"
     },
     "output_type": "display_data"
    }
   ],
   "source": [
    "analysis.show_plot('t7')"
   ]
  },
  {
   "cell_type": "code",
   "execution_count": 20,
   "metadata": {},
   "outputs": [
    {
     "data": {
      "text/html": [
       "<div>\n",
       "<style scoped>\n",
       "    .dataframe tbody tr th:only-of-type {\n",
       "        vertical-align: middle;\n",
       "    }\n",
       "\n",
       "    .dataframe tbody tr th {\n",
       "        vertical-align: top;\n",
       "    }\n",
       "\n",
       "    .dataframe thead th {\n",
       "        text-align: right;\n",
       "    }\n",
       "</style>\n",
       "<table border=\"1\" class=\"dataframe\">\n",
       "  <thead>\n",
       "    <tr style=\"text-align: right;\">\n",
       "      <th></th>\n",
       "      <th>2015</th>\n",
       "      <th>2016</th>\n",
       "      <th>2017</th>\n",
       "      <th>2018</th>\n",
       "      <th>2019</th>\n",
       "      <th>2020</th>\n",
       "    </tr>\n",
       "  </thead>\n",
       "  <tbody>\n",
       "    <tr>\n",
       "      <th>存货(元)</th>\n",
       "      <td>40,678,800</td>\n",
       "      <td>48,294,000</td>\n",
       "      <td>73,613,600</td>\n",
       "      <td>64,125,600</td>\n",
       "      <td>79,640,800</td>\n",
       "      <td>78,025,500</td>\n",
       "    </tr>\n",
       "    <tr>\n",
       "      <th>资产合计(元)</th>\n",
       "      <td>1,211,887,900</td>\n",
       "      <td>1,397,628,600</td>\n",
       "      <td>1,675,684,100</td>\n",
       "      <td>1,780,577,600</td>\n",
       "      <td>1,986,804,400</td>\n",
       "      <td>2,178,534,900</td>\n",
       "    </tr>\n",
       "    <tr>\n",
       "      <th>存货占总资产的比率</th>\n",
       "      <td>3.36%</td>\n",
       "      <td>3.46%</td>\n",
       "      <td>4.39%</td>\n",
       "      <td>3.60%</td>\n",
       "      <td>4.01%</td>\n",
       "      <td>3.58%</td>\n",
       "    </tr>\n",
       "  </tbody>\n",
       "</table>\n",
       "</div>"
      ],
      "text/plain": [
       "                    2015           2016           2017           2018  \\\n",
       "存货(元)         40,678,800     48,294,000     73,613,600     64,125,600   \n",
       "资产合计(元)    1,211,887,900  1,397,628,600  1,675,684,100  1,780,577,600   \n",
       "存货占总资产的比率          3.36%          3.46%          4.39%          3.60%   \n",
       "\n",
       "                    2019           2020  \n",
       "存货(元)         79,640,800     78,025,500  \n",
       "资产合计(元)    1,986,804,400  2,178,534,900  \n",
       "存货占总资产的比率          4.01%          3.58%  "
      ]
     },
     "execution_count": 20,
     "metadata": {},
     "output_type": "execute_result"
    }
   ],
   "source": [
    "t8 = analysis.init_table('t8')\n",
    "t8['存货占总资产的比率'] = t8['存货(元)'] / t8[ '资产合计(元)']\n",
    "\n",
    "analysis.format_show_table('t8')"
   ]
  },
  {
   "cell_type": "code",
   "execution_count": 21,
   "metadata": {},
   "outputs": [
    {
     "data": {
      "image/png": "[encoded data removed]",
      "text/plain": [
       "<matplotlib.figure.Figure at 0x245199ee240>"
      ]
     },
     "metadata": {
      "needs_background": "light"
     },
     "output_type": "display_data"
    }
   ],
   "source": [
    "import pandas as pd\n",
    "from analysis.utils import plot_show\n",
    "\n",
    "tmp_df = pd.merge(\n",
    "    t8['存货占总资产的比率'], \n",
    "    t5['(应收账款+合同资产)占总资产的比率'],\n",
    "    right_index=True,\n",
    "    left_index=True\n",
    ")\n",
    "plot_show(tmp_df, image_title=images['t8'][0], y_label='', y_format='', save_image=True)"
   ]
  },
  {
   "cell_type": "markdown",
   "metadata": {},
   "source": [
    "### 商誉占比"
   ]
  },
  {
   "cell_type": "code",
   "execution_count": 22,
   "metadata": {},
   "outputs": [
    {
     "data": {
      "text/html": [
       "<div>\n",
       "<style scoped>\n",
       "    .dataframe tbody tr th:only-of-type {\n",
       "        vertical-align: middle;\n",
       "    }\n",
       "\n",
       "    .dataframe tbody tr th {\n",
       "        vertical-align: top;\n",
       "    }\n",
       "\n",
       "    .dataframe thead th {\n",
       "        text-align: right;\n",
       "    }\n",
       "</style>\n",
       "<table border=\"1\" class=\"dataframe\">\n",
       "  <thead>\n",
       "    <tr style=\"text-align: right;\">\n",
       "      <th></th>\n",
       "      <th>2015</th>\n",
       "      <th>2016</th>\n",
       "      <th>2017</th>\n",
       "      <th>2018</th>\n",
       "      <th>2019</th>\n",
       "      <th>2020</th>\n",
       "    </tr>\n",
       "  </thead>\n",
       "  <tbody>\n",
       "    <tr>\n",
       "      <th>商誉(元)</th>\n",
       "      <td>0</td>\n",
       "      <td>0</td>\n",
       "      <td>0</td>\n",
       "      <td>0</td>\n",
       "      <td>0</td>\n",
       "      <td>0</td>\n",
       "    </tr>\n",
       "    <tr>\n",
       "      <th>资产合计(元)</th>\n",
       "      <td>1,211,887,900</td>\n",
       "      <td>1,397,628,600</td>\n",
       "      <td>1,675,684,100</td>\n",
       "      <td>1,780,577,600</td>\n",
       "      <td>1,986,804,400</td>\n",
       "      <td>2,178,534,900</td>\n",
       "    </tr>\n",
       "    <tr>\n",
       "      <th>商誉占总资产的比率</th>\n",
       "      <td>0.00%</td>\n",
       "      <td>0.00%</td>\n",
       "      <td>0.00%</td>\n",
       "      <td>0.00%</td>\n",
       "      <td>0.00%</td>\n",
       "      <td>0.00%</td>\n",
       "    </tr>\n",
       "  </tbody>\n",
       "</table>\n",
       "</div>"
      ],
      "text/plain": [
       "                    2015           2016           2017           2018  \\\n",
       "商誉(元)                  0              0              0              0   \n",
       "资产合计(元)    1,211,887,900  1,397,628,600  1,675,684,100  1,780,577,600   \n",
       "商誉占总资产的比率          0.00%          0.00%          0.00%          0.00%   \n",
       "\n",
       "                    2019           2020  \n",
       "商誉(元)                  0              0  \n",
       "资产合计(元)    1,986,804,400  2,178,534,900  \n",
       "商誉占总资产的比率          0.00%          0.00%  "
      ]
     },
     "execution_count": 22,
     "metadata": {},
     "output_type": "execute_result"
    }
   ],
   "source": [
    "t9 = analysis.init_table('t9')\n",
    "t9['商誉占总资产的比率'] = t9['商誉(元)'] / t9[ '资产合计(元)']\n",
    "\n",
    "analysis.format_show_table('t9')"
   ]
  },
  {
   "cell_type": "code",
   "execution_count": 23,
   "metadata": {},
   "outputs": [
    {
     "data": {
      "image/png": "[encoded data removed]",
      "text/plain": [
       "<matplotlib.figure.Figure at 0x24519a26d68>"
      ]
     },
     "metadata": {
      "needs_background": "light"
     },
     "output_type": "display_data"
    }
   ],
   "source": [
    "analysis.show_plot('t9')"
   ]
  },
  {
   "cell_type": "markdown",
   "metadata": {},
   "source": [
    "### 营业收入分析"
   ]
  },
  {
   "cell_type": "code",
   "execution_count": 24,
   "metadata": {},
   "outputs": [
    {
     "data": {
      "text/html": [
       "<div>\n",
       "<style scoped>\n",
       "    .dataframe tbody tr th:only-of-type {\n",
       "        vertical-align: middle;\n",
       "    }\n",
       "\n",
       "    .dataframe tbody tr th {\n",
       "        vertical-align: top;\n",
       "    }\n",
       "\n",
       "    .dataframe thead th {\n",
       "        text-align: right;\n",
       "    }\n",
       "</style>\n",
       "<table border=\"1\" class=\"dataframe\">\n",
       "  <thead>\n",
       "    <tr style=\"text-align: right;\">\n",
       "      <th></th>\n",
       "      <th>2015</th>\n",
       "      <th>2016</th>\n",
       "      <th>2017</th>\n",
       "      <th>2018</th>\n",
       "      <th>2019</th>\n",
       "      <th>2020</th>\n",
       "    </tr>\n",
       "  </thead>\n",
       "  <tbody>\n",
       "    <tr>\n",
       "      <th>其中：营业收入(元)</th>\n",
       "      <td>517,877,289</td>\n",
       "      <td>665,683,622</td>\n",
       "      <td>1,026,358,727</td>\n",
       "      <td>1,400,899,590</td>\n",
       "      <td>1,684,475,727</td>\n",
       "      <td>1,770,817,768</td>\n",
       "    </tr>\n",
       "    <tr>\n",
       "      <th>营业收入增长率</th>\n",
       "      <td>nan%</td>\n",
       "      <td>28.54%</td>\n",
       "      <td>54.18%</td>\n",
       "      <td>36.49%</td>\n",
       "      <td>20.24%</td>\n",
       "      <td>5.13%</td>\n",
       "    </tr>\n",
       "  </tbody>\n",
       "</table>\n",
       "</div>"
      ],
      "text/plain": [
       "                   2015         2016           2017           2018  \\\n",
       "其中：营业收入(元)  517,877,289  665,683,622  1,026,358,727  1,400,899,590   \n",
       "营业收入增长率            nan%       28.54%         54.18%         36.49%   \n",
       "\n",
       "                     2019           2020  \n",
       "其中：营业收入(元)  1,684,475,727  1,770,817,768  \n",
       "营业收入增长率            20.24%          5.13%  "
      ]
     },
     "execution_count": 24,
     "metadata": {},
     "output_type": "execute_result"
    }
   ],
   "source": [
    "t10 = analysis.init_table('t10')\n",
    "t10['营业收入增长率'] = t10['其中：营业收入(元)'].pct_change()\n",
    "\n",
    "analysis.format_show_table('t10')"
   ]
  },
  {
   "cell_type": "code",
   "execution_count": 25,
   "metadata": {},
   "outputs": [
    {
     "data": {
      "image/png": "[encoded data removed]",
      "text/plain": [
       "<matplotlib.figure.Figure at 0x2451991e160>"
      ]
     },
     "metadata": {
      "needs_background": "light"
     },
     "output_type": "display_data"
    }
   ],
   "source": [
    "analysis.show_plot('t10')"
   ]
  },
  {
   "cell_type": "code",
   "execution_count": 26,
   "metadata": {},
   "outputs": [
    {
     "data": {
      "text/html": [
       "<div>\n",
       "<style scoped>\n",
       "    .dataframe tbody tr th:only-of-type {\n",
       "        vertical-align: middle;\n",
       "    }\n",
       "\n",
       "    .dataframe tbody tr th {\n",
       "        vertical-align: top;\n",
       "    }\n",
       "\n",
       "    .dataframe thead th {\n",
       "        text-align: right;\n",
       "    }\n",
       "</style>\n",
       "<table border=\"1\" class=\"dataframe\">\n",
       "  <thead>\n",
       "    <tr style=\"text-align: right;\">\n",
       "      <th></th>\n",
       "      <th>2015</th>\n",
       "      <th>2016</th>\n",
       "      <th>2017</th>\n",
       "      <th>2018</th>\n",
       "      <th>2019</th>\n",
       "      <th>2020</th>\n",
       "    </tr>\n",
       "  </thead>\n",
       "  <tbody>\n",
       "    <tr>\n",
       "      <th>其中：营业收入(元)</th>\n",
       "      <td>517,877,289</td>\n",
       "      <td>665,683,622</td>\n",
       "      <td>1,026,358,727</td>\n",
       "      <td>1,400,899,590</td>\n",
       "      <td>1,684,475,727</td>\n",
       "      <td>1,770,817,768</td>\n",
       "    </tr>\n",
       "    <tr>\n",
       "      <th>其中：营业成本(元)</th>\n",
       "      <td>244,253,900</td>\n",
       "      <td>300,724,100</td>\n",
       "      <td>472,741,100</td>\n",
       "      <td>678,856,000</td>\n",
       "      <td>782,854,800</td>\n",
       "      <td>836,451,700</td>\n",
       "    </tr>\n",
       "    <tr>\n",
       "      <th>毛利率</th>\n",
       "      <td>52.84%</td>\n",
       "      <td>54.82%</td>\n",
       "      <td>53.94%</td>\n",
       "      <td>51.54%</td>\n",
       "      <td>53.53%</td>\n",
       "      <td>52.76%</td>\n",
       "    </tr>\n",
       "    <tr>\n",
       "      <th>毛利率波动率</th>\n",
       "      <td>nan%</td>\n",
       "      <td>3.76%</td>\n",
       "      <td>-1.61%</td>\n",
       "      <td>-4.45%</td>\n",
       "      <td>3.85%</td>\n",
       "      <td>-1.42%</td>\n",
       "    </tr>\n",
       "  </tbody>\n",
       "</table>\n",
       "</div>"
      ],
      "text/plain": [
       "                   2015         2016           2017           2018  \\\n",
       "其中：营业收入(元)  517,877,289  665,683,622  1,026,358,727  1,400,899,590   \n",
       "其中：营业成本(元)  244,253,900  300,724,100    472,741,100    678,856,000   \n",
       "毛利率              52.84%       54.82%         53.94%         51.54%   \n",
       "毛利率波动率             nan%        3.76%         -1.61%         -4.45%   \n",
       "\n",
       "                     2019           2020  \n",
       "其中：营业收入(元)  1,684,475,727  1,770,817,768  \n",
       "其中：营业成本(元)    782,854,800    836,451,700  \n",
       "毛利率                53.53%         52.76%  \n",
       "毛利率波动率              3.85%         -1.42%  "
      ]
     },
     "execution_count": 26,
     "metadata": {},
     "output_type": "execute_result"
    }
   ],
   "source": [
    "t11 = analysis.init_table('t11')\n",
    "t11['毛利率'] = (t11['其中：营业收入(元)']-t11['其中：营业成本(元)']) / t11['其中：营业收入(元)']\n",
    "t11['毛利率波动率'] = t11['毛利率'].pct_change()\n",
    "\n",
    "analysis.format_show_table('t11')"
   ]
  },
  {
   "cell_type": "code",
   "execution_count": 27,
   "metadata": {
    "scrolled": true
   },
   "outputs": [
    {
     "data": {
      "image/png": "[encoded data removed]",
      "text/plain": [
       "<matplotlib.figure.Figure at 0x245197f2048>"
      ]
     },
     "metadata": {
      "needs_background": "light"
     },
     "output_type": "display_data"
    }
   ],
   "source": [
    "analysis.show_plot('t11')"
   ]
  },
  {
   "cell_type": "markdown",
   "metadata": {},
   "source": [
    "### 期间费用率"
   ]
  },
  {
   "cell_type": "code",
   "execution_count": 28,
   "metadata": {},
   "outputs": [
    {
     "data": {
      "text/html": [
       "<div>\n",
       "<style scoped>\n",
       "    .dataframe tbody tr th:only-of-type {\n",
       "        vertical-align: middle;\n",
       "    }\n",
       "\n",
       "    .dataframe tbody tr th {\n",
       "        vertical-align: top;\n",
       "    }\n",
       "\n",
       "    .dataframe thead th {\n",
       "        text-align: right;\n",
       "    }\n",
       "</style>\n",
       "<table border=\"1\" class=\"dataframe\">\n",
       "  <thead>\n",
       "    <tr style=\"text-align: right;\">\n",
       "      <th></th>\n",
       "      <th>2015</th>\n",
       "      <th>2016</th>\n",
       "      <th>2017</th>\n",
       "      <th>2018</th>\n",
       "      <th>2019</th>\n",
       "      <th>2020</th>\n",
       "    </tr>\n",
       "  </thead>\n",
       "  <tbody>\n",
       "    <tr>\n",
       "      <th>销售费用(元)</th>\n",
       "      <td>62,629,900</td>\n",
       "      <td>55,483,900</td>\n",
       "      <td>100,732,100</td>\n",
       "      <td>154,464,100</td>\n",
       "      <td>256,658,500</td>\n",
       "      <td>198,692,600</td>\n",
       "    </tr>\n",
       "    <tr>\n",
       "      <th>管理费用(元)</th>\n",
       "      <td>62,775,000</td>\n",
       "      <td>79,550,900</td>\n",
       "      <td>82,973,600</td>\n",
       "      <td>80,703,600</td>\n",
       "      <td>65,784,400</td>\n",
       "      <td>61,820,000</td>\n",
       "    </tr>\n",
       "    <tr>\n",
       "      <th>研发费用(元)</th>\n",
       "      <td>0</td>\n",
       "      <td>0</td>\n",
       "      <td>33,437,800</td>\n",
       "      <td>40,767,800</td>\n",
       "      <td>50,926,200</td>\n",
       "      <td>54,276,900</td>\n",
       "    </tr>\n",
       "    <tr>\n",
       "      <th>财务费用(元)</th>\n",
       "      <td>0</td>\n",
       "      <td>0</td>\n",
       "      <td>0</td>\n",
       "      <td>0</td>\n",
       "      <td>0</td>\n",
       "      <td>0</td>\n",
       "    </tr>\n",
       "    <tr>\n",
       "      <th>四费合计</th>\n",
       "      <td>125,404,900</td>\n",
       "      <td>135,034,800</td>\n",
       "      <td>217,143,500</td>\n",
       "      <td>275,935,500</td>\n",
       "      <td>373,369,100</td>\n",
       "      <td>314,789,500</td>\n",
       "    </tr>\n",
       "    <tr>\n",
       "      <th>其中：营业收入(元)</th>\n",
       "      <td>517,877,289</td>\n",
       "      <td>665,683,622</td>\n",
       "      <td>1,026,358,727</td>\n",
       "      <td>1,400,899,590</td>\n",
       "      <td>1,684,475,727</td>\n",
       "      <td>1,770,817,768</td>\n",
       "    </tr>\n",
       "    <tr>\n",
       "      <th>期间费用率</th>\n",
       "      <td>24.22%</td>\n",
       "      <td>20.29%</td>\n",
       "      <td>21.16%</td>\n",
       "      <td>19.70%</td>\n",
       "      <td>22.17%</td>\n",
       "      <td>17.78%</td>\n",
       "    </tr>\n",
       "    <tr>\n",
       "      <th>毛利率</th>\n",
       "      <td>52.84%</td>\n",
       "      <td>54.82%</td>\n",
       "      <td>53.94%</td>\n",
       "      <td>51.54%</td>\n",
       "      <td>53.53%</td>\n",
       "      <td>52.76%</td>\n",
       "    </tr>\n",
       "    <tr>\n",
       "      <th>期间费用率占毛利率的比率</th>\n",
       "      <td>45.83%</td>\n",
       "      <td>37.00%</td>\n",
       "      <td>39.22%</td>\n",
       "      <td>38.22%</td>\n",
       "      <td>41.41%</td>\n",
       "      <td>33.69%</td>\n",
       "    </tr>\n",
       "  </tbody>\n",
       "</table>\n",
       "</div>"
      ],
      "text/plain": [
       "                     2015         2016           2017           2018  \\\n",
       "销售费用(元)        62,629,900   55,483,900    100,732,100    154,464,100   \n",
       "管理费用(元)        62,775,000   79,550,900     82,973,600     80,703,600   \n",
       "研发费用(元)                 0            0     33,437,800     40,767,800   \n",
       "财务费用(元)                 0            0              0              0   \n",
       "四费合计          125,404,900  135,034,800    217,143,500    275,935,500   \n",
       "其中：营业收入(元)    517,877,289  665,683,622  1,026,358,727  1,400,899,590   \n",
       "期间费用率              24.22%       20.29%         21.16%         19.70%   \n",
       "毛利率                52.84%       54.82%         53.94%         51.54%   \n",
       "期间费用率占毛利率的比率       45.83%       37.00%         39.22%         38.22%   \n",
       "\n",
       "                       2019           2020  \n",
       "销售费用(元)         256,658,500    198,692,600  \n",
       "管理费用(元)          65,784,400     61,820,000  \n",
       "研发费用(元)          50,926,200     54,276,900  \n",
       "财务费用(元)                   0              0  \n",
       "四费合计            373,369,100    314,789,500  \n",
       "其中：营业收入(元)    1,684,475,727  1,770,817,768  \n",
       "期间费用率                22.17%         17.78%  \n",
       "毛利率                  53.53%         52.76%  \n",
       "期间费用率占毛利率的比率         41.41%         33.69%  "
      ]
     },
     "execution_count": 28,
     "metadata": {},
     "output_type": "execute_result"
    }
   ],
   "source": [
    "t12 = analysis.init_table('t12')\n",
    "t12.loc[t12['财务费用(元)']<0, '财务费用(元)'] = 0\n",
    "t12['四费合计'] = t12.T[:4].sum()\n",
    "t12['期间费用率'] = t12['四费合计'] / t12['其中：营业收入(元)']\n",
    "t12['毛利率'] = t11['毛利率']\n",
    "t12['期间费用率占毛利率的比率'] = t12['期间费用率'] / t12['毛利率']\n",
    "\n",
    "analysis.format_show_table('t12')"
   ]
  },
  {
   "cell_type": "code",
   "execution_count": 29,
   "metadata": {},
   "outputs": [
    {
     "data": {
      "image/png": "[encoded data removed]",
      "text/plain": [
       "<matplotlib.figure.Figure at 0x2451864fa20>"
      ]
     },
     "metadata": {
      "needs_background": "light"
     },
     "output_type": "display_data"
    }
   ],
   "source": [
    "analysis.show_plot('t12')"
   ]
  },
  {
   "cell_type": "code",
   "execution_count": 30,
   "metadata": {},
   "outputs": [
    {
     "data": {
      "image/png": "[encoded data removed]",
      "text/plain": [
       "<matplotlib.figure.Figure at 0x24519677a20>"
      ]
     },
     "metadata": {
      "needs_background": "light"
     },
     "output_type": "display_data"
    }
   ],
   "source": [
    "analysis.show_plot('t12', image_index=1)"
   ]
  },
  {
   "cell_type": "markdown",
   "metadata": {},
   "source": [
    "### 销售费用率"
   ]
  },
  {
   "cell_type": "code",
   "execution_count": 31,
   "metadata": {},
   "outputs": [
    {
     "data": {
      "text/html": [
       "<div>\n",
       "<style scoped>\n",
       "    .dataframe tbody tr th:only-of-type {\n",
       "        vertical-align: middle;\n",
       "    }\n",
       "\n",
       "    .dataframe tbody tr th {\n",
       "        vertical-align: top;\n",
       "    }\n",
       "\n",
       "    .dataframe thead th {\n",
       "        text-align: right;\n",
       "    }\n",
       "</style>\n",
       "<table border=\"1\" class=\"dataframe\">\n",
       "  <thead>\n",
       "    <tr style=\"text-align: right;\">\n",
       "      <th></th>\n",
       "      <th>2015</th>\n",
       "      <th>2016</th>\n",
       "      <th>2017</th>\n",
       "      <th>2018</th>\n",
       "      <th>2019</th>\n",
       "      <th>2020</th>\n",
       "    </tr>\n",
       "  </thead>\n",
       "  <tbody>\n",
       "    <tr>\n",
       "      <th>销售费用(元)</th>\n",
       "      <td>62,629,900</td>\n",
       "      <td>55,483,900</td>\n",
       "      <td>100,732,100</td>\n",
       "      <td>154,464,100</td>\n",
       "      <td>256,658,500</td>\n",
       "      <td>198,692,600</td>\n",
       "    </tr>\n",
       "    <tr>\n",
       "      <th>其中：营业收入(元)</th>\n",
       "      <td>517,877,289</td>\n",
       "      <td>665,683,622</td>\n",
       "      <td>1,026,358,727</td>\n",
       "      <td>1,400,899,590</td>\n",
       "      <td>1,684,475,727</td>\n",
       "      <td>1,770,817,768</td>\n",
       "    </tr>\n",
       "    <tr>\n",
       "      <th>销售费用率</th>\n",
       "      <td>12.09%</td>\n",
       "      <td>8.33%</td>\n",
       "      <td>9.81%</td>\n",
       "      <td>11.03%</td>\n",
       "      <td>15.24%</td>\n",
       "      <td>11.22%</td>\n",
       "    </tr>\n",
       "  </tbody>\n",
       "</table>\n",
       "</div>"
      ],
      "text/plain": [
       "                   2015         2016           2017           2018  \\\n",
       "销售费用(元)      62,629,900   55,483,900    100,732,100    154,464,100   \n",
       "其中：营业收入(元)  517,877,289  665,683,622  1,026,358,727  1,400,899,590   \n",
       "销售费用率            12.09%        8.33%          9.81%         11.03%   \n",
       "\n",
       "                     2019           2020  \n",
       "销售费用(元)       256,658,500    198,692,600  \n",
       "其中：营业收入(元)  1,684,475,727  1,770,817,768  \n",
       "销售费用率              15.24%         11.22%  "
      ]
     },
     "execution_count": 31,
     "metadata": {},
     "output_type": "execute_result"
    }
   ],
   "source": [
    "t13 = analysis.init_table('t13')\n",
    "t13['销售费用率'] = t13['销售费用(元)'] / t13['其中：营业收入(元)']\n",
    "\n",
    "analysis.format_show_table('t13')"
   ]
  },
  {
   "cell_type": "code",
   "execution_count": 32,
   "metadata": {},
   "outputs": [
    {
     "data": {
      "image/png": "[encoded data removed]",
      "text/plain": [
       "<matplotlib.figure.Figure at 0x24519871588>"
      ]
     },
     "metadata": {
      "needs_background": "light"
     },
     "output_type": "display_data"
    }
   ],
   "source": [
    "analysis.show_plot('t13')"
   ]
  },
  {
   "cell_type": "markdown",
   "metadata": {},
   "source": [
    "### 主营利润"
   ]
  },
  {
   "cell_type": "code",
   "execution_count": 33,
   "metadata": {},
   "outputs": [
    {
     "data": {
      "text/html": [
       "<div>\n",
       "<style scoped>\n",
       "    .dataframe tbody tr th:only-of-type {\n",
       "        vertical-align: middle;\n",
       "    }\n",
       "\n",
       "    .dataframe tbody tr th {\n",
       "        vertical-align: top;\n",
       "    }\n",
       "\n",
       "    .dataframe thead th {\n",
       "        text-align: right;\n",
       "    }\n",
       "</style>\n",
       "<table border=\"1\" class=\"dataframe\">\n",
       "  <thead>\n",
       "    <tr style=\"text-align: right;\">\n",
       "      <th></th>\n",
       "      <th>2015</th>\n",
       "      <th>2016</th>\n",
       "      <th>2017</th>\n",
       "      <th>2018</th>\n",
       "      <th>2019</th>\n",
       "      <th>2020</th>\n",
       "    </tr>\n",
       "  </thead>\n",
       "  <tbody>\n",
       "    <tr>\n",
       "      <th>其中：营业收入(元)</th>\n",
       "      <td>517,877,289</td>\n",
       "      <td>665,683,622</td>\n",
       "      <td>1,026,358,727</td>\n",
       "      <td>1,400,899,590</td>\n",
       "      <td>1,684,475,727</td>\n",
       "      <td>1,770,817,768</td>\n",
       "    </tr>\n",
       "    <tr>\n",
       "      <th>其中：营业成本(元)</th>\n",
       "      <td>244,253,900</td>\n",
       "      <td>300,724,100</td>\n",
       "      <td>472,741,100</td>\n",
       "      <td>678,856,000</td>\n",
       "      <td>782,854,800</td>\n",
       "      <td>836,451,700</td>\n",
       "    </tr>\n",
       "    <tr>\n",
       "      <th>营业税金及附加(元)</th>\n",
       "      <td>4,576,200</td>\n",
       "      <td>8,659,100</td>\n",
       "      <td>12,590,100</td>\n",
       "      <td>15,388,000</td>\n",
       "      <td>12,378,700</td>\n",
       "      <td>17,545,500</td>\n",
       "    </tr>\n",
       "    <tr>\n",
       "      <th>四费合计</th>\n",
       "      <td>125,404,900</td>\n",
       "      <td>135,034,800</td>\n",
       "      <td>217,143,500</td>\n",
       "      <td>275,935,500</td>\n",
       "      <td>373,369,100</td>\n",
       "      <td>314,789,500</td>\n",
       "    </tr>\n",
       "    <tr>\n",
       "      <th>主营利润</th>\n",
       "      <td>143,642,289</td>\n",
       "      <td>221,265,622</td>\n",
       "      <td>323,884,027</td>\n",
       "      <td>430,720,090</td>\n",
       "      <td>515,873,127</td>\n",
       "      <td>602,031,068</td>\n",
       "    </tr>\n",
       "    <tr>\n",
       "      <th>主营利润率</th>\n",
       "      <td>27.74%</td>\n",
       "      <td>33.24%</td>\n",
       "      <td>31.56%</td>\n",
       "      <td>30.75%</td>\n",
       "      <td>30.63%</td>\n",
       "      <td>34.00%</td>\n",
       "    </tr>\n",
       "    <tr>\n",
       "      <th>三、营业利润(元)</th>\n",
       "      <td>172,276,538</td>\n",
       "      <td>240,639,873</td>\n",
       "      <td>358,999,257</td>\n",
       "      <td>445,604,542</td>\n",
       "      <td>534,758,624</td>\n",
       "      <td>635,352,096</td>\n",
       "    </tr>\n",
       "    <tr>\n",
       "      <th>主营利润占营业利润的比率</th>\n",
       "      <td>83.38%</td>\n",
       "      <td>91.95%</td>\n",
       "      <td>90.22%</td>\n",
       "      <td>96.66%</td>\n",
       "      <td>96.47%</td>\n",
       "      <td>94.76%</td>\n",
       "    </tr>\n",
       "  </tbody>\n",
       "</table>\n",
       "</div>"
      ],
      "text/plain": [
       "                     2015         2016           2017           2018  \\\n",
       "其中：营业收入(元)    517,877,289  665,683,622  1,026,358,727  1,400,899,590   \n",
       "其中：营业成本(元)    244,253,900  300,724,100    472,741,100    678,856,000   \n",
       "营业税金及附加(元)      4,576,200    8,659,100     12,590,100     15,388,000   \n",
       "四费合计          125,404,900  135,034,800    217,143,500    275,935,500   \n",
       "主营利润          143,642,289  221,265,622    323,884,027    430,720,090   \n",
       "主营利润率              27.74%       33.24%         31.56%         30.75%   \n",
       "三、营业利润(元)     172,276,538  240,639,873    358,999,257    445,604,542   \n",
       "主营利润占营业利润的比率       83.38%       91.95%         90.22%         96.66%   \n",
       "\n",
       "                       2019           2020  \n",
       "其中：营业收入(元)    1,684,475,727  1,770,817,768  \n",
       "其中：营业成本(元)      782,854,800    836,451,700  \n",
       "营业税金及附加(元)       12,378,700     17,545,500  \n",
       "四费合计            373,369,100    314,789,500  \n",
       "主营利润            515,873,127    602,031,068  \n",
       "主营利润率                30.63%         34.00%  \n",
       "三、营业利润(元)       534,758,624    635,352,096  \n",
       "主营利润占营业利润的比率         96.47%         94.76%  "
      ]
     },
     "execution_count": 33,
     "metadata": {},
     "output_type": "execute_result"
    }
   ],
   "source": [
    "t14 = analysis.init_table('t14')\n",
    "t14['四费合计'] = t12['四费合计']\n",
    "t14['主营利润'] = t14['其中：营业收入(元)'] - t14.T[1:4].sum()\n",
    "t14['主营利润率'] = t14['主营利润'] / t14['其中：营业收入(元)']\n",
    "t14['主营利润占营业利润的比率'] = t14['主营利润'] / t14['三、营业利润(元)']\n",
    "\n",
    "analysis.format_show_table('t14')"
   ]
  },
  {
   "cell_type": "code",
   "execution_count": 34,
   "metadata": {},
   "outputs": [
    {
     "data": {
      "image/png": "[encoded data removed]",
      "text/plain": [
       "<matplotlib.figure.Figure at 0x2451866beb8>"
      ]
     },
     "metadata": {
      "needs_background": "light"
     },
     "output_type": "display_data"
    }
   ],
   "source": [
    "analysis.show_plot('t14')"
   ]
  },
  {
   "cell_type": "code",
   "execution_count": 35,
   "metadata": {},
   "outputs": [
    {
     "data": {
      "image/png": "[encoded data removed]",
      "text/plain": [
       "<matplotlib.figure.Figure at 0x24519723198>"
      ]
     },
     "metadata": {
      "needs_background": "light"
     },
     "output_type": "display_data"
    }
   ],
   "source": [
    "analysis.show_plot('t14', image_index=1)"
   ]
  },
  {
   "cell_type": "markdown",
   "metadata": {},
   "source": [
    "### 看净利润，了解公司的经营成果及含金量"
   ]
  },
  {
   "cell_type": "code",
   "execution_count": 36,
   "metadata": {},
   "outputs": [
    {
     "data": {
      "text/html": [
       "<div>\n",
       "<style scoped>\n",
       "    .dataframe tbody tr th:only-of-type {\n",
       "        vertical-align: middle;\n",
       "    }\n",
       "\n",
       "    .dataframe tbody tr th {\n",
       "        vertical-align: top;\n",
       "    }\n",
       "\n",
       "    .dataframe thead th {\n",
       "        text-align: right;\n",
       "    }\n",
       "</style>\n",
       "<table border=\"1\" class=\"dataframe\">\n",
       "  <thead>\n",
       "    <tr style=\"text-align: right;\">\n",
       "      <th></th>\n",
       "      <th>2015</th>\n",
       "      <th>2016</th>\n",
       "      <th>2017</th>\n",
       "      <th>2018</th>\n",
       "      <th>2019</th>\n",
       "      <th>2020</th>\n",
       "    </tr>\n",
       "  </thead>\n",
       "  <tbody>\n",
       "    <tr>\n",
       "      <th>经营活动产生的现金流量净额(元)</th>\n",
       "      <td>155,476,300</td>\n",
       "      <td>266,508,400</td>\n",
       "      <td>448,664,200</td>\n",
       "      <td>441,885,700</td>\n",
       "      <td>543,387,300</td>\n",
       "      <td>633,842,700</td>\n",
       "    </tr>\n",
       "    <tr>\n",
       "      <th>五、净利润(元)</th>\n",
       "      <td>155,641,200</td>\n",
       "      <td>202,656,100</td>\n",
       "      <td>305,192,100</td>\n",
       "      <td>377,525,100</td>\n",
       "      <td>460,012,900</td>\n",
       "      <td>543,562,800</td>\n",
       "    </tr>\n",
       "    <tr>\n",
       "      <th>净利润现金比率</th>\n",
       "      <td>99.89%</td>\n",
       "      <td>131.51%</td>\n",
       "      <td>147.01%</td>\n",
       "      <td>117.05%</td>\n",
       "      <td>118.12%</td>\n",
       "      <td>116.61%</td>\n",
       "    </tr>\n",
       "  </tbody>\n",
       "</table>\n",
       "</div>"
      ],
      "text/plain": [
       "                         2015         2016         2017         2018  \\\n",
       "经营活动产生的现金流量净额(元)  155,476,300  266,508,400  448,664,200  441,885,700   \n",
       "五、净利润(元)          155,641,200  202,656,100  305,192,100  377,525,100   \n",
       "净利润现金比率                99.89%      131.51%      147.01%      117.05%   \n",
       "\n",
       "                         2019         2020  \n",
       "经营活动产生的现金流量净额(元)  543,387,300  633,842,700  \n",
       "五、净利润(元)          460,012,900  543,562,800  \n",
       "净利润现金比率               118.12%      116.61%  "
      ]
     },
     "execution_count": 36,
     "metadata": {},
     "output_type": "execute_result"
    }
   ],
   "source": [
    "t15 = analysis.init_table('t15')\n",
    "t15['净利润现金比率'] = t15['经营活动产生的现金流量净额(元)'] / t15['五、净利润(元)']\n",
    "\n",
    "analysis.format_show_table('t15')"
   ]
  },
  {
   "cell_type": "code",
   "execution_count": 37,
   "metadata": {},
   "outputs": [
    {
     "name": "stdout",
     "output_type": "stream",
     "text": [
      "连续 5 年的平均净利润现金含量：121.70%\n"
     ]
    }
   ],
   "source": [
    "print(f\"连续 5 年的平均净利润现金含量：{t15['净利润现金比率'].mean():.2%}\")"
   ]
  },
  {
   "cell_type": "markdown",
   "metadata": {},
   "source": [
    "### 归母净利润"
   ]
  },
  {
   "cell_type": "code",
   "execution_count": 38,
   "metadata": {},
   "outputs": [
    {
     "data": {
      "text/html": [
       "<div>\n",
       "<style scoped>\n",
       "    .dataframe tbody tr th:only-of-type {\n",
       "        vertical-align: middle;\n",
       "    }\n",
       "\n",
       "    .dataframe tbody tr th {\n",
       "        vertical-align: top;\n",
       "    }\n",
       "\n",
       "    .dataframe thead th {\n",
       "        text-align: right;\n",
       "    }\n",
       "</style>\n",
       "<table border=\"1\" class=\"dataframe\">\n",
       "  <thead>\n",
       "    <tr style=\"text-align: right;\">\n",
       "      <th></th>\n",
       "      <th>2015</th>\n",
       "      <th>2016</th>\n",
       "      <th>2017</th>\n",
       "      <th>2018</th>\n",
       "      <th>2019</th>\n",
       "      <th>2020</th>\n",
       "    </tr>\n",
       "  </thead>\n",
       "  <tbody>\n",
       "    <tr>\n",
       "      <th>归属于母公司所有者的净利润(元)</th>\n",
       "      <td>155,641,200</td>\n",
       "      <td>202,656,100</td>\n",
       "      <td>305,192,100</td>\n",
       "      <td>377,525,100</td>\n",
       "      <td>460,012,900</td>\n",
       "      <td>543,562,800</td>\n",
       "    </tr>\n",
       "    <tr>\n",
       "      <th>归属于母公司所有者权益合计(元)</th>\n",
       "      <td>1,043,472,100</td>\n",
       "      <td>1,151,053,400</td>\n",
       "      <td>1,308,412,500</td>\n",
       "      <td>1,365,076,200</td>\n",
       "      <td>1,519,248,100</td>\n",
       "      <td>1,703,713,900</td>\n",
       "    </tr>\n",
       "    <tr>\n",
       "      <th>ROE 净资产收益率</th>\n",
       "      <td>14.92%</td>\n",
       "      <td>17.61%</td>\n",
       "      <td>23.33%</td>\n",
       "      <td>27.66%</td>\n",
       "      <td>30.28%</td>\n",
       "      <td>31.90%</td>\n",
       "    </tr>\n",
       "    <tr>\n",
       "      <th>归属于母公司所有者的净利润增长率</th>\n",
       "      <td>nan%</td>\n",
       "      <td>30.21%</td>\n",
       "      <td>50.60%</td>\n",
       "      <td>23.70%</td>\n",
       "      <td>21.85%</td>\n",
       "      <td>18.16%</td>\n",
       "    </tr>\n",
       "  </tbody>\n",
       "</table>\n",
       "</div>"
      ],
      "text/plain": [
       "                           2015           2016           2017           2018  \\\n",
       "归属于母公司所有者的净利润(元)    155,641,200    202,656,100    305,192,100    377,525,100   \n",
       "归属于母公司所有者权益合计(元)  1,043,472,100  1,151,053,400  1,308,412,500  1,365,076,200   \n",
       "ROE 净资产收益率               14.92%         17.61%         23.33%         27.66%   \n",
       "归属于母公司所有者的净利润增长率           nan%         30.21%         50.60%         23.70%   \n",
       "\n",
       "                           2019           2020  \n",
       "归属于母公司所有者的净利润(元)    460,012,900    543,562,800  \n",
       "归属于母公司所有者权益合计(元)  1,519,248,100  1,703,713,900  \n",
       "ROE 净资产收益率               30.28%         31.90%  \n",
       "归属于母公司所有者的净利润增长率         21.85%         18.16%  "
      ]
     },
     "execution_count": 38,
     "metadata": {},
     "output_type": "execute_result"
    }
   ],
   "source": [
    "t16 = analysis.init_table('t16')\n",
    "t16['ROE 净资产收益率'] = t16['归属于母公司所有者的净利润(元)'] / t16['归属于母公司所有者权益合计(元)']\n",
    "t16['归属于母公司所有者的净利润增长率'] = t16['归属于母公司所有者的净利润(元)'].pct_change()\n",
    "\n",
    "analysis.format_show_table('t16')"
   ]
  },
  {
   "cell_type": "code",
   "execution_count": 39,
   "metadata": {},
   "outputs": [
    {
     "data": {
      "image/png": "[encoded data removed]",
      "text/plain": [
       "<matplotlib.figure.Figure at 0x245197e2128>"
      ]
     },
     "metadata": {
      "needs_background": "light"
     },
     "output_type": "display_data"
    }
   ],
   "source": [
    "analysis.show_plot('t16')"
   ]
  },
  {
   "cell_type": "code",
   "execution_count": 40,
   "metadata": {},
   "outputs": [
    {
     "data": {
      "image/png": "[encoded data removed]",
      "text/plain": [
       "<matplotlib.figure.Figure at 0x24519a720f0>"
      ]
     },
     "metadata": {
      "needs_background": "light"
     },
     "output_type": "display_data"
    }
   ],
   "source": [
    "analysis.show_plot('t16', image_index=1)"
   ]
  },
  {
   "cell_type": "markdown",
   "metadata": {},
   "source": [
    "### 构建三产支付的现金"
   ]
  },
  {
   "cell_type": "code",
   "execution_count": 41,
   "metadata": {},
   "outputs": [
    {
     "data": {
      "text/html": [
       "<div>\n",
       "<style scoped>\n",
       "    .dataframe tbody tr th:only-of-type {\n",
       "        vertical-align: middle;\n",
       "    }\n",
       "\n",
       "    .dataframe tbody tr th {\n",
       "        vertical-align: top;\n",
       "    }\n",
       "\n",
       "    .dataframe thead th {\n",
       "        text-align: right;\n",
       "    }\n",
       "</style>\n",
       "<table border=\"1\" class=\"dataframe\">\n",
       "  <thead>\n",
       "    <tr style=\"text-align: right;\">\n",
       "      <th></th>\n",
       "      <th>2015</th>\n",
       "      <th>2016</th>\n",
       "      <th>2017</th>\n",
       "      <th>2018</th>\n",
       "      <th>2019</th>\n",
       "      <th>2020</th>\n",
       "    </tr>\n",
       "  </thead>\n",
       "  <tbody>\n",
       "    <tr>\n",
       "      <th>购建固定资产、无形资产和其他长期资产支付的现金(元)</th>\n",
       "      <td>39,159,400</td>\n",
       "      <td>46,062,000</td>\n",
       "      <td>102,501,400</td>\n",
       "      <td>291,719,600</td>\n",
       "      <td>279,600,900</td>\n",
       "      <td>70,295,000</td>\n",
       "    </tr>\n",
       "    <tr>\n",
       "      <th>经营活动产生的现金流量净额(元)</th>\n",
       "      <td>155,476,300</td>\n",
       "      <td>266,508,400</td>\n",
       "      <td>448,664,200</td>\n",
       "      <td>441,885,700</td>\n",
       "      <td>543,387,300</td>\n",
       "      <td>633,842,700</td>\n",
       "    </tr>\n",
       "    <tr>\n",
       "      <th>购建支付的现金与经营活动产生的现金流量净额的比率</th>\n",
       "      <td>25.19%</td>\n",
       "      <td>17.28%</td>\n",
       "      <td>22.85%</td>\n",
       "      <td>66.02%</td>\n",
       "      <td>51.46%</td>\n",
       "      <td>11.09%</td>\n",
       "    </tr>\n",
       "  </tbody>\n",
       "</table>\n",
       "</div>"
      ],
      "text/plain": [
       "                                   2015         2016         2017  \\\n",
       "购建固定资产、无形资产和其他长期资产支付的现金(元)   39,159,400   46,062,000  102,501,400   \n",
       "经营活动产生的现金流量净额(元)            155,476,300  266,508,400  448,664,200   \n",
       "购建支付的现金与经营活动产生的现金流量净额的比率         25.19%       17.28%       22.85%   \n",
       "\n",
       "                                   2018         2019         2020  \n",
       "购建固定资产、无形资产和其他长期资产支付的现金(元)  291,719,600  279,600,900   70,295,000  \n",
       "经营活动产生的现金流量净额(元)            441,885,700  543,387,300  633,842,700  \n",
       "购建支付的现金与经营活动产生的现金流量净额的比率         66.02%       51.46%       11.09%  "
      ]
     },
     "execution_count": 41,
     "metadata": {},
     "output_type": "execute_result"
    }
   ],
   "source": [
    "t17 = analysis.init_table('t17')\n",
    "\n",
    "t17['购建支付的现金与经营活动产生的现金流量净额的比率'] = \\\n",
    "t17['购建固定资产、无形资产和其他长期资产支付的现金(元)'] / t17['经营活动产生的现金流量净额(元)']\n",
    "\n",
    "analysis.format_show_table('t17')"
   ]
  },
  {
   "cell_type": "code",
   "execution_count": 42,
   "metadata": {},
   "outputs": [
    {
     "data": {
      "image/png": "[encoded data removed]",
      "text/plain": [
       "<matplotlib.figure.Figure at 0x24519bc6a20>"
      ]
     },
     "metadata": {
      "needs_background": "light"
     },
     "output_type": "display_data"
    }
   ],
   "source": [
    "analysis.show_plot('t17')"
   ]
  },
  {
   "cell_type": "markdown",
   "metadata": {},
   "source": [
    "### 分红"
   ]
  },
  {
   "cell_type": "code",
   "execution_count": 43,
   "metadata": {},
   "outputs": [
    {
     "data": {
      "text/html": [
       "<div>\n",
       "<style scoped>\n",
       "    .dataframe tbody tr th:only-of-type {\n",
       "        vertical-align: middle;\n",
       "    }\n",
       "\n",
       "    .dataframe tbody tr th {\n",
       "        vertical-align: top;\n",
       "    }\n",
       "\n",
       "    .dataframe thead th {\n",
       "        text-align: right;\n",
       "    }\n",
       "</style>\n",
       "<table border=\"1\" class=\"dataframe\">\n",
       "  <thead>\n",
       "    <tr style=\"text-align: right;\">\n",
       "      <th></th>\n",
       "      <th>2015</th>\n",
       "      <th>2016</th>\n",
       "      <th>2017</th>\n",
       "      <th>2018</th>\n",
       "      <th>2019</th>\n",
       "      <th>2020</th>\n",
       "    </tr>\n",
       "  </thead>\n",
       "  <tbody>\n",
       "    <tr>\n",
       "      <th>分配股利、利润或偿付利息支付的现金(元)</th>\n",
       "      <td>100,000,000</td>\n",
       "      <td>100,000,000</td>\n",
       "      <td>198,400,000</td>\n",
       "      <td>298,973,000</td>\n",
       "      <td>303,667,700</td>\n",
       "      <td>350,160,000</td>\n",
       "    </tr>\n",
       "    <tr>\n",
       "      <th>经营活动产生的现金流量净额(元)</th>\n",
       "      <td>155,476,300</td>\n",
       "      <td>266,508,400</td>\n",
       "      <td>448,664,200</td>\n",
       "      <td>441,885,700</td>\n",
       "      <td>543,387,300</td>\n",
       "      <td>633,842,700</td>\n",
       "    </tr>\n",
       "    <tr>\n",
       "      <th>分配股利、利润或偿付利息支付的现金占经营活动产生的现金流量净额的比率</th>\n",
       "      <td>64.32%</td>\n",
       "      <td>37.52%</td>\n",
       "      <td>44.22%</td>\n",
       "      <td>67.66%</td>\n",
       "      <td>55.88%</td>\n",
       "      <td>55.24%</td>\n",
       "    </tr>\n",
       "  </tbody>\n",
       "</table>\n",
       "</div>"
      ],
      "text/plain": [
       "                                           2015         2016         2017  \\\n",
       "分配股利、利润或偿付利息支付的现金(元)                100,000,000  100,000,000  198,400,000   \n",
       "经营活动产生的现金流量净额(元)                    155,476,300  266,508,400  448,664,200   \n",
       "分配股利、利润或偿付利息支付的现金占经营活动产生的现金流量净额的比率       64.32%       37.52%       44.22%   \n",
       "\n",
       "                                           2018         2019         2020  \n",
       "分配股利、利润或偿付利息支付的现金(元)                298,973,000  303,667,700  350,160,000  \n",
       "经营活动产生的现金流量净额(元)                    441,885,700  543,387,300  633,842,700  \n",
       "分配股利、利润或偿付利息支付的现金占经营活动产生的现金流量净额的比率       67.66%       55.88%       55.24%  "
      ]
     },
     "execution_count": 43,
     "metadata": {},
     "output_type": "execute_result"
    }
   ],
   "source": [
    "t18 = analysis.init_table('t18')\n",
    "\n",
    "t18['分配股利、利润或偿付利息支付的现金占经营活动产生的现金流量净额的比率'] = \\\n",
    "t18['分配股利、利润或偿付利息支付的现金(元)'] / t18['经营活动产生的现金流量净额(元)']\n",
    "\n",
    "analysis.format_show_table('t18')"
   ]
  },
  {
   "cell_type": "code",
   "execution_count": 44,
   "metadata": {},
   "outputs": [
    {
     "data": {
      "image/png": "[encoded data removed]",
      "text/plain": [
       "<matplotlib.figure.Figure at 0x24519bc6ba8>"
      ]
     },
     "metadata": {
      "needs_background": "light"
     },
     "output_type": "display_data"
    }
   ],
   "source": [
    "analysis.show_plot('t18')"
   ]
  },
  {
   "cell_type": "markdown",
   "metadata": {},
   "source": [
    "### 公司类型"
   ]
  },
  {
   "cell_type": "code",
   "execution_count": 45,
   "metadata": {},
   "outputs": [
    {
     "data": {
      "text/html": [
       "<div>\n",
       "<style scoped>\n",
       "    .dataframe tbody tr th:only-of-type {\n",
       "        vertical-align: middle;\n",
       "    }\n",
       "\n",
       "    .dataframe tbody tr th {\n",
       "        vertical-align: top;\n",
       "    }\n",
       "\n",
       "    .dataframe thead th {\n",
       "        text-align: right;\n",
       "    }\n",
       "</style>\n",
       "<table border=\"1\" class=\"dataframe\">\n",
       "  <thead>\n",
       "    <tr style=\"text-align: right;\">\n",
       "      <th></th>\n",
       "      <th>2015</th>\n",
       "      <th>2016</th>\n",
       "      <th>2017</th>\n",
       "      <th>2018</th>\n",
       "      <th>2019</th>\n",
       "      <th>2020</th>\n",
       "    </tr>\n",
       "  </thead>\n",
       "  <tbody>\n",
       "    <tr>\n",
       "      <th>经营活动产生的现金流量净额(元)</th>\n",
       "      <td>155,476,300</td>\n",
       "      <td>266,508,400</td>\n",
       "      <td>448,664,200</td>\n",
       "      <td>441,885,700</td>\n",
       "      <td>543,387,300</td>\n",
       "      <td>633,842,700</td>\n",
       "    </tr>\n",
       "    <tr>\n",
       "      <th>投资活动产生的现金流量净额(元)</th>\n",
       "      <td>-46,594,012</td>\n",
       "      <td>-207,333,726</td>\n",
       "      <td>240,241,214</td>\n",
       "      <td>-171,272,049</td>\n",
       "      <td>-274,100,160</td>\n",
       "      <td>-570,044,987</td>\n",
       "    </tr>\n",
       "    <tr>\n",
       "      <th>筹资活动产生的现金流量净额(元)</th>\n",
       "      <td>-111,000,000</td>\n",
       "      <td>-53,649,946</td>\n",
       "      <td>-196,749,992</td>\n",
       "      <td>-299,122,986</td>\n",
       "      <td>-303,667,671</td>\n",
       "      <td>-350,159,993</td>\n",
       "    </tr>\n",
       "    <tr>\n",
       "      <th>三大活动现金流量净额类型</th>\n",
       "      <td>正负负</td>\n",
       "      <td>正负负</td>\n",
       "      <td>正正负</td>\n",
       "      <td>正负负</td>\n",
       "      <td>正负负</td>\n",
       "      <td>正负负</td>\n",
       "    </tr>\n",
       "  </tbody>\n",
       "</table>\n",
       "</div>"
      ],
      "text/plain": [
       "                          2015          2016          2017          2018  \\\n",
       "经营活动产生的现金流量净额(元)   155,476,300   266,508,400   448,664,200   441,885,700   \n",
       "投资活动产生的现金流量净额(元)   -46,594,012  -207,333,726   240,241,214  -171,272,049   \n",
       "筹资活动产生的现金流量净额(元)  -111,000,000   -53,649,946  -196,749,992  -299,122,986   \n",
       "三大活动现金流量净额类型               正负负           正负负           正正负           正负负   \n",
       "\n",
       "                          2019          2020  \n",
       "经营活动产生的现金流量净额(元)   543,387,300   633,842,700  \n",
       "投资活动产生的现金流量净额(元)  -274,100,160  -570,044,987  \n",
       "筹资活动产生的现金流量净额(元)  -303,667,671  -350,159,993  \n",
       "三大活动现金流量净额类型               正负负           正负负  "
      ]
     },
     "execution_count": 45,
     "metadata": {},
     "output_type": "execute_result"
    }
   ],
   "source": [
    "t19 = analysis.init_table('t19')\n",
    "t19_tmp = t19.copy()\n",
    "\n",
    "t19_tmp['经营活动产生的现金流量净额(元)'][t19['经营活动产生的现金流量净额(元)']>0] = \"正\"\n",
    "t19_tmp['经营活动产生的现金流量净额(元)'][t19['经营活动产生的现金流量净额(元)']<0] = \"负\"\n",
    "\n",
    "t19_tmp['投资活动产生的现金流量净额(元)'][t19['投资活动产生的现金流量净额(元)']>0] = \"正\"\n",
    "t19_tmp['投资活动产生的现金流量净额(元)'][t19['投资活动产生的现金流量净额(元)']<0] = \"负\"\n",
    "\n",
    "t19_tmp['筹资活动产生的现金流量净额(元)'][t19['筹资活动产生的现金流量净额(元)']>0] = \"正\"\n",
    "t19_tmp['筹资活动产生的现金流量净额(元)'][t19['筹资活动产生的现金流量净额(元)']<0] = \"负\"\n",
    "\n",
    "t19_tmp['三大活动现金流量净额类型'] = \\\n",
    "t19_tmp['经营活动产生的现金流量净额(元)'] + t19_tmp['投资活动产生的现金流量净额(元)'] + t19_tmp['筹资活动产生的现金流量净额(元)']\n",
    "\n",
    "t19['三大活动现金流量净额类型'] = t19_tmp['三大活动现金流量净额类型']\n",
    "analysis.format_show_table('t19', ignore=['三大活动现金流量净额类型'])"
   ]
  },
  {
   "cell_type": "code",
   "execution_count": 46,
   "metadata": {},
   "outputs": [
    {
     "data": {
      "image/png": "[encoded data removed]",
      "text/plain": [
       "<matplotlib.figure.Figure at 0x24519af4518>"
      ]
     },
     "metadata": {
      "needs_background": "light"
     },
     "output_type": "display_data"
    }
   ],
   "source": [
    "analysis.show_plot('t19')"
   ]
  },
  {
   "cell_type": "markdown",
   "metadata": {},
   "source": [
    "### 输出分析报告"
   ]
  },
  {
   "cell_type": "code",
   "execution_count": 47,
   "metadata": {},
   "outputs": [],
   "source": [
    "ReportDocument(analysis).save()"
   ]
  },
  {
   "cell_type": "code",
   "execution_count": null,
   "metadata": {},
   "outputs": [],
   "source": []
  }
 ],
 "metadata": {
  "kernelspec": {
   "display_name": "Python 3",
   "language": "python",
   "name": "python3"
  },
  "language_info": {
   "codemirror_mode": {
    "name": "ipython",
    "version": 3
   },
   "file_extension": ".py",
   "mimetype": "text/x-python",
   "name": "python",
   "nbconvert_exporter": "python",
   "pygments_lexer": "ipython3",
   "version": "3.6.4"
  }
 },
 "nbformat": 4,
 "nbformat_minor": 2
}
